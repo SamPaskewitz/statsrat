{
 "cells": [
  {
   "cell_type": "code",
   "execution_count": 1,
   "metadata": {},
   "outputs": [],
   "source": [
    "import numpy as np\n",
    "import pandas as pd\n",
    "import statsrat as sr\n",
    "from statsrat import latent_cause as lc\n",
    "#from statsrat.expr.predef.pvl_iti import import extinction, blocking\n",
    "from statsrat.expr.predef.pvl_no_iti import extinction, blocking\n",
    "from statsrat.expr.predef.kitten import lrn_pred"
   ]
  },
  {
   "cell_type": "code",
   "execution_count": 2,
   "metadata": {},
   "outputs": [
    {
     "name": "stdout",
     "output_type": "stream",
     "text": [
      "            min   max  default  \\\n",
      "prior_a     1.0  40.0      1.0   \n",
      "prior_b     1.0  40.0      5.0   \n",
      "gamma       0.0  10.0      2.0   \n",
      "alpha       0.0  40.0      0.5   \n",
      "resp_scale  0.0  10.0      1.0   \n",
      "\n",
      "                                                  description  \n",
      "prior_a     prior hyperparameter for eta (log-odds in Bern...  \n",
      "prior_b     prior hyperparameter for eta (log-odds in Bern...  \n",
      "gamma       decay rate for exponential SCRP; higher -> fav...  \n",
      "alpha       concentration parameter; higher -> tend to inf...  \n",
      "resp_scale         scales softmax/logistic response functions  \n"
     ]
    }
   ],
   "source": [
    "print_probs = False # Should model log_lik, prior, phi etc. be printed?\n",
    "model = lc.model()\n",
    "print(model.pars)\n",
    "trials = extinction.make_trials('experimental')\n",
    "#trials = lrn_pred.make_trials()\n",
    "# NEED TO MAKE SURE THAT TAU + 1 <= N + 2\n",
    "# FIGURE OUT PARAMETERIZATION AND PARAMETER LIMITS\n",
    "ds = model.simulate(trials, par_val = [1.1, 5, 5, 20, 1])"
   ]
  },
  {
   "cell_type": "code",
   "execution_count": 3,
   "metadata": {},
   "outputs": [
    {
     "data": {
      "image/png": "[encoded data removed]",
      "text/plain": [
       "<Figure size 640x480 with 1 Axes>"
      ]
     },
     "metadata": {},
     "output_type": "display_data"
    },
    {
     "data": {
      "text/plain": [
       "<ggplot: (308498077)>"
      ]
     },
     "execution_count": 3,
     "metadata": {},
     "output_type": "execute_result"
    }
   ],
   "source": [
    "#sr.learn_plot(ds, var = 'N')\n",
    "sr.learn_plot(ds, var = 'u_hat')\n",
    "#sr.learn_plot(ds, var = 'E_post_pred', sel = {'z_name': 0})\n",
    "# *** MAKE IT SO THAT u_hat CAN BE ZERO AT FIRST,\n",
    "# I.E. MAKE IT SO THAT THE PRIOR ON y CAUSES INITIAL PREDICTIONS TO BE SMALL ***\n",
    "#sr.learn_plot(ds, var = 'u_hat', sel = {'t': ds['ex'].isin(['a.x', 'a.y'])*(ds['stage'] == 0)})"
   ]
  },
  {
   "cell_type": "code",
   "execution_count": 4,
   "metadata": {},
   "outputs": [],
   "source": [
    "if print_probs:\n",
    "    print('phi')\n",
    "    print(ds['phi'].loc[{'t': range(5), 'z_name': range(3)}].values)\n",
    "    print('\\n E_log_prior')\n",
    "    print(np.exp(ds['E_log_prior'].loc[{'t': range(5), 'z_name': range(3)}]).values)\n",
    "    print('\\n E_log_lik_x')\n",
    "    print(np.exp(ds['E_log_lik_x'].loc[{'t': range(5), 'z_name': range(3)}]).values)\n",
    "    print('\\n E_log_lik_y')\n",
    "    print(np.exp(ds['E_log_lik_y'].loc[{'t': range(5), 'z_name': range(3)}]).values)"
   ]
  },
  {
   "cell_type": "code",
   "execution_count": 6,
   "metadata": {},
   "outputs": [],
   "source": [
    "trials = blocking.make_trials('experimental')\n",
    "ds = model.simulate(trials, par_val = [2, 2, 0.01, 4, 5])"
   ]
  },
  {
   "cell_type": "code",
   "execution_count": 7,
   "metadata": {},
   "outputs": [
    {
     "name": "stdout",
     "output_type": "stream",
     "text": [
      "Maximizing OAT score.\n",
      "[20.5 20.5  5.  20.   5. ]\n",
      "[33.49933333 20.5         5.         20.          5.        ]\n",
      "[ 7.50066667 20.5         5.         20.          5.        ]\n",
      "[20.5        33.49933333  5.         20.          5.        ]\n",
      "[20.5         7.50066667  5.         20.          5.        ]\n",
      "[20.5        20.5         8.33266667 20.          5.        ]\n",
      "[20.5        20.5         1.66733333 20.          5.        ]\n",
      "[20.5        20.5         5.         33.33266667  5.        ]\n",
      "[20.5        20.5         5.          6.66733333  5.        ]\n",
      "[33.49933333 33.49933333  5.         20.          5.        ]\n",
      "[33.49933333  7.50066667  5.         20.          5.        ]\n",
      "[33.49933333 20.5         8.33266667 20.          5.        ]\n",
      "[33.49933333 20.5         1.66733333 20.          5.        ]\n",
      "[33.49933333 20.5         5.         33.33266667  5.        ]\n",
      "[33.49933333 20.5         5.          6.66733333  5.        ]\n",
      "[ 7.50066667 33.49933333  5.         20.          5.        ]\n",
      "[ 7.50066667  7.50066667  5.         20.          5.        ]\n",
      "[ 7.50066667 20.5         8.33266667 20.          5.        ]\n",
      "[ 7.50066667 20.5         1.66733333 20.          5.        ]\n",
      "[ 7.50066667 20.5         5.         33.33266667  5.        ]\n",
      "[ 7.50066667 20.5         5.          6.66733333  5.        ]\n",
      "[33.49933333  7.50066667  8.33266667 20.          5.        ]\n",
      "[33.49933333  7.50066667  1.66733333 20.          5.        ]\n",
      "[33.49933333  7.50066667  5.         33.33266667  5.        ]\n",
      "[33.49933333  7.50066667  5.          6.66733333  5.        ]\n",
      "[20.5         7.50066667  8.33266667 20.          5.        ]\n",
      "[20.5         7.50066667  1.66733333 20.          5.        ]\n",
      "[20.5         7.50066667  5.         33.33266667  5.        ]\n",
      "[20.5         7.50066667  5.          6.66733333  5.        ]\n",
      "[33.49933333  7.50066667  1.66733333 33.33266667  5.        ]\n",
      "[33.49933333  7.50066667  1.66733333  6.66733333  5.        ]\n",
      "[33.49933333 33.49933333  8.33266667 20.          5.        ]\n",
      "[33.49933333 33.49933333  1.66733333 20.          5.        ]\n",
      "[33.49933333 33.49933333  5.         33.33266667  5.        ]\n",
      "[33.49933333 33.49933333  5.          6.66733333  5.        ]\n",
      "[33.49933333  7.50066667  8.33266667 33.33266667  5.        ]\n",
      "[33.49933333  7.50066667  8.33266667  6.66733333  5.        ]\n",
      "[33.49933333  7.50066667  1.66733333  6.66733333  5.        ]\n",
      "[38.37408333  7.50066667  1.66733333  6.66733333  5.        ]\n",
      "[38.37408333 12.37541667  1.66733333  6.66733333  5.        ]\n",
      "[33.49933333  2.62591667  1.66733333  6.66733333  5.        ]\n",
      "[31.06195833  1.001       1.66733333  6.66733333  5.        ]\n",
      "[35.93670833  1.001       1.66733333  6.66733333  5.        ]\n",
      "[37.15539583  1.001       1.66733333  6.66733333  5.        ]\n",
      "[29.84327083  1.001       1.66733333  6.66733333  5.        ]\n",
      "[31.97597396  1.001       1.66733333  6.66733333  5.        ]\n",
      "[38.06941146  1.001       1.66733333  6.66733333  5.        ]\n",
      "[39.999       1.001       1.66733333  6.66733333  5.        ]\n",
      "[39.999       1.001       1.66733333  6.66733333  5.        ]\n",
      "[39.999       1.001       2.91708333  6.66733333  5.        ]\n",
      "[39.999       1.001       1.66733333 11.66708333  5.        ]\n",
      "[39.999       1.001       0.41758333 11.66708333  5.        ]\n",
      "[3.99990000e+01 1.00100000e+00 1.00000000e-03 1.41669583e+01\n",
      " 5.00000000e+00]\n",
      "[39.999       1.001       0.41758333  6.66733333  5.        ]\n",
      "[3.99990000e+01 1.00100000e+00 1.00000000e-03 4.16745833e+00\n",
      " 5.00000000e+00]\n",
      "[3.99990000e+01 1.00100000e+00 1.00000000e-03 9.16720833e+00\n",
      " 5.00000000e+00]\n",
      "[3.99990000e+01 1.00100000e+00 1.00000000e-03 8.54223958e+00\n",
      " 5.00000000e+00]\n",
      "[39.999       1.001       0.41758333  7.29230208  5.        ]\n",
      "[3.9999e+01 1.0010e+00 1.0000e-03 1.0000e-03 5.0000e+00]\n",
      "[39.999       1.001       0.3134375   8.69848177  5.        ]\n",
      "[39.999       1.001       0.20929167  5.72988021  5.        ]\n",
      "[39.999       1.001       0.20929167  7.91727083  5.        ]\n",
      "[3.99990000e+01 1.00100000e+00 1.00000000e-03 1.98006771e+00\n",
      " 5.00000000e+00]\n",
      "[3.9999e+01 1.0010e+00 1.0000e-03 1.0000e-03 5.0000e+00]\n",
      "[3.99990000e+01 1.00100000e+00 1.00000000e-03 4.17645833e-01\n",
      " 5.00000000e+00]\n",
      "[39.999       1.001       0.10514583  4.40182161  5.        ]\n",
      "[39.999       1.001       0.10514583  2.21443099  5.        ]\n",
      "[3.99990000e+01 1.00100000e+00 2.70364583e-02 3.67920150e+00\n",
      " 5.00000000e+00]\n",
      "[39.999       1.001       0.05307292  3.19094466  5.        ]\n",
      "[3.99990000e+01 1.00100000e+00 1.00000000e-03 3.07376302e+00\n",
      " 5.00000000e+00]\n",
      "[3.44355763e+01 1.00100000e+00 1.00000000e-03 3.07376302e+00\n",
      " 5.00000000e+00]\n",
      "[3.44355763e+01 6.56442368e+00 1.00000000e-03 3.07376302e+00\n",
      " 5.00000000e+00]\n",
      "[3.99990000e+01 1.00100000e+00 1.00000000e-03 3.07376302e+00\n",
      " 5.00000000e+00]\n",
      "[3.86081441e+01 1.00100000e+00 1.00000000e-03 3.07376302e+00\n",
      " 5.00000000e+00]\n",
      "[3.30447204e+01 1.00100000e+00 1.00000000e-03 3.07376302e+00\n",
      " 5.00000000e+00]\n",
      "Minimizing OAT score.\n",
      "[20.5 20.5  5.  20.   5. ]\n",
      "[33.49933333 20.5         5.         20.          5.        ]\n",
      "[ 7.50066667 20.5         5.         20.          5.        ]\n",
      "[20.5        33.49933333  5.         20.          5.        ]\n",
      "[20.5         7.50066667  5.         20.          5.        ]\n",
      "[20.5        20.5         8.33266667 20.          5.        ]\n",
      "[20.5        20.5         1.66733333 20.          5.        ]\n",
      "[20.5        20.5         5.         33.33266667  5.        ]\n",
      "[20.5        20.5         5.          6.66733333  5.        ]\n",
      "[ 7.50066667 33.49933333  5.         20.          5.        ]\n",
      "[ 7.50066667  7.50066667  5.         20.          5.        ]\n",
      "[ 7.50066667 20.5         8.33266667 20.          5.        ]\n",
      "[ 7.50066667 20.5         1.66733333 20.          5.        ]\n",
      "[ 7.50066667 20.5         5.         33.33266667  5.        ]\n",
      "[ 7.50066667 20.5         5.          6.66733333  5.        ]\n",
      "[33.49933333 33.49933333  5.         20.          5.        ]\n",
      "[33.49933333  7.50066667  5.         20.          5.        ]\n",
      "[33.49933333 20.5         8.33266667 20.          5.        ]\n",
      "[33.49933333 20.5         1.66733333 20.          5.        ]\n",
      "[33.49933333 20.5         5.         33.33266667  5.        ]\n",
      "[33.49933333 20.5         5.          6.66733333  5.        ]\n",
      "[ 7.50066667 33.49933333  8.33266667 20.          5.        ]\n",
      "[ 7.50066667  7.50066667  8.33266667 20.          5.        ]\n",
      "[ 7.50066667 20.5         8.33266667 33.33266667  5.        ]\n",
      "[ 7.50066667 20.5         8.33266667  6.66733333  5.        ]\n",
      "[ 7.50066667 33.49933333  1.66733333 20.          5.        ]\n",
      "[ 7.50066667  7.50066667  1.66733333 20.          5.        ]\n",
      "[ 7.50066667 20.5         1.66733333 33.33266667  5.        ]\n",
      "[ 7.50066667 20.5         1.66733333  6.66733333  5.        ]\n",
      "[ 7.50066667 33.49933333  8.33266667 33.33266667  5.        ]\n",
      "[ 7.50066667  7.50066667  8.33266667 33.33266667  5.        ]\n",
      "[20.5        33.49933333  8.33266667 20.          5.        ]\n",
      "[20.5        33.49933333  1.66733333 20.          5.        ]\n",
      "[20.5        33.49933333  5.         33.33266667  5.        ]\n",
      "[20.5        33.49933333  5.          6.66733333  5.        ]\n",
      "[ 7.50066667 20.5         8.33266667 33.33266667  5.        ]\n",
      "[12.37541667 20.5         8.33266667 33.33266667  5.        ]\n",
      "[ 7.50066667 30.2495      8.33266667 33.33266667  5.        ]\n",
      "[ 2.62591667 30.2495      8.33266667 33.33266667  5.        ]\n",
      "[ 1.001      35.12425     8.33266667 33.33266667  5.        ]\n"
     ]
    },
    {
     "name": "stderr",
     "output_type": "stream",
     "text": [
      "/Users/sam/Dropbox/Research/Modeling/PhD thesis/statsrat/statsrat/latent_cause/__init__.py:200: RuntimeWarning: invalid value encountered in true_divide\n",
      "/Users/sam/Dropbox/Research/Modeling/PhD thesis/statsrat/statsrat/latent_cause/__init__.py:219: RuntimeWarning: invalid value encountered in true_divide\n",
      "/Users/sam/Dropbox/Research/Modeling/PhD thesis/statsrat/statsrat/latent_cause/__init__.py:200: RuntimeWarning: invalid value encountered in true_divide\n",
      "/Users/sam/Dropbox/Research/Modeling/PhD thesis/statsrat/statsrat/latent_cause/__init__.py:219: RuntimeWarning: invalid value encountered in true_divide\n",
      "/Users/sam/Dropbox/Research/Modeling/PhD thesis/statsrat/statsrat/latent_cause/__init__.py:200: RuntimeWarning: invalid value encountered in true_divide\n",
      "/Users/sam/Dropbox/Research/Modeling/PhD thesis/statsrat/statsrat/latent_cause/__init__.py:219: RuntimeWarning: invalid value encountered in true_divide\n",
      "/Users/sam/Dropbox/Research/Modeling/PhD thesis/statsrat/statsrat/latent_cause/__init__.py:200: RuntimeWarning: invalid value encountered in true_divide\n",
      "/Users/sam/Dropbox/Research/Modeling/PhD thesis/statsrat/statsrat/latent_cause/__init__.py:219: RuntimeWarning: invalid value encountered in true_divide\n",
      "/Users/sam/Dropbox/Research/Modeling/PhD thesis/statsrat/statsrat/latent_cause/__init__.py:200: RuntimeWarning: invalid value encountered in true_divide\n",
      "/Users/sam/Dropbox/Research/Modeling/PhD thesis/statsrat/statsrat/latent_cause/__init__.py:219: RuntimeWarning: invalid value encountered in true_divide\n",
      "/Users/sam/Dropbox/Research/Modeling/PhD thesis/statsrat/statsrat/latent_cause/__init__.py:200: RuntimeWarning: invalid value encountered in true_divide\n",
      "/Users/sam/Dropbox/Research/Modeling/PhD thesis/statsrat/statsrat/latent_cause/__init__.py:219: RuntimeWarning: invalid value encountered in true_divide\n",
      "/Users/sam/Dropbox/Research/Modeling/PhD thesis/statsrat/statsrat/latent_cause/__init__.py:200: RuntimeWarning: invalid value encountered in true_divide\n",
      "/Users/sam/Dropbox/Research/Modeling/PhD thesis/statsrat/statsrat/latent_cause/__init__.py:219: RuntimeWarning: invalid value encountered in true_divide\n",
      "/Users/sam/Dropbox/Research/Modeling/PhD thesis/statsrat/statsrat/latent_cause/__init__.py:200: RuntimeWarning: invalid value encountered in true_divide\n",
      "/Users/sam/Dropbox/Research/Modeling/PhD thesis/statsrat/statsrat/latent_cause/__init__.py:219: RuntimeWarning: invalid value encountered in true_divide\n",
      "/Users/sam/Dropbox/Research/Modeling/PhD thesis/statsrat/statsrat/latent_cause/__init__.py:200: RuntimeWarning: invalid value encountered in true_divide\n",
      "/Users/sam/Dropbox/Research/Modeling/PhD thesis/statsrat/statsrat/latent_cause/__init__.py:219: RuntimeWarning: invalid value encountered in true_divide\n",
      "/Users/sam/Dropbox/Research/Modeling/PhD thesis/statsrat/statsrat/latent_cause/__init__.py:200: RuntimeWarning: invalid value encountered in true_divide\n",
      "/Users/sam/Dropbox/Research/Modeling/PhD thesis/statsrat/statsrat/latent_cause/__init__.py:219: RuntimeWarning: invalid value encountered in true_divide\n"
     ]
    },
    {
     "name": "stdout",
     "output_type": "stream",
     "text": [
      "[ 2.62591667 20.5         8.33266667 33.33266667  5.        ]\n",
      "[ 1.001      15.62525     8.33266667 33.33266667  5.        ]\n"
     ]
    },
    {
     "name": "stderr",
     "output_type": "stream",
     "text": [
      "/Users/sam/Dropbox/Research/Modeling/PhD thesis/statsrat/statsrat/latent_cause/__init__.py:200: RuntimeWarning: invalid value encountered in true_divide\n",
      "/Users/sam/Dropbox/Research/Modeling/PhD thesis/statsrat/statsrat/latent_cause/__init__.py:219: RuntimeWarning: invalid value encountered in true_divide\n",
      "/Users/sam/Dropbox/Research/Modeling/PhD thesis/statsrat/statsrat/latent_cause/__init__.py:200: RuntimeWarning: invalid value encountered in true_divide\n",
      "/Users/sam/Dropbox/Research/Modeling/PhD thesis/statsrat/statsrat/latent_cause/__init__.py:219: RuntimeWarning: invalid value encountered in true_divide\n",
      "/Users/sam/Dropbox/Research/Modeling/PhD thesis/statsrat/statsrat/latent_cause/__init__.py:200: RuntimeWarning: invalid value encountered in true_divide\n",
      "/Users/sam/Dropbox/Research/Modeling/PhD thesis/statsrat/statsrat/latent_cause/__init__.py:219: RuntimeWarning: invalid value encountered in true_divide\n",
      "/Users/sam/Dropbox/Research/Modeling/PhD thesis/statsrat/statsrat/latent_cause/__init__.py:200: RuntimeWarning: invalid value encountered in true_divide\n",
      "/Users/sam/Dropbox/Research/Modeling/PhD thesis/statsrat/statsrat/latent_cause/__init__.py:219: RuntimeWarning: invalid value encountered in true_divide\n",
      "/Users/sam/Dropbox/Research/Modeling/PhD thesis/statsrat/statsrat/latent_cause/__init__.py:200: RuntimeWarning: invalid value encountered in true_divide\n",
      "/Users/sam/Dropbox/Research/Modeling/PhD thesis/statsrat/statsrat/latent_cause/__init__.py:219: RuntimeWarning: invalid value encountered in true_divide\n",
      "/Users/sam/Dropbox/Research/Modeling/PhD thesis/statsrat/statsrat/latent_cause/__init__.py:200: RuntimeWarning: invalid value encountered in true_divide\n",
      "/Users/sam/Dropbox/Research/Modeling/PhD thesis/statsrat/statsrat/latent_cause/__init__.py:219: RuntimeWarning: invalid value encountered in true_divide\n",
      "/Users/sam/Dropbox/Research/Modeling/PhD thesis/statsrat/statsrat/latent_cause/__init__.py:200: RuntimeWarning: invalid value encountered in true_divide\n",
      "/Users/sam/Dropbox/Research/Modeling/PhD thesis/statsrat/statsrat/latent_cause/__init__.py:219: RuntimeWarning: invalid value encountered in true_divide\n",
      "/Users/sam/Dropbox/Research/Modeling/PhD thesis/statsrat/statsrat/latent_cause/__init__.py:200: RuntimeWarning: invalid value encountered in true_divide\n",
      "/Users/sam/Dropbox/Research/Modeling/PhD thesis/statsrat/statsrat/latent_cause/__init__.py:219: RuntimeWarning: invalid value encountered in true_divide\n",
      "/Users/sam/Dropbox/Research/Modeling/PhD thesis/statsrat/statsrat/latent_cause/__init__.py:200: RuntimeWarning: invalid value encountered in true_divide\n",
      "/Users/sam/Dropbox/Research/Modeling/PhD thesis/statsrat/statsrat/latent_cause/__init__.py:219: RuntimeWarning: invalid value encountered in true_divide\n",
      "/Users/sam/Dropbox/Research/Modeling/PhD thesis/statsrat/statsrat/latent_cause/__init__.py:200: RuntimeWarning: invalid value encountered in true_divide\n",
      "/Users/sam/Dropbox/Research/Modeling/PhD thesis/statsrat/statsrat/latent_cause/__init__.py:219: RuntimeWarning: invalid value encountered in true_divide\n",
      "/Users/sam/Dropbox/Research/Modeling/PhD thesis/statsrat/statsrat/latent_cause/__init__.py:200: RuntimeWarning: invalid value encountered in true_divide\n",
      "/Users/sam/Dropbox/Research/Modeling/PhD thesis/statsrat/statsrat/latent_cause/__init__.py:219: RuntimeWarning: invalid value encountered in true_divide\n",
      "/Users/sam/Dropbox/Research/Modeling/PhD thesis/statsrat/statsrat/latent_cause/__init__.py:200: RuntimeWarning: invalid value encountered in true_divide\n",
      "/Users/sam/Dropbox/Research/Modeling/PhD thesis/statsrat/statsrat/latent_cause/__init__.py:219: RuntimeWarning: invalid value encountered in true_divide\n"
     ]
    },
    {
     "name": "stdout",
     "output_type": "stream",
     "text": [
      "[ 1.001      30.2495      8.33266667 33.33266667  5.        ]\n"
     ]
    },
    {
     "name": "stderr",
     "output_type": "stream",
     "text": [
      "/Users/sam/Dropbox/Research/Modeling/PhD thesis/statsrat/statsrat/latent_cause/__init__.py:200: RuntimeWarning: invalid value encountered in true_divide\n",
      "/Users/sam/Dropbox/Research/Modeling/PhD thesis/statsrat/statsrat/latent_cause/__init__.py:219: RuntimeWarning: invalid value encountered in true_divide\n",
      "/Users/sam/Dropbox/Research/Modeling/PhD thesis/statsrat/statsrat/latent_cause/__init__.py:200: RuntimeWarning: invalid value encountered in true_divide\n",
      "/Users/sam/Dropbox/Research/Modeling/PhD thesis/statsrat/statsrat/latent_cause/__init__.py:219: RuntimeWarning: invalid value encountered in true_divide\n",
      "/Users/sam/Dropbox/Research/Modeling/PhD thesis/statsrat/statsrat/latent_cause/__init__.py:200: RuntimeWarning: invalid value encountered in true_divide\n",
      "/Users/sam/Dropbox/Research/Modeling/PhD thesis/statsrat/statsrat/latent_cause/__init__.py:219: RuntimeWarning: invalid value encountered in true_divide\n",
      "/Users/sam/Dropbox/Research/Modeling/PhD thesis/statsrat/statsrat/latent_cause/__init__.py:200: RuntimeWarning: invalid value encountered in true_divide\n",
      "/Users/sam/Dropbox/Research/Modeling/PhD thesis/statsrat/statsrat/latent_cause/__init__.py:219: RuntimeWarning: invalid value encountered in true_divide\n",
      "/Users/sam/Dropbox/Research/Modeling/PhD thesis/statsrat/statsrat/latent_cause/__init__.py:200: RuntimeWarning: invalid value encountered in true_divide\n",
      "/Users/sam/Dropbox/Research/Modeling/PhD thesis/statsrat/statsrat/latent_cause/__init__.py:219: RuntimeWarning: invalid value encountered in true_divide\n",
      "/Users/sam/Dropbox/Research/Modeling/PhD thesis/statsrat/statsrat/latent_cause/__init__.py:200: RuntimeWarning: invalid value encountered in true_divide\n",
      "/Users/sam/Dropbox/Research/Modeling/PhD thesis/statsrat/statsrat/latent_cause/__init__.py:219: RuntimeWarning: invalid value encountered in true_divide\n",
      "/Users/sam/Dropbox/Research/Modeling/PhD thesis/statsrat/statsrat/latent_cause/__init__.py:200: RuntimeWarning: invalid value encountered in true_divide\n",
      "/Users/sam/Dropbox/Research/Modeling/PhD thesis/statsrat/statsrat/latent_cause/__init__.py:219: RuntimeWarning: invalid value encountered in true_divide\n",
      "/Users/sam/Dropbox/Research/Modeling/PhD thesis/statsrat/statsrat/latent_cause/__init__.py:200: RuntimeWarning: invalid value encountered in true_divide\n",
      "/Users/sam/Dropbox/Research/Modeling/PhD thesis/statsrat/statsrat/latent_cause/__init__.py:219: RuntimeWarning: invalid value encountered in true_divide\n"
     ]
    },
    {
     "name": "stdout",
     "output_type": "stream",
     "text": [
      "[ 5.06329167 22.937375    8.33266667 33.33266667  5.        ]\n",
      "[ 1.001      27.812125    8.33266667 33.33266667  5.        ]\n"
     ]
    },
    {
     "name": "stderr",
     "output_type": "stream",
     "text": [
      "/Users/sam/Dropbox/Research/Modeling/PhD thesis/statsrat/statsrat/latent_cause/__init__.py:200: RuntimeWarning: invalid value encountered in true_divide\n",
      "/Users/sam/Dropbox/Research/Modeling/PhD thesis/statsrat/statsrat/latent_cause/__init__.py:219: RuntimeWarning: invalid value encountered in true_divide\n",
      "/Users/sam/Dropbox/Research/Modeling/PhD thesis/statsrat/statsrat/latent_cause/__init__.py:200: RuntimeWarning: invalid value encountered in true_divide\n",
      "/Users/sam/Dropbox/Research/Modeling/PhD thesis/statsrat/statsrat/latent_cause/__init__.py:219: RuntimeWarning: invalid value encountered in true_divide\n",
      "/Users/sam/Dropbox/Research/Modeling/PhD thesis/statsrat/statsrat/latent_cause/__init__.py:200: RuntimeWarning: invalid value encountered in true_divide\n",
      "/Users/sam/Dropbox/Research/Modeling/PhD thesis/statsrat/statsrat/latent_cause/__init__.py:219: RuntimeWarning: invalid value encountered in true_divide\n",
      "/Users/sam/Dropbox/Research/Modeling/PhD thesis/statsrat/statsrat/latent_cause/__init__.py:200: RuntimeWarning: invalid value encountered in true_divide\n",
      "/Users/sam/Dropbox/Research/Modeling/PhD thesis/statsrat/statsrat/latent_cause/__init__.py:219: RuntimeWarning: invalid value encountered in true_divide\n",
      "/Users/sam/Dropbox/Research/Modeling/PhD thesis/statsrat/statsrat/latent_cause/__init__.py:200: RuntimeWarning: invalid value encountered in true_divide\n",
      "/Users/sam/Dropbox/Research/Modeling/PhD thesis/statsrat/statsrat/latent_cause/__init__.py:219: RuntimeWarning: invalid value encountered in true_divide\n",
      "/Users/sam/Dropbox/Research/Modeling/PhD thesis/statsrat/statsrat/latent_cause/__init__.py:200: RuntimeWarning: invalid value encountered in true_divide\n",
      "/Users/sam/Dropbox/Research/Modeling/PhD thesis/statsrat/statsrat/latent_cause/__init__.py:219: RuntimeWarning: invalid value encountered in true_divide\n",
      "/Users/sam/Dropbox/Research/Modeling/PhD thesis/statsrat/statsrat/latent_cause/__init__.py:200: RuntimeWarning: invalid value encountered in true_divide\n",
      "/Users/sam/Dropbox/Research/Modeling/PhD thesis/statsrat/statsrat/latent_cause/__init__.py:219: RuntimeWarning: invalid value encountered in true_divide\n",
      "/Users/sam/Dropbox/Research/Modeling/PhD thesis/statsrat/statsrat/latent_cause/__init__.py:200: RuntimeWarning: invalid value encountered in true_divide\n",
      "/Users/sam/Dropbox/Research/Modeling/PhD thesis/statsrat/statsrat/latent_cause/__init__.py:219: RuntimeWarning: invalid value encountered in true_divide\n",
      "/Users/sam/Dropbox/Research/Modeling/PhD thesis/statsrat/statsrat/latent_cause/__init__.py:200: RuntimeWarning: invalid value encountered in true_divide\n",
      "/Users/sam/Dropbox/Research/Modeling/PhD thesis/statsrat/statsrat/latent_cause/__init__.py:219: RuntimeWarning: invalid value encountered in true_divide\n",
      "/Users/sam/Dropbox/Research/Modeling/PhD thesis/statsrat/statsrat/latent_cause/__init__.py:200: RuntimeWarning: invalid value encountered in true_divide\n",
      "/Users/sam/Dropbox/Research/Modeling/PhD thesis/statsrat/statsrat/latent_cause/__init__.py:219: RuntimeWarning: invalid value encountered in true_divide\n"
     ]
    },
    {
     "name": "stdout",
     "output_type": "stream",
     "text": [
      "[ 3.84460417 24.1560625   8.33266667 33.33266667  5.        ]\n",
      "[ 3.84460417 14.4065625   8.33266667 33.33266667  5.        ]\n",
      "[ 2.62591667 10.7505      8.33266667 33.33266667  5.        ]\n",
      "[ 2.01657292  4.04771875  8.33266667 33.33266667  5.        ]\n",
      "[ 1.001      10.14115625  8.33266667 33.33266667  5.        ]\n"
     ]
    },
    {
     "name": "stderr",
     "output_type": "stream",
     "text": [
      "/Users/sam/Dropbox/Research/Modeling/PhD thesis/statsrat/statsrat/latent_cause/__init__.py:200: RuntimeWarning: invalid value encountered in true_divide\n",
      "/Users/sam/Dropbox/Research/Modeling/PhD thesis/statsrat/statsrat/latent_cause/__init__.py:219: RuntimeWarning: invalid value encountered in true_divide\n",
      "/Users/sam/Dropbox/Research/Modeling/PhD thesis/statsrat/statsrat/latent_cause/__init__.py:200: RuntimeWarning: invalid value encountered in true_divide\n",
      "/Users/sam/Dropbox/Research/Modeling/PhD thesis/statsrat/statsrat/latent_cause/__init__.py:219: RuntimeWarning: invalid value encountered in true_divide\n",
      "/Users/sam/Dropbox/Research/Modeling/PhD thesis/statsrat/statsrat/latent_cause/__init__.py:200: RuntimeWarning: invalid value encountered in true_divide\n",
      "/Users/sam/Dropbox/Research/Modeling/PhD thesis/statsrat/statsrat/latent_cause/__init__.py:219: RuntimeWarning: invalid value encountered in true_divide\n",
      "/Users/sam/Dropbox/Research/Modeling/PhD thesis/statsrat/statsrat/latent_cause/__init__.py:200: RuntimeWarning: invalid value encountered in true_divide\n",
      "/Users/sam/Dropbox/Research/Modeling/PhD thesis/statsrat/statsrat/latent_cause/__init__.py:219: RuntimeWarning: invalid value encountered in true_divide\n",
      "/Users/sam/Dropbox/Research/Modeling/PhD thesis/statsrat/statsrat/latent_cause/__init__.py:200: RuntimeWarning: invalid value encountered in true_divide\n",
      "/Users/sam/Dropbox/Research/Modeling/PhD thesis/statsrat/statsrat/latent_cause/__init__.py:219: RuntimeWarning: invalid value encountered in true_divide\n",
      "/Users/sam/Dropbox/Research/Modeling/PhD thesis/statsrat/statsrat/latent_cause/__init__.py:200: RuntimeWarning: invalid value encountered in true_divide\n",
      "/Users/sam/Dropbox/Research/Modeling/PhD thesis/statsrat/statsrat/latent_cause/__init__.py:219: RuntimeWarning: invalid value encountered in true_divide\n",
      "/Users/sam/Dropbox/Research/Modeling/PhD thesis/statsrat/statsrat/latent_cause/__init__.py:200: RuntimeWarning: invalid value encountered in true_divide\n",
      "/Users/sam/Dropbox/Research/Modeling/PhD thesis/statsrat/statsrat/latent_cause/__init__.py:219: RuntimeWarning: invalid value encountered in true_divide\n",
      "/Users/sam/Dropbox/Research/Modeling/PhD thesis/statsrat/statsrat/latent_cause/__init__.py:200: RuntimeWarning: invalid value encountered in true_divide\n",
      "/Users/sam/Dropbox/Research/Modeling/PhD thesis/statsrat/statsrat/latent_cause/__init__.py:219: RuntimeWarning: invalid value encountered in true_divide\n",
      "/Users/sam/Dropbox/Research/Modeling/PhD thesis/statsrat/statsrat/latent_cause/__init__.py:200: RuntimeWarning: invalid value encountered in true_divide\n",
      "/Users/sam/Dropbox/Research/Modeling/PhD thesis/statsrat/statsrat/latent_cause/__init__.py:219: RuntimeWarning: invalid value encountered in true_divide\n",
      "/Users/sam/Dropbox/Research/Modeling/PhD thesis/statsrat/statsrat/latent_cause/__init__.py:200: RuntimeWarning: invalid value encountered in true_divide\n",
      "/Users/sam/Dropbox/Research/Modeling/PhD thesis/statsrat/statsrat/latent_cause/__init__.py:219: RuntimeWarning: invalid value encountered in true_divide\n"
     ]
    },
    {
     "name": "stdout",
     "output_type": "stream",
     "text": [
      "[ 3.08292448 13.34021094  8.33266667 33.33266667  5.        ]\n",
      "[ 2.47358073  1.001       8.33266667 33.33266667  5.        ]\n",
      "[ 2.58783268 14.59698242  8.33266667 33.33266667  5.        ]\n",
      "[ 1.52148112  5.30449023  8.33266667 33.33266667  5.        ]\n",
      "[ 1.001       1.28662988  8.33266667 33.33266667  5.        ]\n"
     ]
    },
    {
     "name": "stderr",
     "output_type": "stream",
     "text": [
      "/Users/sam/Dropbox/Research/Modeling/PhD thesis/statsrat/statsrat/latent_cause/__init__.py:200: RuntimeWarning: invalid value encountered in true_divide\n",
      "/Users/sam/Dropbox/Research/Modeling/PhD thesis/statsrat/statsrat/latent_cause/__init__.py:219: RuntimeWarning: invalid value encountered in true_divide\n",
      "/Users/sam/Dropbox/Research/Modeling/PhD thesis/statsrat/statsrat/latent_cause/__init__.py:200: RuntimeWarning: invalid value encountered in true_divide\n",
      "/Users/sam/Dropbox/Research/Modeling/PhD thesis/statsrat/statsrat/latent_cause/__init__.py:219: RuntimeWarning: invalid value encountered in true_divide\n",
      "/Users/sam/Dropbox/Research/Modeling/PhD thesis/statsrat/statsrat/latent_cause/__init__.py:200: RuntimeWarning: invalid value encountered in true_divide\n",
      "/Users/sam/Dropbox/Research/Modeling/PhD thesis/statsrat/statsrat/latent_cause/__init__.py:219: RuntimeWarning: invalid value encountered in true_divide\n",
      "/Users/sam/Dropbox/Research/Modeling/PhD thesis/statsrat/statsrat/latent_cause/__init__.py:200: RuntimeWarning: invalid value encountered in true_divide\n",
      "/Users/sam/Dropbox/Research/Modeling/PhD thesis/statsrat/statsrat/latent_cause/__init__.py:219: RuntimeWarning: invalid value encountered in true_divide\n",
      "/Users/sam/Dropbox/Research/Modeling/PhD thesis/statsrat/statsrat/latent_cause/__init__.py:200: RuntimeWarning: invalid value encountered in true_divide\n",
      "/Users/sam/Dropbox/Research/Modeling/PhD thesis/statsrat/statsrat/latent_cause/__init__.py:219: RuntimeWarning: invalid value encountered in true_divide\n",
      "/Users/sam/Dropbox/Research/Modeling/PhD thesis/statsrat/statsrat/latent_cause/__init__.py:200: RuntimeWarning: invalid value encountered in true_divide\n",
      "/Users/sam/Dropbox/Research/Modeling/PhD thesis/statsrat/statsrat/latent_cause/__init__.py:219: RuntimeWarning: invalid value encountered in true_divide\n",
      "/Users/sam/Dropbox/Research/Modeling/PhD thesis/statsrat/statsrat/latent_cause/__init__.py:200: RuntimeWarning: invalid value encountered in true_divide\n",
      "/Users/sam/Dropbox/Research/Modeling/PhD thesis/statsrat/statsrat/latent_cause/__init__.py:219: RuntimeWarning: invalid value encountered in true_divide\n",
      "/Users/sam/Dropbox/Research/Modeling/PhD thesis/statsrat/statsrat/latent_cause/__init__.py:200: RuntimeWarning: invalid value encountered in true_divide\n",
      "/Users/sam/Dropbox/Research/Modeling/PhD thesis/statsrat/statsrat/latent_cause/__init__.py:219: RuntimeWarning: invalid value encountered in true_divide\n",
      "/Users/sam/Dropbox/Research/Modeling/PhD thesis/statsrat/statsrat/latent_cause/__init__.py:200: RuntimeWarning: invalid value encountered in true_divide\n",
      "/Users/sam/Dropbox/Research/Modeling/PhD thesis/statsrat/statsrat/latent_cause/__init__.py:219: RuntimeWarning: invalid value encountered in true_divide\n",
      "/Users/sam/Dropbox/Research/Modeling/PhD thesis/statsrat/statsrat/latent_cause/__init__.py:200: RuntimeWarning: invalid value encountered in true_divide\n",
      "/Users/sam/Dropbox/Research/Modeling/PhD thesis/statsrat/statsrat/latent_cause/__init__.py:219: RuntimeWarning: invalid value encountered in true_divide\n"
     ]
    },
    {
     "name": "stdout",
     "output_type": "stream",
     "text": [
      "[ 1.001       1.001       8.33266667 33.33266667  5.        ]\n"
     ]
    },
    {
     "name": "stderr",
     "output_type": "stream",
     "text": [
      "/Users/sam/Dropbox/Research/Modeling/PhD thesis/statsrat/statsrat/latent_cause/__init__.py:200: RuntimeWarning: invalid value encountered in true_divide\n",
      "/Users/sam/Dropbox/Research/Modeling/PhD thesis/statsrat/statsrat/latent_cause/__init__.py:219: RuntimeWarning: invalid value encountered in true_divide\n",
      "/Users/sam/Dropbox/Research/Modeling/PhD thesis/statsrat/statsrat/latent_cause/__init__.py:200: RuntimeWarning: invalid value encountered in true_divide\n",
      "/Users/sam/Dropbox/Research/Modeling/PhD thesis/statsrat/statsrat/latent_cause/__init__.py:219: RuntimeWarning: invalid value encountered in true_divide\n",
      "/Users/sam/Dropbox/Research/Modeling/PhD thesis/statsrat/statsrat/latent_cause/__init__.py:200: RuntimeWarning: invalid value encountered in true_divide\n",
      "/Users/sam/Dropbox/Research/Modeling/PhD thesis/statsrat/statsrat/latent_cause/__init__.py:219: RuntimeWarning: invalid value encountered in true_divide\n",
      "/Users/sam/Dropbox/Research/Modeling/PhD thesis/statsrat/statsrat/latent_cause/__init__.py:200: RuntimeWarning: invalid value encountered in true_divide\n",
      "/Users/sam/Dropbox/Research/Modeling/PhD thesis/statsrat/statsrat/latent_cause/__init__.py:219: RuntimeWarning: invalid value encountered in true_divide\n",
      "/Users/sam/Dropbox/Research/Modeling/PhD thesis/statsrat/statsrat/latent_cause/__init__.py:200: RuntimeWarning: invalid value encountered in true_divide\n",
      "/Users/sam/Dropbox/Research/Modeling/PhD thesis/statsrat/statsrat/latent_cause/__init__.py:219: RuntimeWarning: invalid value encountered in true_divide\n",
      "/Users/sam/Dropbox/Research/Modeling/PhD thesis/statsrat/statsrat/latent_cause/__init__.py:200: RuntimeWarning: invalid value encountered in true_divide\n",
      "/Users/sam/Dropbox/Research/Modeling/PhD thesis/statsrat/statsrat/latent_cause/__init__.py:219: RuntimeWarning: invalid value encountered in true_divide\n",
      "/Users/sam/Dropbox/Research/Modeling/PhD thesis/statsrat/statsrat/latent_cause/__init__.py:200: RuntimeWarning: invalid value encountered in true_divide\n",
      "/Users/sam/Dropbox/Research/Modeling/PhD thesis/statsrat/statsrat/latent_cause/__init__.py:219: RuntimeWarning: invalid value encountered in true_divide\n",
      "/Users/sam/Dropbox/Research/Modeling/PhD thesis/statsrat/statsrat/latent_cause/__init__.py:200: RuntimeWarning: invalid value encountered in true_divide\n",
      "/Users/sam/Dropbox/Research/Modeling/PhD thesis/statsrat/statsrat/latent_cause/__init__.py:219: RuntimeWarning: invalid value encountered in true_divide\n",
      "/Users/sam/Dropbox/Research/Modeling/PhD thesis/statsrat/statsrat/latent_cause/__init__.py:200: RuntimeWarning: invalid value encountered in true_divide\n",
      "/Users/sam/Dropbox/Research/Modeling/PhD thesis/statsrat/statsrat/latent_cause/__init__.py:219: RuntimeWarning: invalid value encountered in true_divide\n",
      "/Users/sam/Dropbox/Research/Modeling/PhD thesis/statsrat/statsrat/latent_cause/__init__.py:200: RuntimeWarning: invalid value encountered in true_divide\n",
      "/Users/sam/Dropbox/Research/Modeling/PhD thesis/statsrat/statsrat/latent_cause/__init__.py:219: RuntimeWarning: invalid value encountered in true_divide\n"
     ]
    },
    {
     "name": "stdout",
     "output_type": "stream",
     "text": [
      "[ 2.17842985  9.63654346  8.33266667 33.33266667  5.        ]\n",
      "[ 1.68333805 10.89331494  8.33266667 33.33266667  5.        ]\n",
      "[ 1.02638932  6.56126172  8.33266667 33.33266667  5.        ]\n",
      "[ 1.001       5.02362085  8.33266667 33.33266667  5.        ]\n"
     ]
    },
    {
     "name": "stderr",
     "output_type": "stream",
     "text": [
      "/Users/sam/Dropbox/Research/Modeling/PhD thesis/statsrat/statsrat/latent_cause/__init__.py:200: RuntimeWarning: invalid value encountered in true_divide\n",
      "/Users/sam/Dropbox/Research/Modeling/PhD thesis/statsrat/statsrat/latent_cause/__init__.py:219: RuntimeWarning: invalid value encountered in true_divide\n",
      "/Users/sam/Dropbox/Research/Modeling/PhD thesis/statsrat/statsrat/latent_cause/__init__.py:200: RuntimeWarning: invalid value encountered in true_divide\n",
      "/Users/sam/Dropbox/Research/Modeling/PhD thesis/statsrat/statsrat/latent_cause/__init__.py:219: RuntimeWarning: invalid value encountered in true_divide\n",
      "/Users/sam/Dropbox/Research/Modeling/PhD thesis/statsrat/statsrat/latent_cause/__init__.py:200: RuntimeWarning: invalid value encountered in true_divide\n",
      "/Users/sam/Dropbox/Research/Modeling/PhD thesis/statsrat/statsrat/latent_cause/__init__.py:219: RuntimeWarning: invalid value encountered in true_divide\n",
      "/Users/sam/Dropbox/Research/Modeling/PhD thesis/statsrat/statsrat/latent_cause/__init__.py:200: RuntimeWarning: invalid value encountered in true_divide\n",
      "/Users/sam/Dropbox/Research/Modeling/PhD thesis/statsrat/statsrat/latent_cause/__init__.py:219: RuntimeWarning: invalid value encountered in true_divide\n",
      "/Users/sam/Dropbox/Research/Modeling/PhD thesis/statsrat/statsrat/latent_cause/__init__.py:200: RuntimeWarning: invalid value encountered in true_divide\n",
      "/Users/sam/Dropbox/Research/Modeling/PhD thesis/statsrat/statsrat/latent_cause/__init__.py:219: RuntimeWarning: invalid value encountered in true_divide\n",
      "/Users/sam/Dropbox/Research/Modeling/PhD thesis/statsrat/statsrat/latent_cause/__init__.py:200: RuntimeWarning: invalid value encountered in true_divide\n",
      "/Users/sam/Dropbox/Research/Modeling/PhD thesis/statsrat/statsrat/latent_cause/__init__.py:219: RuntimeWarning: invalid value encountered in true_divide\n",
      "/Users/sam/Dropbox/Research/Modeling/PhD thesis/statsrat/statsrat/latent_cause/__init__.py:200: RuntimeWarning: invalid value encountered in true_divide\n",
      "/Users/sam/Dropbox/Research/Modeling/PhD thesis/statsrat/statsrat/latent_cause/__init__.py:219: RuntimeWarning: invalid value encountered in true_divide\n",
      "/Users/sam/Dropbox/Research/Modeling/PhD thesis/statsrat/statsrat/latent_cause/__init__.py:200: RuntimeWarning: invalid value encountered in true_divide\n",
      "/Users/sam/Dropbox/Research/Modeling/PhD thesis/statsrat/statsrat/latent_cause/__init__.py:219: RuntimeWarning: invalid value encountered in true_divide\n",
      "/Users/sam/Dropbox/Research/Modeling/PhD thesis/statsrat/statsrat/latent_cause/__init__.py:200: RuntimeWarning: invalid value encountered in true_divide\n",
      "/Users/sam/Dropbox/Research/Modeling/PhD thesis/statsrat/statsrat/latent_cause/__init__.py:219: RuntimeWarning: invalid value encountered in true_divide\n",
      "/Users/sam/Dropbox/Research/Modeling/PhD thesis/statsrat/statsrat/latent_cause/__init__.py:200: RuntimeWarning: invalid value encountered in true_divide\n",
      "/Users/sam/Dropbox/Research/Modeling/PhD thesis/statsrat/statsrat/latent_cause/__init__.py:219: RuntimeWarning: invalid value encountered in true_divide\n",
      "/Users/sam/Dropbox/Research/Modeling/PhD thesis/statsrat/statsrat/latent_cause/__init__.py:200: RuntimeWarning: invalid value encountered in true_divide\n",
      "/Users/sam/Dropbox/Research/Modeling/PhD thesis/statsrat/statsrat/latent_cause/__init__.py:219: RuntimeWarning: invalid value encountered in true_divide\n"
     ]
    },
    {
     "name": "stdout",
     "output_type": "stream",
     "text": [
      "[ 1.001       1.001       8.33266667 33.33266667  5.        ]\n"
     ]
    },
    {
     "name": "stderr",
     "output_type": "stream",
     "text": [
      "/Users/sam/Dropbox/Research/Modeling/PhD thesis/statsrat/statsrat/latent_cause/__init__.py:200: RuntimeWarning: invalid value encountered in true_divide\n",
      "/Users/sam/Dropbox/Research/Modeling/PhD thesis/statsrat/statsrat/latent_cause/__init__.py:219: RuntimeWarning: invalid value encountered in true_divide\n",
      "/Users/sam/Dropbox/Research/Modeling/PhD thesis/statsrat/statsrat/latent_cause/__init__.py:200: RuntimeWarning: invalid value encountered in true_divide\n",
      "/Users/sam/Dropbox/Research/Modeling/PhD thesis/statsrat/statsrat/latent_cause/__init__.py:219: RuntimeWarning: invalid value encountered in true_divide\n",
      "/Users/sam/Dropbox/Research/Modeling/PhD thesis/statsrat/statsrat/latent_cause/__init__.py:200: RuntimeWarning: invalid value encountered in true_divide\n",
      "/Users/sam/Dropbox/Research/Modeling/PhD thesis/statsrat/statsrat/latent_cause/__init__.py:219: RuntimeWarning: invalid value encountered in true_divide\n",
      "/Users/sam/Dropbox/Research/Modeling/PhD thesis/statsrat/statsrat/latent_cause/__init__.py:200: RuntimeWarning: invalid value encountered in true_divide\n",
      "/Users/sam/Dropbox/Research/Modeling/PhD thesis/statsrat/statsrat/latent_cause/__init__.py:219: RuntimeWarning: invalid value encountered in true_divide\n",
      "/Users/sam/Dropbox/Research/Modeling/PhD thesis/statsrat/statsrat/latent_cause/__init__.py:200: RuntimeWarning: invalid value encountered in true_divide\n",
      "/Users/sam/Dropbox/Research/Modeling/PhD thesis/statsrat/statsrat/latent_cause/__init__.py:219: RuntimeWarning: invalid value encountered in true_divide\n",
      "/Users/sam/Dropbox/Research/Modeling/PhD thesis/statsrat/statsrat/latent_cause/__init__.py:200: RuntimeWarning: invalid value encountered in true_divide\n",
      "/Users/sam/Dropbox/Research/Modeling/PhD thesis/statsrat/statsrat/latent_cause/__init__.py:219: RuntimeWarning: invalid value encountered in true_divide\n",
      "/Users/sam/Dropbox/Research/Modeling/PhD thesis/statsrat/statsrat/latent_cause/__init__.py:200: RuntimeWarning: invalid value encountered in true_divide\n",
      "/Users/sam/Dropbox/Research/Modeling/PhD thesis/statsrat/statsrat/latent_cause/__init__.py:219: RuntimeWarning: invalid value encountered in true_divide\n",
      "/Users/sam/Dropbox/Research/Modeling/PhD thesis/statsrat/statsrat/latent_cause/__init__.py:200: RuntimeWarning: invalid value encountered in true_divide\n",
      "/Users/sam/Dropbox/Research/Modeling/PhD thesis/statsrat/statsrat/latent_cause/__init__.py:219: RuntimeWarning: invalid value encountered in true_divide\n",
      "/Users/sam/Dropbox/Research/Modeling/PhD thesis/statsrat/statsrat/latent_cause/__init__.py:200: RuntimeWarning: invalid value encountered in true_divide\n",
      "/Users/sam/Dropbox/Research/Modeling/PhD thesis/statsrat/statsrat/latent_cause/__init__.py:219: RuntimeWarning: invalid value encountered in true_divide\n"
     ]
    },
    {
     "name": "stdout",
     "output_type": "stream",
     "text": [
      "[ 1.47863664  8.41309546  8.33266667 33.33266667  5.        ]\n",
      "[ 1.35486369  8.72728833  8.33266667 33.33266667  5.        ]\n",
      "[ 1.27393522  5.93287598  8.33266667 33.33266667  5.        ]\n",
      "[ 1.001       3.76684937  8.33266667 33.33266667  5.        ]\n"
     ]
    },
    {
     "name": "stderr",
     "output_type": "stream",
     "text": [
      "/Users/sam/Dropbox/Research/Modeling/PhD thesis/statsrat/statsrat/latent_cause/__init__.py:200: RuntimeWarning: invalid value encountered in true_divide\n",
      "/Users/sam/Dropbox/Research/Modeling/PhD thesis/statsrat/statsrat/latent_cause/__init__.py:219: RuntimeWarning: invalid value encountered in true_divide\n",
      "/Users/sam/Dropbox/Research/Modeling/PhD thesis/statsrat/statsrat/latent_cause/__init__.py:200: RuntimeWarning: invalid value encountered in true_divide\n",
      "/Users/sam/Dropbox/Research/Modeling/PhD thesis/statsrat/statsrat/latent_cause/__init__.py:219: RuntimeWarning: invalid value encountered in true_divide\n",
      "/Users/sam/Dropbox/Research/Modeling/PhD thesis/statsrat/statsrat/latent_cause/__init__.py:200: RuntimeWarning: invalid value encountered in true_divide\n",
      "/Users/sam/Dropbox/Research/Modeling/PhD thesis/statsrat/statsrat/latent_cause/__init__.py:219: RuntimeWarning: invalid value encountered in true_divide\n",
      "/Users/sam/Dropbox/Research/Modeling/PhD thesis/statsrat/statsrat/latent_cause/__init__.py:200: RuntimeWarning: invalid value encountered in true_divide\n",
      "/Users/sam/Dropbox/Research/Modeling/PhD thesis/statsrat/statsrat/latent_cause/__init__.py:219: RuntimeWarning: invalid value encountered in true_divide\n",
      "/Users/sam/Dropbox/Research/Modeling/PhD thesis/statsrat/statsrat/latent_cause/__init__.py:200: RuntimeWarning: invalid value encountered in true_divide\n",
      "/Users/sam/Dropbox/Research/Modeling/PhD thesis/statsrat/statsrat/latent_cause/__init__.py:219: RuntimeWarning: invalid value encountered in true_divide\n",
      "/Users/sam/Dropbox/Research/Modeling/PhD thesis/statsrat/statsrat/latent_cause/__init__.py:200: RuntimeWarning: invalid value encountered in true_divide\n",
      "/Users/sam/Dropbox/Research/Modeling/PhD thesis/statsrat/statsrat/latent_cause/__init__.py:219: RuntimeWarning: invalid value encountered in true_divide\n",
      "/Users/sam/Dropbox/Research/Modeling/PhD thesis/statsrat/statsrat/latent_cause/__init__.py:200: RuntimeWarning: invalid value encountered in true_divide\n",
      "/Users/sam/Dropbox/Research/Modeling/PhD thesis/statsrat/statsrat/latent_cause/__init__.py:219: RuntimeWarning: invalid value encountered in true_divide\n",
      "/Users/sam/Dropbox/Research/Modeling/PhD thesis/statsrat/statsrat/latent_cause/__init__.py:200: RuntimeWarning: invalid value encountered in true_divide\n",
      "/Users/sam/Dropbox/Research/Modeling/PhD thesis/statsrat/statsrat/latent_cause/__init__.py:219: RuntimeWarning: invalid value encountered in true_divide\n",
      "/Users/sam/Dropbox/Research/Modeling/PhD thesis/statsrat/statsrat/latent_cause/__init__.py:200: RuntimeWarning: invalid value encountered in true_divide\n",
      "/Users/sam/Dropbox/Research/Modeling/PhD thesis/statsrat/statsrat/latent_cause/__init__.py:219: RuntimeWarning: invalid value encountered in true_divide\n",
      "/Users/sam/Dropbox/Research/Modeling/PhD thesis/statsrat/statsrat/latent_cause/__init__.py:200: RuntimeWarning: invalid value encountered in true_divide\n",
      "/Users/sam/Dropbox/Research/Modeling/PhD thesis/statsrat/statsrat/latent_cause/__init__.py:219: RuntimeWarning: invalid value encountered in true_divide\n"
     ]
    },
    {
     "name": "stdout",
     "output_type": "stream",
     "text": [
      "[ 1.04781156  5.00695911  8.33266667 33.33266667  5.        ]\n",
      "[ 1.02638932  6.56126172  9.58241667 33.33266667  5.        ]\n",
      "[ 1.02638932  6.56126172  9.58241667 38.33241667  5.        ]\n",
      "[ 1.02638932  6.56126172  9.999      38.33241667  5.        ]\n",
      "[ 1.02638932  6.56126172  9.999      39.999       5.        ]\n",
      "[ 1.02638932  6.56126172  9.999      39.999       5.        ]\n",
      "     prior_a  prior_b  gamma   alpha   mean  lower  upper\n",
      "min    1.026    6.561  9.999  39.999 -0.084 -0.084 -0.084\n",
      "max   33.045    1.001  0.001   3.074  0.000  0.000  0.000\n",
      "       schedule      trial_name u_name  mean_resp parameters\n",
      "0       control  cs2 -> nothing     us      0.813        min\n",
      "0  experimental  cs2 -> nothing     us      0.896        min\n",
      "0       control  cs2 -> nothing     us      0.992        max\n",
      "0  experimental  cs2 -> nothing     us      0.991        max\n"
     ]
    }
   ],
   "source": [
    "oat_result = sr.perform_oat(model, blocking, verbose = True, max_time = 30, minimize = True)\n",
    "print(np.round(oat_result[0], 3))\n",
    "print(np.round(oat_result[1], 3))"
   ]
  },
  {
   "cell_type": "code",
   "execution_count": null,
   "metadata": {},
   "outputs": [],
   "source": []
  }
 ],
 "metadata": {
  "kernelspec": {
   "display_name": "Python 3",
   "language": "python",
   "name": "python3"
  },
  "language_info": {
   "codemirror_mode": {
    "name": "ipython",
    "version": 3
   },
   "file_extension": ".py",
   "mimetype": "text/x-python",
   "name": "python",
   "nbconvert_exporter": "python",
   "pygments_lexer": "ipython3",
   "version": "3.8.5"
  }
 },
 "nbformat": 4,
 "nbformat_minor": 4
}
