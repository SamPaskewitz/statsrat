{
 "cells": [
  {
   "cell_type": "code",
   "execution_count": 1,
   "metadata": {},
   "outputs": [],
   "source": [
    "import numpy as np\n",
    "import pandas as pd\n",
    "import statsrat as sr\n",
    "from statsrat import latent_cause as lc\n",
    "#from statsrat.expr.predef.pvl_iti import import extinction, blocking\n",
    "from statsrat.expr.predef.pvl_no_iti import extinction, blocking\n",
    "from statsrat.expr.predef.kitten import lrn_pred"
   ]
  },
  {
   "cell_type": "code",
   "execution_count": 2,
   "metadata": {},
   "outputs": [
    {
     "name": "stdout",
     "output_type": "stream",
     "text": [
      "            min   max  default  \\\n",
      "prior_a     0.0  40.0      1.0   \n",
      "prior_b     0.0  40.0      5.0   \n",
      "gamma       0.0  10.0      2.0   \n",
      "alpha       0.0  40.0      0.5   \n",
      "resp_scale  0.0  10.0      1.0   \n",
      "\n",
      "                                                  description  \n",
      "prior_a     prior hyperparameter for eta (log-odds in Bern...  \n",
      "prior_b     prior hyperparameter for eta (log-odds in Bern...  \n",
      "gamma       decay rate for exponential SCRP; higher -> fav...  \n",
      "alpha       concentration parameter; higher -> tend to inf...  \n",
      "resp_scale         scales softmax/logistic response functions  \n"
     ]
    },
    {
     "name": "stderr",
     "output_type": "stream",
     "text": [
      "/Users/sam/Dropbox/Research/Modeling/PhD thesis/statsrat/statsrat/latent_cause/__init__.py:190: RuntimeWarning: invalid value encountered in multiply\n",
      "/Users/sam/Dropbox/Research/Modeling/PhD thesis/statsrat/statsrat/latent_cause/__init__.py:214: RuntimeWarning: invalid value encountered in multiply\n"
     ]
    }
   ],
   "source": [
    "print_probs = False # Should model log_lik, prior, phi etc. be printed?\n",
    "model = lc.model()\n",
    "print(model.pars)\n",
    "trials = extinction.make_trials('experimental')\n",
    "#trials = lrn_pred.make_trials()\n",
    "# NEED TO MAKE SURE THAT TAU + 1 <= N + 2\n",
    "# FIGURE OUT PARAMETERIZATION AND PARAMETER LIMITS\n",
    "ds = model.simulate(trials, par_val = [2, 5, 5, 20, 1])"
   ]
  },
  {
   "cell_type": "code",
   "execution_count": 3,
   "metadata": {},
   "outputs": [
    {
     "name": "stderr",
     "output_type": "stream",
     "text": [
      "/opt/anaconda3/lib/python3.8/site-packages/plotnine/geoms/geom_path.py:75: PlotnineWarning: geom_path: Removed 2 rows containing missing values.\n"
     ]
    },
    {
     "ename": "ValueError",
     "evalue": "Axis limits cannot be NaN or Inf",
     "output_type": "error",
     "traceback": [
      "\u001b[0;31m---------------------------------------------------------------------------\u001b[0m",
      "\u001b[0;31mValueError\u001b[0m                                Traceback (most recent call last)",
      "\u001b[0;32m/opt/anaconda3/lib/python3.8/site-packages/IPython/core/formatters.py\u001b[0m in \u001b[0;36m__call__\u001b[0;34m(self, obj)\u001b[0m\n\u001b[1;32m    700\u001b[0m                 \u001b[0mtype_pprinters\u001b[0m\u001b[0;34m=\u001b[0m\u001b[0mself\u001b[0m\u001b[0;34m.\u001b[0m\u001b[0mtype_printers\u001b[0m\u001b[0;34m,\u001b[0m\u001b[0;34m\u001b[0m\u001b[0;34m\u001b[0m\u001b[0m\n\u001b[1;32m    701\u001b[0m                 deferred_pprinters=self.deferred_printers)\n\u001b[0;32m--> 702\u001b[0;31m             \u001b[0mprinter\u001b[0m\u001b[0;34m.\u001b[0m\u001b[0mpretty\u001b[0m\u001b[0;34m(\u001b[0m\u001b[0mobj\u001b[0m\u001b[0;34m)\u001b[0m\u001b[0;34m\u001b[0m\u001b[0;34m\u001b[0m\u001b[0m\n\u001b[0m\u001b[1;32m    703\u001b[0m             \u001b[0mprinter\u001b[0m\u001b[0;34m.\u001b[0m\u001b[0mflush\u001b[0m\u001b[0;34m(\u001b[0m\u001b[0;34m)\u001b[0m\u001b[0;34m\u001b[0m\u001b[0;34m\u001b[0m\u001b[0m\n\u001b[1;32m    704\u001b[0m             \u001b[0;32mreturn\u001b[0m \u001b[0mstream\u001b[0m\u001b[0;34m.\u001b[0m\u001b[0mgetvalue\u001b[0m\u001b[0;34m(\u001b[0m\u001b[0;34m)\u001b[0m\u001b[0;34m\u001b[0m\u001b[0;34m\u001b[0m\u001b[0m\n",
      "\u001b[0;32m/opt/anaconda3/lib/python3.8/site-packages/IPython/lib/pretty.py\u001b[0m in \u001b[0;36mpretty\u001b[0;34m(self, obj)\u001b[0m\n\u001b[1;32m    392\u001b[0m                         \u001b[0;32mif\u001b[0m \u001b[0mcls\u001b[0m \u001b[0;32mis\u001b[0m \u001b[0;32mnot\u001b[0m \u001b[0mobject\u001b[0m\u001b[0;31m \u001b[0m\u001b[0;31m\\\u001b[0m\u001b[0;34m\u001b[0m\u001b[0;34m\u001b[0m\u001b[0m\n\u001b[1;32m    393\u001b[0m                                 \u001b[0;32mand\u001b[0m \u001b[0mcallable\u001b[0m\u001b[0;34m(\u001b[0m\u001b[0mcls\u001b[0m\u001b[0;34m.\u001b[0m\u001b[0m__dict__\u001b[0m\u001b[0;34m.\u001b[0m\u001b[0mget\u001b[0m\u001b[0;34m(\u001b[0m\u001b[0;34m'__repr__'\u001b[0m\u001b[0;34m)\u001b[0m\u001b[0;34m)\u001b[0m\u001b[0;34m:\u001b[0m\u001b[0;34m\u001b[0m\u001b[0;34m\u001b[0m\u001b[0m\n\u001b[0;32m--> 394\u001b[0;31m                             \u001b[0;32mreturn\u001b[0m \u001b[0m_repr_pprint\u001b[0m\u001b[0;34m(\u001b[0m\u001b[0mobj\u001b[0m\u001b[0;34m,\u001b[0m \u001b[0mself\u001b[0m\u001b[0;34m,\u001b[0m \u001b[0mcycle\u001b[0m\u001b[0;34m)\u001b[0m\u001b[0;34m\u001b[0m\u001b[0;34m\u001b[0m\u001b[0m\n\u001b[0m\u001b[1;32m    395\u001b[0m \u001b[0;34m\u001b[0m\u001b[0m\n\u001b[1;32m    396\u001b[0m             \u001b[0;32mreturn\u001b[0m \u001b[0m_default_pprint\u001b[0m\u001b[0;34m(\u001b[0m\u001b[0mobj\u001b[0m\u001b[0;34m,\u001b[0m \u001b[0mself\u001b[0m\u001b[0;34m,\u001b[0m \u001b[0mcycle\u001b[0m\u001b[0;34m)\u001b[0m\u001b[0;34m\u001b[0m\u001b[0;34m\u001b[0m\u001b[0m\n",
      "\u001b[0;32m/opt/anaconda3/lib/python3.8/site-packages/IPython/lib/pretty.py\u001b[0m in \u001b[0;36m_repr_pprint\u001b[0;34m(obj, p, cycle)\u001b[0m\n\u001b[1;32m    698\u001b[0m     \u001b[0;34m\"\"\"A pprint that just redirects to the normal repr function.\"\"\"\u001b[0m\u001b[0;34m\u001b[0m\u001b[0;34m\u001b[0m\u001b[0m\n\u001b[1;32m    699\u001b[0m     \u001b[0;31m# Find newlines and replace them with p.break_()\u001b[0m\u001b[0;34m\u001b[0m\u001b[0;34m\u001b[0m\u001b[0;34m\u001b[0m\u001b[0m\n\u001b[0;32m--> 700\u001b[0;31m     \u001b[0moutput\u001b[0m \u001b[0;34m=\u001b[0m \u001b[0mrepr\u001b[0m\u001b[0;34m(\u001b[0m\u001b[0mobj\u001b[0m\u001b[0;34m)\u001b[0m\u001b[0;34m\u001b[0m\u001b[0;34m\u001b[0m\u001b[0m\n\u001b[0m\u001b[1;32m    701\u001b[0m     \u001b[0mlines\u001b[0m \u001b[0;34m=\u001b[0m \u001b[0moutput\u001b[0m\u001b[0;34m.\u001b[0m\u001b[0msplitlines\u001b[0m\u001b[0;34m(\u001b[0m\u001b[0;34m)\u001b[0m\u001b[0;34m\u001b[0m\u001b[0;34m\u001b[0m\u001b[0m\n\u001b[1;32m    702\u001b[0m     \u001b[0;32mwith\u001b[0m \u001b[0mp\u001b[0m\u001b[0;34m.\u001b[0m\u001b[0mgroup\u001b[0m\u001b[0;34m(\u001b[0m\u001b[0;34m)\u001b[0m\u001b[0;34m:\u001b[0m\u001b[0;34m\u001b[0m\u001b[0;34m\u001b[0m\u001b[0m\n",
      "\u001b[0;32m/opt/anaconda3/lib/python3.8/site-packages/plotnine/ggplot.py\u001b[0m in \u001b[0;36m__repr__\u001b[0;34m(self)\u001b[0m\n\u001b[1;32m     86\u001b[0m         \u001b[0;31m# in the jupyter notebook.\u001b[0m\u001b[0;34m\u001b[0m\u001b[0;34m\u001b[0m\u001b[0;34m\u001b[0m\u001b[0m\n\u001b[1;32m     87\u001b[0m         \u001b[0;32mif\u001b[0m \u001b[0;32mnot\u001b[0m \u001b[0mself\u001b[0m\u001b[0;34m.\u001b[0m\u001b[0mfigure\u001b[0m\u001b[0;34m:\u001b[0m\u001b[0;34m\u001b[0m\u001b[0;34m\u001b[0m\u001b[0m\n\u001b[0;32m---> 88\u001b[0;31m             \u001b[0mself\u001b[0m\u001b[0;34m.\u001b[0m\u001b[0mdraw\u001b[0m\u001b[0;34m(\u001b[0m\u001b[0;34m)\u001b[0m\u001b[0;34m\u001b[0m\u001b[0;34m\u001b[0m\u001b[0m\n\u001b[0m\u001b[1;32m     89\u001b[0m         \u001b[0mplt\u001b[0m\u001b[0;34m.\u001b[0m\u001b[0mshow\u001b[0m\u001b[0;34m(\u001b[0m\u001b[0;34m)\u001b[0m\u001b[0;34m\u001b[0m\u001b[0;34m\u001b[0m\u001b[0m\n\u001b[1;32m     90\u001b[0m         \u001b[0;32mreturn\u001b[0m \u001b[0;34m'<ggplot: (%d)>'\u001b[0m \u001b[0;34m%\u001b[0m \u001b[0mself\u001b[0m\u001b[0;34m.\u001b[0m\u001b[0m__hash__\u001b[0m\u001b[0;34m(\u001b[0m\u001b[0;34m)\u001b[0m\u001b[0;34m\u001b[0m\u001b[0;34m\u001b[0m\u001b[0m\n",
      "\u001b[0;32m/opt/anaconda3/lib/python3.8/site-packages/plotnine/ggplot.py\u001b[0m in \u001b[0;36mdraw\u001b[0;34m(self, return_ggplot)\u001b[0m\n\u001b[1;32m    179\u001b[0m         \u001b[0;31m# new frames knowing that they are separate from the original.\u001b[0m\u001b[0;34m\u001b[0m\u001b[0;34m\u001b[0m\u001b[0;34m\u001b[0m\u001b[0m\n\u001b[1;32m    180\u001b[0m         \u001b[0;32mwith\u001b[0m \u001b[0mpd\u001b[0m\u001b[0;34m.\u001b[0m\u001b[0moption_context\u001b[0m\u001b[0;34m(\u001b[0m\u001b[0;34m'mode.chained_assignment'\u001b[0m\u001b[0;34m,\u001b[0m \u001b[0;32mNone\u001b[0m\u001b[0;34m)\u001b[0m\u001b[0;34m:\u001b[0m\u001b[0;34m\u001b[0m\u001b[0;34m\u001b[0m\u001b[0m\n\u001b[0;32m--> 181\u001b[0;31m             \u001b[0;32mreturn\u001b[0m \u001b[0mself\u001b[0m\u001b[0;34m.\u001b[0m\u001b[0m_draw\u001b[0m\u001b[0;34m(\u001b[0m\u001b[0mreturn_ggplot\u001b[0m\u001b[0;34m)\u001b[0m\u001b[0;34m\u001b[0m\u001b[0;34m\u001b[0m\u001b[0m\n\u001b[0m\u001b[1;32m    182\u001b[0m \u001b[0;34m\u001b[0m\u001b[0m\n\u001b[1;32m    183\u001b[0m     \u001b[0;32mdef\u001b[0m \u001b[0m_draw\u001b[0m\u001b[0;34m(\u001b[0m\u001b[0mself\u001b[0m\u001b[0;34m,\u001b[0m \u001b[0mreturn_ggplot\u001b[0m\u001b[0;34m=\u001b[0m\u001b[0;32mFalse\u001b[0m\u001b[0;34m)\u001b[0m\u001b[0;34m:\u001b[0m\u001b[0;34m\u001b[0m\u001b[0;34m\u001b[0m\u001b[0m\n",
      "\u001b[0;32m/opt/anaconda3/lib/python3.8/site-packages/plotnine/ggplot.py\u001b[0m in \u001b[0;36m_draw\u001b[0;34m(self, return_ggplot)\u001b[0m\n\u001b[1;32m    210\u001b[0m             \u001b[0;32mif\u001b[0m \u001b[0mself\u001b[0m\u001b[0;34m.\u001b[0m\u001b[0mfigure\u001b[0m \u001b[0;32mis\u001b[0m \u001b[0;32mnot\u001b[0m \u001b[0;32mNone\u001b[0m\u001b[0;34m:\u001b[0m\u001b[0;34m\u001b[0m\u001b[0;34m\u001b[0m\u001b[0m\n\u001b[1;32m    211\u001b[0m                 \u001b[0mplt\u001b[0m\u001b[0;34m.\u001b[0m\u001b[0mclose\u001b[0m\u001b[0;34m(\u001b[0m\u001b[0mself\u001b[0m\u001b[0;34m.\u001b[0m\u001b[0mfigure\u001b[0m\u001b[0;34m)\u001b[0m\u001b[0;34m\u001b[0m\u001b[0;34m\u001b[0m\u001b[0m\n\u001b[0;32m--> 212\u001b[0;31m             \u001b[0;32mraise\u001b[0m \u001b[0merr\u001b[0m\u001b[0;34m\u001b[0m\u001b[0;34m\u001b[0m\u001b[0m\n\u001b[0m\u001b[1;32m    213\u001b[0m \u001b[0;34m\u001b[0m\u001b[0m\n\u001b[1;32m    214\u001b[0m         \u001b[0;32mif\u001b[0m \u001b[0mreturn_ggplot\u001b[0m\u001b[0;34m:\u001b[0m\u001b[0;34m\u001b[0m\u001b[0;34m\u001b[0m\u001b[0m\n",
      "\u001b[0;32m/opt/anaconda3/lib/python3.8/site-packages/plotnine/ggplot.py\u001b[0m in \u001b[0;36m_draw\u001b[0;34m(self, return_ggplot)\u001b[0m\n\u001b[1;32m    201\u001b[0m                 \u001b[0mself\u001b[0m\u001b[0;34m.\u001b[0m\u001b[0m_draw_layers\u001b[0m\u001b[0;34m(\u001b[0m\u001b[0;34m)\u001b[0m\u001b[0;34m\u001b[0m\u001b[0;34m\u001b[0m\u001b[0m\n\u001b[1;32m    202\u001b[0m                 \u001b[0mself\u001b[0m\u001b[0;34m.\u001b[0m\u001b[0m_draw_labels\u001b[0m\u001b[0;34m(\u001b[0m\u001b[0;34m)\u001b[0m\u001b[0;34m\u001b[0m\u001b[0;34m\u001b[0m\u001b[0m\n\u001b[0;32m--> 203\u001b[0;31m                 \u001b[0mself\u001b[0m\u001b[0;34m.\u001b[0m\u001b[0m_draw_breaks_and_labels\u001b[0m\u001b[0;34m(\u001b[0m\u001b[0;34m)\u001b[0m\u001b[0;34m\u001b[0m\u001b[0;34m\u001b[0m\u001b[0m\n\u001b[0m\u001b[1;32m    204\u001b[0m                 \u001b[0mself\u001b[0m\u001b[0;34m.\u001b[0m\u001b[0m_draw_legend\u001b[0m\u001b[0;34m(\u001b[0m\u001b[0;34m)\u001b[0m\u001b[0;34m\u001b[0m\u001b[0;34m\u001b[0m\u001b[0m\n\u001b[1;32m    205\u001b[0m                 \u001b[0mself\u001b[0m\u001b[0;34m.\u001b[0m\u001b[0m_draw_title\u001b[0m\u001b[0;34m(\u001b[0m\u001b[0;34m)\u001b[0m\u001b[0;34m\u001b[0m\u001b[0;34m\u001b[0m\u001b[0m\n",
      "\u001b[0;32m/opt/anaconda3/lib/python3.8/site-packages/plotnine/ggplot.py\u001b[0m in \u001b[0;36m_draw_breaks_and_labels\u001b[0;34m(self)\u001b[0m\n\u001b[1;32m    402\u001b[0m             \u001b[0mpanel_params\u001b[0m \u001b[0;34m=\u001b[0m \u001b[0mself\u001b[0m\u001b[0;34m.\u001b[0m\u001b[0mlayout\u001b[0m\u001b[0;34m.\u001b[0m\u001b[0mpanel_params\u001b[0m\u001b[0;34m[\u001b[0m\u001b[0mpidx\u001b[0m\u001b[0;34m]\u001b[0m\u001b[0;34m\u001b[0m\u001b[0;34m\u001b[0m\u001b[0m\n\u001b[1;32m    403\u001b[0m             \u001b[0mself\u001b[0m\u001b[0;34m.\u001b[0m\u001b[0mfacet\u001b[0m\u001b[0;34m.\u001b[0m\u001b[0mdraw_label\u001b[0m\u001b[0;34m(\u001b[0m\u001b[0mlayout_info\u001b[0m\u001b[0;34m,\u001b[0m \u001b[0max\u001b[0m\u001b[0;34m)\u001b[0m\u001b[0;34m\u001b[0m\u001b[0;34m\u001b[0m\u001b[0m\n\u001b[0;32m--> 404\u001b[0;31m             \u001b[0mself\u001b[0m\u001b[0;34m.\u001b[0m\u001b[0mfacet\u001b[0m\u001b[0;34m.\u001b[0m\u001b[0mset_limits_breaks_and_labels\u001b[0m\u001b[0;34m(\u001b[0m\u001b[0mpanel_params\u001b[0m\u001b[0;34m,\u001b[0m \u001b[0max\u001b[0m\u001b[0;34m)\u001b[0m\u001b[0;34m\u001b[0m\u001b[0;34m\u001b[0m\u001b[0m\n\u001b[0m\u001b[1;32m    405\u001b[0m \u001b[0;34m\u001b[0m\u001b[0m\n\u001b[1;32m    406\u001b[0m             \u001b[0;31m# Remove unnecessary ticks and labels\u001b[0m\u001b[0;34m\u001b[0m\u001b[0;34m\u001b[0m\u001b[0;34m\u001b[0m\u001b[0m\n",
      "\u001b[0;32m/opt/anaconda3/lib/python3.8/site-packages/plotnine/facets/facet.py\u001b[0m in \u001b[0;36mset_limits_breaks_and_labels\u001b[0;34m(self, panel_params, ax)\u001b[0m\n\u001b[1;32m    240\u001b[0m         \u001b[0;31m# limits\u001b[0m\u001b[0;34m\u001b[0m\u001b[0;34m\u001b[0m\u001b[0;34m\u001b[0m\u001b[0m\n\u001b[1;32m    241\u001b[0m         \u001b[0max\u001b[0m\u001b[0;34m.\u001b[0m\u001b[0mset_xlim\u001b[0m\u001b[0;34m(\u001b[0m\u001b[0mpanel_params\u001b[0m\u001b[0;34m.\u001b[0m\u001b[0mx\u001b[0m\u001b[0;34m.\u001b[0m\u001b[0mrange\u001b[0m\u001b[0;34m)\u001b[0m\u001b[0;34m\u001b[0m\u001b[0;34m\u001b[0m\u001b[0m\n\u001b[0;32m--> 242\u001b[0;31m         \u001b[0max\u001b[0m\u001b[0;34m.\u001b[0m\u001b[0mset_ylim\u001b[0m\u001b[0;34m(\u001b[0m\u001b[0mpanel_params\u001b[0m\u001b[0;34m.\u001b[0m\u001b[0my\u001b[0m\u001b[0;34m.\u001b[0m\u001b[0mrange\u001b[0m\u001b[0;34m)\u001b[0m\u001b[0;34m\u001b[0m\u001b[0;34m\u001b[0m\u001b[0m\n\u001b[0m\u001b[1;32m    243\u001b[0m \u001b[0;34m\u001b[0m\u001b[0m\n\u001b[1;32m    244\u001b[0m         \u001b[0;31m# breaks\u001b[0m\u001b[0;34m\u001b[0m\u001b[0;34m\u001b[0m\u001b[0;34m\u001b[0m\u001b[0m\n",
      "\u001b[0;32m/opt/anaconda3/lib/python3.8/site-packages/matplotlib/axes/_base.py\u001b[0m in \u001b[0;36mset_ylim\u001b[0;34m(self, bottom, top, emit, auto, ymin, ymax)\u001b[0m\n\u001b[1;32m   3565\u001b[0m \u001b[0;34m\u001b[0m\u001b[0m\n\u001b[1;32m   3566\u001b[0m         \u001b[0mself\u001b[0m\u001b[0;34m.\u001b[0m\u001b[0m_process_unit_info\u001b[0m\u001b[0;34m(\u001b[0m\u001b[0mydata\u001b[0m\u001b[0;34m=\u001b[0m\u001b[0;34m(\u001b[0m\u001b[0mbottom\u001b[0m\u001b[0;34m,\u001b[0m \u001b[0mtop\u001b[0m\u001b[0;34m)\u001b[0m\u001b[0;34m)\u001b[0m\u001b[0;34m\u001b[0m\u001b[0;34m\u001b[0m\u001b[0m\n\u001b[0;32m-> 3567\u001b[0;31m         \u001b[0mbottom\u001b[0m \u001b[0;34m=\u001b[0m \u001b[0mself\u001b[0m\u001b[0;34m.\u001b[0m\u001b[0m_validate_converted_limits\u001b[0m\u001b[0;34m(\u001b[0m\u001b[0mbottom\u001b[0m\u001b[0;34m,\u001b[0m \u001b[0mself\u001b[0m\u001b[0;34m.\u001b[0m\u001b[0mconvert_yunits\u001b[0m\u001b[0;34m)\u001b[0m\u001b[0;34m\u001b[0m\u001b[0;34m\u001b[0m\u001b[0m\n\u001b[0m\u001b[1;32m   3568\u001b[0m         \u001b[0mtop\u001b[0m \u001b[0;34m=\u001b[0m \u001b[0mself\u001b[0m\u001b[0;34m.\u001b[0m\u001b[0m_validate_converted_limits\u001b[0m\u001b[0;34m(\u001b[0m\u001b[0mtop\u001b[0m\u001b[0;34m,\u001b[0m \u001b[0mself\u001b[0m\u001b[0;34m.\u001b[0m\u001b[0mconvert_yunits\u001b[0m\u001b[0;34m)\u001b[0m\u001b[0;34m\u001b[0m\u001b[0;34m\u001b[0m\u001b[0m\n\u001b[1;32m   3569\u001b[0m \u001b[0;34m\u001b[0m\u001b[0m\n",
      "\u001b[0;32m/opt/anaconda3/lib/python3.8/site-packages/matplotlib/axes/_base.py\u001b[0m in \u001b[0;36m_validate_converted_limits\u001b[0;34m(self, limit, convert)\u001b[0m\n\u001b[1;32m   3211\u001b[0m             if (isinstance(converted_limit, Real)\n\u001b[1;32m   3212\u001b[0m                     and not np.isfinite(converted_limit)):\n\u001b[0;32m-> 3213\u001b[0;31m                 \u001b[0;32mraise\u001b[0m \u001b[0mValueError\u001b[0m\u001b[0;34m(\u001b[0m\u001b[0;34m\"Axis limits cannot be NaN or Inf\"\u001b[0m\u001b[0;34m)\u001b[0m\u001b[0;34m\u001b[0m\u001b[0;34m\u001b[0m\u001b[0m\n\u001b[0m\u001b[1;32m   3214\u001b[0m             \u001b[0;32mreturn\u001b[0m \u001b[0mconverted_limit\u001b[0m\u001b[0;34m\u001b[0m\u001b[0;34m\u001b[0m\u001b[0m\n\u001b[1;32m   3215\u001b[0m \u001b[0;34m\u001b[0m\u001b[0m\n",
      "\u001b[0;31mValueError\u001b[0m: Axis limits cannot be NaN or Inf"
     ]
    }
   ],
   "source": [
    "#sr.learn_plot(ds, var = 'N')\n",
    "sr.learn_plot(ds, var = 'u_hat')\n",
    "#sr.learn_plot(ds, var = 'E_post_pred', sel = {'z_name': 0})\n",
    "# *** MAKE IT SO THAT u_hat CAN BE ZERO AT FIRST,\n",
    "# I.E. MAKE IT SO THAT THE PRIOR ON y CAUSES INITIAL PREDICTIONS TO BE SMALL ***\n",
    "#sr.learn_plot(ds, var = 'u_hat', sel = {'t': ds['ex'].isin(['a.x', 'a.y'])*(ds['stage'] == 0)})"
   ]
  },
  {
   "cell_type": "code",
   "execution_count": 4,
   "metadata": {},
   "outputs": [],
   "source": [
    "if print_probs:\n",
    "    print('phi')\n",
    "    print(ds['phi'].loc[{'t': range(5), 'z_name': range(3)}].values)\n",
    "    print('\\n E_log_prior')\n",
    "    print(np.exp(ds['E_log_prior'].loc[{'t': range(5), 'z_name': range(3)}]).values)\n",
    "    print('\\n E_log_lik_x')\n",
    "    print(np.exp(ds['E_log_lik_x'].loc[{'t': range(5), 'z_name': range(3)}]).values)\n",
    "    print('\\n E_log_lik_y')\n",
    "    print(np.exp(ds['E_log_lik_y'].loc[{'t': range(5), 'z_name': range(3)}]).values)"
   ]
  },
  {
   "cell_type": "code",
   "execution_count": 5,
   "metadata": {},
   "outputs": [],
   "source": [
    "trials = blocking.make_trials('experimental')\n",
    "ds = model.simulate(trials, par_val = [0.1, 2, 0.01, 4, 5])"
   ]
  },
  {
   "cell_type": "code",
   "execution_count": null,
   "metadata": {},
   "outputs": [
    {
     "name": "stdout",
     "output_type": "stream",
     "text": [
      "Maximizing OAT score.\n",
      "[20. 20.  5. 20.  5.]\n",
      "[33.33266667 20.          5.         20.          5.        ]\n",
      "[ 6.66733333 20.          5.         20.          5.        ]\n",
      "[20.         33.33266667  5.         20.          5.        ]\n",
      "[20.          6.66733333  5.         20.          5.        ]\n",
      "[20.         20.          8.33266667 20.          5.        ]\n",
      "[20.         20.          1.66733333 20.          5.        ]\n",
      "[20.         20.          5.         33.33266667  5.        ]\n",
      "[20.         20.          5.          6.66733333  5.        ]\n",
      "[33.33266667 33.33266667  5.         20.          5.        ]\n",
      "[33.33266667  6.66733333  5.         20.          5.        ]\n",
      "[33.33266667 20.          8.33266667 20.          5.        ]\n",
      "[33.33266667 20.          1.66733333 20.          5.        ]\n",
      "[33.33266667 20.          5.         33.33266667  5.        ]\n",
      "[33.33266667 20.          5.          6.66733333  5.        ]\n",
      "[ 6.66733333 33.33266667  5.         20.          5.        ]\n",
      "[ 6.66733333  6.66733333  5.         20.          5.        ]\n",
      "[ 6.66733333 20.          8.33266667 20.          5.        ]\n",
      "[ 6.66733333 20.          1.66733333 20.          5.        ]\n",
      "[ 6.66733333 20.          5.         33.33266667  5.        ]\n",
      "[ 6.66733333 20.          5.          6.66733333  5.        ]\n",
      "[33.33266667  6.66733333  8.33266667 20.          5.        ]\n",
      "[33.33266667  6.66733333  1.66733333 20.          5.        ]\n",
      "[33.33266667  6.66733333  5.         33.33266667  5.        ]\n",
      "[33.33266667  6.66733333  5.          6.66733333  5.        ]\n",
      "[20.          6.66733333  8.33266667 20.          5.        ]\n",
      "[20.          6.66733333  1.66733333 20.          5.        ]\n",
      "[20.          6.66733333  5.         33.33266667  5.        ]\n",
      "[20.          6.66733333  5.          6.66733333  5.        ]\n",
      "[33.33266667  6.66733333  1.66733333 33.33266667  5.        ]\n",
      "[33.33266667  6.66733333  1.66733333  6.66733333  5.        ]\n",
      "[33.33266667 33.33266667  8.33266667 20.          5.        ]\n",
      "[33.33266667 33.33266667  1.66733333 20.          5.        ]\n",
      "[33.33266667 33.33266667  5.         33.33266667  5.        ]\n",
      "[33.33266667 33.33266667  5.          6.66733333  5.        ]\n",
      "[33.33266667  6.66733333  8.33266667 33.33266667  5.        ]\n",
      "[33.33266667  6.66733333  8.33266667  6.66733333  5.        ]\n",
      "[37.77688889  6.66733333  1.66733333  6.66733333  5.        ]\n",
      "[28.88844444  6.66733333  1.66733333  6.66733333  5.        ]\n",
      "[33.33266667 11.11155556  1.66733333  6.66733333  5.        ]\n",
      "[33.33266667  2.22311111  1.66733333  6.66733333  5.        ]\n",
      "[33.33266667  6.66733333  2.77822222  6.66733333  5.        ]\n",
      "[33.33266667  6.66733333  0.55644444  6.66733333  5.        ]\n",
      "[33.33266667  6.66733333  1.66733333 11.11155556  5.        ]\n",
      "[33.33266667  6.66733333  1.66733333  2.22311111  5.        ]\n",
      "[33.33266667  2.22311111  1.66733333  6.66733333  5.        ]\n",
      "[38.33241667  2.22311111  1.66733333  6.66733333  5.        ]\n",
      "[38.33241667  3.88969444  1.66733333  6.66733333  5.        ]\n",
      "[33.33266667  0.55652778  1.66733333  6.66733333  5.        ]\n",
      "[3.08327917e+01 1.00000000e-03 1.66733333e+00 6.66733333e+00\n",
      " 5.00000000e+00]\n"
     ]
    },
    {
     "name": "stderr",
     "output_type": "stream",
     "text": [
      "/Users/sam/Dropbox/Research/Modeling/PhD thesis/statsrat/statsrat/latent_cause/__init__.py:218: RuntimeWarning: overflow encountered in exp\n",
      "/Users/sam/Dropbox/Research/Modeling/PhD thesis/statsrat/statsrat/latent_cause/__init__.py:218: RuntimeWarning: invalid value encountered in multiply\n",
      "/Users/sam/Dropbox/Research/Modeling/PhD thesis/statsrat/statsrat/latent_cause/__init__.py:218: RuntimeWarning: overflow encountered in exp\n",
      "/Users/sam/Dropbox/Research/Modeling/PhD thesis/statsrat/statsrat/latent_cause/__init__.py:218: RuntimeWarning: invalid value encountered in multiply\n",
      "/Users/sam/Dropbox/Research/Modeling/PhD thesis/statsrat/statsrat/latent_cause/__init__.py:218: RuntimeWarning: overflow encountered in exp\n",
      "/Users/sam/Dropbox/Research/Modeling/PhD thesis/statsrat/statsrat/latent_cause/__init__.py:218: RuntimeWarning: invalid value encountered in multiply\n",
      "/Users/sam/Dropbox/Research/Modeling/PhD thesis/statsrat/statsrat/latent_cause/__init__.py:218: RuntimeWarning: overflow encountered in exp\n",
      "/Users/sam/Dropbox/Research/Modeling/PhD thesis/statsrat/statsrat/latent_cause/__init__.py:218: RuntimeWarning: invalid value encountered in multiply\n",
      "/Users/sam/Dropbox/Research/Modeling/PhD thesis/statsrat/statsrat/latent_cause/__init__.py:218: RuntimeWarning: overflow encountered in exp\n",
      "/Users/sam/Dropbox/Research/Modeling/PhD thesis/statsrat/statsrat/latent_cause/__init__.py:218: RuntimeWarning: invalid value encountered in multiply\n",
      "/Users/sam/Dropbox/Research/Modeling/PhD thesis/statsrat/statsrat/latent_cause/__init__.py:218: RuntimeWarning: overflow encountered in exp\n",
      "/Users/sam/Dropbox/Research/Modeling/PhD thesis/statsrat/statsrat/latent_cause/__init__.py:218: RuntimeWarning: invalid value encountered in multiply\n",
      "/Users/sam/Dropbox/Research/Modeling/PhD thesis/statsrat/statsrat/latent_cause/__init__.py:218: RuntimeWarning: overflow encountered in exp\n",
      "/Users/sam/Dropbox/Research/Modeling/PhD thesis/statsrat/statsrat/latent_cause/__init__.py:218: RuntimeWarning: invalid value encountered in multiply\n",
      "/Users/sam/Dropbox/Research/Modeling/PhD thesis/statsrat/statsrat/latent_cause/__init__.py:218: RuntimeWarning: overflow encountered in exp\n",
      "/Users/sam/Dropbox/Research/Modeling/PhD thesis/statsrat/statsrat/latent_cause/__init__.py:218: RuntimeWarning: invalid value encountered in multiply\n",
      "/Users/sam/Dropbox/Research/Modeling/PhD thesis/statsrat/statsrat/latent_cause/__init__.py:218: RuntimeWarning: overflow encountered in exp\n",
      "/Users/sam/Dropbox/Research/Modeling/PhD thesis/statsrat/statsrat/latent_cause/__init__.py:218: RuntimeWarning: invalid value encountered in multiply\n",
      "/Users/sam/Dropbox/Research/Modeling/PhD thesis/statsrat/statsrat/latent_cause/__init__.py:218: RuntimeWarning: overflow encountered in exp\n",
      "/Users/sam/Dropbox/Research/Modeling/PhD thesis/statsrat/statsrat/latent_cause/__init__.py:218: RuntimeWarning: invalid value encountered in multiply\n",
      "/Users/sam/Dropbox/Research/Modeling/PhD thesis/statsrat/statsrat/latent_cause/__init__.py:218: RuntimeWarning: overflow encountered in exp\n",
      "/Users/sam/Dropbox/Research/Modeling/PhD thesis/statsrat/statsrat/latent_cause/__init__.py:218: RuntimeWarning: invalid value encountered in multiply\n"
     ]
    },
    {
     "name": "stdout",
     "output_type": "stream",
     "text": [
      "[3.58325417e+01 1.00000000e-03 1.66733333e+00 6.66733333e+00\n",
      " 5.00000000e+00]\n"
     ]
    },
    {
     "name": "stderr",
     "output_type": "stream",
     "text": [
      "/Users/sam/Dropbox/Research/Modeling/PhD thesis/statsrat/statsrat/latent_cause/__init__.py:218: RuntimeWarning: overflow encountered in exp\n",
      "/Users/sam/Dropbox/Research/Modeling/PhD thesis/statsrat/statsrat/latent_cause/__init__.py:218: RuntimeWarning: invalid value encountered in multiply\n",
      "/Users/sam/Dropbox/Research/Modeling/PhD thesis/statsrat/statsrat/latent_cause/__init__.py:218: RuntimeWarning: overflow encountered in exp\n",
      "/Users/sam/Dropbox/Research/Modeling/PhD thesis/statsrat/statsrat/latent_cause/__init__.py:218: RuntimeWarning: invalid value encountered in multiply\n",
      "/Users/sam/Dropbox/Research/Modeling/PhD thesis/statsrat/statsrat/latent_cause/__init__.py:218: RuntimeWarning: overflow encountered in exp\n",
      "/Users/sam/Dropbox/Research/Modeling/PhD thesis/statsrat/statsrat/latent_cause/__init__.py:218: RuntimeWarning: invalid value encountered in multiply\n",
      "/Users/sam/Dropbox/Research/Modeling/PhD thesis/statsrat/statsrat/latent_cause/__init__.py:218: RuntimeWarning: overflow encountered in exp\n",
      "/Users/sam/Dropbox/Research/Modeling/PhD thesis/statsrat/statsrat/latent_cause/__init__.py:218: RuntimeWarning: invalid value encountered in multiply\n",
      "/Users/sam/Dropbox/Research/Modeling/PhD thesis/statsrat/statsrat/latent_cause/__init__.py:218: RuntimeWarning: overflow encountered in exp\n",
      "/Users/sam/Dropbox/Research/Modeling/PhD thesis/statsrat/statsrat/latent_cause/__init__.py:218: RuntimeWarning: invalid value encountered in multiply\n",
      "/Users/sam/Dropbox/Research/Modeling/PhD thesis/statsrat/statsrat/latent_cause/__init__.py:218: RuntimeWarning: overflow encountered in exp\n",
      "/Users/sam/Dropbox/Research/Modeling/PhD thesis/statsrat/statsrat/latent_cause/__init__.py:218: RuntimeWarning: invalid value encountered in multiply\n",
      "/Users/sam/Dropbox/Research/Modeling/PhD thesis/statsrat/statsrat/latent_cause/__init__.py:218: RuntimeWarning: overflow encountered in exp\n",
      "/Users/sam/Dropbox/Research/Modeling/PhD thesis/statsrat/statsrat/latent_cause/__init__.py:218: RuntimeWarning: invalid value encountered in multiply\n",
      "/Users/sam/Dropbox/Research/Modeling/PhD thesis/statsrat/statsrat/latent_cause/__init__.py:218: RuntimeWarning: overflow encountered in exp\n",
      "/Users/sam/Dropbox/Research/Modeling/PhD thesis/statsrat/statsrat/latent_cause/__init__.py:218: RuntimeWarning: invalid value encountered in multiply\n",
      "/Users/sam/Dropbox/Research/Modeling/PhD thesis/statsrat/statsrat/latent_cause/__init__.py:218: RuntimeWarning: overflow encountered in exp\n",
      "/Users/sam/Dropbox/Research/Modeling/PhD thesis/statsrat/statsrat/latent_cause/__init__.py:218: RuntimeWarning: invalid value encountered in multiply\n",
      "/Users/sam/Dropbox/Research/Modeling/PhD thesis/statsrat/statsrat/latent_cause/__init__.py:218: RuntimeWarning: overflow encountered in exp\n",
      "/Users/sam/Dropbox/Research/Modeling/PhD thesis/statsrat/statsrat/latent_cause/__init__.py:218: RuntimeWarning: invalid value encountered in multiply\n",
      "/Users/sam/Dropbox/Research/Modeling/PhD thesis/statsrat/statsrat/latent_cause/__init__.py:218: RuntimeWarning: overflow encountered in exp\n",
      "/Users/sam/Dropbox/Research/Modeling/PhD thesis/statsrat/statsrat/latent_cause/__init__.py:218: RuntimeWarning: invalid value encountered in multiply\n"
     ]
    },
    {
     "name": "stdout",
     "output_type": "stream",
     "text": [
      "[2.83329167e+01 1.00000000e-03 1.66733333e+00 6.66733333e+00\n",
      " 5.00000000e+00]\n"
     ]
    },
    {
     "name": "stderr",
     "output_type": "stream",
     "text": [
      "/Users/sam/Dropbox/Research/Modeling/PhD thesis/statsrat/statsrat/latent_cause/__init__.py:218: RuntimeWarning: overflow encountered in exp\n",
      "/Users/sam/Dropbox/Research/Modeling/PhD thesis/statsrat/statsrat/latent_cause/__init__.py:218: RuntimeWarning: invalid value encountered in multiply\n",
      "/Users/sam/Dropbox/Research/Modeling/PhD thesis/statsrat/statsrat/latent_cause/__init__.py:218: RuntimeWarning: overflow encountered in exp\n",
      "/Users/sam/Dropbox/Research/Modeling/PhD thesis/statsrat/statsrat/latent_cause/__init__.py:218: RuntimeWarning: invalid value encountered in multiply\n",
      "/Users/sam/Dropbox/Research/Modeling/PhD thesis/statsrat/statsrat/latent_cause/__init__.py:218: RuntimeWarning: overflow encountered in exp\n",
      "/Users/sam/Dropbox/Research/Modeling/PhD thesis/statsrat/statsrat/latent_cause/__init__.py:218: RuntimeWarning: invalid value encountered in multiply\n",
      "/Users/sam/Dropbox/Research/Modeling/PhD thesis/statsrat/statsrat/latent_cause/__init__.py:218: RuntimeWarning: overflow encountered in exp\n",
      "/Users/sam/Dropbox/Research/Modeling/PhD thesis/statsrat/statsrat/latent_cause/__init__.py:218: RuntimeWarning: invalid value encountered in multiply\n",
      "/Users/sam/Dropbox/Research/Modeling/PhD thesis/statsrat/statsrat/latent_cause/__init__.py:218: RuntimeWarning: overflow encountered in exp\n",
      "/Users/sam/Dropbox/Research/Modeling/PhD thesis/statsrat/statsrat/latent_cause/__init__.py:218: RuntimeWarning: invalid value encountered in multiply\n",
      "/Users/sam/Dropbox/Research/Modeling/PhD thesis/statsrat/statsrat/latent_cause/__init__.py:218: RuntimeWarning: overflow encountered in exp\n",
      "/Users/sam/Dropbox/Research/Modeling/PhD thesis/statsrat/statsrat/latent_cause/__init__.py:218: RuntimeWarning: invalid value encountered in multiply\n",
      "/Users/sam/Dropbox/Research/Modeling/PhD thesis/statsrat/statsrat/latent_cause/__init__.py:218: RuntimeWarning: overflow encountered in exp\n",
      "/Users/sam/Dropbox/Research/Modeling/PhD thesis/statsrat/statsrat/latent_cause/__init__.py:218: RuntimeWarning: invalid value encountered in multiply\n",
      "/Users/sam/Dropbox/Research/Modeling/PhD thesis/statsrat/statsrat/latent_cause/__init__.py:218: RuntimeWarning: overflow encountered in exp\n",
      "/Users/sam/Dropbox/Research/Modeling/PhD thesis/statsrat/statsrat/latent_cause/__init__.py:218: RuntimeWarning: invalid value encountered in multiply\n"
     ]
    },
    {
     "name": "stdout",
     "output_type": "stream",
     "text": [
      "[3.08327917e+01 1.00000000e-03 1.66733333e+00 6.66733333e+00\n",
      " 5.00000000e+00]\n"
     ]
    },
    {
     "name": "stderr",
     "output_type": "stream",
     "text": [
      "/Users/sam/Dropbox/Research/Modeling/PhD thesis/statsrat/statsrat/latent_cause/__init__.py:218: RuntimeWarning: overflow encountered in exp\n",
      "/Users/sam/Dropbox/Research/Modeling/PhD thesis/statsrat/statsrat/latent_cause/__init__.py:218: RuntimeWarning: invalid value encountered in multiply\n",
      "/Users/sam/Dropbox/Research/Modeling/PhD thesis/statsrat/statsrat/latent_cause/__init__.py:218: RuntimeWarning: overflow encountered in exp\n",
      "/Users/sam/Dropbox/Research/Modeling/PhD thesis/statsrat/statsrat/latent_cause/__init__.py:218: RuntimeWarning: invalid value encountered in multiply\n",
      "/Users/sam/Dropbox/Research/Modeling/PhD thesis/statsrat/statsrat/latent_cause/__init__.py:218: RuntimeWarning: overflow encountered in exp\n",
      "/Users/sam/Dropbox/Research/Modeling/PhD thesis/statsrat/statsrat/latent_cause/__init__.py:218: RuntimeWarning: invalid value encountered in multiply\n",
      "/Users/sam/Dropbox/Research/Modeling/PhD thesis/statsrat/statsrat/latent_cause/__init__.py:218: RuntimeWarning: overflow encountered in exp\n",
      "/Users/sam/Dropbox/Research/Modeling/PhD thesis/statsrat/statsrat/latent_cause/__init__.py:218: RuntimeWarning: invalid value encountered in multiply\n",
      "/Users/sam/Dropbox/Research/Modeling/PhD thesis/statsrat/statsrat/latent_cause/__init__.py:218: RuntimeWarning: overflow encountered in exp\n",
      "/Users/sam/Dropbox/Research/Modeling/PhD thesis/statsrat/statsrat/latent_cause/__init__.py:218: RuntimeWarning: invalid value encountered in multiply\n",
      "/Users/sam/Dropbox/Research/Modeling/PhD thesis/statsrat/statsrat/latent_cause/__init__.py:218: RuntimeWarning: overflow encountered in exp\n",
      "/Users/sam/Dropbox/Research/Modeling/PhD thesis/statsrat/statsrat/latent_cause/__init__.py:218: RuntimeWarning: invalid value encountered in multiply\n",
      "/Users/sam/Dropbox/Research/Modeling/PhD thesis/statsrat/statsrat/latent_cause/__init__.py:218: RuntimeWarning: overflow encountered in exp\n",
      "/Users/sam/Dropbox/Research/Modeling/PhD thesis/statsrat/statsrat/latent_cause/__init__.py:218: RuntimeWarning: invalid value encountered in multiply\n",
      "/Users/sam/Dropbox/Research/Modeling/PhD thesis/statsrat/statsrat/latent_cause/__init__.py:218: RuntimeWarning: overflow encountered in exp\n",
      "/Users/sam/Dropbox/Research/Modeling/PhD thesis/statsrat/statsrat/latent_cause/__init__.py:218: RuntimeWarning: invalid value encountered in multiply\n",
      "/Users/sam/Dropbox/Research/Modeling/PhD thesis/statsrat/statsrat/latent_cause/__init__.py:218: RuntimeWarning: overflow encountered in exp\n",
      "/Users/sam/Dropbox/Research/Modeling/PhD thesis/statsrat/statsrat/latent_cause/__init__.py:218: RuntimeWarning: invalid value encountered in multiply\n",
      "/Users/sam/Dropbox/Research/Modeling/PhD thesis/statsrat/statsrat/latent_cause/__init__.py:218: RuntimeWarning: overflow encountered in exp\n",
      "/Users/sam/Dropbox/Research/Modeling/PhD thesis/statsrat/statsrat/latent_cause/__init__.py:218: RuntimeWarning: invalid value encountered in multiply\n"
     ]
    },
    {
     "name": "stdout",
     "output_type": "stream",
     "text": [
      "[37.08247917  1.11205556  1.66733333  6.66733333  5.        ]\n",
      "[3.33326667e+01 1.00000000e-03 1.66733333e+00 6.66733333e+00\n",
      " 5.00000000e+00]\n"
     ]
    },
    {
     "name": "stderr",
     "output_type": "stream",
     "text": [
      "/Users/sam/Dropbox/Research/Modeling/PhD thesis/statsrat/statsrat/latent_cause/__init__.py:218: RuntimeWarning: overflow encountered in exp\n",
      "/Users/sam/Dropbox/Research/Modeling/PhD thesis/statsrat/statsrat/latent_cause/__init__.py:218: RuntimeWarning: invalid value encountered in multiply\n",
      "/Users/sam/Dropbox/Research/Modeling/PhD thesis/statsrat/statsrat/latent_cause/__init__.py:218: RuntimeWarning: overflow encountered in exp\n",
      "/Users/sam/Dropbox/Research/Modeling/PhD thesis/statsrat/statsrat/latent_cause/__init__.py:218: RuntimeWarning: invalid value encountered in multiply\n",
      "/Users/sam/Dropbox/Research/Modeling/PhD thesis/statsrat/statsrat/latent_cause/__init__.py:218: RuntimeWarning: overflow encountered in exp\n",
      "/Users/sam/Dropbox/Research/Modeling/PhD thesis/statsrat/statsrat/latent_cause/__init__.py:218: RuntimeWarning: invalid value encountered in multiply\n",
      "/Users/sam/Dropbox/Research/Modeling/PhD thesis/statsrat/statsrat/latent_cause/__init__.py:218: RuntimeWarning: overflow encountered in exp\n",
      "/Users/sam/Dropbox/Research/Modeling/PhD thesis/statsrat/statsrat/latent_cause/__init__.py:218: RuntimeWarning: invalid value encountered in multiply\n",
      "/Users/sam/Dropbox/Research/Modeling/PhD thesis/statsrat/statsrat/latent_cause/__init__.py:218: RuntimeWarning: overflow encountered in exp\n",
      "/Users/sam/Dropbox/Research/Modeling/PhD thesis/statsrat/statsrat/latent_cause/__init__.py:218: RuntimeWarning: invalid value encountered in multiply\n",
      "/Users/sam/Dropbox/Research/Modeling/PhD thesis/statsrat/statsrat/latent_cause/__init__.py:218: RuntimeWarning: overflow encountered in exp\n",
      "/Users/sam/Dropbox/Research/Modeling/PhD thesis/statsrat/statsrat/latent_cause/__init__.py:218: RuntimeWarning: invalid value encountered in multiply\n",
      "/Users/sam/Dropbox/Research/Modeling/PhD thesis/statsrat/statsrat/latent_cause/__init__.py:218: RuntimeWarning: overflow encountered in exp\n",
      "/Users/sam/Dropbox/Research/Modeling/PhD thesis/statsrat/statsrat/latent_cause/__init__.py:218: RuntimeWarning: invalid value encountered in multiply\n",
      "/Users/sam/Dropbox/Research/Modeling/PhD thesis/statsrat/statsrat/latent_cause/__init__.py:218: RuntimeWarning: overflow encountered in exp\n",
      "/Users/sam/Dropbox/Research/Modeling/PhD thesis/statsrat/statsrat/latent_cause/__init__.py:218: RuntimeWarning: invalid value encountered in multiply\n",
      "/Users/sam/Dropbox/Research/Modeling/PhD thesis/statsrat/statsrat/latent_cause/__init__.py:218: RuntimeWarning: overflow encountered in exp\n",
      "/Users/sam/Dropbox/Research/Modeling/PhD thesis/statsrat/statsrat/latent_cause/__init__.py:218: RuntimeWarning: invalid value encountered in multiply\n",
      "/Users/sam/Dropbox/Research/Modeling/PhD thesis/statsrat/statsrat/latent_cause/__init__.py:218: RuntimeWarning: overflow encountered in exp\n",
      "/Users/sam/Dropbox/Research/Modeling/PhD thesis/statsrat/statsrat/latent_cause/__init__.py:218: RuntimeWarning: invalid value encountered in multiply\n"
     ]
    },
    {
     "name": "stdout",
     "output_type": "stream",
     "text": [
      "[3.20827292e+01 1.00000000e-03 1.66733333e+00 6.66733333e+00\n",
      " 5.00000000e+00]\n"
     ]
    },
    {
     "name": "stderr",
     "output_type": "stream",
     "text": [
      "/Users/sam/Dropbox/Research/Modeling/PhD thesis/statsrat/statsrat/latent_cause/__init__.py:218: RuntimeWarning: overflow encountered in exp\n",
      "/Users/sam/Dropbox/Research/Modeling/PhD thesis/statsrat/statsrat/latent_cause/__init__.py:218: RuntimeWarning: invalid value encountered in multiply\n",
      "/Users/sam/Dropbox/Research/Modeling/PhD thesis/statsrat/statsrat/latent_cause/__init__.py:218: RuntimeWarning: overflow encountered in exp\n",
      "/Users/sam/Dropbox/Research/Modeling/PhD thesis/statsrat/statsrat/latent_cause/__init__.py:218: RuntimeWarning: invalid value encountered in multiply\n",
      "/Users/sam/Dropbox/Research/Modeling/PhD thesis/statsrat/statsrat/latent_cause/__init__.py:218: RuntimeWarning: overflow encountered in exp\n",
      "/Users/sam/Dropbox/Research/Modeling/PhD thesis/statsrat/statsrat/latent_cause/__init__.py:218: RuntimeWarning: invalid value encountered in multiply\n",
      "/Users/sam/Dropbox/Research/Modeling/PhD thesis/statsrat/statsrat/latent_cause/__init__.py:218: RuntimeWarning: overflow encountered in exp\n",
      "/Users/sam/Dropbox/Research/Modeling/PhD thesis/statsrat/statsrat/latent_cause/__init__.py:218: RuntimeWarning: invalid value encountered in multiply\n",
      "/Users/sam/Dropbox/Research/Modeling/PhD thesis/statsrat/statsrat/latent_cause/__init__.py:218: RuntimeWarning: overflow encountered in exp\n",
      "/Users/sam/Dropbox/Research/Modeling/PhD thesis/statsrat/statsrat/latent_cause/__init__.py:218: RuntimeWarning: invalid value encountered in multiply\n",
      "/Users/sam/Dropbox/Research/Modeling/PhD thesis/statsrat/statsrat/latent_cause/__init__.py:218: RuntimeWarning: overflow encountered in exp\n",
      "/Users/sam/Dropbox/Research/Modeling/PhD thesis/statsrat/statsrat/latent_cause/__init__.py:218: RuntimeWarning: invalid value encountered in multiply\n",
      "/Users/sam/Dropbox/Research/Modeling/PhD thesis/statsrat/statsrat/latent_cause/__init__.py:218: RuntimeWarning: overflow encountered in exp\n",
      "/Users/sam/Dropbox/Research/Modeling/PhD thesis/statsrat/statsrat/latent_cause/__init__.py:218: RuntimeWarning: invalid value encountered in multiply\n",
      "/Users/sam/Dropbox/Research/Modeling/PhD thesis/statsrat/statsrat/latent_cause/__init__.py:218: RuntimeWarning: overflow encountered in exp\n",
      "/Users/sam/Dropbox/Research/Modeling/PhD thesis/statsrat/statsrat/latent_cause/__init__.py:218: RuntimeWarning: invalid value encountered in multiply\n",
      "/Users/sam/Dropbox/Research/Modeling/PhD thesis/statsrat/statsrat/latent_cause/__init__.py:218: RuntimeWarning: overflow encountered in exp\n",
      "/Users/sam/Dropbox/Research/Modeling/PhD thesis/statsrat/statsrat/latent_cause/__init__.py:218: RuntimeWarning: invalid value encountered in multiply\n",
      "/Users/sam/Dropbox/Research/Modeling/PhD thesis/statsrat/statsrat/latent_cause/__init__.py:218: RuntimeWarning: overflow encountered in exp\n",
      "/Users/sam/Dropbox/Research/Modeling/PhD thesis/statsrat/statsrat/latent_cause/__init__.py:218: RuntimeWarning: invalid value encountered in multiply\n"
     ]
    },
    {
     "name": "stdout",
     "output_type": "stream",
     "text": [
      "[3.33326667e+01 1.00000000e-03 1.66733333e+00 6.66733333e+00\n",
      " 5.00000000e+00]\n"
     ]
    },
    {
     "name": "stderr",
     "output_type": "stream",
     "text": [
      "/Users/sam/Dropbox/Research/Modeling/PhD thesis/statsrat/statsrat/latent_cause/__init__.py:218: RuntimeWarning: overflow encountered in exp\n",
      "/Users/sam/Dropbox/Research/Modeling/PhD thesis/statsrat/statsrat/latent_cause/__init__.py:218: RuntimeWarning: invalid value encountered in multiply\n",
      "/Users/sam/Dropbox/Research/Modeling/PhD thesis/statsrat/statsrat/latent_cause/__init__.py:218: RuntimeWarning: overflow encountered in exp\n",
      "/Users/sam/Dropbox/Research/Modeling/PhD thesis/statsrat/statsrat/latent_cause/__init__.py:218: RuntimeWarning: invalid value encountered in multiply\n",
      "/Users/sam/Dropbox/Research/Modeling/PhD thesis/statsrat/statsrat/latent_cause/__init__.py:218: RuntimeWarning: overflow encountered in exp\n",
      "/Users/sam/Dropbox/Research/Modeling/PhD thesis/statsrat/statsrat/latent_cause/__init__.py:218: RuntimeWarning: invalid value encountered in multiply\n",
      "/Users/sam/Dropbox/Research/Modeling/PhD thesis/statsrat/statsrat/latent_cause/__init__.py:218: RuntimeWarning: overflow encountered in exp\n",
      "/Users/sam/Dropbox/Research/Modeling/PhD thesis/statsrat/statsrat/latent_cause/__init__.py:218: RuntimeWarning: invalid value encountered in multiply\n",
      "/Users/sam/Dropbox/Research/Modeling/PhD thesis/statsrat/statsrat/latent_cause/__init__.py:218: RuntimeWarning: overflow encountered in exp\n",
      "/Users/sam/Dropbox/Research/Modeling/PhD thesis/statsrat/statsrat/latent_cause/__init__.py:218: RuntimeWarning: invalid value encountered in multiply\n",
      "/Users/sam/Dropbox/Research/Modeling/PhD thesis/statsrat/statsrat/latent_cause/__init__.py:218: RuntimeWarning: overflow encountered in exp\n",
      "/Users/sam/Dropbox/Research/Modeling/PhD thesis/statsrat/statsrat/latent_cause/__init__.py:218: RuntimeWarning: invalid value encountered in multiply\n",
      "/Users/sam/Dropbox/Research/Modeling/PhD thesis/statsrat/statsrat/latent_cause/__init__.py:218: RuntimeWarning: overflow encountered in exp\n",
      "/Users/sam/Dropbox/Research/Modeling/PhD thesis/statsrat/statsrat/latent_cause/__init__.py:218: RuntimeWarning: invalid value encountered in multiply\n",
      "/Users/sam/Dropbox/Research/Modeling/PhD thesis/statsrat/statsrat/latent_cause/__init__.py:218: RuntimeWarning: overflow encountered in exp\n",
      "/Users/sam/Dropbox/Research/Modeling/PhD thesis/statsrat/statsrat/latent_cause/__init__.py:218: RuntimeWarning: invalid value encountered in multiply\n",
      "/Users/sam/Dropbox/Research/Modeling/PhD thesis/statsrat/statsrat/latent_cause/__init__.py:218: RuntimeWarning: overflow encountered in exp\n",
      "/Users/sam/Dropbox/Research/Modeling/PhD thesis/statsrat/statsrat/latent_cause/__init__.py:218: RuntimeWarning: invalid value encountered in multiply\n"
     ]
    }
   ],
   "source": [
    "oat_result = sr.perform_oat(model, blocking, verbose = True, max_time = 30, minimize = True)\n",
    "print(np.round(oat_result[0], 3))\n",
    "print(np.round(oat_result[1], 3))"
   ]
  },
  {
   "cell_type": "code",
   "execution_count": null,
   "metadata": {},
   "outputs": [],
   "source": []
  }
 ],
 "metadata": {
  "kernelspec": {
   "display_name": "Python 3",
   "language": "python",
   "name": "python3"
  },
  "language_info": {
   "codemirror_mode": {
    "name": "ipython",
    "version": 3
   },
   "file_extension": ".py",
   "mimetype": "text/x-python",
   "name": "python",
   "nbconvert_exporter": "python",
   "pygments_lexer": "ipython3",
   "version": "3.8.5"
  }
 },
 "nbformat": 4,
 "nbformat_minor": 4
}
