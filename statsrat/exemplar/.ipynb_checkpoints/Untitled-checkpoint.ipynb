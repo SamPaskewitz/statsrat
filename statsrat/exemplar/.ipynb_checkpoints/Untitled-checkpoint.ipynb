{
 "cells": [
  {
   "cell_type": "code",
   "execution_count": 1,
   "metadata": {},
   "outputs": [],
   "source": [
    "import numpy as np\n",
    "import pandas as pd\n",
    "import statsrat as sr\n",
    "import nlopt\n",
    "from statsrat import expr\n",
    "from statsrat.expr.predef.kitten import lrn_pred\n",
    "from statsrat.expr.predef.pvl_iti import extinction, renewal, reinstatement, blocking, latent_inhib, cs_score, cs2_score\n",
    "import statsrat.exemplar as exemplar"
   ]
  },
  {
   "cell_type": "code",
   "execution_count": 2,
   "metadata": {},
   "outputs": [
    {
     "name": "stdout",
     "output_type": "stream",
     "text": [
      "['us', 'us']\n",
      "['us', 'us']\n",
      "None\n"
     ]
    }
   ],
   "source": [
    "#print(help(cs2_score))\n",
    "print(cs_score.resp_pos)\n",
    "print(cs2_score.resp_pos)\n",
    "print(cs2_score.resp_neg)"
   ]
  },
  {
   "cell_type": "code",
   "execution_count": 6,
   "metadata": {},
   "outputs": [],
   "source": [
    "# extinction with delay (in the home cage, i.e. a separate context) before test\n",
    "extn_delay = expr.schedule(name = 'extinction_delay',\n",
    "                        resp_type = 'exct',\n",
    "                                   stage_list = [\n",
    "                                       expr.stage(name = 'intro',\n",
    "                                              x_pn = [[]],\n",
    "                                              x_bg = ['ctx', 'time'],\n",
    "                                              x_value = pd.Series({'ctx': 1.0, 'time': 0.0}),\n",
    "                                              u_psb = ['us'],\n",
    "                                              order_fixed = True,\n",
    "                                              iti = 5,\n",
    "                                              n_rep = 5),\n",
    "                                       expr.stage(name = 'training',\n",
    "                                             x_pn = [['cs']],\n",
    "                                             x_bg = ['ctx', 'time'],\n",
    "                                             x_value = pd.Series({'cs': 1.0, 'ctx': 1.0, 'time': 1.0}),\n",
    "                                             u = [['us']],\n",
    "                                             u_psb = ['us'],\n",
    "                                             order_fixed = True, \n",
    "                                             iti = 5,\n",
    "                                             n_rep = 5),\n",
    "                                       expr.stage(name = 'extinction',\n",
    "                                             x_pn = [['cs']],\n",
    "                                             x_bg = ['ctx', 'time'],\n",
    "                                             x_value = pd.Series({'cs': 1.0, 'ctx': 1.0, 'time': 2.0}),\n",
    "                                             u_psb = ['us'],\n",
    "                                             order_fixed = True,\n",
    "                                             iti = 5,\n",
    "                                             n_rep = 5),\n",
    "                                       expr.stage(name = 'delay',\n",
    "                                             x_pn = [[]],\n",
    "                                             x_bg = ['home_cage', 'time'],\n",
    "                                             x_value = pd.Series({'home_cage': 1.0, 'time': 3.0}),\n",
    "                                             u_psb = ['us'],\n",
    "                                             order_fixed = True,\n",
    "                                             iti = 0,\n",
    "                                             n_rep = 25),\n",
    "                                       expr.stage(name = 'test',\n",
    "                                             x_pn = [['cs']],\n",
    "                                             x_bg = ['ctx', 'time'],\n",
    "                                             x_value = pd.Series({'cs': 1.0, 'ctx': 1.0, 'time': 4.0}),\n",
    "                                             u_psb = ['us'],\n",
    "                                             order_fixed = True,\n",
    "                                             iti = 5,\n",
    "                                             n_rep = 5)\n",
    "                                   ])\n",
    "\n",
    "# delay (in the home cage, i.e. a separate context) before test\n",
    "delay = expr.schedule(name = 'extinction_delay',\n",
    "                      resp_type = 'exct',\n",
    "                       stage_list = [\n",
    "                           expr.stage(name = 'intro',\n",
    "                                  x_pn = [[]],\n",
    "                                  x_bg = ['ctx', 'time'],\n",
    "                                  x_value = pd.Series({'ctx': 1.0, 'time': 0.0}),\n",
    "                                  u_psb = ['us'],\n",
    "                                  order_fixed = True,\n",
    "                                  iti = 5,\n",
    "                                  n_rep = 5),\n",
    "                           expr.stage(name = 'training',\n",
    "                                 x_pn = [['cs']],\n",
    "                                 x_bg = ['ctx', 'time'],\n",
    "                                 x_value = pd.Series({'cs': 1.0, 'ctx': 1.0, 'time': 1.0}),\n",
    "                                 u = [['us']],\n",
    "                                 u_psb = ['us'],\n",
    "                                 order_fixed = True, \n",
    "                                 iti = 5,\n",
    "                                 n_rep = 5),\n",
    "                           expr.stage(name = 'delay',\n",
    "                                 x_pn = [[]],\n",
    "                                 x_bg = ['home_cage', 'time'],\n",
    "                                 x_value = pd.Series({'home_cage': 1.0, 'time': 3.0}),\n",
    "                                 u_psb = ['us'],\n",
    "                                 order_fixed = True,\n",
    "                                 iti = 0,\n",
    "                                 n_rep = 25),\n",
    "                           expr.stage(name = 'test',\n",
    "                                 x_pn = [['cs']],\n",
    "                                 x_bg = ['ctx', 'time'],\n",
    "                                 x_value = pd.Series({'cs': 1.0, 'ctx': 1.0, 'time': 4.0}),\n",
    "                                 u_psb = ['us'],\n",
    "                                 order_fixed = True,\n",
    "                                 iti = 5,\n",
    "                                 n_rep = 5)\n",
    "                       ])\n",
    "foo = expr.experiment(schedules = {'extn_delay': extn_delay, 'delay': delay}, oats = None)\n",
    "trials = foo.make_trials('extn_delay')"
   ]
  },
  {
   "cell_type": "code",
   "execution_count": 7,
   "metadata": {},
   "outputs": [],
   "source": [
    "model = exemplar.model(name = 'basic',\n",
    "                       sim = exemplar.sim.Gaussian,\n",
    "                       atn_update = exemplar.atn_update.null,\n",
    "                       lrate = exemplar.lrate.only_max)\n",
    "                       #lrate = exemplar.lrate.from_sim) # This produces strange results, at least for Pavlovian conditioning."
   ]
  },
  {
   "cell_type": "code",
   "execution_count": 9,
   "metadata": {},
   "outputs": [
    {
     "ename": "NameError",
     "evalue": "name 'resp_type' is not defined",
     "output_type": "error",
     "traceback": [
      "\u001b[0;31m---------------------------------------------------------------------------\u001b[0m",
      "\u001b[0;31mNameError\u001b[0m                                 Traceback (most recent call last)",
      "\u001b[0;32m<ipython-input-9-f54937c8195f>\u001b[0m in \u001b[0;36m<module>\u001b[0;34m\u001b[0m\n\u001b[1;32m      4\u001b[0m \u001b[0;31m#print(init_atn)\u001b[0m\u001b[0;34m\u001b[0m\u001b[0;34m\u001b[0m\u001b[0;34m\u001b[0m\u001b[0m\n\u001b[1;32m      5\u001b[0m \u001b[0;31m#print(help(sr.learn_plot))\u001b[0m\u001b[0;34m\u001b[0m\u001b[0;34m\u001b[0m\u001b[0;34m\u001b[0m\u001b[0m\n\u001b[0;32m----> 6\u001b[0;31m \u001b[0mds\u001b[0m \u001b[0;34m=\u001b[0m \u001b[0mmodel\u001b[0m\u001b[0;34m.\u001b[0m\u001b[0msimulate\u001b[0m\u001b[0;34m(\u001b[0m\u001b[0mtrials\u001b[0m\u001b[0;34m,\u001b[0m \u001b[0minit_atn\u001b[0m \u001b[0;34m=\u001b[0m \u001b[0minit_atn\u001b[0m\u001b[0;34m)\u001b[0m\u001b[0;34m\u001b[0m\u001b[0;34m\u001b[0m\u001b[0m\n\u001b[0m\u001b[1;32m      7\u001b[0m \u001b[0msr\u001b[0m\u001b[0;34m.\u001b[0m\u001b[0mlearn_plot\u001b[0m\u001b[0;34m(\u001b[0m\u001b[0mds\u001b[0m\u001b[0;34m,\u001b[0m \u001b[0mvar\u001b[0m \u001b[0;34m=\u001b[0m \u001b[0;34m'b_hat'\u001b[0m\u001b[0;34m,\u001b[0m \u001b[0monly_main\u001b[0m \u001b[0;34m=\u001b[0m \u001b[0;32mTrue\u001b[0m\u001b[0;34m)\u001b[0m\u001b[0;34m\u001b[0m\u001b[0;34m\u001b[0m\u001b[0m\n\u001b[1;32m      8\u001b[0m \u001b[0;31m#sr.learn_plot(ds, var = 'u_hat', only_main = True)\u001b[0m\u001b[0;34m\u001b[0m\u001b[0;34m\u001b[0m\u001b[0;34m\u001b[0m\u001b[0m\n",
      "\u001b[0;32m~/Dropbox/Research/Modeling/PhD thesis/statsrat/statsrat/exemplar/__init__.py\u001b[0m in \u001b[0;36msimulate\u001b[0;34m(self, trials, par_val, init_atn, random_resp, ident)\u001b[0m\n\u001b[1;32m    213\u001b[0m                                  \u001b[0;34m'model_class'\u001b[0m \u001b[0;34m:\u001b[0m \u001b[0;34m'rw'\u001b[0m\u001b[0;34m,\u001b[0m\u001b[0;34m\u001b[0m\u001b[0;34m\u001b[0m\u001b[0m\n\u001b[1;32m    214\u001b[0m                                  \u001b[0;34m'schedule'\u001b[0m \u001b[0;34m:\u001b[0m \u001b[0mtrials\u001b[0m\u001b[0;34m.\u001b[0m\u001b[0mattrs\u001b[0m\u001b[0;34m[\u001b[0m\u001b[0;34m'schedule'\u001b[0m\u001b[0;34m]\u001b[0m\u001b[0;34m,\u001b[0m\u001b[0;34m\u001b[0m\u001b[0;34m\u001b[0m\u001b[0m\n\u001b[0;32m--> 215\u001b[0;31m                                  \u001b[0;34m'resp_type'\u001b[0m \u001b[0;34m:\u001b[0m \u001b[0mresp_type\u001b[0m\u001b[0;34m,\u001b[0m\u001b[0;34m\u001b[0m\u001b[0;34m\u001b[0m\u001b[0m\n\u001b[0m\u001b[1;32m    216\u001b[0m                                  'sim_pars' : sim_pars})\n\u001b[1;32m    217\u001b[0m \u001b[0;34m\u001b[0m\u001b[0m\n",
      "\u001b[0;31mNameError\u001b[0m: name 'resp_type' is not defined"
     ]
    }
   ],
   "source": [
    "init_atn = pd.DataFrame(1.0, index = trials.ex.index, columns = trials['x_name'].values)\n",
    "init_atn['time'] = 0.01\n",
    "init_atn.loc[['ctx.time2.0.cs', 'ctx.time2.0'], 'time'] = 1.0\n",
    "#print(init_atn)\n",
    "#print(help(sr.learn_plot))\n",
    "ds = model.simulate(trials, init_atn = init_atn)\n",
    "sr.learn_plot(ds, var = 'b_hat', only_main = True)\n",
    "#sr.learn_plot(ds, var = 'u_hat', only_main = True)\n",
    "#sr.learn_plot(ds, var = 'u_ex')"
   ]
  },
  {
   "cell_type": "code",
   "execution_count": null,
   "metadata": {},
   "outputs": [],
   "source": [
    "print(trials.resp_type)"
   ]
  },
  {
   "cell_type": "code",
   "execution_count": null,
   "metadata": {},
   "outputs": [],
   "source": [
    "#max_time = 5\n",
    "max_time = 30\n",
    "algorithm = nlopt.GN_DIRECT_L\n",
    "#algorithm = nlopt.GN_AGS\n",
    "#algorithm = nlopt.GN_ORIG_DIRECT\n",
    "#algorithm = nlopt.GD_STOGO"
   ]
  },
  {
   "cell_type": "code",
   "execution_count": null,
   "metadata": {},
   "outputs": [],
   "source": [
    "print('\\n learned predictiveness')\n",
    "oat_result = sr.perform_oat(model, lrn_pred, n = 1, max_time = max_time, algorithm = algorithm, minimize = False)\n",
    "print(oat_result[0].round(3))\n",
    "print(oat_result[1])"
   ]
  },
  {
   "cell_type": "code",
   "execution_count": null,
   "metadata": {},
   "outputs": [],
   "source": [
    "print('\\n blocking')\n",
    "oat_result = sr.perform_oat(model, blocking, n = 1, max_time = max_time, algorithm = algorithm, minimize = False)\n",
    "print(oat_result[0].round(3))\n",
    "print(oat_result[1])"
   ]
  },
  {
   "cell_type": "code",
   "execution_count": null,
   "metadata": {},
   "outputs": [],
   "source": [
    "print('\\n latent inhibition')\n",
    "oat_result = sr.perform_oat(model, latent_inhib, n = 1, max_time = max_time, algorithm = algorithm, minimize = False)\n",
    "print(oat_result[0].round(3))\n",
    "print(oat_result[1])"
   ]
  },
  {
   "cell_type": "code",
   "execution_count": null,
   "metadata": {},
   "outputs": [],
   "source": [
    "foo = {'a': 9, 'b': 'Io'}\n",
    "for f in foo:\n",
    "    print(f)"
   ]
  },
  {
   "cell_type": "code",
   "execution_count": null,
   "metadata": {},
   "outputs": [],
   "source": []
  }
 ],
 "metadata": {
  "kernelspec": {
   "display_name": "Python 3",
   "language": "python",
   "name": "python3"
  },
  "language_info": {
   "codemirror_mode": {
    "name": "ipython",
    "version": 3
   },
   "file_extension": ".py",
   "mimetype": "text/x-python",
   "name": "python",
   "nbconvert_exporter": "python",
   "pygments_lexer": "ipython3",
   "version": "3.8.5"
  }
 },
 "nbformat": 4,
 "nbformat_minor": 4
}
