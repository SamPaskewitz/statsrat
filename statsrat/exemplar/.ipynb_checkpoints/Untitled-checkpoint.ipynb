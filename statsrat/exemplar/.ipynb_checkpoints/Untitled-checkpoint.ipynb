{
 "cells": [
  {
   "cell_type": "code",
   "execution_count": 11,
   "metadata": {},
   "outputs": [],
   "source": [
    "import numpy as np\n",
    "from statsrat.expr.predef.kitten import lrn_pred"
   ]
  },
  {
   "cell_type": "code",
   "execution_count": null,
   "metadata": {},
   "outputs": [],
   "source": [
    "quz = lrn_pred.make_trials()\n",
    "print(quz)"
   ]
  },
  {
   "cell_type": "code",
   "execution_count": 2,
   "metadata": {},
   "outputs": [
    {
     "name": "stdout",
     "output_type": "stream",
     "text": [
      "[[1. 1. 0.]\n",
      " [0. 0. 0.]\n",
      " [0. 0. 0.]\n",
      " [0. 1. 0.]]\n"
     ]
    }
   ],
   "source": [
    "foo = np.zeros((4, 3))\n",
    "foo[0, :] = [1, 1, 0]\n",
    "foo[[1,2], :] = [0, 0, 0]\n",
    "foo[3, :] = [0, 1, 0]\n",
    "print(foo)"
   ]
  },
  {
   "cell_type": "code",
   "execution_count": 7,
   "metadata": {},
   "outputs": [],
   "source": [
    "bar = np.unique(foo, axis = 0)"
   ]
  },
  {
   "cell_type": "code",
   "execution_count": 9,
   "metadata": {},
   "outputs": [
    {
     "name": "stdout",
     "output_type": "stream",
     "text": [
      "[0. 0. 0.]\n"
     ]
    }
   ],
   "source": [
    "print(str(bar[0, :]))"
   ]
  },
  {
   "cell_type": "code",
   "execution_count": 24,
   "metadata": {},
   "outputs": [
    {
     "ename": "TypeError",
     "evalue": "only integer scalar arrays can be converted to a scalar index",
     "output_type": "error",
     "traceback": [
      "\u001b[0;31m---------------------------------------------------------------------------\u001b[0m",
      "\u001b[0;31mTypeError\u001b[0m                                 Traceback (most recent call last)",
      "\u001b[0;32m<ipython-input-24-b8f142bc6f36>\u001b[0m in \u001b[0;36m<module>\u001b[0;34m\u001b[0m\n\u001b[1;32m      1\u001b[0m \u001b[0ma\u001b[0m \u001b[0;34m=\u001b[0m \u001b[0mlrn_pred\u001b[0m\u001b[0;34m.\u001b[0m\u001b[0mschedules\u001b[0m\u001b[0;34m[\u001b[0m\u001b[0;34m'design'\u001b[0m\u001b[0;34m]\u001b[0m\u001b[0;34m.\u001b[0m\u001b[0mx_names\u001b[0m\u001b[0;34m\u001b[0m\u001b[0;34m\u001b[0m\u001b[0m\n\u001b[0;32m----> 2\u001b[0;31m \u001b[0mb\u001b[0m \u001b[0;34m=\u001b[0m \u001b[0ma\u001b[0m\u001b[0;34m[\u001b[0m\u001b[0mbar\u001b[0m\u001b[0;34m[\u001b[0m\u001b[0;36m0\u001b[0m\u001b[0;34m,\u001b[0m\u001b[0;34m]\u001b[0m\u001b[0;34m]\u001b[0m\u001b[0;34m\u001b[0m\u001b[0;34m\u001b[0m\u001b[0m\n\u001b[0m\u001b[1;32m      3\u001b[0m \u001b[0mprint\u001b[0m\u001b[0;34m(\u001b[0m\u001b[0mb\u001b[0m\u001b[0;34m)\u001b[0m\u001b[0;34m\u001b[0m\u001b[0;34m\u001b[0m\u001b[0m\n",
      "\u001b[0;31mTypeError\u001b[0m: only integer scalar arrays can be converted to a scalar index"
     ]
    }
   ],
   "source": [
    "a = lrn_pred.schedules['design'].x_names\n",
    "b = a[bar[0,]]\n",
    "print(b)"
   ]
  },
  {
   "cell_type": "code",
   "execution_count": 23,
   "metadata": {},
   "outputs": [
    {
     "name": "stdout",
     "output_type": "stream",
     "text": [
      "Help on schedule in module statsrat.expr object:\n",
      "\n",
      "class schedule(builtins.object)\n",
      " |  schedule(name, stage_list, x_dims=None)\n",
      " |  \n",
      " |  Class to represent an experimental schedule, i.e. a scheme of\n",
      " |  related stimuli and outcomes given to a group of learners.\n",
      " |  \n",
      " |  Attributes\n",
      " |  ----------\n",
      " |  name: str\n",
      " |      The schedule's name.\n",
      " |  stage_list: list\n",
      " |      List of dictionaries defining the schedule's stages.\n",
      " |  trial_def: data frame\n",
      " |      Defines the trial types implied by 'stage_list'.\n",
      " |  x_names: list of str\n",
      " |      List specifying the names of cues (stimulus attributes).\n",
      " |  x_dims: dict or None\n",
      " |          If not None, then a dictionary specifying the cues belonging to\n",
      " |          each stimulus dimension.  Keys are dimension names and values\n",
      " |          are cue names (i.e. 'x_names').\n",
      " |  dim_names: list of str or None\n",
      " |      Names of stimulus dimensions.\n",
      " |  u_names: list of str\n",
      " |      List specifying the names of outcomes.\n",
      " |  n_stage: int\n",
      " |      The number of stages.\n",
      " |  n_x: int\n",
      " |      The number of cues.\n",
      " |  n_dim: int or None\n",
      " |      The number of stimulus dimensions.\n",
      " |  n_u: int\n",
      " |      The number of outcomes.\n",
      " |  n_t: int\n",
      " |      The number of time steps in the entire schedule.\n",
      " |  \n",
      " |  Notes\n",
      " |  -----\n",
      " |  In an experiment with several between subjects conditions, each such\n",
      " |  condition corresponds to a schedule.\n",
      " |  \n",
      " |  Experiments without any between subjects conditions only have a\n",
      " |  single schedule.\n",
      " |  \n",
      " |  Each schedule is composed of several stages, as described in the\n",
      " |  documentation for the '__init__' method below.\n",
      " |  \n",
      " |  Stimulus dimensions (specified by the 'x_dims' attribute) are sets\n",
      " |  of related cues, e.g. the cues 'red', 'blue' and 'yellow' might\n",
      " |  all belong to the dimension 'color'.  This is optional information\n",
      " |  that is used by certain learning models.\n",
      " |  \n",
      " |  In trial_def and trials dataset objects, 't' is the dimension that\n",
      " |  indicates time steps (it is simply an ascending integer).  't_name',\n",
      " |  'trial', 'trial_name', 'stage' and 'stage_name' are all alternative\n",
      " |  labels for the time dimension.  Because xarray does not fully support\n",
      " |  multi-indexing (e.g. vectorized indexing doesn't work, at least in\n",
      " |  v0.15.1), these other time labels are specified as separate data\n",
      " |  variable instead of coordinates of the time dimension alongside 't'.\n",
      " |  \n",
      " |  Data variables of trial_def and trials dataset objects:\n",
      " |  x: float\n",
      " |      Stimulus attributes, i.e. cues.  Absent cues are indicated by 0.0\n",
      " |      and present cues by 1.0.\n",
      " |  u: float\n",
      " |      Outcomes, e.g. unconditioned stimuli or category labels.  A value\n",
      " |      of 0.0 indicates that an outcome does not occur.\n",
      " |  u_psb: float\n",
      " |      Indicates whether an outcome is possible (1.0) or not possible\n",
      " |      (0.0) as far as the learner knows.  The learner will not try to\n",
      " |      predict outcomes that it knows are not possible.\n",
      " |  u_lrn: float\n",
      " |      Indicates whether learning about each outcome should occur (1.0) or\n",
      " |      not (0.0).  Should be 0.0 only for test stages without feedback in\n",
      " |      human experiments.\n",
      " |  \n",
      " |  Coordinate variables of trial_def and trials dataset objects:\n",
      " |  t: int\n",
      " |      Time step dimension.\n",
      " |  t_name: str\n",
      " |      Alternative coordinates for time steps (dimension t).\n",
      " |      Labels time steps as 'main' when at least one punctate cue is present\n",
      " |      and 'bg' ('background') otherwise (e.g. during the inter-trial\n",
      " |      interval).\n",
      " |  trial: int\n",
      " |      Alternative coordinates for time steps (dimension t).\n",
      " |      Each trial consists of one or more time steps.  This indicates\n",
      " |      which time steps correspond to each trial.  The ITI (inter-trial\n",
      " |      interval) is considered part of the trial that it precedes.\n",
      " |  trial_name: str\n",
      " |      Alternative coordinates for time steps (dimension t).\n",
      " |      Name of the trial type.  Has the form 'cues -> outcomes'.\n",
      " |  stage : int\n",
      " |      Alternative coordinates for time steps (dimension t).\n",
      " |      Indicates experimental stage by order.\n",
      " |  stage_name: str\n",
      " |      Alternative coordinates for time steps (dimension t).\n",
      " |      Indicates experimental stage by name.\n",
      " |  u_name: str\n",
      " |      Outcome/CS/response dimension.\n",
      " |  x_name: str\n",
      " |      Cue name dimension.\n",
      " |  \n",
      " |  Methods defined here:\n",
      " |  \n",
      " |  __init__(self, name, stage_list, x_dims=None)\n",
      " |      Parameters\n",
      " |      ----------\n",
      " |      name: str\n",
      " |          The name of the schedule.\n",
      " |      stage_list: list\n",
      " |          List of experimental stages (stage objects).\n",
      " |      x_dims: dict or None, optional\n",
      " |          If not None, then a dictionary specifying the cues belonging to\n",
      " |          each stimulus dimension.  Keys are dimension names and values\n",
      " |          are cue names (i.e. 'x_names').  Defaults to None.\n",
      " |  \n",
      " |  ----------------------------------------------------------------------\n",
      " |  Data descriptors defined here:\n",
      " |  \n",
      " |  __dict__\n",
      " |      dictionary for instance variables (if defined)\n",
      " |  \n",
      " |  __weakref__\n",
      " |      list of weak references to the object (if defined)\n",
      "\n",
      "None\n"
     ]
    }
   ],
   "source": [
    "print(help(lrn_pred.schedules['design']))"
   ]
  },
  {
   "cell_type": "code",
   "execution_count": 26,
   "metadata": {},
   "outputs": [
    {
     "name": "stdout",
     "output_type": "stream",
     "text": [
      "a\n"
     ]
    }
   ],
   "source": [
    "print('.'.join(['a']))"
   ]
  },
  {
   "cell_type": "code",
   "execution_count": null,
   "metadata": {},
   "outputs": [],
   "source": []
  }
 ],
 "metadata": {
  "kernelspec": {
   "display_name": "Python 3",
   "language": "python",
   "name": "python3"
  },
  "language_info": {
   "codemirror_mode": {
    "name": "ipython",
    "version": 3
   },
   "file_extension": ".py",
   "mimetype": "text/x-python",
   "name": "python",
   "nbconvert_exporter": "python",
   "pygments_lexer": "ipython3",
   "version": "3.8.5"
  }
 },
 "nbformat": 4,
 "nbformat_minor": 4
}
