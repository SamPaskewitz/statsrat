{
 "cells": [
  {
   "cell_type": "code",
   "execution_count": 1,
   "metadata": {},
   "outputs": [],
   "source": [
    "import numpy as np\n",
    "import pandas as pd\n",
    "import statsrat as sr\n",
    "import nlopt\n",
    "from statsrat import expr\n",
    "from statsrat.expr.predef.kitten import lrn_pred\n",
    "from statsrat.expr.predef.pvl_iti import extinction, renewal, reinstatement, blocking, latent_inhib, cs_score, cs2_score\n",
    "import statsrat.exemplar as exemplar"
   ]
  },
  {
   "cell_type": "code",
   "execution_count": 2,
   "metadata": {},
   "outputs": [
    {
     "name": "stdout",
     "output_type": "stream",
     "text": [
      "['us', 'us']\n",
      "['us', 'us']\n",
      "None\n"
     ]
    }
   ],
   "source": [
    "#print(help(cs2_score))\n",
    "print(cs_score.resp_pos)\n",
    "print(cs2_score.resp_pos)\n",
    "print(cs2_score.resp_neg)"
   ]
  },
  {
   "cell_type": "code",
   "execution_count": 3,
   "metadata": {},
   "outputs": [],
   "source": [
    "# extinction with delay (in the home cage, i.e. a separate context) before test\n",
    "extn_delay = expr.schedule(name = 'extinction_delay',\n",
    "                                   stage_list = [\n",
    "                                       expr.stage(name = 'intro',\n",
    "                                              x_pn = [[]],\n",
    "                                              x_bg = ['ctx', 'time'],\n",
    "                                              x_value = pd.Series({'ctx': 1.0, 'time': 0.0}),\n",
    "                                              u_psb = ['us'],\n",
    "                                              order_fixed = True,\n",
    "                                              iti = 5,\n",
    "                                              n_rep = 5),\n",
    "                                       expr.stage(name = 'training',\n",
    "                                             x_pn = [['cs']],\n",
    "                                             x_bg = ['ctx', 'time'],\n",
    "                                             x_value = pd.Series({'cs': 1.0, 'ctx': 1.0, 'time': 1.0}),\n",
    "                                             u = [['us']],\n",
    "                                             u_psb = ['us'],\n",
    "                                             order_fixed = True, \n",
    "                                             iti = 5,\n",
    "                                             n_rep = 5),\n",
    "                                       expr.stage(name = 'extinction',\n",
    "                                             x_pn = [['cs']],\n",
    "                                             x_bg = ['ctx', 'time'],\n",
    "                                             x_value = pd.Series({'cs': 1.0, 'ctx': 1.0, 'time': 2.0}),\n",
    "                                             u_psb = ['us'],\n",
    "                                             order_fixed = True,\n",
    "                                             iti = 5,\n",
    "                                             n_rep = 5),\n",
    "                                       expr.stage(name = 'delay',\n",
    "                                             x_pn = [[]],\n",
    "                                             x_bg = ['home_cage', 'time'],\n",
    "                                             x_value = pd.Series({'home_cage': 1.0, 'time': 3.0}),\n",
    "                                             u_psb = ['us'],\n",
    "                                             order_fixed = True,\n",
    "                                             iti = 0,\n",
    "                                             n_rep = 25),\n",
    "                                       expr.stage(name = 'test',\n",
    "                                             x_pn = [['cs']],\n",
    "                                             x_bg = ['ctx', 'time'],\n",
    "                                             x_value = pd.Series({'cs': 1.0, 'ctx': 1.0, 'time': 4.0}),\n",
    "                                             u_psb = ['us'],\n",
    "                                             order_fixed = True,\n",
    "                                             iti = 5,\n",
    "                                             n_rep = 5)\n",
    "                                   ])\n",
    "\n",
    "# delay (in the home cage, i.e. a separate context) before test\n",
    "delay = expr.schedule(name = 'extinction_delay',\n",
    "                       stage_list = [\n",
    "                           expr.stage(name = 'intro',\n",
    "                                  x_pn = [[]],\n",
    "                                  x_bg = ['ctx', 'time'],\n",
    "                                  x_value = pd.Series({'ctx': 1.0, 'time': 0.0}),\n",
    "                                  u_psb = ['us'],\n",
    "                                  order_fixed = True,\n",
    "                                  iti = 5,\n",
    "                                  n_rep = 5),\n",
    "                           expr.stage(name = 'training',\n",
    "                                 x_pn = [['cs']],\n",
    "                                 x_bg = ['ctx', 'time'],\n",
    "                                 x_value = pd.Series({'cs': 1.0, 'ctx': 1.0, 'time': 1.0}),\n",
    "                                 u = [['us']],\n",
    "                                 u_psb = ['us'],\n",
    "                                 order_fixed = True, \n",
    "                                 iti = 5,\n",
    "                                 n_rep = 5),\n",
    "                           expr.stage(name = 'delay',\n",
    "                                 x_pn = [[]],\n",
    "                                 x_bg = ['home_cage', 'time'],\n",
    "                                 x_value = pd.Series({'home_cage': 1.0, 'time': 3.0}),\n",
    "                                 u_psb = ['us'],\n",
    "                                 order_fixed = True,\n",
    "                                 iti = 0,\n",
    "                                 n_rep = 25),\n",
    "                           expr.stage(name = 'test',\n",
    "                                 x_pn = [['cs']],\n",
    "                                 x_bg = ['ctx', 'time'],\n",
    "                                 x_value = pd.Series({'cs': 1.0, 'ctx': 1.0, 'time': 4.0}),\n",
    "                                 u_psb = ['us'],\n",
    "                                 order_fixed = True,\n",
    "                                 iti = 5,\n",
    "                                 n_rep = 5)\n",
    "                       ])\n",
    "foo = expr.experiment(resp_type = 'exct', schedules = {'extn_delay': extn_delay, 'delay': delay}, oats = None)\n",
    "trials = foo.make_trials('extn_delay')"
   ]
  },
  {
   "cell_type": "code",
   "execution_count": 4,
   "metadata": {},
   "outputs": [],
   "source": [
    "model = exemplar.model(name = 'basic',\n",
    "                       sim = exemplar.sim.Gaussian,\n",
    "                       atn_update = exemplar.atn_update.null,\n",
    "                       lrate = exemplar.lrate.only_max)\n",
    "                       #lrate = exemplar.lrate.from_sim) # This produces strange results, at least for Pavlovian conditioning."
   ]
  },
  {
   "cell_type": "code",
   "execution_count": 5,
   "metadata": {},
   "outputs": [
    {
     "name": "stdout",
     "output_type": "stream",
     "text": [
      "                    cs  ctx  home_cage  time\n",
      "home_cage.time3.0  1.0  1.0        1.0  0.01\n",
      "ctx.time0.0        1.0  1.0        1.0  0.01\n",
      "ctx.time1.0        1.0  1.0        1.0  0.01\n",
      "ctx.time2.0        1.0  1.0        1.0  2.00\n",
      "ctx.time4.0        1.0  1.0        1.0  0.01\n",
      "ctx.time1.0.cs     1.0  1.0        1.0  0.01\n",
      "ctx.time2.0.cs     1.0  1.0        1.0  2.00\n",
      "ctx.time4.0.cs     1.0  1.0        1.0  0.01\n"
     ]
    },
    {
     "data": {
      "image/png": "[encoded data removed]",
      "text/plain": [
       "<Figure size 640x480 with 1 Axes>"
      ]
     },
     "metadata": {},
     "output_type": "display_data"
    },
    {
     "data": {
      "text/plain": [
       "<ggplot: (296944442)>"
      ]
     },
     "execution_count": 5,
     "metadata": {},
     "output_type": "execute_result"
    }
   ],
   "source": [
    "init_atn = pd.DataFrame(1.0, index = trials.ex.index, columns = trials['x_name'].values)\n",
    "init_atn['time'] = 0.01\n",
    "init_atn.loc[['ctx.time2.0.cs', 'ctx.time2.0'], 'time'] = 2.0\n",
    "print(init_atn)\n",
    "ds = model.simulate(trials, init_atn = init_atn)\n",
    "#print(ds['atn'].loc[{'t': 0}])\n",
    "#print(ds['ex_name'].values)\n",
    "sr.learn_plot(ds, var = 'u_hat')\n",
    "\n",
    "# TRY USING UN-NORMALIZED SIMILARITY AS RETRIEVAL STRENGTH"
   ]
  },
  {
   "cell_type": "code",
   "execution_count": 6,
   "metadata": {},
   "outputs": [],
   "source": [
    "#max_time = 5\n",
    "max_time = 30\n",
    "algorithm = nlopt.GN_DIRECT_L\n",
    "#algorithm = nlopt.GN_AGS\n",
    "#algorithm = nlopt.GN_ORIG_DIRECT\n",
    "#algorithm = nlopt.GD_STOGO"
   ]
  },
  {
   "cell_type": "code",
   "execution_count": 9,
   "metadata": {},
   "outputs": [
    {
     "name": "stdout",
     "output_type": "stream",
     "text": [
      "\n",
      " learned predictiveness\n",
      "Maximizing OAT score.\n",
      "     decay_rate  lrate_par  value\n",
      "max       2.904      0.581    0.0\n",
      "  schedule      trial_name u_name  mean_resp\n",
      "0   design  a.y -> nothing   cat3        0.5\n",
      "1   design  a.y -> nothing   cat4        0.5\n",
      "2   design  b.x -> nothing   cat3        0.5\n",
      "3   design  b.x -> nothing   cat4        0.5\n"
     ]
    }
   ],
   "source": [
    "print('\\n learned predictiveness')\n",
    "oat_result = sr.perform_oat(model, lrn_pred, n = 1, max_time = max_time, algorithm = algorithm, minimize = False)\n",
    "print(oat_result[0].round(3))\n",
    "print(oat_result[1])"
   ]
  },
  {
   "cell_type": "code",
   "execution_count": 7,
   "metadata": {},
   "outputs": [
    {
     "name": "stdout",
     "output_type": "stream",
     "text": [
      "\n",
      " blocking\n",
      "Maximizing OAT score.\n",
      "     decay_rate  lrate_par  value\n",
      "max       0.174      0.567  0.082\n",
      "       schedule      trial_name u_name  mean_resp\n",
      "0       control  cs2 -> nothing     us   0.520881\n",
      "0  experimental  cs2 -> nothing     us   0.438635\n"
     ]
    }
   ],
   "source": [
    "print('\\n blocking')\n",
    "oat_result = sr.perform_oat(model, blocking, n = 1, max_time = max_time, algorithm = algorithm, minimize = False)\n",
    "print(oat_result[0].round(3))\n",
    "print(oat_result[1])"
   ]
  },
  {
   "cell_type": "code",
   "execution_count": 8,
   "metadata": {},
   "outputs": [
    {
     "name": "stdout",
     "output_type": "stream",
     "text": [
      "\n",
      " latent inhibition\n",
      "Maximizing OAT score.\n",
      "     decay_rate  lrate_par  value\n",
      "max        2.89      0.574    0.0\n",
      "       schedule     trial_name u_name  mean_resp\n",
      "0       control  cs -> nothing     us   0.537303\n",
      "0  experimental  cs -> nothing     us   0.537303\n"
     ]
    }
   ],
   "source": [
    "print('\\n latent inhibition')\n",
    "oat_result = sr.perform_oat(model, latent_inhib, n = 1, max_time = max_time, algorithm = algorithm, minimize = False)\n",
    "print(oat_result[0].round(3))\n",
    "print(oat_result[1])"
   ]
  }
 ],
 "metadata": {
  "kernelspec": {
   "display_name": "Python 3",
   "language": "python",
   "name": "python3"
  },
  "language_info": {
   "codemirror_mode": {
    "name": "ipython",
    "version": 3
   },
   "file_extension": ".py",
   "mimetype": "text/x-python",
   "name": "python",
   "nbconvert_exporter": "python",
   "pygments_lexer": "ipython3",
   "version": "3.8.5"
  }
 },
 "nbformat": 4,
 "nbformat_minor": 4
}
