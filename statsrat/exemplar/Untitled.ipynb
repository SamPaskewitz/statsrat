{
 "cells": [
  {
   "cell_type": "code",
   "execution_count": 1,
   "metadata": {},
   "outputs": [],
   "source": [
    "import numpy as np\n",
    "import pandas as pd\n",
    "import statsrat as sr\n",
    "from statsrat.expr.predef.kitten import lrn_pred\n",
    "from statsrat.expr.predef.pvl_iti import extinction, renewal, reinstatement, \n",
    "import statsrat.exemplar as exemplar"
   ]
  },
  {
   "cell_type": "code",
   "execution_count": 2,
   "metadata": {},
   "outputs": [],
   "source": [
    "model = exemplar.model(name = 'basic',\n",
    "                       sim = exemplar.sim.Gaussian,\n",
    "                       atn_update = exemplar.atn_update.null,\n",
    "                       lrate = exemplar.lrate.from_rtrv)"
   ]
  },
  {
   "cell_type": "code",
   "execution_count": 6,
   "metadata": {},
   "outputs": [
    {
     "ename": "NameError",
     "evalue": "name 'blocking' is not defined",
     "output_type": "error",
     "traceback": [
      "\u001b[0;31m---------------------------------------------------------------------------\u001b[0m",
      "\u001b[0;31mNameError\u001b[0m                                 Traceback (most recent call last)",
      "\u001b[0;32m<ipython-input-6-9cdabf839bb1>\u001b[0m in \u001b[0;36m<module>\u001b[0;34m\u001b[0m\n\u001b[1;32m      1\u001b[0m \u001b[0;31m#trials = lrn_pred.make_trials()\u001b[0m\u001b[0;34m\u001b[0m\u001b[0;34m\u001b[0m\u001b[0;34m\u001b[0m\u001b[0m\n\u001b[0;32m----> 2\u001b[0;31m \u001b[0mtrials\u001b[0m \u001b[0;34m=\u001b[0m \u001b[0mblocking\u001b[0m\u001b[0;34m.\u001b[0m\u001b[0mmake_trials\u001b[0m\u001b[0;34m(\u001b[0m\u001b[0;34m'experimental'\u001b[0m\u001b[0;34m)\u001b[0m\u001b[0;34m\u001b[0m\u001b[0;34m\u001b[0m\u001b[0m\n\u001b[0m\u001b[1;32m      3\u001b[0m \u001b[0mds\u001b[0m \u001b[0;34m=\u001b[0m \u001b[0mmodel\u001b[0m\u001b[0;34m.\u001b[0m\u001b[0msimulate\u001b[0m\u001b[0;34m(\u001b[0m\u001b[0mtrials\u001b[0m\u001b[0;34m)\u001b[0m\u001b[0;34m\u001b[0m\u001b[0;34m\u001b[0m\u001b[0m\n\u001b[1;32m      4\u001b[0m \u001b[0msr\u001b[0m\u001b[0;34m.\u001b[0m\u001b[0mlearn_plot\u001b[0m\u001b[0;34m(\u001b[0m\u001b[0mds\u001b[0m\u001b[0;34m,\u001b[0m \u001b[0mvar\u001b[0m \u001b[0;34m=\u001b[0m \u001b[0;34m'u_ex'\u001b[0m\u001b[0;34m)\u001b[0m\u001b[0;34m\u001b[0m\u001b[0;34m\u001b[0m\u001b[0m\n\u001b[1;32m      5\u001b[0m \u001b[0;31m#sr.learn_plot(ds, var = 'u_hat', sel = {'t': ds['trial_name'] == 'a.y -> cat1'})\u001b[0m\u001b[0;34m\u001b[0m\u001b[0;34m\u001b[0m\u001b[0;34m\u001b[0m\u001b[0m\n",
      "\u001b[0;31mNameError\u001b[0m: name 'blocking' is not defined"
     ]
    }
   ],
   "source": [
    "#trials = lrn_pred.make_trials()\n",
    "trials = blocking.make_trials('experimental')\n",
    "ds = model.simulate(trials)\n",
    "sr.learn_plot(ds, var = 'u_ex')\n",
    "#sr.learn_plot(ds, var = 'u_hat', sel = {'t': ds['trial_name'] == 'a.y -> cat1'})\n",
    "# CHECK THAT THIS IS WORKING CORRECTLY"
   ]
  },
  {
   "cell_type": "code",
   "execution_count": 4,
   "metadata": {},
   "outputs": [
    {
     "name": "stdout",
     "output_type": "stream",
     "text": [
      "           t_name  trial   trial_name  stage stage_name   ex     lrate\n",
      "t  ex_name                                                            \n",
      "2  b.y       main      2  b.y -> cat2      0  relevance  b.y  0.332620\n",
      "   b.x       main      2  b.y -> cat2      0  relevance  b.y  0.000000\n",
      "   a.y       main      2  b.y -> cat2      0  relevance  b.y  0.122364\n",
      "   a.x       main      2  b.y -> cat2      0  relevance  b.y  0.045015\n",
      "7  b.y       main      7  b.y -> cat2      0  relevance  b.y  0.267223\n",
      "   b.x       main      7  b.y -> cat2      0  relevance  b.y  0.098306\n",
      "   a.y       main      7  b.y -> cat2      0  relevance  b.y  0.098306\n",
      "   a.x       main      7  b.y -> cat2      0  relevance  b.y  0.036165\n",
      "10 b.y       main     10  b.y -> cat2      0  relevance  b.y  0.267223\n",
      "   b.x       main     10  b.y -> cat2      0  relevance  b.y  0.098306\n",
      "   a.y       main     10  b.y -> cat2      0  relevance  b.y  0.098306\n",
      "   a.x       main     10  b.y -> cat2      0  relevance  b.y  0.036165\n",
      "14 b.y       main     14  b.y -> cat2      0  relevance  b.y  0.267223\n",
      "   b.x       main     14  b.y -> cat2      0  relevance  b.y  0.098306\n",
      "   a.y       main     14  b.y -> cat2      0  relevance  b.y  0.098306\n",
      "   a.x       main     14  b.y -> cat2      0  relevance  b.y  0.036165\n",
      "18 b.y       main     18  b.y -> cat2      0  relevance  b.y  0.267223\n",
      "   b.x       main     18  b.y -> cat2      0  relevance  b.y  0.098306\n",
      "   a.y       main     18  b.y -> cat2      0  relevance  b.y  0.098306\n",
      "   a.x       main     18  b.y -> cat2      0  relevance  b.y  0.036165\n",
      "20 b.y       main     20  b.y -> cat2      0  relevance  b.y  0.267223\n",
      "   b.x       main     20  b.y -> cat2      0  relevance  b.y  0.098306\n",
      "   a.y       main     20  b.y -> cat2      0  relevance  b.y  0.098306\n",
      "   a.x       main     20  b.y -> cat2      0  relevance  b.y  0.036165\n",
      "27 b.y       main     27  b.y -> cat2      0  relevance  b.y  0.267223\n",
      "   b.x       main     27  b.y -> cat2      0  relevance  b.y  0.098306\n",
      "   a.y       main     27  b.y -> cat2      0  relevance  b.y  0.098306\n",
      "   a.x       main     27  b.y -> cat2      0  relevance  b.y  0.036165\n",
      "28 b.y       main     28  b.y -> cat2      0  relevance  b.y  0.267223\n",
      "   b.x       main     28  b.y -> cat2      0  relevance  b.y  0.098306\n",
      "   a.y       main     28  b.y -> cat2      0  relevance  b.y  0.098306\n",
      "   a.x       main     28  b.y -> cat2      0  relevance  b.y  0.036165\n",
      "35 b.y       main     35  b.y -> cat2      0  relevance  b.y  0.267223\n",
      "   b.x       main     35  b.y -> cat2      0  relevance  b.y  0.098306\n",
      "   a.y       main     35  b.y -> cat2      0  relevance  b.y  0.098306\n",
      "   a.x       main     35  b.y -> cat2      0  relevance  b.y  0.036165\n",
      "37 b.y       main     37  b.y -> cat2      0  relevance  b.y  0.267223\n",
      "   b.x       main     37  b.y -> cat2      0  relevance  b.y  0.098306\n",
      "   a.y       main     37  b.y -> cat2      0  relevance  b.y  0.098306\n",
      "   a.x       main     37  b.y -> cat2      0  relevance  b.y  0.036165\n",
      "41 b.y       main     41  b.y -> cat4      1   transfer  b.y  0.267223\n",
      "   b.x       main     41  b.y -> cat4      1   transfer  b.y  0.098306\n",
      "   a.y       main     41  b.y -> cat4      1   transfer  b.y  0.098306\n",
      "   a.x       main     41  b.y -> cat4      1   transfer  b.y  0.036165\n",
      "42 b.y       main     42  b.y -> cat4      1   transfer  b.y  0.267223\n",
      "   b.x       main     42  b.y -> cat4      1   transfer  b.y  0.098306\n",
      "   a.y       main     42  b.y -> cat4      1   transfer  b.y  0.098306\n",
      "   a.x       main     42  b.y -> cat4      1   transfer  b.y  0.036165\n",
      "44 b.y       main     44  b.y -> cat4      1   transfer  b.y  0.267223\n",
      "   b.x       main     44  b.y -> cat4      1   transfer  b.y  0.098306\n",
      "   a.y       main     44  b.y -> cat4      1   transfer  b.y  0.098306\n",
      "   a.x       main     44  b.y -> cat4      1   transfer  b.y  0.036165\n",
      "47 b.y       main     47  b.y -> cat4      1   transfer  b.y  0.267223\n",
      "   b.x       main     47  b.y -> cat4      1   transfer  b.y  0.098306\n",
      "   a.y       main     47  b.y -> cat4      1   transfer  b.y  0.098306\n",
      "   a.x       main     47  b.y -> cat4      1   transfer  b.y  0.036165\n",
      "48 b.y       main     48  b.y -> cat4      1   transfer  b.y  0.267223\n",
      "   b.x       main     48  b.y -> cat4      1   transfer  b.y  0.098306\n",
      "   a.y       main     48  b.y -> cat4      1   transfer  b.y  0.098306\n",
      "   a.x       main     48  b.y -> cat4      1   transfer  b.y  0.036165\n"
     ]
    }
   ],
   "source": [
    "#print(ds['rtrv'].loc[{'t': ds['ex'] == 'b.x'}].to_dataframe())\n",
    "print(ds['lrate'].loc[{'t': ds['ex'] == 'b.y'}].to_dataframe())"
   ]
  },
  {
   "cell_type": "code",
   "execution_count": null,
   "metadata": {},
   "outputs": [],
   "source": []
  }
 ],
 "metadata": {
  "kernelspec": {
   "display_name": "Python 3",
   "language": "python",
   "name": "python3"
  },
  "language_info": {
   "codemirror_mode": {
    "name": "ipython",
    "version": 3
   },
   "file_extension": ".py",
   "mimetype": "text/x-python",
   "name": "python",
   "nbconvert_exporter": "python",
   "pygments_lexer": "ipython3",
   "version": "3.8.5"
  }
 },
 "nbformat": 4,
 "nbformat_minor": 4
}
