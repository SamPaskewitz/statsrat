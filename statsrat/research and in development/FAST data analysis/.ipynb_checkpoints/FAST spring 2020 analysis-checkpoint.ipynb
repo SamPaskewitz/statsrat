{
 "cells": [
  {
   "cell_type": "code",
   "execution_count": 2,
   "metadata": {},
   "outputs": [],
   "source": [
    "import numpy as np\n",
    "import pandas as pd\n",
    "import seaborn as sns\n",
    "import statsmodels.formula.api as smf\n",
    "from scipy import stats\n",
    "from sklearn.decomposition import FactorAnalysis\n",
    "from fuzzywuzzy import fuzz, process"
   ]
  },
  {
   "cell_type": "code",
   "execution_count": 8,
   "metadata": {},
   "outputs": [
    {
     "ename": "AttributeError",
     "evalue": "'DataFrame' object has no attribute 'threat_benign_brel'",
     "output_type": "error",
     "traceback": [
      "\u001b[0;31m---------------------------------------------------------------------------\u001b[0m",
      "\u001b[0;31mAttributeError\u001b[0m                            Traceback (most recent call last)",
      "\u001b[0;32m<ipython-input-8-9dc858aafc17>\u001b[0m in \u001b[0;36m<module>\u001b[0;34m\u001b[0m\n\u001b[1;32m      6\u001b[0m \u001b[0mdf\u001b[0m \u001b[0;34m=\u001b[0m \u001b[0mpd\u001b[0m\u001b[0;34m.\u001b[0m\u001b[0mread_csv\u001b[0m\u001b[0;34m(\u001b[0m\u001b[0;34m'summary_spring2020 (30 sec ML).csv'\u001b[0m\u001b[0;34m,\u001b[0m \u001b[0mindex_col\u001b[0m \u001b[0;34m=\u001b[0m \u001b[0;34m'ident'\u001b[0m\u001b[0;34m)\u001b[0m \u001b[0;31m# confidence ratings used to compute OAT scores\u001b[0m\u001b[0;34m\u001b[0m\u001b[0;34m\u001b[0m\u001b[0m\n\u001b[1;32m      7\u001b[0m \u001b[0;34m\u001b[0m\u001b[0m\n\u001b[0;32m----> 8\u001b[0;31m \u001b[0mdf\u001b[0m \u001b[0;34m=\u001b[0m \u001b[0mdf\u001b[0m\u001b[0;34m.\u001b[0m\u001b[0massign\u001b[0m\u001b[0;34m(\u001b[0m\u001b[0mresistance\u001b[0m \u001b[0;34m=\u001b[0m \u001b[0mdf\u001b[0m\u001b[0;34m.\u001b[0m\u001b[0mthreat_benign_os\u001b[0m \u001b[0;34m-\u001b[0m \u001b[0mdf\u001b[0m\u001b[0;34m.\u001b[0m\u001b[0mthreat_benign_brel\u001b[0m\u001b[0;34m)\u001b[0m\u001b[0;34m\u001b[0m\u001b[0;34m\u001b[0m\u001b[0m\n\u001b[0m\u001b[1;32m      9\u001b[0m \u001b[0mdf\u001b[0m \u001b[0;34m=\u001b[0m \u001b[0mdf\u001b[0m\u001b[0;34m.\u001b[0m\u001b[0massign\u001b[0m\u001b[0;34m(\u001b[0m\u001b[0mthreat_benign_ri\u001b[0m \u001b[0;34m=\u001b[0m \u001b[0mdf\u001b[0m\u001b[0;34m[\u001b[0m\u001b[0;34m'threat_benign_brel'\u001b[0m\u001b[0;34m]\u001b[0m \u001b[0;34m+\u001b[0m \u001b[0mdf\u001b[0m\u001b[0;34m[\u001b[0m\u001b[0;34m'threat_benign_trel'\u001b[0m\u001b[0;34m]\u001b[0m\u001b[0;34m)\u001b[0m\u001b[0;34m\u001b[0m\u001b[0;34m\u001b[0m\u001b[0m\n\u001b[1;32m     10\u001b[0m \u001b[0mdf_good\u001b[0m \u001b[0;34m=\u001b[0m \u001b[0mdf\u001b[0m\u001b[0;34m.\u001b[0m\u001b[0mloc\u001b[0m\u001b[0;34m[\u001b[0m\u001b[0mdf\u001b[0m\u001b[0;34m.\u001b[0m\u001b[0mgood_perf\u001b[0m\u001b[0;34m]\u001b[0m\u001b[0;34m.\u001b[0m\u001b[0mcopy\u001b[0m\u001b[0;34m(\u001b[0m\u001b[0;34m)\u001b[0m \u001b[0;31m# only participants who pass the performance criterion\u001b[0m\u001b[0;34m\u001b[0m\u001b[0;34m\u001b[0m\u001b[0m\n",
      "\u001b[0;32m/opt/anaconda3/lib/python3.8/site-packages/pandas/core/generic.py\u001b[0m in \u001b[0;36m__getattr__\u001b[0;34m(self, name)\u001b[0m\n\u001b[1;32m   5137\u001b[0m             \u001b[0;32mif\u001b[0m \u001b[0mself\u001b[0m\u001b[0;34m.\u001b[0m\u001b[0m_info_axis\u001b[0m\u001b[0;34m.\u001b[0m\u001b[0m_can_hold_identifiers_and_holds_name\u001b[0m\u001b[0;34m(\u001b[0m\u001b[0mname\u001b[0m\u001b[0;34m)\u001b[0m\u001b[0;34m:\u001b[0m\u001b[0;34m\u001b[0m\u001b[0;34m\u001b[0m\u001b[0m\n\u001b[1;32m   5138\u001b[0m                 \u001b[0;32mreturn\u001b[0m \u001b[0mself\u001b[0m\u001b[0;34m[\u001b[0m\u001b[0mname\u001b[0m\u001b[0;34m]\u001b[0m\u001b[0;34m\u001b[0m\u001b[0;34m\u001b[0m\u001b[0m\n\u001b[0;32m-> 5139\u001b[0;31m             \u001b[0;32mreturn\u001b[0m \u001b[0mobject\u001b[0m\u001b[0;34m.\u001b[0m\u001b[0m__getattribute__\u001b[0m\u001b[0;34m(\u001b[0m\u001b[0mself\u001b[0m\u001b[0;34m,\u001b[0m \u001b[0mname\u001b[0m\u001b[0;34m)\u001b[0m\u001b[0;34m\u001b[0m\u001b[0;34m\u001b[0m\u001b[0m\n\u001b[0m\u001b[1;32m   5140\u001b[0m \u001b[0;34m\u001b[0m\u001b[0m\n\u001b[1;32m   5141\u001b[0m     \u001b[0;32mdef\u001b[0m \u001b[0m__setattr__\u001b[0m\u001b[0;34m(\u001b[0m\u001b[0mself\u001b[0m\u001b[0;34m,\u001b[0m \u001b[0mname\u001b[0m\u001b[0;34m:\u001b[0m \u001b[0mstr\u001b[0m\u001b[0;34m,\u001b[0m \u001b[0mvalue\u001b[0m\u001b[0;34m)\u001b[0m \u001b[0;34m->\u001b[0m \u001b[0;32mNone\u001b[0m\u001b[0;34m:\u001b[0m\u001b[0;34m\u001b[0m\u001b[0;34m\u001b[0m\u001b[0m\n",
      "\u001b[0;31mAttributeError\u001b[0m: 'DataFrame' object has no attribute 'threat_benign_brel'"
     ]
    }
   ],
   "source": [
    "# Should the R and Python promis_anx and ident values be compared?\n",
    "compare = False\n",
    "\n",
    "# Read in processed data.\n",
    "df = pd.read_csv('summary_spring2020 (30 sec ML no conf in OAT scores).csv', index_col = 'ident') # confidence ratings not used to compute OAT scores\n",
    "#df = pd.read_csv('summary_spring2020 (30 sec ML).csv', index_col = 'ident') # confidence ratings used to compute OAT scores\n",
    "\n",
    "df = df.assign(resistance = df.threat_benign_os - df.threat_benign_brel)\n",
    "df = df.assign(threat_benign_ri = df['threat_benign_brel'] + df['threat_benign_trel'])\n",
    "df_good = df.loc[df.good_perf].copy() # only participants who pass the performance criterion\n",
    "\n",
    "# Read in data processed by R.\n",
    "df_r = pd.read_csv('spring 2020 FAST for comparison with Python.csv', index_col = 'ident')\n",
    "df_rgood = df_r.loc[df_r.good_perf].copy() # only participants who pass the performance criterion\n",
    "\n",
    "print(df.shape[0])\n",
    "print(df_good.shape[0])"
   ]
  },
  {
   "cell_type": "code",
   "execution_count": 6,
   "metadata": {},
   "outputs": [
    {
     "name": "stdout",
     "output_type": "stream",
     "text": [
      "t tests for OAT scores and salience parameter (eta0):\n",
      "n = 89\n",
      "                       t      p  effect_size   mean    std\n",
      "threat_benign_os   2.423  0.017        0.257  0.180  0.700\n",
      "resistance         8.413  0.000        0.892  0.775  0.869\n",
      "rel_irl           12.257  0.000        1.299  0.629  0.484\n",
      "eta0               5.905  0.000        0.626  2.106  1.766\n"
     ]
    }
   ],
   "source": [
    "data = df_good\n",
    "\n",
    "ttests = pd.DataFrame(0.0,\n",
    "                      index = ['threat_benign_os', 'resistance', 'rel_irl', 'eta0'],\n",
    "                      columns = ['t', 'p', 'effect_size', 'mean', 'std'])\n",
    "n = data.shape[0]\n",
    "for var_name in ttests.index.values:\n",
    "    if var_name == 'eta0':\n",
    "        popmean = 1\n",
    "    else:\n",
    "        popmean = 0\n",
    "    result = stats.ttest_1samp(data[var_name], popmean)\n",
    "    ttests.loc[var_name]['t'] = np.round(result.statistic, 3)\n",
    "    ttests.loc[var_name]['p'] = np.round(result.pvalue, 3)\n",
    "    ttests.loc[var_name]['effect_size'] = np.round(result.statistic/np.sqrt(n), 3)\n",
    "    ttests.loc[var_name]['mean'] = np.round(data[var_name].mean(), 3)\n",
    "    ttests.loc[var_name]['std'] = np.round(data[var_name].std(), 3)\n",
    "\n",
    "print('t tests for OAT scores and salience parameter (eta0):')\n",
    "print('n = ' + str(n))\n",
    "print(ttests)"
   ]
  },
  {
   "cell_type": "code",
   "execution_count": 7,
   "metadata": {},
   "outputs": [
    {
     "name": "stdout",
     "output_type": "stream",
     "text": [
      "CORRELATIONS WITH PROMIS ANXIETY \n",
      "\n",
      "n = 89\n",
      "                     r       p\n",
      "threat_benign_os -0.08  0.4547\n",
      "resistance        0.15  0.1573\n",
      "rel_irl           0.18  0.0983\n",
      "eta0             -0.22  0.0349\n"
     ]
    }
   ],
   "source": [
    "print('CORRELATIONS WITH PROMIS ANXIETY \\n')\n",
    "print('n = ' + str(n))\n",
    "data = df_good\n",
    "\n",
    "rtests = pd.DataFrame(0.0,\n",
    "                      index = ['threat_benign_os', 'resistance', 'rel_irl', 'eta0'],\n",
    "                      columns = ['r', 'p'])\n",
    "n = data.shape[0]\n",
    "for var_name in rtests.index.values:\n",
    "    (r, p) = stats.pearsonr(data['promis_anx'], data[var_name])\n",
    "    rtests.loc[var_name]['r'] = np.round(r, 2)\n",
    "    rtests.loc[var_name]['p'] = np.round(p, 4)\n",
    "print(rtests)"
   ]
  },
  {
   "cell_type": "code",
   "execution_count": 3,
   "metadata": {
    "scrolled": false
   },
   "outputs": [],
   "source": [
    "if compare:\n",
    "    print('COMPARE PYTHON AND R DATA PROCESSING \\n')\n",
    "\n",
    "    for ident in df_r.index:\n",
    "        best_match, match_pct = process.extractOne(ident, df.index, scorer = fuzz.ratio)\n",
    "        print(ident)\n",
    "        print(best_match)\n",
    "        print(df_r.loc[ident, 'promis_anx_sum'])\n",
    "        print(df.loc[best_match, 'promis_anx_sum'])\n",
    "        if not ident in df.index:\n",
    "            print('Ach nein!!! \\n')\n",
    "        else:\n",
    "            print()\n",
    "\n",
    "# This reveals that - even when the Python and R scripts agree on the ID - they sometimes calculate different values\n",
    "# of promis_anx_sum.  Spot checking the original spreadsheet (used by the Python code) shows that the R code is correct.\n",
    "# The Python code is in fact adding up the numbers that have been imported into Python correctly.\n",
    "# This means that - for some reason - the numbers are not being imported into Python correctly.\n",
    "# PROBLEM SOLVED: I changed the Python data import code to loop through FAST IDs rather than through survey IDs\n",
    "# when doing ID matching."
   ]
  },
  {
   "cell_type": "code",
   "execution_count": 20,
   "metadata": {},
   "outputs": [
    {
     "name": "stdout",
     "output_type": "stream",
     "text": [
      "COMPARE R AND PYTHON MODEL FITS (T TESTS) \n",
      "\n"
     ]
    },
    {
     "ename": "ValueError",
     "evalue": "No axis named 1 for object type Series",
     "output_type": "error",
     "traceback": [
      "\u001b[0;31m---------------------------------------------------------------------------\u001b[0m",
      "\u001b[0;31mTypeError\u001b[0m                                 Traceback (most recent call last)",
      "\u001b[0;32m/opt/anaconda3/lib/python3.8/site-packages/pandas/core/series.py\u001b[0m in \u001b[0;36mwrapper\u001b[0;34m(self)\u001b[0m\n\u001b[1;32m    128\u001b[0m             \u001b[0;32mreturn\u001b[0m \u001b[0mconverter\u001b[0m\u001b[0;34m(\u001b[0m\u001b[0mself\u001b[0m\u001b[0;34m.\u001b[0m\u001b[0miloc\u001b[0m\u001b[0;34m[\u001b[0m\u001b[0;36m0\u001b[0m\u001b[0;34m]\u001b[0m\u001b[0;34m)\u001b[0m\u001b[0;34m\u001b[0m\u001b[0;34m\u001b[0m\u001b[0m\n\u001b[0;32m--> 129\u001b[0;31m         \u001b[0;32mraise\u001b[0m \u001b[0mTypeError\u001b[0m\u001b[0;34m(\u001b[0m\u001b[0;34mf\"cannot convert the series to {converter}\"\u001b[0m\u001b[0;34m)\u001b[0m\u001b[0;34m\u001b[0m\u001b[0;34m\u001b[0m\u001b[0m\n\u001b[0m\u001b[1;32m    130\u001b[0m \u001b[0;34m\u001b[0m\u001b[0m\n",
      "\u001b[0;31mTypeError\u001b[0m: cannot convert the series to <class 'float'>",
      "\nThe above exception was the direct cause of the following exception:\n",
      "\u001b[0;31mValueError\u001b[0m                                Traceback (most recent call last)",
      "\u001b[0;32m/opt/anaconda3/lib/python3.8/site-packages/pandas/core/series.py\u001b[0m in \u001b[0;36m__setitem__\u001b[0;34m(self, key, value)\u001b[0m\n\u001b[1;32m    999\u001b[0m         \u001b[0;32mtry\u001b[0m\u001b[0;34m:\u001b[0m\u001b[0;34m\u001b[0m\u001b[0;34m\u001b[0m\u001b[0m\n\u001b[0;32m-> 1000\u001b[0;31m             \u001b[0mself\u001b[0m\u001b[0;34m.\u001b[0m\u001b[0m_set_with_engine\u001b[0m\u001b[0;34m(\u001b[0m\u001b[0mkey\u001b[0m\u001b[0;34m,\u001b[0m \u001b[0mvalue\u001b[0m\u001b[0;34m)\u001b[0m\u001b[0;34m\u001b[0m\u001b[0;34m\u001b[0m\u001b[0m\n\u001b[0m\u001b[1;32m   1001\u001b[0m         \u001b[0;32mexcept\u001b[0m \u001b[0;34m(\u001b[0m\u001b[0mKeyError\u001b[0m\u001b[0;34m,\u001b[0m \u001b[0mValueError\u001b[0m\u001b[0;34m)\u001b[0m\u001b[0;34m:\u001b[0m\u001b[0;34m\u001b[0m\u001b[0;34m\u001b[0m\u001b[0m\n",
      "\u001b[0;32m/opt/anaconda3/lib/python3.8/site-packages/pandas/core/series.py\u001b[0m in \u001b[0;36m_set_with_engine\u001b[0;34m(self, key, value)\u001b[0m\n\u001b[1;32m   1034\u001b[0m         \u001b[0mvalidate_numeric_casting\u001b[0m\u001b[0;34m(\u001b[0m\u001b[0mself\u001b[0m\u001b[0;34m.\u001b[0m\u001b[0mdtype\u001b[0m\u001b[0;34m,\u001b[0m \u001b[0mvalue\u001b[0m\u001b[0;34m)\u001b[0m\u001b[0;34m\u001b[0m\u001b[0;34m\u001b[0m\u001b[0m\n\u001b[0;32m-> 1035\u001b[0;31m         \u001b[0mself\u001b[0m\u001b[0;34m.\u001b[0m\u001b[0m_values\u001b[0m\u001b[0;34m[\u001b[0m\u001b[0mloc\u001b[0m\u001b[0;34m]\u001b[0m \u001b[0;34m=\u001b[0m \u001b[0mvalue\u001b[0m\u001b[0;34m\u001b[0m\u001b[0;34m\u001b[0m\u001b[0m\n\u001b[0m\u001b[1;32m   1036\u001b[0m \u001b[0;34m\u001b[0m\u001b[0m\n",
      "\u001b[0;31mValueError\u001b[0m: setting an array element with a sequence.",
      "\nDuring handling of the above exception, another exception occurred:\n",
      "\u001b[0;31mKeyError\u001b[0m                                  Traceback (most recent call last)",
      "\u001b[0;32m/opt/anaconda3/lib/python3.8/site-packages/pandas/core/generic.py\u001b[0m in \u001b[0;36m_get_axis_number\u001b[0;34m(cls, axis)\u001b[0m\n\u001b[1;32m    367\u001b[0m         \u001b[0;32mtry\u001b[0m\u001b[0;34m:\u001b[0m\u001b[0;34m\u001b[0m\u001b[0;34m\u001b[0m\u001b[0m\n\u001b[0;32m--> 368\u001b[0;31m             \u001b[0;32mreturn\u001b[0m \u001b[0mcls\u001b[0m\u001b[0;34m.\u001b[0m\u001b[0m_AXIS_TO_AXIS_NUMBER\u001b[0m\u001b[0;34m[\u001b[0m\u001b[0maxis\u001b[0m\u001b[0;34m]\u001b[0m\u001b[0;34m\u001b[0m\u001b[0;34m\u001b[0m\u001b[0m\n\u001b[0m\u001b[1;32m    369\u001b[0m         \u001b[0;32mexcept\u001b[0m \u001b[0mKeyError\u001b[0m\u001b[0;34m:\u001b[0m\u001b[0;34m\u001b[0m\u001b[0;34m\u001b[0m\u001b[0m\n",
      "\u001b[0;31mKeyError\u001b[0m: 1",
      "\nDuring handling of the above exception, another exception occurred:\n",
      "\u001b[0;31mValueError\u001b[0m                                Traceback (most recent call last)",
      "\u001b[0;32m<ipython-input-20-09c7c6c38e72>\u001b[0m in \u001b[0;36m<module>\u001b[0;34m\u001b[0m\n\u001b[1;32m      6\u001b[0m \u001b[0;32mfor\u001b[0m \u001b[0mvar_name\u001b[0m \u001b[0;32min\u001b[0m \u001b[0mttests\u001b[0m\u001b[0;34m.\u001b[0m\u001b[0mindex\u001b[0m\u001b[0;34m.\u001b[0m\u001b[0mvalues\u001b[0m\u001b[0;34m:\u001b[0m\u001b[0;34m\u001b[0m\u001b[0;34m\u001b[0m\u001b[0m\n\u001b[1;32m      7\u001b[0m     \u001b[0mresult\u001b[0m \u001b[0;34m=\u001b[0m \u001b[0mstats\u001b[0m\u001b[0;34m.\u001b[0m\u001b[0mttest_1samp\u001b[0m\u001b[0;34m(\u001b[0m\u001b[0mdf_r\u001b[0m\u001b[0;34m[\u001b[0m\u001b[0mvar_name\u001b[0m\u001b[0;34m]\u001b[0m\u001b[0;34m,\u001b[0m \u001b[0mdf\u001b[0m\u001b[0;34m[\u001b[0m\u001b[0mvar_name\u001b[0m\u001b[0;34m]\u001b[0m\u001b[0;34m)\u001b[0m\u001b[0;34m\u001b[0m\u001b[0;34m\u001b[0m\u001b[0m\n\u001b[0;32m----> 8\u001b[0;31m     \u001b[0mttests\u001b[0m\u001b[0;34m.\u001b[0m\u001b[0mloc\u001b[0m\u001b[0;34m[\u001b[0m\u001b[0mvar_name\u001b[0m\u001b[0;34m]\u001b[0m\u001b[0;34m[\u001b[0m\u001b[0;34m't'\u001b[0m\u001b[0;34m]\u001b[0m \u001b[0;34m=\u001b[0m \u001b[0mnp\u001b[0m\u001b[0;34m.\u001b[0m\u001b[0mround\u001b[0m\u001b[0;34m(\u001b[0m\u001b[0mresult\u001b[0m\u001b[0;34m.\u001b[0m\u001b[0mstatistic\u001b[0m\u001b[0;34m,\u001b[0m \u001b[0;36m3\u001b[0m\u001b[0;34m)\u001b[0m\u001b[0;34m\u001b[0m\u001b[0;34m\u001b[0m\u001b[0m\n\u001b[0m\u001b[1;32m      9\u001b[0m     \u001b[0mttests\u001b[0m\u001b[0;34m.\u001b[0m\u001b[0mloc\u001b[0m\u001b[0;34m[\u001b[0m\u001b[0mvar_name\u001b[0m\u001b[0;34m]\u001b[0m\u001b[0;34m[\u001b[0m\u001b[0;34m'p'\u001b[0m\u001b[0;34m]\u001b[0m \u001b[0;34m=\u001b[0m \u001b[0mnp\u001b[0m\u001b[0;34m.\u001b[0m\u001b[0mround\u001b[0m\u001b[0;34m(\u001b[0m\u001b[0mresult\u001b[0m\u001b[0;34m.\u001b[0m\u001b[0mpvalue\u001b[0m\u001b[0;34m,\u001b[0m \u001b[0;36m3\u001b[0m\u001b[0;34m)\u001b[0m\u001b[0;34m\u001b[0m\u001b[0;34m\u001b[0m\u001b[0m\n\u001b[1;32m     10\u001b[0m     \u001b[0mttests\u001b[0m\u001b[0;34m.\u001b[0m\u001b[0mloc\u001b[0m\u001b[0;34m[\u001b[0m\u001b[0mvar_name\u001b[0m\u001b[0;34m]\u001b[0m\u001b[0;34m[\u001b[0m\u001b[0;34m'mean_online'\u001b[0m\u001b[0;34m]\u001b[0m \u001b[0;34m=\u001b[0m \u001b[0mnp\u001b[0m\u001b[0;34m.\u001b[0m\u001b[0mround\u001b[0m\u001b[0;34m(\u001b[0m\u001b[0mdf_r\u001b[0m\u001b[0;34m[\u001b[0m\u001b[0mvar_name\u001b[0m\u001b[0;34m]\u001b[0m\u001b[0;34m.\u001b[0m\u001b[0mmean\u001b[0m\u001b[0;34m(\u001b[0m\u001b[0;34m)\u001b[0m\u001b[0;34m,\u001b[0m \u001b[0;36m3\u001b[0m\u001b[0;34m)\u001b[0m\u001b[0;34m\u001b[0m\u001b[0;34m\u001b[0m\u001b[0m\n",
      "\u001b[0;32m/opt/anaconda3/lib/python3.8/site-packages/pandas/core/series.py\u001b[0m in \u001b[0;36m__setitem__\u001b[0;34m(self, key, value)\u001b[0m\n\u001b[1;32m   1006\u001b[0m             \u001b[0;32melse\u001b[0m\u001b[0;34m:\u001b[0m\u001b[0;34m\u001b[0m\u001b[0;34m\u001b[0m\u001b[0m\n\u001b[1;32m   1007\u001b[0m                 \u001b[0;31m# GH#12862 adding an new key to the Series\u001b[0m\u001b[0;34m\u001b[0m\u001b[0;34m\u001b[0m\u001b[0;34m\u001b[0m\u001b[0m\n\u001b[0;32m-> 1008\u001b[0;31m                 \u001b[0mself\u001b[0m\u001b[0;34m.\u001b[0m\u001b[0mloc\u001b[0m\u001b[0;34m[\u001b[0m\u001b[0mkey\u001b[0m\u001b[0;34m]\u001b[0m \u001b[0;34m=\u001b[0m \u001b[0mvalue\u001b[0m\u001b[0;34m\u001b[0m\u001b[0;34m\u001b[0m\u001b[0m\n\u001b[0m\u001b[1;32m   1009\u001b[0m \u001b[0;34m\u001b[0m\u001b[0m\n\u001b[1;32m   1010\u001b[0m         \u001b[0;32mexcept\u001b[0m \u001b[0mTypeError\u001b[0m \u001b[0;32mas\u001b[0m \u001b[0merr\u001b[0m\u001b[0;34m:\u001b[0m\u001b[0;34m\u001b[0m\u001b[0;34m\u001b[0m\u001b[0m\n",
      "\u001b[0;32m/opt/anaconda3/lib/python3.8/site-packages/pandas/core/indexing.py\u001b[0m in \u001b[0;36m__setitem__\u001b[0;34m(self, key, value)\u001b[0m\n\u001b[1;32m    668\u001b[0m \u001b[0;34m\u001b[0m\u001b[0m\n\u001b[1;32m    669\u001b[0m         \u001b[0miloc\u001b[0m \u001b[0;34m=\u001b[0m \u001b[0mself\u001b[0m \u001b[0;32mif\u001b[0m \u001b[0mself\u001b[0m\u001b[0;34m.\u001b[0m\u001b[0mname\u001b[0m \u001b[0;34m==\u001b[0m \u001b[0;34m\"iloc\"\u001b[0m \u001b[0;32melse\u001b[0m \u001b[0mself\u001b[0m\u001b[0;34m.\u001b[0m\u001b[0mobj\u001b[0m\u001b[0;34m.\u001b[0m\u001b[0miloc\u001b[0m\u001b[0;34m\u001b[0m\u001b[0;34m\u001b[0m\u001b[0m\n\u001b[0;32m--> 670\u001b[0;31m         \u001b[0miloc\u001b[0m\u001b[0;34m.\u001b[0m\u001b[0m_setitem_with_indexer\u001b[0m\u001b[0;34m(\u001b[0m\u001b[0mindexer\u001b[0m\u001b[0;34m,\u001b[0m \u001b[0mvalue\u001b[0m\u001b[0;34m)\u001b[0m\u001b[0;34m\u001b[0m\u001b[0;34m\u001b[0m\u001b[0m\n\u001b[0m\u001b[1;32m    671\u001b[0m \u001b[0;34m\u001b[0m\u001b[0m\n\u001b[1;32m    672\u001b[0m     \u001b[0;32mdef\u001b[0m \u001b[0m_validate_key\u001b[0m\u001b[0;34m(\u001b[0m\u001b[0mself\u001b[0m\u001b[0;34m,\u001b[0m \u001b[0mkey\u001b[0m\u001b[0;34m,\u001b[0m \u001b[0maxis\u001b[0m\u001b[0;34m:\u001b[0m \u001b[0mint\u001b[0m\u001b[0;34m)\u001b[0m\u001b[0;34m:\u001b[0m\u001b[0;34m\u001b[0m\u001b[0;34m\u001b[0m\u001b[0m\n",
      "\u001b[0;32m/opt/anaconda3/lib/python3.8/site-packages/pandas/core/indexing.py\u001b[0m in \u001b[0;36m_setitem_with_indexer\u001b[0;34m(self, indexer, value)\u001b[0m\n\u001b[1;32m   1790\u001b[0m                 \u001b[0;31m# setting for extensionarrays that store dicts. Need to decide\u001b[0m\u001b[0;34m\u001b[0m\u001b[0;34m\u001b[0m\u001b[0;34m\u001b[0m\u001b[0m\n\u001b[1;32m   1791\u001b[0m                 \u001b[0;31m# if it's worth supporting that.\u001b[0m\u001b[0;34m\u001b[0m\u001b[0;34m\u001b[0m\u001b[0;34m\u001b[0m\u001b[0m\n\u001b[0;32m-> 1792\u001b[0;31m                 \u001b[0mvalue\u001b[0m \u001b[0;34m=\u001b[0m \u001b[0mself\u001b[0m\u001b[0;34m.\u001b[0m\u001b[0m_align_series\u001b[0m\u001b[0;34m(\u001b[0m\u001b[0mindexer\u001b[0m\u001b[0;34m,\u001b[0m \u001b[0mSeries\u001b[0m\u001b[0;34m(\u001b[0m\u001b[0mvalue\u001b[0m\u001b[0;34m)\u001b[0m\u001b[0;34m)\u001b[0m\u001b[0;34m\u001b[0m\u001b[0;34m\u001b[0m\u001b[0m\n\u001b[0m\u001b[1;32m   1793\u001b[0m \u001b[0;34m\u001b[0m\u001b[0m\n\u001b[1;32m   1794\u001b[0m             \u001b[0;32melif\u001b[0m \u001b[0misinstance\u001b[0m\u001b[0;34m(\u001b[0m\u001b[0mvalue\u001b[0m\u001b[0;34m,\u001b[0m \u001b[0mABCDataFrame\u001b[0m\u001b[0;34m)\u001b[0m\u001b[0;34m:\u001b[0m\u001b[0;34m\u001b[0m\u001b[0;34m\u001b[0m\u001b[0m\n",
      "\u001b[0;32m/opt/anaconda3/lib/python3.8/site-packages/pandas/core/indexing.py\u001b[0m in \u001b[0;36m_align_series\u001b[0;34m(self, indexer, ser, multiindex_indexer)\u001b[0m\n\u001b[1;32m   1945\u001b[0m \u001b[0;34m\u001b[0m\u001b[0m\n\u001b[1;32m   1946\u001b[0m         \u001b[0;32melif\u001b[0m \u001b[0mis_scalar\u001b[0m\u001b[0;34m(\u001b[0m\u001b[0mindexer\u001b[0m\u001b[0;34m)\u001b[0m\u001b[0;34m:\u001b[0m\u001b[0;34m\u001b[0m\u001b[0;34m\u001b[0m\u001b[0m\n\u001b[0;32m-> 1947\u001b[0;31m             \u001b[0max\u001b[0m \u001b[0;34m=\u001b[0m \u001b[0mself\u001b[0m\u001b[0;34m.\u001b[0m\u001b[0mobj\u001b[0m\u001b[0;34m.\u001b[0m\u001b[0m_get_axis\u001b[0m\u001b[0;34m(\u001b[0m\u001b[0;36m1\u001b[0m\u001b[0;34m)\u001b[0m\u001b[0;34m\u001b[0m\u001b[0;34m\u001b[0m\u001b[0m\n\u001b[0m\u001b[1;32m   1948\u001b[0m \u001b[0;34m\u001b[0m\u001b[0m\n\u001b[1;32m   1949\u001b[0m             \u001b[0;32mif\u001b[0m \u001b[0mser\u001b[0m\u001b[0;34m.\u001b[0m\u001b[0mindex\u001b[0m\u001b[0;34m.\u001b[0m\u001b[0mequals\u001b[0m\u001b[0;34m(\u001b[0m\u001b[0max\u001b[0m\u001b[0;34m)\u001b[0m\u001b[0;34m:\u001b[0m\u001b[0;34m\u001b[0m\u001b[0;34m\u001b[0m\u001b[0m\n",
      "\u001b[0;32m/opt/anaconda3/lib/python3.8/site-packages/pandas/core/generic.py\u001b[0m in \u001b[0;36m_get_axis\u001b[0;34m(self, axis)\u001b[0m\n\u001b[1;32m    376\u001b[0m \u001b[0;34m\u001b[0m\u001b[0m\n\u001b[1;32m    377\u001b[0m     \u001b[0;32mdef\u001b[0m \u001b[0m_get_axis\u001b[0m\u001b[0;34m(\u001b[0m\u001b[0mself\u001b[0m\u001b[0;34m,\u001b[0m \u001b[0maxis\u001b[0m\u001b[0;34m:\u001b[0m \u001b[0mAxis\u001b[0m\u001b[0;34m)\u001b[0m \u001b[0;34m->\u001b[0m \u001b[0mIndex\u001b[0m\u001b[0;34m:\u001b[0m\u001b[0;34m\u001b[0m\u001b[0;34m\u001b[0m\u001b[0m\n\u001b[0;32m--> 378\u001b[0;31m         \u001b[0maxis_number\u001b[0m \u001b[0;34m=\u001b[0m \u001b[0mself\u001b[0m\u001b[0;34m.\u001b[0m\u001b[0m_get_axis_number\u001b[0m\u001b[0;34m(\u001b[0m\u001b[0maxis\u001b[0m\u001b[0;34m)\u001b[0m\u001b[0;34m\u001b[0m\u001b[0;34m\u001b[0m\u001b[0m\n\u001b[0m\u001b[1;32m    379\u001b[0m         \u001b[0;32massert\u001b[0m \u001b[0maxis_number\u001b[0m \u001b[0;32min\u001b[0m \u001b[0;34m{\u001b[0m\u001b[0;36m0\u001b[0m\u001b[0;34m,\u001b[0m \u001b[0;36m1\u001b[0m\u001b[0;34m}\u001b[0m\u001b[0;34m\u001b[0m\u001b[0;34m\u001b[0m\u001b[0m\n\u001b[1;32m    380\u001b[0m         \u001b[0;32mreturn\u001b[0m \u001b[0mself\u001b[0m\u001b[0;34m.\u001b[0m\u001b[0mindex\u001b[0m \u001b[0;32mif\u001b[0m \u001b[0maxis_number\u001b[0m \u001b[0;34m==\u001b[0m \u001b[0;36m0\u001b[0m \u001b[0;32melse\u001b[0m \u001b[0mself\u001b[0m\u001b[0;34m.\u001b[0m\u001b[0mcolumns\u001b[0m\u001b[0;34m\u001b[0m\u001b[0;34m\u001b[0m\u001b[0m\n",
      "\u001b[0;32m/opt/anaconda3/lib/python3.8/site-packages/pandas/core/generic.py\u001b[0m in \u001b[0;36m_get_axis_number\u001b[0;34m(cls, axis)\u001b[0m\n\u001b[1;32m    368\u001b[0m             \u001b[0;32mreturn\u001b[0m \u001b[0mcls\u001b[0m\u001b[0;34m.\u001b[0m\u001b[0m_AXIS_TO_AXIS_NUMBER\u001b[0m\u001b[0;34m[\u001b[0m\u001b[0maxis\u001b[0m\u001b[0;34m]\u001b[0m\u001b[0;34m\u001b[0m\u001b[0;34m\u001b[0m\u001b[0m\n\u001b[1;32m    369\u001b[0m         \u001b[0;32mexcept\u001b[0m \u001b[0mKeyError\u001b[0m\u001b[0;34m:\u001b[0m\u001b[0;34m\u001b[0m\u001b[0;34m\u001b[0m\u001b[0m\n\u001b[0;32m--> 370\u001b[0;31m             \u001b[0;32mraise\u001b[0m \u001b[0mValueError\u001b[0m\u001b[0;34m(\u001b[0m\u001b[0;34mf\"No axis named {axis} for object type {cls.__name__}\"\u001b[0m\u001b[0;34m)\u001b[0m\u001b[0;34m\u001b[0m\u001b[0;34m\u001b[0m\u001b[0m\n\u001b[0m\u001b[1;32m    371\u001b[0m \u001b[0;34m\u001b[0m\u001b[0m\n\u001b[1;32m    372\u001b[0m     \u001b[0;34m@\u001b[0m\u001b[0mclassmethod\u001b[0m\u001b[0;34m\u001b[0m\u001b[0;34m\u001b[0m\u001b[0m\n",
      "\u001b[0;31mValueError\u001b[0m: No axis named 1 for object type Series"
     ]
    }
   ],
   "source": [
    "print('COMPARE R AND PYTHON MODEL FITS (T TESTS) \\n')\n",
    "\n",
    "ttests = pd.DataFrame(0.0,\n",
    "                      index = ['prop_log_post', 'eta0', 'lrate', 'lrate_atn', 'metric', 'resp_scale'],\n",
    "                      columns = ['t', 'p', 'mean_inlab', 'mean_online'])\n",
    "for var_name in ttests.index.values:\n",
    "    result = stats.ttest_1samp(df_r[var_name], df[var_name])\n",
    "    ttests.loc[var_name]['t'] = np.round(result.statistic, 3)\n",
    "    ttests.loc[var_name]['p'] = np.round(result.pvalue, 3)\n",
    "    ttests.loc[var_name]['mean_online'] = np.round(df_r[var_name].mean(), 3)\n",
    "    ttests.loc[var_name]['mean_inlab'] = np.round(df[var_name].mean(), 3)\n",
    "print(ttests)"
   ]
  },
  {
   "cell_type": "code",
   "execution_count": 15,
   "metadata": {},
   "outputs": [
    {
     "name": "stdout",
     "output_type": "stream",
     "text": [
      "COMPARE R AND PYTHON MODEL FITS (CORRELATIONS) \n",
      "\n",
      "                r      p\n",
      "eta0        0.058  0.521\n",
      "lrate      -0.049  0.588\n",
      "lrate_atn   0.013  0.885\n",
      "metric      0.144  0.105\n",
      "resp_scale  0.149  0.095\n"
     ]
    }
   ],
   "source": [
    "print('COMPARE R AND PYTHON MODEL FITS (CORRELATIONS) \\n')\n",
    "print('For some reason, the indices are not lining up correctly, so these correlations are incorrect.')\n",
    "print('Scatter plots show that there is a high correlation between R and Python model estimates.')\n",
    "\n",
    "rtests = pd.DataFrame(0.0,\n",
    "                      index = ['eta0', 'lrate', 'lrate_atn', 'metric', 'resp_scale'],\n",
    "                      columns = ['r', 'p'])\n",
    "for var_name in rtests.index.values:\n",
    "    (r, p) = stats.pearsonr(df_r[var_name], df[var_name])\n",
    "    rtests.loc[var_name]['r'] = np.round(r, 3)\n",
    "    rtests.loc[var_name]['p'] = np.round(p, 3)\n",
    "print(rtests)"
   ]
  },
  {
   "cell_type": "code",
   "execution_count": 11,
   "metadata": {},
   "outputs": [
    {
     "name": "stdout",
     "output_type": "stream",
     "text": [
      "CORRELATIONS (PYTHON FIT) \n",
      "\n",
      "Note that we are using the full PROMIS scores instead of raw sums.\n",
      "            x                 y     r       p   n\n",
      "0        eta0  threat_benign_os  0.24  0.0208  89\n",
      "1  promis_anx  threat_benign_ri -0.28  0.0087  89\n",
      "2  promis_anx  threat_benign_os -0.08  0.4547  89\n",
      "3  promis_anx              eta0 -0.22  0.0349  89\n",
      "4  promis_ang  threat_benign_os  -0.1  0.3491  89\n",
      "5  promis_ang              eta0 -0.04  0.7341  89\n",
      "6  promis_anx        promis_ang  0.63       0  89\n",
      "7  promis_anx        promis_pos -0.46       0  89\n"
     ]
    }
   ],
   "source": [
    "print('CORRELATIONS (PYTHON FIT) \\n')\n",
    "print('Note that we are using the full PROMIS scores instead of raw sums.')\n",
    "data = df_good\n",
    "x = ['eta0'] + 3*['promis_anx'] + 2*['promis_ang'] + 2*['promis_anx']\n",
    "y = ['threat_benign_os', 'threat_benign_ri'] + 2*['threat_benign_os', 'eta0'] + ['promis_ang', 'promis_pos']\n",
    "n_rows = len(x)\n",
    "rtests = pd.DataFrame(index = range(n_rows),\n",
    "                      columns = ['x', 'y', 'r', 'p', 'n'])\n",
    "for i in range(n_rows):\n",
    "    data_ok = data[[x[i], y[i]]].dropna()\n",
    "    x_var = data_ok[x[i]]\n",
    "    y_var = data_ok[y[i]]\n",
    "    rtests.iloc[i]['x'] = x[i]\n",
    "    rtests.iloc[i]['y'] = y[i]\n",
    "    (r, p) = stats.pearsonr(x_var, y_var)\n",
    "    rtests.iloc[i]['r'] = np.round(r, 2)\n",
    "    rtests.iloc[i]['p'] = np.round(p, 4)\n",
    "    rtests.iloc[i]['n'] = data_ok.shape[0]\n",
    "print(rtests)"
   ]
  },
  {
   "cell_type": "code",
   "execution_count": 9,
   "metadata": {},
   "outputs": [
    {
     "name": "stdout",
     "output_type": "stream",
     "text": [
      "CORRELATIONS (R FIT) \n",
      "\n",
      "                x                 y     r       p   n\n",
      "0            eta0  threat_benign_os  0.28  0.0076  89\n",
      "1  promis_anx_sum  threat_benign_ri -0.25  0.0178  89\n",
      "2  promis_anx_sum  threat_benign_os -0.15  0.1737  89\n",
      "3  promis_anx_sum              eta0 -0.22  0.0371  89\n",
      "4  promis_ang_sum  threat_benign_os  -0.1  0.3368  89\n",
      "5  promis_ang_sum              eta0 -0.02  0.8691  89\n",
      "6  promis_anx_sum    promis_ang_sum  0.64       0  89\n",
      "7  promis_anx_sum    promis_pos_sum -0.48       0  89\n"
     ]
    }
   ],
   "source": [
    "print('CORRELATIONS (R FIT) \\n')\n",
    "data = df_rgood\n",
    "x = ['eta0'] + 3*['promis_anx_sum'] + 2*['promis_ang_sum'] + 2*['promis_anx_sum']\n",
    "y = ['threat_benign_os', 'threat_benign_ri'] + 2*['threat_benign_os', 'eta0'] + ['promis_ang_sum', 'promis_pos_sum']\n",
    "n_rows = len(x)\n",
    "rtests = pd.DataFrame(index = range(n_rows),\n",
    "                      columns = ['x', 'y', 'r', 'p', 'n'])\n",
    "for i in range(n_rows):\n",
    "    data_ok = data[[x[i], y[i]]].dropna()\n",
    "    x_var = data_ok[x[i]]\n",
    "    y_var = data_ok[y[i]]\n",
    "    rtests.iloc[i]['x'] = x[i]\n",
    "    rtests.iloc[i]['y'] = y[i]\n",
    "    (r, p) = stats.pearsonr(x_var, y_var)\n",
    "    rtests.iloc[i]['r'] = np.round(r, 2)\n",
    "    rtests.iloc[i]['p'] = np.round(p, 4)\n",
    "    rtests.iloc[i]['n'] = data_ok.shape[0]\n",
    "print(rtests)"
   ]
  },
  {
   "cell_type": "code",
   "execution_count": 19,
   "metadata": {},
   "outputs": [
    {
     "name": "stdout",
     "output_type": "stream",
     "text": [
      "Index(['1116nawes', '1014cynis', '0630mypou', '1111jeara', '0716lyeas',\n",
      "       '1111heche', '0620junot', '1121romou', '1201kearm', '0512chwuh',\n",
      "       '0522kafhs', '0612cemul', '0822susky', '1030masky', '1121chsts',\n",
      "       '0319jebis', '1001chcas', '0125kefos', '0602shpas', '0221saabd',\n",
      "       '0810tatak', '0601samer', '0107naaus', '1101livis', '0625limou',\n",
      "       '0129cyale', '0118cathu', '0126krchy', '0128meher', '1002casan',\n",
      "       '0307caseh', '0329doher', '0215irara', '0212baben', '0628elnot',\n",
      "       '0721cahar', '0224mafai', '0410legra', '0316duher', '0501trbou',\n",
      "       '1125kilit', '0905iraqu', '0118lifli', '0331jamur', '0829jurus',\n",
      "       '0818karoc', '1116lotor', '0610crces', '1111jalak', '0303kareg',\n",
      "       '1001renor', '0917jahal', '0127trcen', '0810kaste', '1118cacat',\n",
      "       '0804eidis', '1208jucor', '1030hutre', '0319jevai', '0118keche',\n",
      "       '0816kamon', '0227macou', '1021famul', '1010meche', '0111gariv',\n",
      "       '0709kabis', '0202amwin', '0426polyn', '0614sunor', '1127anhig',\n",
      "       '0708loroc', '0510shfai', '1003vimar', '0313lamon', '0607cafai',\n",
      "       '1001grmon', '0507jelak', '0331zibro', '0414mitrh', '0908kamul',\n",
      "       '0813brmou', '0308tileg', '0724albro', '1113chpea', '0923mayok',\n",
      "       '0207kiche', '0222rehom', '0605kacre', '1229julas'],\n",
      "      dtype='object', name='ident')\n",
      "Index(['0222rehom', '0111gariv', '0128meher', '0410legra', '0510shfai',\n",
      "       '0303kareg', '0329doher', '1021famul', '0908kamul', '0625limou',\n",
      "       '0127trcen', '0414mitrh', '0829jurus', '0709kabis', '0905iraqu',\n",
      "       '1111jeara', '0129cyale', '0316duher', '0620junot', '0107naaus',\n",
      "       '0215irara', '0224mafai', '1001renor', '0605kacre', '1001grmon',\n",
      "       '1229julas', '0607cafai', '1003vimar', '0426polyn', '0917jahal',\n",
      "       '0614sunor', '1030hutre', '1111heche', '1113chpea', '1001chcas',\n",
      "       '0307caseh', '0331jamur', '0610crces', '1116nawes', '0507jelak',\n",
      "       '1014cynis', '0331zibro', '0602shpas', '1125kilit', '0221saabd',\n",
      "       '0118cathu', '0125kefos', '0813brmou', '0630mypou', '0212baben',\n",
      "       '0724albro', '0601samer', '1201kearm', '0308tileg', '1002casan',\n",
      "       '0628elnot', '0822susky', '0207kiche', '0319jebis', '0118lifli',\n",
      "       '0512chwuh', '0810kaste', '0126krchy', '0612cemul', '1010meche',\n",
      "       '0818karoc', '1111jalak', '0313lamon', '0319jevai', '0804eidis',\n",
      "       '0716lyeas', '1101livis', '1118cacat', '0522kafhs', '1121chsts',\n",
      "       '1116lotor', '0708loroc', '1127anhig', '0501trbou', '0721cahar',\n",
      "       '0816kamon', '0923mayok', '0202amwin', '0118keche', '1030masky',\n",
      "       '1208jucor', '0227macou', '1121romou', '0810tatak'],\n",
      "      dtype='object', name='ident')\n"
     ]
    }
   ],
   "source": [
    "print(df_rgood.index)\n",
    "print(df_good.index)"
   ]
  },
  {
   "cell_type": "code",
   "execution_count": 6,
   "metadata": {},
   "outputs": [
    {
     "data": {
      "text/plain": [
       "<seaborn.axisgrid.FacetGrid at 0x120bf9ac0>"
      ]
     },
     "execution_count": 6,
     "metadata": {},
     "output_type": "execute_result"
    },
    {
     "data": {
      "image/png": "[encoded data removed]",
      "text/plain": [
       "<Figure size 360x360 with 1 Axes>"
      ]
     },
     "metadata": {
      "needs_background": "light"
     },
     "output_type": "display_data"
    }
   ],
   "source": [
    "sns.relplot(x = df_r['lrate'], y = df['lrate'])"
   ]
  },
  {
   "cell_type": "code",
   "execution_count": 5,
   "metadata": {},
   "outputs": [
    {
     "data": {
      "text/plain": [
       "<seaborn.axisgrid.FacetGrid at 0x120c0a820>"
      ]
     },
     "execution_count": 5,
     "metadata": {},
     "output_type": "execute_result"
    },
    {
     "data": {
      "image/png": "[encoded data removed]",
      "text/plain": [
       "<Figure size 360x360 with 1 Axes>"
      ]
     },
     "metadata": {
      "needs_background": "light"
     },
     "output_type": "display_data"
    }
   ],
   "source": [
    "sns.relplot(x = df_r['prop_log_post'], y = df['prop_log_post'])"
   ]
  },
  {
   "cell_type": "code",
   "execution_count": null,
   "metadata": {},
   "outputs": [],
   "source": []
  }
 ],
 "metadata": {
  "kernelspec": {
   "display_name": "Python 3",
   "language": "python",
   "name": "python3"
  },
  "language_info": {
   "codemirror_mode": {
    "name": "ipython",
    "version": 3
   },
   "file_extension": ".py",
   "mimetype": "text/x-python",
   "name": "python",
   "nbconvert_exporter": "python",
   "pygments_lexer": "ipython3",
   "version": "3.8.5"
  }
 },
 "nbformat": 4,
 "nbformat_minor": 4
}
