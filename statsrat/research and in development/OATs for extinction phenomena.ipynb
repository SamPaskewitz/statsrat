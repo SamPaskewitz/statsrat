{
 "cells": [
  {
   "cell_type": "code",
   "execution_count": 3,
   "metadata": {},
   "outputs": [
    {
     "ename": "AttributeError",
     "evalue": "module 'statsrat.lc.prior' has no attribute 'coupling_prob'",
     "output_type": "error",
     "traceback": [
      "\u001b[0;31m---------------------------------------------------------------------------\u001b[0m",
      "\u001b[0;31mAttributeError\u001b[0m                            Traceback (most recent call last)",
      "\u001b[0;32m<ipython-input-3-cf0aa56822a6>\u001b[0m in \u001b[0;36m<module>\u001b[0;34m\u001b[0m\n\u001b[1;32m      4\u001b[0m \u001b[0;32mfrom\u001b[0m \u001b[0mstatsrat\u001b[0m\u001b[0;34m.\u001b[0m\u001b[0mexpr\u001b[0m\u001b[0;34m.\u001b[0m\u001b[0mpredef\u001b[0m \u001b[0;32mimport\u001b[0m \u001b[0mpvl_iti\u001b[0m\u001b[0;34m,\u001b[0m \u001b[0mpvl_no_iti\u001b[0m\u001b[0;34m\u001b[0m\u001b[0;34m\u001b[0m\u001b[0m\n\u001b[1;32m      5\u001b[0m \u001b[0;32mfrom\u001b[0m \u001b[0mstatsrat\u001b[0m\u001b[0;34m.\u001b[0m\u001b[0mrw\u001b[0m \u001b[0;32mimport\u001b[0m \u001b[0mpredef\u001b[0m \u001b[0;32mas\u001b[0m \u001b[0mrw_models\u001b[0m\u001b[0;34m\u001b[0m\u001b[0;34m\u001b[0m\u001b[0m\n\u001b[0;32m----> 6\u001b[0;31m \u001b[0;32mfrom\u001b[0m \u001b[0mstatsrat\u001b[0m\u001b[0;34m.\u001b[0m\u001b[0mlc\u001b[0m \u001b[0;32mimport\u001b[0m \u001b[0mpredef\u001b[0m \u001b[0;32mas\u001b[0m \u001b[0mlc_models\u001b[0m\u001b[0;34m\u001b[0m\u001b[0;34m\u001b[0m\u001b[0m\n\u001b[0m\u001b[1;32m      7\u001b[0m \u001b[0;34m\u001b[0m\u001b[0m\n\u001b[1;32m      8\u001b[0m \u001b[0mn\u001b[0m \u001b[0;34m=\u001b[0m \u001b[0;36m1\u001b[0m \u001b[0;31m# fixed trial sequences, so only need n = 1\u001b[0m\u001b[0;34m\u001b[0m\u001b[0;34m\u001b[0m\u001b[0m\n",
      "\u001b[0;32m~/Dropbox/Research/Modeling/PhD thesis/statsrat/statsrat/lc/predef.py\u001b[0m in \u001b[0;36m<module>\u001b[0;34m\u001b[0m\n\u001b[1;32m      5\u001b[0m                         \u001b[0mu_dist\u001b[0m \u001b[0;34m=\u001b[0m \u001b[0mlc\u001b[0m\u001b[0;34m.\u001b[0m\u001b[0mu_dist\u001b[0m\u001b[0;34m.\u001b[0m\u001b[0mdiscrete_hard\u001b[0m\u001b[0;34m,\u001b[0m\u001b[0;34m\u001b[0m\u001b[0;34m\u001b[0m\u001b[0m\n\u001b[1;32m      6\u001b[0m                         \u001b[0mx_dist\u001b[0m \u001b[0;34m=\u001b[0m \u001b[0mlc\u001b[0m\u001b[0;34m.\u001b[0m\u001b[0mx_dist\u001b[0m\u001b[0;34m.\u001b[0m\u001b[0mdiscrete_hard\u001b[0m\u001b[0;34m,\u001b[0m\u001b[0;34m\u001b[0m\u001b[0;34m\u001b[0m\u001b[0m\n\u001b[0;32m----> 7\u001b[0;31m                         prior = lc.prior.coupling_prob)\n\u001b[0m\u001b[1;32m      8\u001b[0m \u001b[0;34m\u001b[0m\u001b[0m\n\u001b[1;32m      9\u001b[0m \u001b[0;31m# normal likelihood (hard assignment) with coupling prob prior\u001b[0m\u001b[0;34m\u001b[0m\u001b[0;34m\u001b[0m\u001b[0;34m\u001b[0m\u001b[0m\n",
      "\u001b[0;31mAttributeError\u001b[0m: module 'statsrat.lc.prior' has no attribute 'coupling_prob'"
     ]
    }
   ],
   "source": [
    "import numpy as np\n",
    "import nlopt\n",
    "from statsrat import perform_oat, learn_plot\n",
    "from statsrat.expr.predef import pvl_iti, pvl_no_iti\n",
    "from statsrat.rw import predef as rw_models\n",
    "from statsrat.lc import predef as lc_models\n",
    "\n",
    "n = 1 # fixed trial sequences, so only need n = 1\n",
    "#max_time = 5\n",
    "max_time = 30\n",
    "algorithm = nlopt.GN_DIRECT_L\n",
    "#algorithm = nlopt.GN_AGS\n",
    "#algorithm = nlopt.GN_ORIG_DIRECT\n",
    "#algorithm = nlopt.GD_STOGO"
   ]
  },
  {
   "cell_type": "code",
   "execution_count": 2,
   "metadata": {
    "scrolled": true
   },
   "outputs": [
    {
     "name": "stdout",
     "output_type": "stream",
     "text": [
      "\n",
      " Rescorla-Wagner (elemental context features)\n",
      "\n",
      " renewal\n",
      "Maximizing OAT score.\n",
      "Minimizing OAT score.\n",
      "     lrate  value\n",
      "min  0.032 -0.079\n",
      "max  0.955  0.127\n",
      "\n",
      " spontaneous recovery\n",
      "Maximizing OAT score.\n",
      "Minimizing OAT score.\n",
      "     lrate  value\n",
      "min  0.551    0.0\n",
      "max  0.551    0.0\n",
      "\n",
      " reinstatement\n",
      "Maximizing OAT score.\n",
      "Minimizing OAT score.\n",
      "     lrate  value\n",
      "min  0.001  0.006\n",
      "max  0.179  0.266\n"
     ]
    }
   ],
   "source": [
    "print('\\n Rescorla-Wagner (elemental context features)')\n",
    "\n",
    "print('\\n renewal')\n",
    "oat_result = perform_oat(rw_models.basic, pvl_no_iti.renewal, n = n, max_time = max_time, algorithm = algorithm)\n",
    "print(oat_result[0].round(3))\n",
    "\n",
    "print('\\n spontaneous recovery')\n",
    "oat_result = perform_oat(rw_models.basic, pvl_no_iti.spont_rec, n = n, max_time = max_time, algorithm = algorithm)\n",
    "print(oat_result[0].round(3))\n",
    "\n",
    "print('\\n reinstatement')\n",
    "oat_result = perform_oat(rw_models.basic, pvl_no_iti.reinstatement, n = n, max_time = max_time, algorithm = algorithm)\n",
    "print(oat_result[0].round(3))"
   ]
  },
  {
   "cell_type": "code",
   "execution_count": 4,
   "metadata": {},
   "outputs": [
    {
     "name": "stdout",
     "output_type": "stream",
     "text": [
      "\n",
      " CompAct (elemental context features)\n",
      "\n",
      " renewal\n",
      "Maximizing OAT score.\n",
      "Minimizing OAT score.\n",
      "     lrate  lrate_atn  metric  value\n",
      "min  0.999      0.001   0.385 -0.132\n",
      "max  0.276      0.250   9.999  0.100\n",
      "\n",
      " spontaneous recovery\n",
      "Maximizing OAT score.\n",
      "Minimizing OAT score.\n",
      "     lrate  lrate_atn  metric  value\n",
      "min  0.537      1.080   8.548  0.000\n",
      "max  0.999      0.001   0.608  0.016\n",
      "\n",
      " reinstatement\n",
      "Maximizing OAT score.\n",
      "Minimizing OAT score.\n",
      "     lrate  lrate_atn  metric  value\n",
      "min  0.675      1.999   9.999 -0.025\n",
      "max  0.299      0.001   2.026  0.277\n"
     ]
    }
   ],
   "source": [
    "print('\\n CompAct (elemental context features)')\n",
    "\n",
    "print('\\n renewal')\n",
    "oat_result = perform_oat(rw_models.CompAct, pvl_no_iti.renewal, n = n, max_time = max_time, algorithm = algorithm)\n",
    "print(oat_result[0].round(3))\n",
    "\n",
    "print('\\n spontaneous recovery')\n",
    "oat_result = perform_oat(rw_models.CompAct, pvl_no_iti.spont_rec, n = n, max_time = max_time, algorithm = algorithm)\n",
    "print(oat_result[0].round(3))\n",
    "print(\"I'm very skeptical of this; see line 27 of rw.lrate.\")\n",
    "\n",
    "print('\\n reinstatement')\n",
    "oat_result = perform_oat(rw_models.CompAct, pvl_no_iti.reinstatement, n = n, max_time = max_time, algorithm = algorithm)\n",
    "print(oat_result[0].round(3))"
   ]
  },
  {
   "cell_type": "code",
   "execution_count": 14,
   "metadata": {},
   "outputs": [
    {
     "data": {
      "image/png": "[encoded data removed]",
      "text/plain": [
       "<Figure size 640x480 with 1 Axes>"
      ]
     },
     "metadata": {},
     "output_type": "display_data"
    },
    {
     "data": {
      "text/plain": [
       "<ggplot: (299775064)>"
      ]
     },
     "execution_count": 14,
     "metadata": {},
     "output_type": "execute_result"
    }
   ],
   "source": [
    "trials_exp = pvl_no_iti.spont_rec.make_trials('experimental')\n",
    "ds_exp = rw_models.CompAct.simulate(trials_exp, par_val = [0.999, 0.001, 0.608, 5])\n",
    "learn_plot(ds_exp, var = 'w')"
   ]
  },
  {
   "cell_type": "code",
   "execution_count": 16,
   "metadata": {},
   "outputs": [
    {
     "data": {
      "image/png": "[encoded data removed]",
      "text/plain": [
       "<Figure size 640x480 with 1 Axes>"
      ]
     },
     "metadata": {},
     "output_type": "display_data"
    },
    {
     "data": {
      "text/plain": [
       "<ggplot: (299780756)>"
      ]
     },
     "execution_count": 16,
     "metadata": {},
     "output_type": "execute_result"
    }
   ],
   "source": [
    "trials_ctl = pvl_no_iti.spont_rec.make_trials('control')\n",
    "ds_ctl = rw_models.CompAct.simulate(trials_ctl, par_val = [0.999, 0.001, 0.608, 5])\n",
    "learn_plot(ds_ctl, var = 'w')"
   ]
  },
  {
   "cell_type": "code",
   "execution_count": 17,
   "metadata": {},
   "outputs": [
    {
     "name": "stdout",
     "output_type": "stream",
     "text": [
      "\n",
      " Decreasing learning rates (elemental context features)\n",
      "\n",
      " renewal\n",
      "Maximizing OAT score.\n",
      "Minimizing OAT score.\n",
      "     extra_counts  value\n",
      "min         9.999 -0.071\n",
      "max         2.711 -0.048\n",
      "\n",
      " spontaneous recovery\n",
      "Maximizing OAT score.\n",
      "Minimizing OAT score.\n",
      "     extra_counts  value\n",
      "min         5.967    0.0\n",
      "max         5.967    0.0\n",
      "\n",
      " reinstatement\n",
      "Maximizing OAT score.\n",
      "Minimizing OAT score.\n",
      "     extra_counts  value\n",
      "min         9.999  0.101\n",
      "max         1.001  0.114\n"
     ]
    }
   ],
   "source": [
    "print('\\n Decreasing learning rates (elemental context features)')\n",
    "\n",
    "print('\\n renewal')\n",
    "oat_result = perform_oat(rw_models.hrmn, pvl_no_iti.renewal, n = n, max_time = max_time, algorithm = algorithm)\n",
    "print(oat_result[0].round(3))\n",
    "\n",
    "print('\\n spontaneous recovery')\n",
    "oat_result = perform_oat(rw_models.hrmn, pvl_no_iti.spont_rec, n = n, max_time = max_time, algorithm = algorithm)\n",
    "print(oat_result[0].round(3))\n",
    "\n",
    "print('\\n reinstatement')\n",
    "oat_result = perform_oat(rw_models.hrmn, pvl_no_iti.reinstatement, n = n, max_time = max_time, algorithm = algorithm)\n",
    "print(oat_result[0].round(3))"
   ]
  },
  {
   "cell_type": "code",
   "execution_count": 18,
   "metadata": {},
   "outputs": [
    {
     "name": "stdout",
     "output_type": "stream",
     "text": [
      "\n",
      " Kalman filter\n",
      "\n",
      " renewal\n",
      "Maximizing OAT score.\n",
      "Minimizing OAT score.\n",
      "     drift_var  u_var  w_var0  value\n",
      "min      1.222  1.971   9.377   -0.5\n",
      "max      1.551  1.061   5.005    0.5\n",
      "\n",
      " spontaneous recovery\n",
      "Maximizing OAT score.\n",
      "Minimizing OAT score.\n",
      "     drift_var  u_var  w_var0  value\n",
      "min      0.334  3.185   3.163 -0.004\n",
      "max      0.001  3.081   8.418  0.000\n",
      "\n",
      " reinstatement\n",
      "Maximizing OAT score.\n",
      "Minimizing OAT score.\n",
      "     drift_var  u_var  w_var0  value\n",
      "min      1.999  0.112   3.493 -0.028\n",
      "max      0.776  4.609   5.430  0.277\n"
     ]
    }
   ],
   "source": [
    "print('\\n Kalman filter')\n",
    "\n",
    "print('\\n renewal')\n",
    "oat_result = perform_oat(rw_models.Kalman, pvl_no_iti.renewal, n = n, max_time = max_time, algorithm = algorithm)\n",
    "print(oat_result[0].round(3))\n",
    "\n",
    "print('\\n spontaneous recovery')\n",
    "oat_result = perform_oat(rw_models.Kalman, pvl_no_iti.spont_rec, n = n, max_time = max_time, algorithm = algorithm)\n",
    "print(oat_result[0].round(3))\n",
    "\n",
    "print('\\n reinstatement')\n",
    "oat_result = perform_oat(rw_models.Kalman, pvl_no_iti.reinstatement, n = n, max_time = max_time, algorithm = algorithm)\n",
    "print(oat_result[0].round(3))"
   ]
  },
  {
   "cell_type": "code",
   "execution_count": 2,
   "metadata": {},
   "outputs": [
    {
     "name": "stdout",
     "output_type": "stream",
     "text": [
      "\n",
      " Latent cause model with Chinese restaurant process prior\n",
      "\n",
      " renewal\n"
     ]
    },
    {
     "ename": "NameError",
     "evalue": "name 'lc_models' is not defined",
     "output_type": "error",
     "traceback": [
      "\u001b[0;31m---------------------------------------------------------------------------\u001b[0m",
      "\u001b[0;31mNameError\u001b[0m                                 Traceback (most recent call last)",
      "\u001b[0;32m<ipython-input-2-2430d41154c5>\u001b[0m in \u001b[0;36m<module>\u001b[0;34m\u001b[0m\n\u001b[1;32m      2\u001b[0m \u001b[0;34m\u001b[0m\u001b[0m\n\u001b[1;32m      3\u001b[0m \u001b[0mprint\u001b[0m\u001b[0;34m(\u001b[0m\u001b[0;34m'\\n renewal'\u001b[0m\u001b[0;34m)\u001b[0m\u001b[0;34m\u001b[0m\u001b[0;34m\u001b[0m\u001b[0m\n\u001b[0;32m----> 4\u001b[0;31m \u001b[0moat_result\u001b[0m \u001b[0;34m=\u001b[0m \u001b[0mperform_oat\u001b[0m\u001b[0;34m(\u001b[0m\u001b[0mlc_models\u001b[0m\u001b[0;34m.\u001b[0m\u001b[0mnormal_crp\u001b[0m\u001b[0;34m,\u001b[0m \u001b[0mpvl_no_iti\u001b[0m\u001b[0;34m.\u001b[0m\u001b[0mrenewal\u001b[0m\u001b[0;34m,\u001b[0m \u001b[0mn\u001b[0m \u001b[0;34m=\u001b[0m \u001b[0mn\u001b[0m\u001b[0;34m,\u001b[0m \u001b[0mmax_time\u001b[0m \u001b[0;34m=\u001b[0m \u001b[0mmax_time\u001b[0m\u001b[0;34m,\u001b[0m \u001b[0malgorithm\u001b[0m \u001b[0;34m=\u001b[0m \u001b[0malgorithm\u001b[0m\u001b[0;34m)\u001b[0m\u001b[0;34m\u001b[0m\u001b[0;34m\u001b[0m\u001b[0m\n\u001b[0m\u001b[1;32m      5\u001b[0m \u001b[0mprint\u001b[0m\u001b[0;34m(\u001b[0m\u001b[0moat_result\u001b[0m\u001b[0;34m[\u001b[0m\u001b[0;36m0\u001b[0m\u001b[0;34m]\u001b[0m\u001b[0;34m.\u001b[0m\u001b[0mround\u001b[0m\u001b[0;34m(\u001b[0m\u001b[0;36m3\u001b[0m\u001b[0;34m)\u001b[0m\u001b[0;34m)\u001b[0m\u001b[0;34m\u001b[0m\u001b[0;34m\u001b[0m\u001b[0m\n\u001b[1;32m      6\u001b[0m \u001b[0;34m\u001b[0m\u001b[0m\n",
      "\u001b[0;31mNameError\u001b[0m: name 'lc_models' is not defined"
     ]
    }
   ],
   "source": [
    "print('\\n Latent cause model with Chinese restaurant process prior')\n",
    "\n",
    "print('\\n renewal')\n",
    "oat_result = perform_oat(lc_models.normal_crp, pvl_no_iti.renewal, n = n, max_time = max_time, algorithm = algorithm)\n",
    "print(oat_result[0].round(3))\n",
    "\n",
    "print('\\n spontaneous recovery')\n",
    "oat_result = perform_oat(lc_models.normal_crp, pvl_no_iti.spont_rec, n = n, max_time = max_time, algorithm = algorithm)\n",
    "print(oat_result[0].round(3))\n",
    "\n",
    "print('\\n reinstatement')\n",
    "oat_result = perform_oat(lc_models.normal_crp, pvl_no_iti.reinstatement, n = n, max_time = max_time, algorithm = algorithm)\n",
    "print(oat_result[0].round(3))"
   ]
  },
  {
   "cell_type": "code",
   "execution_count": null,
   "metadata": {},
   "outputs": [],
   "source": [
    "print('\\n Latent cause model with power law kernel prior')\n",
    "\n",
    "print('\\n renewal')\n",
    "oat_result = perform_oat(lc_models.normal_power, pvl_no_iti.renewal, n = n, max_time = max_time, algorithm = algorithm)\n",
    "print(oat_result[0].round(3))\n",
    "\n",
    "print('\\n spontaneous recovery')\n",
    "oat_result = perform_oat(lc_models.normal_power, pvl_no_iti.spont_rec, n = n, max_time = max_time, algorithm = algorithm)\n",
    "print(oat_result[0].round(3))\n",
    "\n",
    "print('\\n reinstatement')\n",
    "oat_result = perform_oat(lc_models.normal_power, pvl_no_iti.reinstatement, n = n, max_time = max_time, algorithm = algorithm)\n",
    "print(oat_result[0].round(3))"
   ]
  },
  {
   "cell_type": "code",
   "execution_count": null,
   "metadata": {},
   "outputs": [],
   "source": []
  }
 ],
 "metadata": {
  "kernelspec": {
   "display_name": "Python 3",
   "language": "python",
   "name": "python3"
  },
  "language_info": {
   "codemirror_mode": {
    "name": "ipython",
    "version": 3
   },
   "file_extension": ".py",
   "mimetype": "text/x-python",
   "name": "python",
   "nbconvert_exporter": "python",
   "pygments_lexer": "ipython3",
   "version": "3.8.5"
  }
 },
 "nbformat": 4,
 "nbformat_minor": 4
}
