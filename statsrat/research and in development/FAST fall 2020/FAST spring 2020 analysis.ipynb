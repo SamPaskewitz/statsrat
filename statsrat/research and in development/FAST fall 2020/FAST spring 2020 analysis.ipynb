{
 "cells": [
  {
   "cell_type": "code",
   "execution_count": 1,
   "metadata": {},
   "outputs": [],
   "source": [
    "import numpy as np\n",
    "import pandas as pd\n",
    "import seaborn as sns\n",
    "import statsmodels.formula.api as smf\n",
    "from scipy import stats\n",
    "from sklearn.decomposition import FactorAnalysis"
   ]
  },
  {
   "cell_type": "code",
   "execution_count": 2,
   "metadata": {},
   "outputs": [
    {
     "name": "stdout",
     "output_type": "stream",
     "text": [
      "Index(['ident', 'schedule', 'tutorial_0a_last8_pct_correct',\n",
      "       'tutorial_0b_last8_pct_correct', 'tutorial_0c_last8_pct_correct',\n",
      "       'training_last8_pct_correct', 'transfer_last8_pct_correct', 'rel_irl',\n",
      "       'threat_benign_os', 'threat_benign_ri', 'Section Sum', 'anx1', 'anx2',\n",
      "       'anx3', 'anx4', 'anx5', 'anx6', 'anx7', 'anx8', 'ang1', 'ang2', 'ang3',\n",
      "       'ang4', 'ang5', 'dep1', 'dep2', 'dep3', 'dep4', 'dep5', 'dep6', 'dep7',\n",
      "       'dep8', 'pos1', 'pos2', 'pos3', 'pos4', 'pos5', 'pos6', 'pos7', 'pos8',\n",
      "       'pos9', 'pos10', 'pos11', 'pos12', 'pos13', 'pos14', 'pos15',\n",
      "       'promis_anx_sum', 'promis_anx_std', 'promis_anx', 'promis_ang_sum',\n",
      "       'promis_ang_std', 'promis_ang', 'promis_dep_sum', 'promis_dep_std',\n",
      "       'promis_dep', 'promis_pos_sum', 'promis_pos_std', 'promis_pos', 'eta0',\n",
      "       'lrate', 'lrate_atn', 'metric', 'resp_scale', 'prop_log_post',\n",
      "       'good_perf'],\n",
      "      dtype='object')\n",
      "Index(['ident', 'schedule', 'tutorial_0a_last8_pct_correct',\n",
      "       'tutorial_0b_last8_pct_correct', 'tutorial_0c_last8_pct_correct',\n",
      "       'training_last8_pct_correct', 'transfer_last8_pct_correct', 'rel_irl',\n",
      "       'threat_benign_os', 'threat_benign_ri', 'Section Sum', 'anx1', 'anx2',\n",
      "       'anx3', 'anx4', 'anx5', 'anx6', 'anx7', 'anx8', 'ang1', 'ang2', 'ang3',\n",
      "       'ang4', 'ang5', 'dep1', 'dep2', 'dep3', 'dep4', 'dep5', 'dep6', 'dep7',\n",
      "       'dep8', 'pos1', 'pos2', 'pos3', 'pos4', 'pos5', 'pos6', 'pos7', 'pos8',\n",
      "       'pos9', 'pos10', 'pos11', 'pos12', 'pos13', 'pos14', 'pos15',\n",
      "       'promis_anx_sum', 'promis_anx_std', 'promis_anx', 'promis_ang_sum',\n",
      "       'promis_ang_std', 'promis_ang', 'promis_dep_sum', 'promis_dep_std',\n",
      "       'promis_dep', 'promis_pos_sum', 'promis_pos_std', 'promis_pos', 'eta0',\n",
      "       'lrate', 'lrate_atn', 'metric', 'resp_scale', 'prop_log_post',\n",
      "       'good_perf', 'sqrt_eta0', 'log_eta0'],\n",
      "      dtype='object')\n",
      "127\n",
      "89\n"
     ]
    }
   ],
   "source": [
    "# Read in processed data.\n",
    "df = pd.read_csv('summary_spring2020.csv')\n",
    "print(df.columns)\n",
    "\n",
    "# Transformed values of relevant variables.\n",
    "df = df.assign(sqrt_eta0 = np.sqrt(df.eta0))\n",
    "df = df.assign(log_eta0 = np.log(df.eta0))\n",
    "\n",
    "df_good = df.loc[df.good_perf].copy() # only participants who pass the performance criterion\n",
    "\n",
    "df_norm = pd.DataFrame(0.0,\n",
    "                       index = df.index,\n",
    "                       columns = ['eta0', 'sqrt_eta0', 'log_eta0', 'threat_benign_os', 'promis_anx', 'promis_ang', 'promis_dep',  'promis_pos'])\n",
    "for var_name in df_norm.columns.values:\n",
    "    df_norm[var_name] = (df[var_name] - df[var_name].mean())/df[var_name].std()\n",
    "df_norm['good_perf'] = df['good_perf']\n",
    "df_good_norm = df_norm.loc[df_norm.good_perf]\n",
    "print(df.columns)\n",
    "print(df.shape[0])\n",
    "print(df_good.shape[0])"
   ]
  },
  {
   "cell_type": "code",
   "execution_count": 3,
   "metadata": {},
   "outputs": [
    {
     "name": "stdout",
     "output_type": "stream",
     "text": [
      "      lrate  lrate_atn\n",
      "0  0.140468   1.520684\n",
      "1  0.821032   1.999000\n",
      "2  0.532302   1.999000\n",
      "3  0.280143   0.293351\n",
      "4  0.994677   0.183114\n"
     ]
    }
   ],
   "source": [
    "print(df[['lrate', 'lrate_atn']].head())"
   ]
  },
  {
   "cell_type": "code",
   "execution_count": 4,
   "metadata": {},
   "outputs": [
    {
     "name": "stdout",
     "output_type": "stream",
     "text": [
      "CORRELATIONS \n",
      "\n",
      "promis_ang\n",
      "threat_benign_os\n",
      "            x                 y     r       p   n\n",
      "0        eta0  threat_benign_os  0.21  0.0497  89\n",
      "1  promis_anx  threat_benign_ri -0.09  0.3987  89\n",
      "2  promis_anx  threat_benign_os -0.05  0.6672  89\n",
      "3  promis_anx              eta0  0.05  0.6657  89\n",
      "4  promis_ang  threat_benign_os -0.03  0.7921  87\n",
      "5  promis_ang              eta0  0.06  0.5532  87\n",
      "6  promis_anx        promis_ang   0.6       0  87\n",
      "7  promis_anx        promis_pos -0.46       0  88\n"
     ]
    }
   ],
   "source": [
    "print('CORRELATIONS \\n')\n",
    "data = df_good\n",
    "x = ['eta0'] + 3*['promis_anx'] + 2*['promis_ang'] + 2*['promis_anx']\n",
    "y = ['threat_benign_os', 'threat_benign_ri'] + 2*['threat_benign_os', 'eta0'] + ['promis_ang', 'promis_pos']\n",
    "n_rows = len(x)\n",
    "print(x[4])\n",
    "print(y[4])\n",
    "rtests = pd.DataFrame(index = range(n_rows),\n",
    "                      columns = ['x', 'y', 'r', 'p', 'n'])\n",
    "for i in range(n_rows):\n",
    "    data_ok = data[[x[i], y[i]]].dropna()\n",
    "    x_var = data_ok[x[i]]\n",
    "    y_var = data_ok[y[i]]\n",
    "    rtests.iloc[i]['x'] = x[i]\n",
    "    rtests.iloc[i]['y'] = y[i]\n",
    "    (r, p) = stats.pearsonr(x_var, y_var)\n",
    "    rtests.iloc[i]['r'] = np.round(r, 2)\n",
    "    rtests.iloc[i]['p'] = np.round(p, 4)\n",
    "    rtests.iloc[i]['n'] = data_ok.shape[0]\n",
    "print(rtests)"
   ]
  },
  {
   "cell_type": "code",
   "execution_count": 5,
   "metadata": {},
   "outputs": [
    {
     "name": "stdout",
     "output_type": "stream",
     "text": [
      "       eta0      ident\n",
      "0  0.815658  0222rehom\n",
      "1  4.582733  0111gariv\n",
      "2  1.245213  0128meher\n",
      "3  1.515109  0410legra\n",
      "4  1.034777  0510shfai\n"
     ]
    }
   ],
   "source": [
    "print(df[['eta0', 'ident']].head())"
   ]
  },
  {
   "cell_type": "code",
   "execution_count": 6,
   "metadata": {},
   "outputs": [
    {
     "name": "stdout",
     "output_type": "stream",
     "text": [
      "-82.88648518951628\n"
     ]
    }
   ],
   "source": [
    "print(np.mean(df['prop_log_post']))"
   ]
  },
  {
   "cell_type": "code",
   "execution_count": null,
   "metadata": {},
   "outputs": [],
   "source": []
  }
 ],
 "metadata": {
  "kernelspec": {
   "display_name": "Python 3",
   "language": "python",
   "name": "python3"
  },
  "language_info": {
   "codemirror_mode": {
    "name": "ipython",
    "version": 3
   },
   "file_extension": ".py",
   "mimetype": "text/x-python",
   "name": "python",
   "nbconvert_exporter": "python",
   "pygments_lexer": "ipython3",
   "version": "3.8.5"
  }
 },
 "nbformat": 4,
 "nbformat_minor": 4
}
