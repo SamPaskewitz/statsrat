{
 "cells": [
  {
   "cell_type": "code",
   "execution_count": 1,
   "metadata": {},
   "outputs": [],
   "source": [
    "import numpy as np\n",
    "import pandas as pd\n",
    "import statsrat as sr\n",
    "from statsrat import rw\n",
    "from statsrat.expr.predef.cat import fast"
   ]
  },
  {
   "cell_type": "code",
   "execution_count": 2,
   "metadata": {},
   "outputs": [],
   "source": [
    "# Indicate whether the learning model should be fit.\n",
    "fit_model = True\n",
    "\n",
    "# Define learning model.\n",
    "model = rw.model(name = 'CompAct_eta0',\n",
    "                 fbase = rw.fbase.elem,\n",
    "                 fweight = rw.fweight.from_aux_norm,\n",
    "                 lrate = rw.lrate.from_aux_norm,\n",
    "                 aux = rw.aux.gradcomp_eta0)\n",
    "\n",
    "# Define time limit for model fitting (in old R code was Inf, but is 10 by default in current code).\n",
    "max_time = 120"
   ]
  },
  {
   "cell_type": "code",
   "execution_count": null,
   "metadata": {},
   "outputs": [
    {
     "name": "stdout",
     "output_type": "stream",
     "text": [
      "wrong number of trials for file fast_data_spring/learning/20_spring_faces_2020_Jan_28_1526.csv\n",
      "trials found: 194\n",
      "trials expected: 204\n",
      "Usecols do not match columns, columns expected but not found: ['trial_resp.keys', 'test_resp.keys', 'conf_rating.response', 'cue2', 'cue1']\n",
      "Usecols do not match columns, columns expected but not found: ['test_resp.keys', 'conf_rating.response']\n",
      "Usecols do not match columns, columns expected but not found: ['trial_resp.keys', 'test_resp.keys', 'conf_rating.response', 'cue2', 'cue1']\n",
      "Usecols do not match columns, columns expected but not found: ['test_resp.keys', 'conf_rating.response']\n",
      "Usecols do not match columns, columns expected but not found: ['trial_resp.keys', 'test_resp.keys', 'conf_rating.response', 'cue2', 'cue1']\n",
      "Usecols do not match columns, columns expected but not found: ['trial_resp.keys', 'test_resp.keys', 'conf_rating.response', 'cue2', 'cue1']\n",
      "Usecols do not match columns, columns expected but not found: ['trial_resp.keys', 'test_resp.keys', 'conf_rating.response', 'cue2', 'cue1']\n",
      "Usecols do not match columns, columns expected but not found: ['trial_resp.keys', 'test_resp.keys', 'conf_rating.response', 'cue2', 'cue1']\n",
      "Usecols do not match columns, columns expected but not found: ['trial_resp.keys', 'test_resp.keys', 'conf_rating.response', 'cue2', 'cue1']\n",
      "Usecols do not match columns, columns expected but not found: ['test_resp.keys', 'conf_rating.response']\n"
     ]
    }
   ],
   "source": [
    "(ds_spring2020, summary_spring2020) = fast.read_csv(path = 'fast_data_spring/learning',\n",
    "                                                    x_col = ['cue1', 'cue2'],\n",
    "                                                    resp_col = ['trial_resp.keys', 'test_resp.keys'],\n",
    "                                                    resp_map = {'h' : 'cati', 'g' : 'catii', 'c' : 'cat1', 'm' : 'cat2', 's' : 'cat3', 'r' : 'cat4'},\n",
    "                                                    ident_col = 'sonaID',\n",
    "                                                    conf_col = 'conf_rating.response',\n",
    "                                                    n_final = 8)\n",
    "\n",
    "\n",
    "print(summary_spring2020)"
   ]
  },
  {
   "cell_type": "code",
   "execution_count": null,
   "metadata": {},
   "outputs": [],
   "source": [
    "# Import survey data.\n",
    "df_surveys = pd.read_csv('fast_data_spring/surveys/JonesSec9.csv')\n",
    "# FINISH\n",
    "\n",
    "# Only keep people whose surveys can be read.\n",
    "index = summary_fall2020_inlab.index.isin(foo.index.values)\n",
    "ds_fall2020_inlab = ds_fall2020_inlab[{'ident': index}]\n",
    "    \n",
    "if fit_model:\n",
    "    # Fit model.\n",
    "    bar = sr.fit_indv(model = model,\n",
    "                      ds = ds_spring2020,\n",
    "                      max_time = max_time)\n",
    "    # Concatenate data frames.\n",
    "    summary_spring2020 = pd.concat([summary_spring2020.loc[index], foo, bar], axis = 1)"
   ]
  },
  {
   "cell_type": "code",
   "execution_count": null,
   "metadata": {},
   "outputs": [],
   "source": [
    "print(summary_spring2020.shape[0])\n",
    "\n",
    "print(summary_spring2020['rel_irl'].min())\n",
    "print(summary_spring2020['rel_irl'].max())\n",
    "print(summary_spring2020['rel_irl'].mean())\n",
    "\n",
    "print(summary_spring2020['threat_benign_os'].min())\n",
    "print(summary_spring2020['threat_benign_os'].max())\n",
    "print(summary_spring2020['threat_benign_os'].mean())"
   ]
  },
  {
   "cell_type": "code",
   "execution_count": null,
   "metadata": {},
   "outputs": [],
   "source": []
  }
 ],
 "metadata": {
  "kernelspec": {
   "display_name": "Python 3",
   "language": "python",
   "name": "python3"
  },
  "language_info": {
   "codemirror_mode": {
    "name": "ipython",
    "version": 3
   },
   "file_extension": ".py",
   "mimetype": "text/x-python",
   "name": "python",
   "nbconvert_exporter": "python",
   "pygments_lexer": "ipython3",
   "version": "3.8.5"
  }
 },
 "nbformat": 4,
 "nbformat_minor": 4
}
