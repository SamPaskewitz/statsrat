{
 "cells": [
  {
   "cell_type": "code",
   "execution_count": 1,
   "metadata": {},
   "outputs": [],
   "source": [
    "import numpy as np\n",
    "import pandas as pd\n",
    "import seaborn as sns\n",
    "import statsmodels.formula.api as smf\n",
    "from scipy import stats\n",
    "from sklearn.decomposition import FactorAnalysis"
   ]
  },
  {
   "cell_type": "code",
   "execution_count": 14,
   "metadata": {},
   "outputs": [
    {
     "name": "stdout",
     "output_type": "stream",
     "text": [
      "Index(['schedule', 'tutorial_0a_last8_pct_correct',\n",
      "       'tutorial_0b_last8_pct_correct', 'tutorial_0c_last8_pct_correct',\n",
      "       'training_last8_pct_correct', 'transfer_last8_pct_correct', 'rel_irl',\n",
      "       'threat_benign_os', 'threat_benign_ri', 'Section Sum', 'anx1', 'anx2',\n",
      "       'anx3', 'anx4', 'anx5', 'anx6', 'anx7', 'anx8', 'ang1', 'ang2', 'ang3',\n",
      "       'ang4', 'ang5', 'dep1', 'dep2', 'dep3', 'dep4', 'dep5', 'dep6', 'dep7',\n",
      "       'dep8', 'pos1', 'pos2', 'pos3', 'pos4', 'pos5', 'pos6', 'pos7', 'pos8',\n",
      "       'pos9', 'pos10', 'pos11', 'pos12', 'pos13', 'pos14', 'pos15',\n",
      "       'promis_anx_sum', 'promis_anx_std', 'promis_anx', 'promis_ang_sum',\n",
      "       'promis_ang_std', 'promis_ang', 'promis_dep_sum', 'promis_dep_std',\n",
      "       'promis_dep', 'promis_pos_sum', 'promis_pos_std', 'promis_pos', 'eta0',\n",
      "       'lrate', 'lrate_atn', 'metric', 'resp_scale', 'prop_log_post',\n",
      "       'good_perf'],\n",
      "      dtype='object')\n",
      "Index(['schedule', 'tutorial_0a_last8_pct_correct',\n",
      "       'tutorial_0b_last8_pct_correct', 'tutorial_0c_last8_pct_correct',\n",
      "       'training_last8_pct_correct', 'transfer_last8_pct_correct', 'rel_irl',\n",
      "       'threat_benign_os', 'threat_benign_ri', 'Section Sum', 'anx1', 'anx2',\n",
      "       'anx3', 'anx4', 'anx5', 'anx6', 'anx7', 'anx8', 'ang1', 'ang2', 'ang3',\n",
      "       'ang4', 'ang5', 'dep1', 'dep2', 'dep3', 'dep4', 'dep5', 'dep6', 'dep7',\n",
      "       'dep8', 'pos1', 'pos2', 'pos3', 'pos4', 'pos5', 'pos6', 'pos7', 'pos8',\n",
      "       'pos9', 'pos10', 'pos11', 'pos12', 'pos13', 'pos14', 'pos15',\n",
      "       'promis_anx_sum', 'promis_anx_std', 'promis_anx', 'promis_ang_sum',\n",
      "       'promis_ang_std', 'promis_ang', 'promis_dep_sum', 'promis_dep_std',\n",
      "       'promis_dep', 'promis_pos_sum', 'promis_pos_std', 'promis_pos', 'eta0',\n",
      "       'lrate', 'lrate_atn', 'metric', 'resp_scale', 'prop_log_post',\n",
      "       'good_perf', 'sqrt_eta0', 'log_eta0'],\n",
      "      dtype='object')\n",
      "127\n",
      "89\n"
     ]
    }
   ],
   "source": [
    "# Read in processed data.\n",
    "df = pd.read_csv('summary_spring2020.csv')\n",
    "print(df.columns)\n",
    "\n",
    "# Transformed values of relevant variables.\n",
    "df = df.assign(sqrt_eta0 = np.sqrt(df.eta0))\n",
    "df = df.assign(log_eta0 = np.log(df.eta0))\n",
    "\n",
    "df_good = df.loc[df.good_perf].copy() # only participants who pass the performance criterion\n",
    "\n",
    "df_norm = pd.DataFrame(0.0,\n",
    "                       index = df.index,\n",
    "                       columns = ['eta0', 'sqrt_eta0', 'log_eta0', 'threat_benign_os', 'promis_anx', 'promis_ang', 'promis_dep',  'promis_pos'])\n",
    "for var_name in df_norm.columns.values:\n",
    "    df_norm[var_name] = (df[var_name] - df[var_name].mean())/df[var_name].std()\n",
    "df_norm['good_perf'] = df['good_perf']\n",
    "df_good_norm = df_norm.loc[df_norm.good_perf]\n",
    "print(df.columns)\n",
    "print(df.shape[0])\n",
    "print(df_good.shape[0])"
   ]
  },
  {
   "cell_type": "code",
   "execution_count": 25,
   "metadata": {},
   "outputs": [
    {
     "name": "stdout",
     "output_type": "stream",
     "text": [
      "[44.8 50.3 39.6 42.2 48.9 39.  55.9 33.  48.9 40.3 53.4 42.9 37.  46.2\n",
      " 58.  40.9 48.9 42.2 45.5 39.6 53.4 46.2 44.8 49.6 40.9 51.8 50.3 33.\n",
      " 54.2 45.5 33.  46.9 44.2 42.2 40.3 49.6 46.2 43.5 48.9 51.8 51.8 39.\n",
      " 39.6 40.3 41.6 48.9 46.2 50.3 43.5 22.5 48.9 45.5 51.8 48.9 36.4 40.3\n",
      " 46.2 32.3 47.5 47.5 39.6 43.5  nan 41.6 27.1 40.3 46.2 46.9 50.3 42.9\n",
      " 50.3 44.8 44.2 44.2 32.3 55.9 42.9 55.  50.3 50.3 45.5 51.1 51.1 44.2\n",
      " 48.2 44.2 38.3 42.9 38.3]\n",
      "No NaN detected.\n",
      "No inf detected.\n"
     ]
    }
   ],
   "source": [
    "data = df\n",
    "print(df_good['promis_pos'].values)\n",
    "\n",
    "# THIS DOES NOT ACTUALLY WORK FOR DETECTING NAN VALUES.\n",
    "nan_found = False\n",
    "inf_found = False\n",
    "for col in data.columns:\n",
    "    if np.NaN in df_good[col].values:\n",
    "        print('NaN detected in column ' + col)\n",
    "        nan_found = True\n",
    "    if np.inf in df_good[col].values:\n",
    "        print('inf detected in column ' + col)\n",
    "        inf_found = True\n",
    "if not nan_found:\n",
    "    print('No NaN detected.')\n",
    "if not inf_found:\n",
    "    print('No inf detected.')"
   ]
  },
  {
   "cell_type": "code",
   "execution_count": 28,
   "metadata": {},
   "outputs": [
    {
     "name": "stdout",
     "output_type": "stream",
     "text": [
      "CORRELATIONS \n",
      "\n",
      "promis_ang\n",
      "threat_benign_os\n",
      "            x                 y     r       p   n\n",
      "0        eta0  threat_benign_os  0.23  0.0317  89\n",
      "1  promis_anx  threat_benign_ri -0.09  0.3987  89\n",
      "2  promis_anx  threat_benign_os -0.05  0.6672  89\n",
      "3  promis_anx              eta0  0.07  0.5153  89\n",
      "4  promis_ang  threat_benign_os -0.03  0.7921  87\n",
      "5  promis_ang              eta0  0.06  0.5933  87\n",
      "6  promis_anx        promis_ang   0.6       0  87\n",
      "7  promis_anx        promis_pos -0.46       0  88\n"
     ]
    }
   ],
   "source": [
    "print('CORRELATIONS \\n')\n",
    "data = df_good\n",
    "x = ['eta0'] + 3*['promis_anx'] + 2*['promis_ang'] + 2*['promis_anx']\n",
    "y = ['threat_benign_os', 'threat_benign_ri'] + 2*['threat_benign_os', 'eta0'] + ['promis_ang', 'promis_pos']\n",
    "n_rows = len(x)\n",
    "print(x[4])\n",
    "print(y[4])\n",
    "rtests = pd.DataFrame(index = range(n_rows),\n",
    "                      columns = ['x', 'y', 'r', 'p', 'n'])\n",
    "for i in range(n_rows):\n",
    "    data_ok = data[[x[i], y[i]]].dropna()\n",
    "    x_var = data_ok[x[i]]\n",
    "    y_var = data_ok[y[i]]\n",
    "    rtests.iloc[i]['x'] = x[i]\n",
    "    rtests.iloc[i]['y'] = y[i]\n",
    "    (r, p) = stats.pearsonr(x_var, y_var)\n",
    "    rtests.iloc[i]['r'] = np.round(r, 2)\n",
    "    rtests.iloc[i]['p'] = np.round(p, 4)\n",
    "    rtests.iloc[i]['n'] = data_ok.shape[0]\n",
    "print(rtests)"
   ]
  },
  {
   "cell_type": "code",
   "execution_count": null,
   "metadata": {},
   "outputs": [],
   "source": []
  }
 ],
 "metadata": {
  "kernelspec": {
   "display_name": "Python 3",
   "language": "python",
   "name": "python3"
  },
  "language_info": {
   "codemirror_mode": {
    "name": "ipython",
    "version": 3
   },
   "file_extension": ".py",
   "mimetype": "text/x-python",
   "name": "python",
   "nbconvert_exporter": "python",
   "pygments_lexer": "ipython3",
   "version": "3.8.5"
  }
 },
 "nbformat": 4,
 "nbformat_minor": 4
}
