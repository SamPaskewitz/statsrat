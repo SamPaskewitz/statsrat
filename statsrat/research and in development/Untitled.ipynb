{
 "cells": [
  {
   "cell_type": "code",
   "execution_count": 1,
   "metadata": {},
   "outputs": [],
   "source": [
    "import statsrat as sr\n",
    "from statsrat import rw\n",
    "from statsrat.expr.predef.pvl_iti import spont_rec"
   ]
  },
  {
   "cell_type": "code",
   "execution_count": null,
   "metadata": {},
   "outputs": [],
   "source": [
    "basic = rw.model(name = 'basic_cfg2_intercept',\n",
    "                  fbase = rw.fbase.cfg2_intercept,\n",
    "                  fweight = rw.fweight.none,\n",
    "                  lrate = rw.lrate.cnst,\n",
    "                  aux = rw.aux.basic)\n",
    "\n",
    "Kalman = rw.model(name = 'Kalman_cfg2_intercept',\n",
    "                  fbase = rw.fbase.cfg2_intercept,\n",
    "                  fweight = rw.fweight.none,\n",
    "                  lrate = rw.lrate.from_aux_direct,\n",
    "                  aux = rw.aux.Kalman)\n",
    "trials = spont_rec.make_trials(schedule = 'experimental')\n",
    "foo = model.simulate(trials)\n",
    "print(foo)\n",
    "sr.learn_plot(foo, var = 'w')"
   ]
  },
  {
   "cell_type": "code",
   "execution_count": null,
   "metadata": {},
   "outputs": [],
   "source": []
  }
 ],
 "metadata": {
  "kernelspec": {
   "display_name": "Python 3",
   "language": "python",
   "name": "python3"
  },
  "language_info": {
   "codemirror_mode": {
    "name": "ipython",
    "version": 3
   },
   "file_extension": ".py",
   "mimetype": "text/x-python",
   "name": "python",
   "nbconvert_exporter": "python",
   "pygments_lexer": "ipython3",
   "version": "3.8.5"
  }
 },
 "nbformat": 4,
 "nbformat_minor": 4
}
