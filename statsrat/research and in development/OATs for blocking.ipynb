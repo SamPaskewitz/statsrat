{
 "cells": [
  {
   "cell_type": "code",
   "execution_count": 1,
   "metadata": {},
   "outputs": [],
   "source": [
    "import numpy as np\n",
    "import nlopt\n",
    "from statsrat import perform_oat\n",
    "from statsrat.expr.predef import pvl\n",
    "from statsrat.rw import predef as rw_models\n",
    "from statsrat.lc import predef as lc_models\n",
    "\n",
    "n = 2 # fixed trial sequences, so only need n = 1 FIX (don't need to average across trial sequences)\n",
    "#max_time = 5\n",
    "max_time = 30\n",
    "algorithm = nlopt.GN_DIRECT_L\n",
    "#algorithm = nlopt.GN_AGS\n",
    "#algorithm = nlopt.GN_ORIG_DIRECT\n",
    "#algorithm = nlopt.GD_STOGO"
   ]
  },
  {
   "cell_type": "code",
   "execution_count": 2,
   "metadata": {},
   "outputs": [
    {
     "name": "stdout",
     "output_type": "stream",
     "text": [
      "\n",
      " basic Rescorla-Wagner (elemental context features)\n",
      "\n",
      " renewal\n",
      "     lrate  mean  lower  upper\n",
      "min   0.01 -0.03  -0.03  -0.03\n",
      "max   0.12  0.02   0.02   0.02\n",
      "\n",
      " spontaneous recovery\n",
      "     lrate  mean  lower  upper\n",
      "min    0.5   0.0    0.0    0.0\n",
      "max    0.5   0.0    0.0    0.0\n",
      "\n",
      " reinstatement\n",
      "     lrate  mean  lower  upper\n",
      "min   1.00  0.02   0.02   0.02\n",
      "max   0.05  0.09   0.09   0.09\n"
     ]
    }
   ],
   "source": [
    "print('\\n Rescorla-Wagner')\n",
    "\n",
    "print('\\n blocking')\n",
    "oat_result = perform_oat(rw_models.basic, pvl.blocking, n = n, max_time = max_time, algorithm = algorithm)\n",
    "print(oat_result.round(3))"
   ]
  },
  {
   "cell_type": "code",
   "execution_count": 2,
   "metadata": {},
   "outputs": [
    {
     "name": "stdout",
     "output_type": "stream",
     "text": [
      "\n",
      " Latent cause model\n",
      "\n",
      " blocking\n",
      "        a0  alpha   lmb0   mean  lower  upper\n",
      "min  8.333   20.0  8.333 -0.046 -0.049 -0.043\n",
      "max  1.667   20.0  1.667  0.018  0.013  0.023\n"
     ]
    }
   ],
   "source": [
    "print('\\n Latent cause model')\n",
    "\n",
    "print('\\n blocking')\n",
    "oat_result = perform_oat(lc_models.normal_crp, pvl.blocking, n = n, max_time = max_time, algorithm = algorithm)\n",
    "print(oat_result.round(3))"
   ]
  },
  {
   "cell_type": "code",
   "execution_count": null,
   "metadata": {},
   "outputs": [],
   "source": []
  }
 ],
 "metadata": {
  "kernelspec": {
   "display_name": "Python 3",
   "language": "python",
   "name": "python3"
  },
  "language_info": {
   "codemirror_mode": {
    "name": "ipython",
    "version": 3
   },
   "file_extension": ".py",
   "mimetype": "text/x-python",
   "name": "python",
   "nbconvert_exporter": "python",
   "pygments_lexer": "ipython3",
   "version": "3.7.3"
  }
 },
 "nbformat": 4,
 "nbformat_minor": 4
}
