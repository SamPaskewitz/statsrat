{
 "cells": [
  {
   "cell_type": "code",
   "execution_count": 1,
   "metadata": {},
   "outputs": [],
   "source": [
    "import numpy as np\n",
    "import xarray as xr\n",
    "import pandas as pd\n",
    "import nlopt\n",
    "import seaborn as sns\n",
    "from statsrat import perform_oat, oat_grid, make_sim_data, learn_plot\n",
    "from statsrat.expr.predef import kitten\n",
    "import statsrat.bayes_regr as br\n",
    "from statsrat.rw.fbase import elem, elem_intercept\n",
    "from scipy import stats"
   ]
  },
  {
   "cell_type": "code",
   "execution_count": 3,
   "metadata": {},
   "outputs": [
    {
     "name": "stdout",
     "output_type": "stream",
     "text": [
      "                        min   max  default\n",
      "prior_tausq_inv_hpar0 -10.0   0.0     -2.0\n",
      "prior_tausq_inv_hpar1   1.0  11.0      3.0\n",
      "u_var                   0.0  10.0      0.1\n",
      "resp_scale              0.0  10.0      1.0\n"
     ]
    }
   ],
   "source": [
    "m = br.model(name = 'linear ARD derived attention', fbase = elem, link = br.link.linear, tausq_inv_dist = br.tausq_inv_dist.ard_drv_atn)\n",
    "n = 10\n",
    "max_time = 10\n",
    "print(m.pars)\n",
    "par_val = [-2, 3, 1, 5]\n",
    "#algorithm = nlopt.GN_DIRECT_L\n",
    "#algorithm = nlopt.GN_AGS\n",
    "algorithm = nlopt.GN_ORIG_DIRECT\n",
    "#algorithm = nlopt.GD_STOGO"
   ]
  },
  {
   "cell_type": "code",
   "execution_count": 4,
   "metadata": {
    "scrolled": true
   },
   "outputs": [
    {
     "name": "stdout",
     "output_type": "stream",
     "text": [
      "Maximizing OAT score.\n",
      "     prior_tausq_inv_hpar0  prior_tausq_inv_hpar1     u_var      mean  \\\n",
      "max                -2.5005                 3.5005  1.667333  0.063567   \n",
      "\n",
      "        lower     upper  \n",
      "max  0.063068  0.064066  \n",
      "  schedule      trial_name u_name  mean_resp\n",
      "0   design  a.y -> nothing   cat3   0.531798\n",
      "1   design  a.y -> nothing   cat4   0.468202\n",
      "2   design  b.x -> nothing   cat3   0.468232\n",
      "3   design  b.x -> nothing   cat4   0.531768\n"
     ]
    },
    {
     "name": "stderr",
     "output_type": "stream",
     "text": [
      "/opt/anaconda3/lib/python3.8/site-packages/plotnine/ggplot.py:727: PlotnineWarning: Saving 6.4 x 4.8 in image.\n",
      "/opt/anaconda3/lib/python3.8/site-packages/plotnine/ggplot.py:730: PlotnineWarning: Filename: lrn_pred_tausq.png\n",
      "/opt/anaconda3/lib/python3.8/site-packages/plotnine/ggplot.py:727: PlotnineWarning: Saving 6.4 x 4.8 in image.\n",
      "/opt/anaconda3/lib/python3.8/site-packages/plotnine/ggplot.py:730: PlotnineWarning: Filename: lrn_pred_w.png\n"
     ]
    }
   ],
   "source": [
    "oat_result = perform_oat(m, kitten.lrn_pred, minimize = False, n = n, max_time = max_time, algorithm = algorithm)\n",
    "print(oat_result[0])\n",
    "print(oat_result[1])\n",
    "\n",
    "trials = kitten.lrn_pred.make_trials()\n",
    "ds = m.simulate(trials = trials, par_val = par_val)\n",
    "index = ds.stage_name == 'training'\n",
    "learn_plot(ds, 'mean_tausq', {'u_name': ['cat1'], 't': index}).save(filename = 'lrn_pred_tausq.png')\n",
    "learn_plot(ds, 'mean_w', {'u_name': ['cat1', 'cat2'], 't': index}).save(filename = 'lrn_pred_w.png')"
   ]
  },
  {
   "cell_type": "code",
   "execution_count": 4,
   "metadata": {},
   "outputs": [
    {
     "name": "stdout",
     "output_type": "stream",
     "text": [
      "Maximizing OAT score.\n",
      "     prior_tausq_inv_hpar0  prior_tausq_inv_hpar1     u_var      mean  \\\n",
      "max                 -9.999                7.24975  1.667333  0.975256   \n",
      "\n",
      "        lower     upper  \n",
      "max  0.975256  0.975256  \n",
      "  schedule      trial_name u_name  mean_resp\n",
      "0   design  a.y -> nothing   cat1   0.987628\n",
      "1   design  a.y -> nothing   cat2   0.012372\n",
      "2   design  b.x -> nothing   cat1   0.012372\n",
      "3   design  b.x -> nothing   cat2   0.987628\n",
      "Maximizing OAT score.\n",
      "     prior_tausq_inv_hpar0  prior_tausq_inv_hpar1     u_var      mean  \\\n",
      "max                -2.5005                    6.0  1.667333  0.094457   \n",
      "\n",
      "        lower     upper  \n",
      "max  0.094124  0.094789  \n",
      "  schedule      trial_name u_name  mean_resp\n",
      "0   design  a.y -> nothing   cat3   0.547326\n",
      "1   design  a.y -> nothing   cat4   0.452674\n",
      "2   design  b.x -> nothing   cat3   0.452869\n",
      "3   design  b.x -> nothing   cat4   0.547131\n"
     ]
    },
    {
     "name": "stderr",
     "output_type": "stream",
     "text": [
      "/opt/anaconda3/lib/python3.8/site-packages/plotnine/ggplot.py:727: PlotnineWarning: Saving 6.4 x 4.8 in image.\n",
      "/opt/anaconda3/lib/python3.8/site-packages/plotnine/ggplot.py:730: PlotnineWarning: Filename: blk_inatn_tausq.png\n",
      "/opt/anaconda3/lib/python3.8/site-packages/plotnine/ggplot.py:727: PlotnineWarning: Saving 6.4 x 4.8 in image.\n",
      "/opt/anaconda3/lib/python3.8/site-packages/plotnine/ggplot.py:730: PlotnineWarning: Filename: blk_inatn_w.png\n"
     ]
    }
   ],
   "source": [
    "oat_result = perform_oat(m, kitten.blk_inatn, oat = 'blocking', minimize = False, n = n, max_time = max_time, algorithm = algorithm)\n",
    "print(oat_result[0])\n",
    "print(oat_result[1])\n",
    "\n",
    "oat_result = perform_oat(m, kitten.blk_inatn, oat = 'inattention', minimize = False, n = n, max_time = max_time, algorithm = algorithm)\n",
    "print(oat_result[0])\n",
    "print(oat_result[1])\n",
    "\n",
    "trials = kitten.blk_inatn.make_trials()\n",
    "ds = m.simulate(trials = trials, par_val = par_val)\n",
    "index = ds.stage_name.isin(['single_cue', 'double_cue'])\n",
    "learn_plot(ds, 'mean_tausq', {'u_name': ['cat1'], 't': index}).save(filename = 'blk_inatn_tausq.png')\n",
    "learn_plot(ds, 'mean_w', {'u_name': ['cat1', 'cat2'], 't': index}).save(filename = 'blk_inatn_w.png')"
   ]
  },
  {
   "cell_type": "code",
   "execution_count": 2,
   "metadata": {},
   "outputs": [
    {
     "ename": "NameError",
     "evalue": "name 'm' is not defined",
     "output_type": "error",
     "traceback": [
      "\u001b[0;31m---------------------------------------------------------------------------\u001b[0m",
      "\u001b[0;31mNameError\u001b[0m                                 Traceback (most recent call last)",
      "\u001b[0;32m<ipython-input-2-9626775636bd>\u001b[0m in \u001b[0;36m<module>\u001b[0;34m\u001b[0m\n\u001b[0;32m----> 1\u001b[0;31m \u001b[0moat_result\u001b[0m \u001b[0;34m=\u001b[0m \u001b[0mperform_oat\u001b[0m\u001b[0;34m(\u001b[0m\u001b[0mm\u001b[0m\u001b[0;34m,\u001b[0m \u001b[0mkitten\u001b[0m\u001b[0;34m.\u001b[0m\u001b[0mbkwd_blk\u001b[0m\u001b[0;34m,\u001b[0m \u001b[0moat\u001b[0m \u001b[0;34m=\u001b[0m \u001b[0;34m'blocking'\u001b[0m\u001b[0;34m,\u001b[0m \u001b[0mminimize\u001b[0m \u001b[0;34m=\u001b[0m \u001b[0;32mFalse\u001b[0m\u001b[0;34m,\u001b[0m \u001b[0mn\u001b[0m \u001b[0;34m=\u001b[0m \u001b[0mn\u001b[0m\u001b[0;34m,\u001b[0m \u001b[0mmax_time\u001b[0m \u001b[0;34m=\u001b[0m \u001b[0mmax_time\u001b[0m\u001b[0;34m,\u001b[0m \u001b[0malgorithm\u001b[0m \u001b[0;34m=\u001b[0m \u001b[0malgorithm\u001b[0m\u001b[0;34m)\u001b[0m\u001b[0;34m\u001b[0m\u001b[0;34m\u001b[0m\u001b[0m\n\u001b[0m\u001b[1;32m      2\u001b[0m \u001b[0mprint\u001b[0m\u001b[0;34m(\u001b[0m\u001b[0moat_result\u001b[0m\u001b[0;34m[\u001b[0m\u001b[0;36m0\u001b[0m\u001b[0;34m]\u001b[0m\u001b[0;34m)\u001b[0m\u001b[0;34m\u001b[0m\u001b[0;34m\u001b[0m\u001b[0m\n\u001b[1;32m      3\u001b[0m \u001b[0mprint\u001b[0m\u001b[0;34m(\u001b[0m\u001b[0moat_result\u001b[0m\u001b[0;34m[\u001b[0m\u001b[0;36m1\u001b[0m\u001b[0;34m]\u001b[0m\u001b[0;34m)\u001b[0m\u001b[0;34m\u001b[0m\u001b[0;34m\u001b[0m\u001b[0m\n\u001b[1;32m      4\u001b[0m \u001b[0;34m\u001b[0m\u001b[0m\n\u001b[1;32m      5\u001b[0m \u001b[0mtrials\u001b[0m \u001b[0;34m=\u001b[0m \u001b[0mkitten\u001b[0m\u001b[0;34m.\u001b[0m\u001b[0mbkwd_blk\u001b[0m\u001b[0;34m.\u001b[0m\u001b[0mmake_trials\u001b[0m\u001b[0;34m(\u001b[0m\u001b[0;34m)\u001b[0m\u001b[0;34m\u001b[0m\u001b[0;34m\u001b[0m\u001b[0m\n",
      "\u001b[0;31mNameError\u001b[0m: name 'm' is not defined"
     ]
    }
   ],
   "source": [
    "oat_result = perform_oat(m, kitten.bkwd_blk, minimize = False, n = n, max_time = max_time, algorithm = algorithm)\n",
    "print(oat_result[0])\n",
    "print(oat_result[1])\n",
    "\n",
    "trials = kitten.bkwd_blk.make_trials()\n",
    "ds = m.simulate(trials = trials, par_val = par_val)\n",
    "index = ds.stage_name.isin(['single_cue', 'double_cue'])\n",
    "learn_plot(ds, 'mean_tausq', {'u_name': ['cat1'], 't': index}).save(filename = 'bkwd_blk_tausq.png')\n",
    "learn_plot(ds, 'mean_w', {'u_name': ['cat1', 'cat2'], 't': index}).save(filename = 'bkwd_blk_w.png')"
   ]
  },
  {
   "cell_type": "code",
   "execution_count": 5,
   "metadata": {},
   "outputs": [
    {
     "name": "stdout",
     "output_type": "stream",
     "text": [
      "Maximizing OAT score.\n",
      "     prior_tausq_inv_hpar0  prior_tausq_inv_hpar1     u_var      mean  \\\n",
      "max              -0.625875               1.573802  1.667333  0.157001   \n",
      "\n",
      "        lower     upper  \n",
      "max  0.156403  0.157599  \n",
      "  schedule      trial_name u_name  mean_resp\n",
      "0   design  a.y -> nothing   cat3   0.578681\n",
      "1   design  a.y -> nothing   cat4   0.421319\n",
      "2   design  b.x -> nothing   cat3   0.421680\n",
      "3   design  b.x -> nothing   cat4   0.578320\n"
     ]
    },
    {
     "name": "stderr",
     "output_type": "stream",
     "text": [
      "/opt/anaconda3/lib/python3.8/site-packages/plotnine/ggplot.py:727: PlotnineWarning: Saving 6.4 x 4.8 in image.\n",
      "/opt/anaconda3/lib/python3.8/site-packages/plotnine/ggplot.py:730: PlotnineWarning: Filename: value_sal_tausq.png\n",
      "/opt/anaconda3/lib/python3.8/site-packages/plotnine/ggplot.py:727: PlotnineWarning: Saving 6.4 x 4.8 in image.\n",
      "/opt/anaconda3/lib/python3.8/site-packages/plotnine/ggplot.py:730: PlotnineWarning: Filename: value_sal_w.png\n"
     ]
    }
   ],
   "source": [
    "oat_result = perform_oat(m, kitten.value_sal, minimize = False, n = n, max_time = max_time, algorithm = algorithm)\n",
    "print(oat_result[0])\n",
    "print(oat_result[1])\n",
    "\n",
    "trials = kitten.value_sal.make_trials()\n",
    "ds = m.simulate(trials = trials, par_val = par_val)\n",
    "learn_plot(ds, 'mean_tausq', {'u_name': ['cat1']}).save(filename = 'value_sal_tausq.png')\n",
    "learn_plot(ds, 'mean_w', {'u_name': ['cat1', 'cat2']}).save(filename = 'value_sal_w.png')"
   ]
  },
  {
   "cell_type": "code",
   "execution_count": null,
   "metadata": {},
   "outputs": [],
   "source": []
  }
 ],
 "metadata": {
  "kernelspec": {
   "display_name": "Python 3",
   "language": "python",
   "name": "python3"
  },
  "language_info": {
   "codemirror_mode": {
    "name": "ipython",
    "version": 3
   },
   "file_extension": ".py",
   "mimetype": "text/x-python",
   "name": "python",
   "nbconvert_exporter": "python",
   "pygments_lexer": "ipython3",
   "version": "3.8.5"
  }
 },
 "nbformat": 4,
 "nbformat_minor": 4
}
