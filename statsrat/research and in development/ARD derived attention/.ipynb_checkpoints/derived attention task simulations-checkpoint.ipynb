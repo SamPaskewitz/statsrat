{
 "cells": [
  {
   "cell_type": "code",
   "execution_count": 1,
   "metadata": {},
   "outputs": [],
   "source": [
    "import numpy as np\n",
    "import xarray as xr\n",
    "import pandas as pd\n",
    "import nlopt\n",
    "import seaborn as sns\n",
    "from statsrat import perform_oat, oat_grid, make_sim_data, learn_plot\n",
    "from statsrat.expr.predef import kitten\n",
    "import statsrat.bayes_regr as br\n",
    "from statsrat.rw.predef import drva\n",
    "from statsrat.rw.fbase import elem, elem_intercept\n",
    "from scipy import stats\n",
    "from plotnine import theme, scale_x_continuous"
   ]
  },
  {
   "cell_type": "code",
   "execution_count": 2,
   "metadata": {},
   "outputs": [
    {
     "name": "stdout",
     "output_type": "stream",
     "text": [
      "                        min   max  default\n",
      "prior_tausq_inv_hpar0 -10.0   0.0     -2.0\n",
      "prior_tausq_inv_hpar1   1.0  11.0      3.0\n",
      "u_var                   0.0  10.0      0.1\n",
      "resp_scale              0.0  10.0      1.0\n"
     ]
    }
   ],
   "source": [
    "bdrva = br.model(name = 'linear ARD derived attention', fbase = elem, link = br.link.linear, tausq_inv_dist = br.tausq_inv_dist.ard_drv_atn)\n",
    "n = 10\n",
    "max_time = 10\n",
    "print(bdrva.pars)\n",
    "par_val = [-0.5, 2, 1.5, 5] # alpha0 = 2 + 1 = 3; beta0 = -(-0.5) = 0.5\n",
    "#algorithm = nlopt.GN_DIRECT_L\n",
    "#algorithm = nlopt.GN_AGS\n",
    "algorithm = nlopt.GN_ORIG_DIRECT\n",
    "#algorithm = nlopt.GD_STOGO\n",
    "run_oat = True"
   ]
  },
  {
   "cell_type": "code",
   "execution_count": 3,
   "metadata": {},
   "outputs": [
    {
     "name": "stdout",
     "output_type": "stream",
     "text": [
      "original derived attention: value effect\n",
      "  schedule      trial_name u_name  mean_resp\n",
      "0   design  a.y -> nothing   cat3   0.984278\n",
      "1   design  a.y -> nothing   cat4   0.015722\n",
      "2   design  b.x -> nothing   cat3   0.015722\n",
      "3   design  b.x -> nothing   cat4   0.984278\n"
     ]
    },
    {
     "name": "stderr",
     "output_type": "stream",
     "text": [
      "/opt/anaconda3/lib/python3.8/site-packages/plotnine/ggplot.py:727: PlotnineWarning: Saving 6.4 x 4.8 in image.\n",
      "/opt/anaconda3/lib/python3.8/site-packages/plotnine/ggplot.py:730: PlotnineWarning: Filename: original_value_atn.png\n",
      "/opt/anaconda3/lib/python3.8/site-packages/plotnine/ggplot.py:727: PlotnineWarning: Saving 6.4 x 4.8 in image.\n",
      "/opt/anaconda3/lib/python3.8/site-packages/plotnine/ggplot.py:730: PlotnineWarning: Filename: original_value_w.png\n"
     ]
    }
   ],
   "source": [
    "print('original derived attention: value effect')\n",
    "\n",
    "trials = kitten.value_sal.make_trials()\n",
    "ds = drva.simulate(trials = trials, par_val = [0.1, 0.99, 5])\n",
    "print(kitten.value_sal.oats['value'].mean_resp(ds))\n",
    "\n",
    "index = ds.stage_name.isin(['value', 'transfer'])\n",
    "learn_plot(ds, 'atn', {'t': index}, text_size = 12).save(filename = 'original_value_atn.png')\n",
    "learn_plot(ds, 'w', {'u_name': ['cat1', 'cat2'], 't': index}, text_size = 12).save(filename = 'original_value_w.png')"
   ]
  },
  {
   "cell_type": "code",
   "execution_count": 5,
   "metadata": {
    "scrolled": true
   },
   "outputs": [
    {
     "name": "stdout",
     "output_type": "stream",
     "text": [
      "Bayesian derived attention: learned predictiveness\n",
      "  schedule      trial_name u_name  mean_resp\n",
      "0   design  a.y -> nothing   cat3   0.569777\n",
      "1   design  a.y -> nothing   cat4   0.430223\n",
      "2   design  b.x -> nothing   cat3   0.430001\n",
      "3   design  b.x -> nothing   cat4   0.569999\n"
     ]
    },
    {
     "name": "stderr",
     "output_type": "stream",
     "text": [
      "/opt/anaconda3/lib/python3.8/site-packages/plotnine/ggplot.py:727: PlotnineWarning: Saving 6.4 x 4.8 in image.\n",
      "/opt/anaconda3/lib/python3.8/site-packages/plotnine/ggplot.py:730: PlotnineWarning: Filename: lrn_pred_tausq.png\n",
      "/opt/anaconda3/lib/python3.8/site-packages/plotnine/scales/scales.py:29: PlotnineWarning: Scale for 'x' is already present.\n",
      "Adding another scale for 'x',\n",
      "which will replace the existing scale.\n",
      "\n",
      "/opt/anaconda3/lib/python3.8/site-packages/plotnine/ggplot.py:727: PlotnineWarning: Saving 6.4 x 4.8 in image.\n",
      "/opt/anaconda3/lib/python3.8/site-packages/plotnine/ggplot.py:730: PlotnineWarning: Filename: lrn_pred_w.png\n"
     ]
    }
   ],
   "source": [
    "print('Bayesian derived attention: learned predictiveness')\n",
    "\n",
    "if run_oat:\n",
    "    oat_result = perform_oat(bdrva, kitten.lrn_pred, minimize = False, n = n, max_time = max_time, algorithm = algorithm)\n",
    "    print(oat_result[0])\n",
    "    print(oat_result[1])\n",
    "    print()\n",
    "\n",
    "trials = kitten.lrn_pred.make_trials()\n",
    "ds = bdrva.simulate(trials = trials, par_val = par_val)\n",
    "print(kitten.lrn_pred.oats['rel_irl'].mean_resp(ds))\n",
    "\n",
    "index = ds.stage_name.isin(['relevance', 'transfer'])\n",
    "learn_plot(ds, 'mean_tausq', {'u_name': ['cat1'], 't': index}, text_size = 12).save('lrn_pred_tausq.png')\n",
    "foo = learn_plot(ds, 'mean_w', {'u_name': ['cat1', 'cat2'], 't': index}, text_size = 12)\n",
    "foo += scale_x_continuous(name = 'stage', breaks = [0, 40], labels = ['rel', 'transfer'])\n",
    "foo.save(filename = 'lrn_pred_w.png')"
   ]
  },
  {
   "cell_type": "code",
   "execution_count": 5,
   "metadata": {},
   "outputs": [
    {
     "name": "stdout",
     "output_type": "stream",
     "text": [
      "Bayesian derived attention: blocking\n",
      "blocking\n",
      "  schedule      trial_name u_name  mean_resp\n",
      "0   design  e.y -> nothing   cat1   0.793112\n",
      "1   design  e.y -> nothing   cat2   0.206888\n",
      "2   design  g.x -> nothing   cat1   0.206886\n",
      "3   design  g.x -> nothing   cat2   0.793114\n",
      "inattention\n",
      "  schedule      trial_name u_name  mean_resp\n",
      "0   design  a.y -> nothing   cat3   0.631141\n",
      "1   design  a.y -> nothing   cat4   0.368859\n",
      "2   design  b.x -> nothing   cat3   0.368338\n",
      "3   design  b.x -> nothing   cat4   0.631662\n"
     ]
    },
    {
     "name": "stderr",
     "output_type": "stream",
     "text": [
      "/opt/anaconda3/lib/python3.8/site-packages/plotnine/ggplot.py:727: PlotnineWarning: Saving 6.4 x 4.8 in image.\n",
      "/opt/anaconda3/lib/python3.8/site-packages/plotnine/ggplot.py:730: PlotnineWarning: Filename: blk_inatn_tausq.png\n",
      "/opt/anaconda3/lib/python3.8/site-packages/plotnine/ggplot.py:727: PlotnineWarning: Saving 6.4 x 4.8 in image.\n",
      "/opt/anaconda3/lib/python3.8/site-packages/plotnine/ggplot.py:730: PlotnineWarning: Filename: blk_inatn_w.png\n"
     ]
    }
   ],
   "source": [
    "print('Bayesian derived attention: blocking')\n",
    "\n",
    "if run_oat:\n",
    "    oat_result = perform_oat(bdrva, kitten.blk_inatn, oat = 'blocking', minimize = False, n = n, max_time = max_time, algorithm = algorithm)\n",
    "    print('OAT for blocking')\n",
    "    print(oat_result[0])\n",
    "    print(oat_result[1])\n",
    "\n",
    "    oat_result = perform_oat(bdrva, kitten.blk_inatn, oat = 'inattention', minimize = False, n = n, max_time = max_time, algorithm = algorithm)\n",
    "    print('OAT for inattention')\n",
    "    print(oat_result[0])\n",
    "    print(oat_result[1])\n",
    "    print()\n",
    "\n",
    "trials = kitten.blk_inatn.make_trials()\n",
    "ds = bdrva.simulate(trials = trials, par_val = par_val)\n",
    "print('blocking')\n",
    "print(kitten.blk_inatn.oats['blocking'].mean_resp(ds))\n",
    "print('inattention')\n",
    "print(kitten.blk_inatn.oats['inattention'].mean_resp(ds))\n",
    "\n",
    "index = ds.stage_name.isin(['single_cue', 'double_cue'])\n",
    "learn_plot(ds, 'mean_tausq', {'u_name': ['cat1'], 't': index}, text_size = 12).save(filename = 'blk_inatn_tausq.png')\n",
    "learn_plot(ds, 'mean_w', {'u_name': ['cat1', 'cat2'], 't': index}, text_size = 12).save(filename = 'blk_inatn_w.png')"
   ]
  },
  {
   "cell_type": "code",
   "execution_count": 6,
   "metadata": {},
   "outputs": [
    {
     "name": "stdout",
     "output_type": "stream",
     "text": [
      "Bayesian derived attention: value effect\n",
      "  schedule      trial_name u_name  mean_resp\n",
      "0   design  a.y -> nothing   cat3   0.575667\n",
      "1   design  a.y -> nothing   cat4   0.424333\n",
      "2   design  b.x -> nothing   cat3   0.427451\n",
      "3   design  b.x -> nothing   cat4   0.572549\n"
     ]
    },
    {
     "name": "stderr",
     "output_type": "stream",
     "text": [
      "/opt/anaconda3/lib/python3.8/site-packages/plotnine/ggplot.py:727: PlotnineWarning: Saving 6.4 x 4.8 in image.\n",
      "/opt/anaconda3/lib/python3.8/site-packages/plotnine/ggplot.py:730: PlotnineWarning: Filename: value_sal_tausq.png\n",
      "/opt/anaconda3/lib/python3.8/site-packages/plotnine/ggplot.py:727: PlotnineWarning: Saving 6.4 x 4.8 in image.\n",
      "/opt/anaconda3/lib/python3.8/site-packages/plotnine/ggplot.py:730: PlotnineWarning: Filename: value_sal_w.png\n"
     ]
    }
   ],
   "source": [
    "print('Bayesian derived attention: value effect')\n",
    "\n",
    "if run_oat:\n",
    "    oat_result = perform_oat(bdrva, kitten.value_sal, minimize = False, n = n, max_time = max_time, algorithm = algorithm)\n",
    "    print(oat_result[0])\n",
    "    print(oat_result[1])\n",
    "    print()\n",
    "\n",
    "trials = kitten.value_sal.make_trials()\n",
    "ds = bdrva.simulate(trials = trials, par_val = par_val)\n",
    "print(kitten.value_sal.oats['value'].mean_resp(ds))\n",
    "\n",
    "index = ds.stage_name.isin(['value', 'transfer'])\n",
    "learn_plot(ds, 'mean_tausq', {'u_name': ['cat1'], 't': index}, text_size = 12).save(filename = 'value_sal_tausq.png')\n",
    "learn_plot(ds, 'mean_w', {'u_name': ['cat1', 'cat2'], 't': index}, text_size = 12).save(filename = 'value_sal_w.png')"
   ]
  },
  {
   "cell_type": "code",
   "execution_count": 7,
   "metadata": {},
   "outputs": [
    {
     "name": "stdout",
     "output_type": "stream",
     "text": [
      "Bayesian derived attention: retrospective revaluation\n",
      "  schedule      trial_name u_name  mean_resp\n",
      "0   design  e.y -> nothing   cat1   0.792506\n",
      "1   design  e.y -> nothing   cat2   0.207494\n",
      "2   design  g.x -> nothing   cat1   0.206906\n",
      "3   design  g.x -> nothing   cat2   0.793094\n"
     ]
    },
    {
     "name": "stderr",
     "output_type": "stream",
     "text": [
      "/opt/anaconda3/lib/python3.8/site-packages/plotnine/ggplot.py:727: PlotnineWarning: Saving 6.4 x 4.8 in image.\n",
      "/opt/anaconda3/lib/python3.8/site-packages/plotnine/ggplot.py:730: PlotnineWarning: Filename: bkwd_blk_tausq.png\n",
      "/opt/anaconda3/lib/python3.8/site-packages/plotnine/ggplot.py:727: PlotnineWarning: Saving 6.4 x 4.8 in image.\n",
      "/opt/anaconda3/lib/python3.8/site-packages/plotnine/ggplot.py:730: PlotnineWarning: Filename: bkwd_blk_w.png\n"
     ]
    }
   ],
   "source": [
    "print('Bayesian derived attention: retrospective revaluation')\n",
    "\n",
    "if run_oat:\n",
    "    oat_result = perform_oat(bdrva, kitten.bkwd_blk, minimize = False, n = n, max_time = max_time, algorithm = algorithm)\n",
    "    print(oat_result[0])\n",
    "    print(oat_result[1])\n",
    "    print()\n",
    "\n",
    "trials = kitten.bkwd_blk.make_trials()\n",
    "ds = bdrva.simulate(trials = trials, par_val = par_val)\n",
    "print(kitten.bkwd_blk.oats['blocking'].mean_resp(ds))\n",
    "\n",
    "index = ds.stage_name.isin(['single_cue', 'double_cue'])\n",
    "learn_plot(ds, 'mean_tausq', {'u_name': ['cat1'], 't': index}, text_size = 12).save(filename = 'bkwd_blk_tausq.png')\n",
    "learn_plot(ds, 'mean_w', {'t': index}, text_size = 12).save(filename = 'bkwd_blk_w.png')"
   ]
  }
 ],
 "metadata": {
  "kernelspec": {
   "display_name": "Python 3",
   "language": "python",
   "name": "python3"
  },
  "language_info": {
   "codemirror_mode": {
    "name": "ipython",
    "version": 3
   },
   "file_extension": ".py",
   "mimetype": "text/x-python",
   "name": "python",
   "nbconvert_exporter": "python",
   "pygments_lexer": "ipython3",
   "version": "3.8.5"
  }
 },
 "nbformat": 4,
 "nbformat_minor": 4
}
