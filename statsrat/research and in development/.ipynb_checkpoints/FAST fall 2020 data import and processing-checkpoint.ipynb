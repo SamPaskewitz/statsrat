{
 "cells": [
  {
   "cell_type": "code",
   "execution_count": 1,
   "metadata": {},
   "outputs": [],
   "source": [
    "import numpy as np\n",
    "import pandas as pd\n",
    "import statsrat as sr\n",
    "from statsrat import rw\n",
    "from statsrat.expr.predef.cat import fast\n",
    "import read_fast_surveys as rfs"
   ]
  },
  {
   "cell_type": "code",
   "execution_count": 2,
   "metadata": {},
   "outputs": [],
   "source": [
    "# Indicate whether data import should be tested for debugging purposes.\n",
    "test_import = False\n",
    "\n",
    "# Indicate whether the learning model should be fit.\n",
    "fit_model = True\n",
    "\n",
    "# Define learning model.\n",
    "CompAct_fast = rw.model(name = 'CompAct_fast',\n",
    "                        fbase = rw.fbase.elem,\n",
    "                        fweight = rw.fweight.from_aux_norm,\n",
    "                        lrate = rw.lrate.from_aux_norm,\n",
    "                        aux = rw.aux.gradcomp_fast)\n",
    "\n",
    "# Define time limit for model fitting (in old R code was Inf, but is 10 by default in current code).\n",
    "max_time = 60"
   ]
  },
  {
   "cell_type": "code",
   "execution_count": 3,
   "metadata": {},
   "outputs": [],
   "source": [
    "# Test import of in lab data\n",
    "if test_import:\n",
    "    path = 'fast_data_inlab_debug'\n",
    "    (ds_fall2020_inlab, summary_fall2020_inlab) = fast.read_csv(path = path,\n",
    "                                                                x_col = ['cue1', 'cue2'],\n",
    "                                                                resp_col = ['trial_resp.keys', 'test_resp.keys'],\n",
    "                                                                resp_map = {'h' : 'cati', 'g' : 'catii', 'c' : 'cat1', 'm' : 'cat2', 's' : 'cat3', 'r' : 'cat4'},\n",
    "                                                                ident_col = 'participant',\n",
    "                                                                conf_col = 'conf_rating.response',\n",
    "                                                                other_info = {'age': ('questionText', 'What is your age?', 'slider.response'),\n",
    "                                                                              'sex': ('questionText', 'What was your biological sex assigned at birth?', 'slider.response'),\n",
    "                                                                              'latinx': ('questionText', 'Do you consider yourself to be of Hispanic, Latino, or Spanish origin?', 'slider.response'),\n",
    "                                                                              'race': ('questionText', 'With which racial group do you most closely identify?', 'slider.response'),\n",
    "                                                                              'employment': ('questionText', 'What is your current employment status?', 'slider.response')},\n",
    "                                                               n_final = 8)\n",
    "    # Import survey data.\n",
    "    foo = rfs.read_surveys(path = path,\n",
    "                           fun = rfs.process_psychopy,\n",
    "                           ident_col = 'participant')\n",
    "\n",
    "    # Only keep people whose surveys can be read.\n",
    "    index = summary_fall2020_inlab.index.isin(foo.index.values)\n",
    "    ds_fall2020_inlab = ds_fall2020_inlab[{'ident': index}]\n",
    "\n",
    "    if fit_model:\n",
    "        # Fit model.\n",
    "        bar = sr.fit_em(model = CompAct_fast,\n",
    "                        ds = ds_fall2020_inlab,\n",
    "                        max_time = max_time)\n",
    "        # Concatenate data frames.\n",
    "        summary_fall2020_inlab = pd.concat([summary_fall2020_inlab.loc[index], foo, bar], axis = 1)\n",
    "    else:\n",
    "        # Concatenate data frames.\n",
    "        summary_fall2020_inlab = pd.concat([summary_fall2020_inlab.loc[index], foo], axis = 1)\n",
    "    print(summary_fall2020_inlab)"
   ]
  },
  {
   "cell_type": "code",
   "execution_count": 4,
   "metadata": {},
   "outputs": [],
   "source": [
    "# Test import of online data\n",
    "if test_import:\n",
    "    path = 'fast_data_online_debug'\n",
    "    (ds_fall2020_online, summary_fall2020_online) = fast.read_csv(path = path,\n",
    "                                                                  x_col = ['abstract_stim1', 'abstract_stim2'],\n",
    "                                                                  resp_col = ['response'],\n",
    "                                                                  resp_map = {'h' : 'cati', 'g' : 'catii', 'l' : 'cat1', 'o' : 'cat2', 's' : 'cat3', 'r' : 'cat4'},\n",
    "                                                                  ident_col = None,\n",
    "                                                                  other_info = {'age': ('head', 'What is your age?', 'response'),\n",
    "                                                                                'sex': ('head', 'What was your biological sex assigned at birth?', 'response'),\n",
    "                                                                                'latinx': ('head', 'Do you consider yourself to be Hispanic, Latino, or of Spanish origin?', 'response'),\n",
    "                                                                                'race': ('head', 'With which racial group do you identify (select the one with which you MOST CLOSELY identify)?', 'response'),\n",
    "                                                                                'employment': ('head', 'What is your current employment status?', 'response')},\n",
    "                                                                  header = 2,\n",
    "                                                                  n_final = 8)\n",
    "    # Import survey data.\n",
    "    foo = rfs.read_surveys(path = path,\n",
    "                           fun = rfs.process_testable,\n",
    "                           ident_col = None,\n",
    "                           header = 2)\n",
    "\n",
    "    # Only keep people whose surveys can be read.\n",
    "    index = summary_fall2020_online.index.isin(foo.index.values)\n",
    "    ds_fall2020_online = ds_fall2020_online[{'ident': index}]\n",
    "\n",
    "    if fit_model:\n",
    "        # Fit model.\n",
    "        bar = sr.fit_em(model = CompAct_fast,\n",
    "                        ds = ds_fall2020_online,\n",
    "                        max_time = max_time)\n",
    "        # Concatenate data frames.\n",
    "        summary_fall2020_online = pd.concat([summary_fall2020_online.loc[index], foo, bar], axis = 1)\n",
    "    else:\n",
    "        # Concatenate data frames.\n",
    "        summary_fall2020_online = pd.concat([summary_fall2020_online.loc[index], foo], axis = 1)\n",
    "    print(summary_fall2020_online)"
   ]
  },
  {
   "cell_type": "code",
   "execution_count": 5,
   "metadata": {},
   "outputs": [
    {
     "name": "stderr",
     "output_type": "stream",
     "text": [
      "b'Skipping line 229: expected 733 fields, saw 737\\n'\n",
      "b'Skipping line 229: expected 733 fields, saw 737\\n'\n",
      "b'Skipping line 229: expected 737 fields, saw 741\\n'\n",
      "b'Skipping line 229: expected 737 fields, saw 741\\n'\n",
      "b'Skipping line 229: expected 733 fields, saw 737\\n'\n",
      "b'Skipping line 229: expected 737 fields, saw 741\\n'\n",
      "b'Skipping line 229: expected 733 fields, saw 737\\n'\n",
      "b'Skipping line 229: expected 737 fields, saw 741\\n'\n",
      "b'Skipping line 229: expected 733 fields, saw 737\\n'\n",
      "b'Skipping line 229: expected 733 fields, saw 737\\n'\n",
      "b'Skipping line 229: expected 733 fields, saw 737\\n'\n",
      "b'Skipping line 229: expected 733 fields, saw 737\\n'\n",
      "b'Skipping line 229: expected 733 fields, saw 737\\n'\n",
      "b'Skipping line 229: expected 733 fields, saw 737\\n'\n",
      "b'Skipping line 229: expected 733 fields, saw 737\\n'\n",
      "b'Skipping line 229: expected 733 fields, saw 737\\n'\n",
      "b'Skipping line 229: expected 733 fields, saw 737\\n'\n",
      "b'Skipping line 229: expected 737 fields, saw 741\\n'\n",
      "b'Skipping line 229: expected 737 fields, saw 741\\n'\n",
      "b'Skipping line 229: expected 733 fields, saw 737\\n'\n",
      "b'Skipping line 229: expected 733 fields, saw 737\\n'\n",
      "b'Skipping line 229: expected 733 fields, saw 737\\n'\n",
      "b'Skipping line 229: expected 737 fields, saw 741\\n'\n",
      "b'Skipping line 229: expected 733 fields, saw 737\\n'\n",
      "b'Skipping line 229: expected 737 fields, saw 741\\n'\n",
      "b'Skipping line 229: expected 737 fields, saw 741\\n'\n",
      "b'Skipping line 229: expected 733 fields, saw 737\\n'\n",
      "b'Skipping line 229: expected 733 fields, saw 737\\n'\n",
      "b'Skipping line 229: expected 737 fields, saw 741\\n'\n",
      "b'Skipping line 229: expected 737 fields, saw 741\\n'\n",
      "b'Skipping line 229: expected 733 fields, saw 737\\n'\n",
      "b'Skipping line 229: expected 733 fields, saw 737\\n'\n",
      "b'Skipping line 229: expected 733 fields, saw 737\\n'\n",
      "b'Skipping line 229: expected 733 fields, saw 737\\n'\n",
      "b'Skipping line 229: expected 737 fields, saw 741\\n'\n",
      "b'Skipping line 229: expected 733 fields, saw 737\\n'\n",
      "b'Skipping line 229: expected 733 fields, saw 737\\n'\n",
      "b'Skipping line 229: expected 733 fields, saw 737\\n'\n",
      "b'Skipping line 229: expected 733 fields, saw 737\\n'\n",
      "b'Skipping line 229: expected 737 fields, saw 741\\n'\n",
      "b'Skipping line 229: expected 733 fields, saw 737\\n'\n",
      "b'Skipping line 229: expected 733 fields, saw 737\\n'\n",
      "b'Skipping line 229: expected 733 fields, saw 737\\n'\n",
      "b'Skipping line 229: expected 733 fields, saw 737\\n'\n",
      "b'Skipping line 229: expected 733 fields, saw 737\\n'\n",
      "b'Skipping line 229: expected 733 fields, saw 737\\n'\n",
      "b'Skipping line 229: expected 737 fields, saw 741\\n'\n",
      "b'Skipping line 229: expected 733 fields, saw 737\\n'\n",
      "b'Skipping line 229: expected 737 fields, saw 741\\n'\n",
      "b'Skipping line 229: expected 737 fields, saw 741\\n'\n",
      "b'Skipping line 229: expected 733 fields, saw 737\\n'\n",
      "b'Skipping line 229: expected 733 fields, saw 737\\n'\n",
      "b'Skipping line 229: expected 737 fields, saw 741\\n'\n",
      "b'Skipping line 229: expected 733 fields, saw 737\\n'\n",
      "b'Skipping line 229: expected 737 fields, saw 741\\n'\n",
      "b'Skipping line 229: expected 733 fields, saw 737\\n'\n",
      "b'Skipping line 229: expected 733 fields, saw 737\\n'\n",
      "b'Skipping line 229: expected 733 fields, saw 737\\n'\n",
      "b'Skipping line 229: expected 733 fields, saw 737\\n'\n",
      "b'Skipping line 229: expected 733 fields, saw 737\\n'\n",
      "b'Skipping line 229: expected 737 fields, saw 741\\n'\n",
      "b'Skipping line 229: expected 733 fields, saw 737\\n'\n",
      "b'Skipping line 229: expected 733 fields, saw 737\\n'\n",
      "b'Skipping line 229: expected 733 fields, saw 737\\n'\n"
     ]
    },
    {
     "name": "stdout",
     "output_type": "stream",
     "text": [
      "['cue1', 'cue2']\n"
     ]
    },
    {
     "name": "stderr",
     "output_type": "stream",
     "text": [
      "b'Skipping line 229: expected 733 fields, saw 737\\n'\n",
      "b'Skipping line 229: expected 733 fields, saw 737\\n'\n",
      "b'Skipping line 229: expected 737 fields, saw 741\\n'\n",
      "b'Skipping line 229: expected 737 fields, saw 741\\n'\n",
      "b'Skipping line 229: expected 733 fields, saw 737\\n'\n"
     ]
    },
    {
     "name": "stdout",
     "output_type": "stream",
     "text": [
      "['cue1', 'cue2']\n"
     ]
    },
    {
     "name": "stderr",
     "output_type": "stream",
     "text": [
      "b'Skipping line 229: expected 733 fields, saw 737\\n'\n",
      "b'Skipping line 229: expected 733 fields, saw 737\\n'\n",
      "b'Skipping line 229: expected 733 fields, saw 737\\n'\n",
      "b'Skipping line 229: expected 733 fields, saw 737\\n'\n",
      "b'Skipping line 229: expected 733 fields, saw 737\\n'\n",
      "b'Skipping line 229: expected 733 fields, saw 737\\n'\n",
      "b'Skipping line 229: expected 737 fields, saw 741\\n'\n",
      "b'Skipping line 229: expected 737 fields, saw 741\\n'\n",
      "b'Skipping line 229: expected 737 fields, saw 741\\n'\n",
      "b'Skipping line 229: expected 733 fields, saw 737\\n'\n",
      "b'Skipping line 229: expected 733 fields, saw 737\\n'\n",
      "b'Skipping line 229: expected 733 fields, saw 737\\n'\n",
      "b'Skipping line 229: expected 737 fields, saw 741\\n'\n",
      "b'Skipping line 229: expected 733 fields, saw 737\\n'\n",
      "b'Skipping line 229: expected 733 fields, saw 737\\n'\n",
      "b'Skipping line 229: expected 733 fields, saw 737\\n'\n"
     ]
    },
    {
     "name": "stdout",
     "output_type": "stream",
     "text": [
      "['cue1', 'cue2']\n"
     ]
    },
    {
     "name": "stderr",
     "output_type": "stream",
     "text": [
      "b'Skipping line 229: expected 733 fields, saw 737\\n'\n",
      "b'Skipping line 229: expected 733 fields, saw 737\\n'\n",
      "b'Skipping line 229: expected 733 fields, saw 737\\n'\n",
      "b'Skipping line 229: expected 737 fields, saw 741\\n'\n",
      "b'Skipping line 229: expected 733 fields, saw 737\\n'\n",
      "b'Skipping line 229: expected 733 fields, saw 737\\n'\n",
      "b'Skipping line 229: expected 733 fields, saw 737\\n'\n"
     ]
    },
    {
     "name": "stdout",
     "output_type": "stream",
     "text": [
      "['cue1', 'cue2']\n"
     ]
    },
    {
     "name": "stderr",
     "output_type": "stream",
     "text": [
      "b'Skipping line 229: expected 733 fields, saw 737\\n'\n",
      "b'Skipping line 229: expected 733 fields, saw 737\\n'\n",
      "b'Skipping line 229: expected 737 fields, saw 741\\n'\n",
      "b'Skipping line 229: expected 733 fields, saw 737\\n'\n"
     ]
    },
    {
     "name": "stdout",
     "output_type": "stream",
     "text": [
      "0\n"
     ]
    },
    {
     "name": "stderr",
     "output_type": "stream",
     "text": [
      "b'Skipping line 229: expected 737 fields, saw 741\\n'\n",
      "b'Skipping line 229: expected 737 fields, saw 741\\n'\n",
      "b'Skipping line 229: expected 733 fields, saw 737\\n'\n",
      "b'Skipping line 229: expected 733 fields, saw 737\\n'\n",
      "b'Skipping line 229: expected 733 fields, saw 737\\n'\n",
      "b'Skipping line 229: expected 733 fields, saw 737\\n'\n",
      "b'Skipping line 229: expected 737 fields, saw 741\\n'\n",
      "b'Skipping line 229: expected 733 fields, saw 737\\n'\n",
      "b'Skipping line 229: expected 733 fields, saw 737\\n'\n",
      "b'Skipping line 229: expected 733 fields, saw 737\\n'\n",
      "b'Skipping line 229: expected 737 fields, saw 741\\n'\n",
      "b'Skipping line 229: expected 733 fields, saw 737\\n'\n",
      "b'Skipping line 229: expected 737 fields, saw 741\\n'\n",
      "b'Skipping line 229: expected 737 fields, saw 741\\n'\n",
      "b'Skipping line 229: expected 737 fields, saw 741\\n'\n",
      "b'Skipping line 229: expected 737 fields, saw 741\\n'\n",
      "b'Skipping line 229: expected 733 fields, saw 737\\n'\n"
     ]
    },
    {
     "name": "stdout",
     "output_type": "stream",
     "text": [
      "The following files could not be read by Pandas:\n",
      "fast_data_inlab/_fall_faces_2020_Oct_12_1324.csv\n",
      "fast_data_inlab/NDARGR305EJL_fall_faces_2020_Sep_17_1210.csv\n",
      "fast_data_inlab/_fall_faces_2020_Oct_16_1602.csv\n",
      "fast_data_inlab/_fall_faces_2020_Sep_21_1338.csv\n",
      "Participant ID (ident) could not be read from the following files:\n",
      "fast_data_inlab/_fall_faces_2020_Oct_22_1217.csv\n"
     ]
    },
    {
     "name": "stderr",
     "output_type": "stream",
     "text": [
      "b'Skipping line 229: expected 733 fields, saw 737\\n'\n",
      "b'Skipping line 229: expected 733 fields, saw 737\\n'\n",
      "b'Skipping line 229: expected 737 fields, saw 741\\n'\n",
      "b'Skipping line 229: expected 737 fields, saw 741\\n'\n",
      "b'Skipping line 229: expected 733 fields, saw 737\\n'\n",
      "b'Skipping line 229: expected 737 fields, saw 741\\n'\n",
      "b'Skipping line 229: expected 733 fields, saw 737\\n'\n",
      "b'Skipping line 229: expected 737 fields, saw 741\\n'\n",
      "b'Skipping line 229: expected 733 fields, saw 737\\n'\n",
      "b'Skipping line 229: expected 733 fields, saw 737\\n'\n",
      "b'Skipping line 229: expected 733 fields, saw 737\\n'\n",
      "b'Skipping line 229: expected 733 fields, saw 737\\n'\n",
      "b'Skipping line 229: expected 733 fields, saw 737\\n'\n",
      "b'Skipping line 229: expected 733 fields, saw 737\\n'\n",
      "b'Skipping line 229: expected 733 fields, saw 737\\n'\n",
      "b'Skipping line 229: expected 733 fields, saw 737\\n'\n",
      "b'Skipping line 229: expected 733 fields, saw 737\\n'\n",
      "b'Skipping line 229: expected 737 fields, saw 741\\n'\n",
      "b'Skipping line 229: expected 737 fields, saw 741\\n'\n",
      "b'Skipping line 229: expected 733 fields, saw 737\\n'\n",
      "b'Skipping line 229: expected 733 fields, saw 737\\n'\n",
      "b'Skipping line 229: expected 733 fields, saw 737\\n'\n",
      "b'Skipping line 229: expected 737 fields, saw 741\\n'\n",
      "b'Skipping line 229: expected 733 fields, saw 737\\n'\n",
      "b'Skipping line 229: expected 737 fields, saw 741\\n'\n",
      "b'Skipping line 229: expected 737 fields, saw 741\\n'\n",
      "b'Skipping line 229: expected 733 fields, saw 737\\n'\n",
      "b'Skipping line 229: expected 733 fields, saw 737\\n'\n",
      "b'Skipping line 229: expected 737 fields, saw 741\\n'\n",
      "b'Skipping line 229: expected 737 fields, saw 741\\n'\n",
      "b'Skipping line 229: expected 733 fields, saw 737\\n'\n",
      "b'Skipping line 229: expected 733 fields, saw 737\\n'\n",
      "b'Skipping line 229: expected 733 fields, saw 737\\n'\n",
      "b'Skipping line 229: expected 733 fields, saw 737\\n'\n",
      "b'Skipping line 229: expected 737 fields, saw 741\\n'\n",
      "b'Skipping line 229: expected 733 fields, saw 737\\n'\n",
      "b'Skipping line 229: expected 733 fields, saw 737\\n'\n",
      "b'Skipping line 229: expected 733 fields, saw 737\\n'\n",
      "b'Skipping line 229: expected 733 fields, saw 737\\n'\n",
      "b'Skipping line 229: expected 737 fields, saw 741\\n'\n",
      "b'Skipping line 229: expected 733 fields, saw 737\\n'\n",
      "b'Skipping line 229: expected 733 fields, saw 737\\n'\n",
      "b'Skipping line 229: expected 733 fields, saw 737\\n'\n",
      "b'Skipping line 229: expected 733 fields, saw 737\\n'\n",
      "b'Skipping line 229: expected 733 fields, saw 737\\n'\n",
      "b'Skipping line 229: expected 733 fields, saw 737\\n'\n",
      "b'Skipping line 229: expected 737 fields, saw 741\\n'\n",
      "b'Skipping line 229: expected 733 fields, saw 737\\n'\n",
      "b'Skipping line 229: expected 737 fields, saw 741\\n'\n",
      "b'Skipping line 229: expected 737 fields, saw 741\\n'\n",
      "b'Skipping line 229: expected 733 fields, saw 737\\n'\n",
      "b'Skipping line 229: expected 733 fields, saw 737\\n'\n",
      "b'Skipping line 229: expected 737 fields, saw 741\\n'\n",
      "b'Skipping line 229: expected 733 fields, saw 737\\n'\n",
      "b'Skipping line 229: expected 737 fields, saw 741\\n'\n",
      "b'Skipping line 229: expected 733 fields, saw 737\\n'\n",
      "b'Skipping line 229: expected 733 fields, saw 737\\n'\n",
      "b'Skipping line 229: expected 733 fields, saw 737\\n'\n",
      "b'Skipping line 229: expected 733 fields, saw 737\\n'\n",
      "b'Skipping line 229: expected 733 fields, saw 737\\n'\n",
      "b'Skipping line 229: expected 737 fields, saw 741\\n'\n",
      "b'Skipping line 229: expected 733 fields, saw 737\\n'\n",
      "b'Skipping line 229: expected 733 fields, saw 737\\n'\n",
      "b'Skipping line 229: expected 733 fields, saw 737\\n'\n",
      "b'Skipping line 229: expected 733 fields, saw 737\\n'\n"
     ]
    },
    {
     "name": "stdout",
     "output_type": "stream",
     "text": [
      "\"None of [Index(['anx_slider1.response', 'anx_slider2.response', 'anx_slider3.response',\\n       'anx_slider4.response', 'anx_slider5.response', 'anx_slider6.response',\\n       'anx_slider7.response', 'anx_slider8.response'],\\n      dtype='object')] are in the [columns]\"\n"
     ]
    },
    {
     "name": "stderr",
     "output_type": "stream",
     "text": [
      "b'Skipping line 229: expected 733 fields, saw 737\\n'\n",
      "b'Skipping line 229: expected 737 fields, saw 741\\n'\n",
      "b'Skipping line 229: expected 737 fields, saw 741\\n'\n",
      "b'Skipping line 229: expected 733 fields, saw 737\\n'\n",
      "b'Skipping line 229: expected 733 fields, saw 737\\n'\n",
      "b'Skipping line 229: expected 733 fields, saw 737\\n'\n"
     ]
    },
    {
     "name": "stdout",
     "output_type": "stream",
     "text": [
      "\"None of [Index(['anx_slider1.response', 'anx_slider2.response', 'anx_slider3.response',\\n       'anx_slider4.response', 'anx_slider5.response', 'anx_slider6.response',\\n       'anx_slider7.response', 'anx_slider8.response'],\\n      dtype='object')] are in the [columns]\"\n",
      "\"None of [Index(['anx_slider1.response', 'anx_slider2.response', 'anx_slider3.response',\\n       'anx_slider4.response', 'anx_slider5.response', 'anx_slider6.response',\\n       'anx_slider7.response', 'anx_slider8.response'],\\n      dtype='object')] are in the [columns]\"\n"
     ]
    },
    {
     "name": "stderr",
     "output_type": "stream",
     "text": [
      "b'Skipping line 229: expected 733 fields, saw 737\\n'\n",
      "b'Skipping line 229: expected 733 fields, saw 737\\n'\n",
      "b'Skipping line 229: expected 733 fields, saw 737\\n'\n",
      "b'Skipping line 229: expected 733 fields, saw 737\\n'\n",
      "b'Skipping line 229: expected 737 fields, saw 741\\n'\n",
      "b'Skipping line 229: expected 737 fields, saw 741\\n'\n",
      "b'Skipping line 229: expected 737 fields, saw 741\\n'\n",
      "b'Skipping line 229: expected 733 fields, saw 737\\n'\n",
      "b'Skipping line 229: expected 733 fields, saw 737\\n'\n",
      "b'Skipping line 229: expected 733 fields, saw 737\\n'\n",
      "b'Skipping line 229: expected 737 fields, saw 741\\n'\n",
      "b'Skipping line 229: expected 733 fields, saw 737\\n'\n",
      "b'Skipping line 229: expected 733 fields, saw 737\\n'\n",
      "b'Skipping line 229: expected 733 fields, saw 737\\n'\n",
      "b'Skipping line 229: expected 733 fields, saw 737\\n'\n"
     ]
    },
    {
     "name": "stdout",
     "output_type": "stream",
     "text": [
      "\"None of [Index(['anx_slider1.response', 'anx_slider2.response', 'anx_slider3.response',\\n       'anx_slider4.response', 'anx_slider5.response', 'anx_slider6.response',\\n       'anx_slider7.response', 'anx_slider8.response'],\\n      dtype='object')] are in the [columns]\"\n"
     ]
    },
    {
     "name": "stderr",
     "output_type": "stream",
     "text": [
      "b'Skipping line 229: expected 733 fields, saw 737\\n'\n",
      "b'Skipping line 229: expected 733 fields, saw 737\\n'\n",
      "b'Skipping line 229: expected 737 fields, saw 741\\n'\n",
      "b'Skipping line 229: expected 733 fields, saw 737\\n'\n",
      "b'Skipping line 229: expected 733 fields, saw 737\\n'\n",
      "b'Skipping line 229: expected 733 fields, saw 737\\n'\n"
     ]
    },
    {
     "name": "stdout",
     "output_type": "stream",
     "text": [
      "\"None of [Index(['anx_slider1.response', 'anx_slider2.response', 'anx_slider3.response',\\n       'anx_slider4.response', 'anx_slider5.response', 'anx_slider6.response',\\n       'anx_slider7.response', 'anx_slider8.response'],\\n      dtype='object')] are in the [columns]\"\n"
     ]
    },
    {
     "name": "stderr",
     "output_type": "stream",
     "text": [
      "b'Skipping line 229: expected 733 fields, saw 737\\n'\n",
      "b'Skipping line 229: expected 733 fields, saw 737\\n'\n",
      "b'Skipping line 229: expected 737 fields, saw 741\\n'\n"
     ]
    },
    {
     "name": "stdout",
     "output_type": "stream",
     "text": [
      "0\n"
     ]
    },
    {
     "name": "stderr",
     "output_type": "stream",
     "text": [
      "b'Skipping line 229: expected 733 fields, saw 737\\n'\n",
      "b'Skipping line 229: expected 737 fields, saw 741\\n'\n",
      "b'Skipping line 229: expected 737 fields, saw 741\\n'\n",
      "b'Skipping line 229: expected 733 fields, saw 737\\n'\n",
      "b'Skipping line 229: expected 733 fields, saw 737\\n'\n",
      "b'Skipping line 229: expected 733 fields, saw 737\\n'\n",
      "b'Skipping line 229: expected 733 fields, saw 737\\n'\n",
      "b'Skipping line 229: expected 737 fields, saw 741\\n'\n",
      "b'Skipping line 229: expected 733 fields, saw 737\\n'\n",
      "b'Skipping line 229: expected 733 fields, saw 737\\n'\n",
      "b'Skipping line 229: expected 733 fields, saw 737\\n'\n",
      "b'Skipping line 229: expected 737 fields, saw 741\\n'\n",
      "b'Skipping line 229: expected 733 fields, saw 737\\n'\n",
      "b'Skipping line 229: expected 737 fields, saw 741\\n'\n",
      "b'Skipping line 229: expected 737 fields, saw 741\\n'\n",
      "b'Skipping line 229: expected 737 fields, saw 741\\n'\n",
      "b'Skipping line 229: expected 737 fields, saw 741\\n'\n",
      "b'Skipping line 229: expected 733 fields, saw 737\\n'\n"
     ]
    },
    {
     "ename": "AttributeError",
     "evalue": "module 'statsrat' has no attribute 'fit_eb'",
     "output_type": "error",
     "traceback": [
      "\u001b[0;31m---------------------------------------------------------------------------\u001b[0m",
      "\u001b[0;31mAttributeError\u001b[0m                            Traceback (most recent call last)",
      "\u001b[0;32m<ipython-input-5-b39e23ab528f>\u001b[0m in \u001b[0;36m<module>\u001b[0;34m\u001b[0m\n\u001b[1;32m     29\u001b[0m     \u001b[0;32mif\u001b[0m \u001b[0mfit_model\u001b[0m\u001b[0;34m:\u001b[0m\u001b[0;34m\u001b[0m\u001b[0;34m\u001b[0m\u001b[0m\n\u001b[1;32m     30\u001b[0m         \u001b[0;31m# Fit model.\u001b[0m\u001b[0;34m\u001b[0m\u001b[0;34m\u001b[0m\u001b[0;34m\u001b[0m\u001b[0m\n\u001b[0;32m---> 31\u001b[0;31m         bar = sr.fit_eb(model = CompAct_fast,\n\u001b[0m\u001b[1;32m     32\u001b[0m                         \u001b[0mds\u001b[0m \u001b[0;34m=\u001b[0m \u001b[0mds_fall2020_inlab\u001b[0m\u001b[0;34m,\u001b[0m\u001b[0;34m\u001b[0m\u001b[0;34m\u001b[0m\u001b[0m\n\u001b[1;32m     33\u001b[0m                         max_time = max_time)\n",
      "\u001b[0;31mAttributeError\u001b[0m: module 'statsrat' has no attribute 'fit_eb'"
     ]
    }
   ],
   "source": [
    "# Import data collected in the lab (using Psychopy).\n",
    "\n",
    "if not test_import:\n",
    "    path = 'fast_data_inlab'\n",
    "\n",
    "    # Import trial by trial task data.\n",
    "    (ds_fall2020_inlab, summary_fall2020_inlab) = fast.read_csv(path = path,\n",
    "                                                                x_col = ['cue1', 'cue2'],\n",
    "                                                                resp_col = ['trial_resp.keys', 'test_resp.keys'],\n",
    "                                                                resp_map = {'h' : 'cati', 'g' : 'catii', 'c' : 'cat1', 'm' : 'cat2', 's' : 'cat3', 'r' : 'cat4'},\n",
    "                                                                ident_col = 'participant',\n",
    "                                                                #conf_col = 'conf_rating.response', # INCLUDE CONFIDENCE RATINGS IN OAT SCORES.\n",
    "                                                                other_info = {'age': ('questionText', 'What is your age?', 'slider.response'),\n",
    "                                                                              'sex': ('questionText', 'What was your biological sex assigned at birth?', 'slider.response'),\n",
    "                                                                              'latinx': ('questionText', 'Do you consider yourself to be of Hispanic, Latino, or Spanish origin?', 'slider.response'),\n",
    "                                                                              'race': ('questionText', 'With which racial group do you most closely identify?', 'slider.response'),\n",
    "                                                                              'employment': ('questionText', 'What is your current employment status?', 'slider.response')},\n",
    "                                                               n_final = 8)\n",
    "\n",
    "    # Import survey data.\n",
    "    foo = rfs.read_surveys(path = path,\n",
    "                           fun = rfs.process_psychopy,\n",
    "                           ident_col = 'participant')\n",
    "\n",
    "    # Only keep people whose surveys can be read.\n",
    "    index = summary_fall2020_inlab.index.isin(foo.index.values)\n",
    "    ds_fall2020_inlab = ds_fall2020_inlab[{'ident': index}]\n",
    "\n",
    "    if fit_model:\n",
    "        # Fit model.\n",
    "        bar = sr.fit_em(model = CompAct_fast,\n",
    "                        ds = ds_fall2020_inlab,\n",
    "                        max_time = max_time)\n",
    "        # Concatenate data frames.\n",
    "        summary_fall2020_inlab = pd.concat([summary_fall2020_inlab.loc[index], foo, bar], axis = 1)\n",
    "    else:\n",
    "        # Concatenate data frames.\n",
    "        summary_fall2020_inlab = pd.concat([summary_fall2020_inlab.loc[index], foo], axis = 1)\n",
    "    print(summary_fall2020_inlab)"
   ]
  },
  {
   "cell_type": "code",
   "execution_count": null,
   "metadata": {},
   "outputs": [],
   "source": [
    "# Import online data (collected using Testable).\n",
    "\n",
    "# IMPORTANT NOTE: Many data files have missing confidence ratings, but are otherwise readable.\n",
    "# THERE MUST BE SOME FLAW IN THE CURRENT TESTABLE CODE.\n",
    "\n",
    "# DOES NOT INCLUDE CONFIDENCE RATINGS IN OAT SCORES.\n",
    "\n",
    "if not test_import:\n",
    "    path = 'fast_data_online'\n",
    "    # Import trial by trial task data.\n",
    "    (ds_fall2020_online, summary_fall2020_online) = fast.read_csv(path = path,\n",
    "                                                                  x_col = ['abstract_stim1', 'abstract_stim2'],\n",
    "                                                                  resp_col = ['response'],\n",
    "                                                                  resp_map = {'h' : 'cati', 'g' : 'catii', 'l' : 'cat1', 'o' : 'cat2', 's' : 'cat3', 'r' : 'cat4'},\n",
    "                                                                  ident_col = None,\n",
    "                                                                  other_info = {'age': ('head', 'What is your age?', 'response'),\n",
    "                                                                                'sex': ('head', 'What was your biological sex assigned at birth?', 'response'),\n",
    "                                                                                'latinx': ('head', 'Do you consider yourself to be Hispanic, Latino, or of Spanish origin?', 'response'),\n",
    "                                                                                'race': ('head', 'With which racial group do you identify (select the one with which you MOST CLOSELY identify)?', 'response'),\n",
    "                                                                                'employment': ('head', 'What is your current employment status?', 'response')},\n",
    "                                                                  header = 2,\n",
    "                                                                  n_final = 8)\n",
    "    # Import survey data.\n",
    "    foo = rfs.read_surveys(path = path,\n",
    "                           fun = rfs.process_testable,\n",
    "                           ident_col = None,\n",
    "                           header = 2)\n",
    "\n",
    "    # Only keep people whose surveys can be read.\n",
    "    index = summary_fall2020_online.index.isin(foo.index.values)\n",
    "    ds_fall2020_online = ds_fall2020_online[{'ident': index}]\n",
    "\n",
    "    if fit_model:\n",
    "        # Fit model.\n",
    "        bar = sr.fit_em(model = CompAct_fast,\n",
    "                        ds = ds_fall2020_online,\n",
    "                        max_time = max_time)\n",
    "        # Concatenate data frames.\n",
    "        summary_fall2020_online = pd.concat([summary_fall2020_online.loc[index], foo, bar], axis = 1)\n",
    "    else:\n",
    "        # Concatenate data frames.\n",
    "        summary_fall2020_online = pd.concat([summary_fall2020_online.loc[index], foo], axis = 1)\n",
    "    print(summary_fall2020_online)"
   ]
  },
  {
   "cell_type": "code",
   "execution_count": null,
   "metadata": {},
   "outputs": [],
   "source": [
    "if not test_import:\n",
    "    # Combine online and in lab summary data.\n",
    "    foo = summary_fall2020_inlab\n",
    "    foo['source'] = 'inlab'\n",
    "    bar = summary_fall2020_online\n",
    "    bar['source'] = 'online'\n",
    "    summary_fall2020 = pd.concat([foo, bar], axis = 0)\n",
    "    summary_fall2020['avg_last8_pct_correct'] = (summary_fall2020['tutorial_0c_last8_pct_correct'] + summary_fall2020['training_last8_pct_correct'] + summary_fall2020['transfer_last8_pct_correct'])/3\n",
    "\n",
    "    # Add performance criterion.\n",
    "    # >= 75% on all stages (lumping all parts of stage 0 together as one stage) is the criterion for good performance that we used to analyze the Spring 2020 data. \n",
    "    summary_fall2020['good_perf'] = (summary_fall2020['tutorial_0c_last8_pct_correct'] >= 75)&(summary_fall2020['training_last8_pct_correct'] >= 75)&(summary_fall2020['transfer_last8_pct_correct'] >= 75)\n",
    "\n",
    "    # Export processed data.\n",
    "    #ds_fall2020.to_netcdf(\"ds_fall2020.nc\") # I need to actually combine the datasets.\n",
    "    summary_fall2020.to_csv('summary_fall2020.csv')"
   ]
  },
  {
   "cell_type": "code",
   "execution_count": null,
   "metadata": {},
   "outputs": [],
   "source": []
  }
 ],
 "metadata": {
  "kernelspec": {
   "display_name": "Python 3",
   "language": "python",
   "name": "python3"
  },
  "language_info": {
   "codemirror_mode": {
    "name": "ipython",
    "version": 3
   },
   "file_extension": ".py",
   "mimetype": "text/x-python",
   "name": "python",
   "nbconvert_exporter": "python",
   "pygments_lexer": "ipython3",
   "version": "3.8.5"
  }
 },
 "nbformat": 4,
 "nbformat_minor": 4
}
