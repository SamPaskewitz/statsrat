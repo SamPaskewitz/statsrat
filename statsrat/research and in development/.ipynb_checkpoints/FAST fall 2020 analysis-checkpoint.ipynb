{
 "cells": [
  {
   "cell_type": "code",
   "execution_count": null,
   "metadata": {},
   "outputs": [],
   "source": [
    "import numpy as np\n",
    "import pandas as pd\n",
    "import seaborn as sns\n",
    "import statsmodels.formula.api as smf\n",
    "from scipy import stats\n",
    "\n",
    "# UPDATE ALL OF THIS."
   ]
  },
  {
   "cell_type": "code",
   "execution_count": null,
   "metadata": {},
   "outputs": [],
   "source": [
    "# Read in processed data.\n",
    "df = pd.read_csv('summary_fall2020.csv')"
   ]
  },
  {
   "cell_type": "code",
   "execution_count": null,
   "metadata": {},
   "outputs": [],
   "source": [
    "n = summary_fall2020.shape[0]\n",
    "#y = np.array(summary_fall2020['promis_anx'])\n",
    "#X = np.zeros((n, 4))\n",
    "#X[:, 0] = 1\n",
    "#x1 = summary_fall2020['eta0']\n",
    "#X[:, 1] = (x1 - x1.mean())/x1.std()\n",
    "#x2 = summary_fall2020['avg_last8_pct_correct']\n",
    "#X[:, 2] = (x2 - x2.mean())/x2.std()\n",
    "#X[:, 3] = X[:, 1]*X[:, 2]\n",
    "#model = sm.OLS(y, X)\n",
    "model = smf.ols(formula = 'eta0 ~ promis_anx + promis_ang + promis_dep + promis_pos + bite',\n",
    "                data = summary_fall2020.loc[good_perf])\n",
    "results = model.fit()\n",
    "print(results.summary())\n",
    "\n",
    "print(n)\n",
    "print(index.sum())\n",
    "print(summary_fall2020[['promis_anx', 'promis_ang', 'promis_dep', 'promis_pos', 'bite', 'eta0']].loc[good_perf].corr())"
   ]
  },
  {
   "cell_type": "code",
   "execution_count": null,
   "metadata": {},
   "outputs": [],
   "source": [
    "sns.displot(summary_fall2020_inlab['eta0'])\n",
    "sns.displot(summary_fall2020_online['eta0'])"
   ]
  },
  {
   "cell_type": "code",
   "execution_count": null,
   "metadata": {},
   "outputs": [],
   "source": [
    "print('Demographic Breakdown (In Lab) \\n')\n",
    "\n",
    "print(summary_fall2020_inlab['sex'].value_counts())\n",
    "print('\\n')\n",
    "print(summary_fall2020_inlab['latinx'].value_counts())\n",
    "print('\\n')\n",
    "print(summary_fall2020_inlab['race'].value_counts())"
   ]
  },
  {
   "cell_type": "code",
   "execution_count": null,
   "metadata": {},
   "outputs": [],
   "source": [
    "print('Demographic Breakdown (Online) \\n')\n",
    "\n",
    "print(summary_fall2020_online['sex'].value_counts())\n",
    "print('\\n')\n",
    "print(summary_fall2020_online['latinx'].value_counts())\n",
    "print('\\n')\n",
    "print(summary_fall2020_online['race'].value_counts())"
   ]
  },
  {
   "cell_type": "code",
   "execution_count": null,
   "metadata": {},
   "outputs": [],
   "source": [
    "print('Raw Behavioral Scores (In Lab) \\n')\n",
    "\n",
    "score_name = ['rel_irl', 'threat_benign_os', 'threat_benign_ri']\n",
    "n_score = len(score_name)\n",
    "mean = np.zeros(n_score)\n",
    "t_val = np.zeros(n_score)\n",
    "p_val = np.zeros(n_score)\n",
    "for i in range(n_score):\n",
    "    mean[i] = np.round(summary_fall2020_inlab[score_name[i]].mean(), 2)\n",
    "    t_test = np.round(stats.ttest_1samp(summary_fall2020_inlab[score_name[i]], popmean = 0), 4)\n",
    "    t_val[i] = t_test[0]\n",
    "    p_val[i] = t_test[1]\n",
    "behav_scores_tests = pd.DataFrame({'score_name': score_name, 'mean': mean, 't_val': t_val, 'p_val': p_val})\n",
    "print(behav_scores_tests)"
   ]
  },
  {
   "cell_type": "code",
   "execution_count": null,
   "metadata": {},
   "outputs": [],
   "source": [
    "print('Raw Behavioral Scores (Online) \\n')\n",
    "\n",
    "score_name = ['rel_irl', 'threat_benign_os', 'threat_benign_ri']\n",
    "n_score = len(score_name)\n",
    "mean = np.zeros(n_score)\n",
    "t_val = np.zeros(n_score)\n",
    "p_val = np.zeros(n_score)\n",
    "for i in range(n_score):\n",
    "    mean[i] = np.round(summary_fall2020_online[score_name[i]].mean(), 2)\n",
    "    t_test = np.round(stats.ttest_1samp(summary_fall2020_online[score_name[i]], popmean = 0), 4)\n",
    "    t_val[i] = t_test[0]\n",
    "    p_val[i] = t_test[1]\n",
    "behav_scores_tests = pd.DataFrame({'score_name': score_name, 'mean': mean, 't_val': t_val, 'p_val': p_val})\n",
    "print(behav_scores_tests)"
   ]
  },
  {
   "cell_type": "code",
   "execution_count": null,
   "metadata": {},
   "outputs": [],
   "source": [
    "print('Percent Correct per Stage (In Lab) \\n')\n",
    "\n",
    "stage_name = ['tutorial_0a', 'tutorial_0b', 'tutorial_0c', 'training', 'transfer']\n",
    "n_stage = len(stage_name)\n",
    "mean = np.zeros(n_stage)\n",
    "t_val = np.zeros(n_stage)\n",
    "p_val = np.zeros(n_stage)\n",
    "for i in range(n_stage):\n",
    "    mean[i] = np.round(summary_fall2020_inlab[stage_name[i] + '_pct_correct'].mean(), 2)\n",
    "    t_test = np.round(stats.ttest_1samp(summary_fall2020_inlab[stage_name[i] + '_pct_correct'], popmean = 50), 4)\n",
    "    t_val[i] = t_test[0]\n",
    "    p_val[i] = t_test[1]\n",
    "pct_correct_tests = pd.DataFrame({'stage_name': stage_name, 'mean': mean, 't_val': t_val, 'p_val': p_val})\n",
    "print(pct_correct_tests)"
   ]
  },
  {
   "cell_type": "code",
   "execution_count": null,
   "metadata": {},
   "outputs": [],
   "source": [
    "print('Percent Correct per Stage (Online) \\n')\n",
    "\n",
    "stage_name = ['tutorial_0a', 'tutorial_0b', 'tutorial_0c', 'training', 'transfer']\n",
    "n_stage = len(stage_name)\n",
    "mean = np.zeros(n_stage)\n",
    "t_val = np.zeros(n_stage)\n",
    "p_val = np.zeros(n_stage)\n",
    "for i in range(n_stage):\n",
    "    mean[i] = np.round(summary_fall2020_online[stage_name[i] + '_pct_correct'].mean(), 2)\n",
    "    t_test = np.round(stats.ttest_1samp(summary_fall2020_online[stage_name[i] + '_pct_correct'], popmean = 50), 4)\n",
    "    t_val[i] = t_test[0]\n",
    "    p_val[i] = t_test[1]\n",
    "pct_correct_tests = pd.DataFrame({'stage_name': stage_name, 'mean': mean, 't_val': t_val, 'p_val': p_val})\n",
    "print(pct_correct_tests)"
   ]
  },
  {
   "cell_type": "code",
   "execution_count": null,
   "metadata": {},
   "outputs": [],
   "source": [
    "sns.displot(summary_fall2020_online[stage_name[0] + '_pct_correct'])"
   ]
  },
  {
   "cell_type": "code",
   "execution_count": null,
   "metadata": {},
   "outputs": [],
   "source": [
    "print(np.round(stats.ttest_1samp(df['eta0'], popmean = 1), 4))\n",
    "print(np.round(stats.ttest_1samp(df['threat_benign_os'], popmean = 0), 4))\n",
    "d = df['threat_benign_os'].mean()/df['threat_benign_os'].std()\n",
    "print(d)"
   ]
  }
 ],
 "metadata": {
  "kernelspec": {
   "display_name": "Python 3",
   "language": "python",
   "name": "python3"
  },
  "language_info": {
   "codemirror_mode": {
    "name": "ipython",
    "version": 3
   },
   "file_extension": ".py",
   "mimetype": "text/x-python",
   "name": "python",
   "nbconvert_exporter": "python",
   "pygments_lexer": "ipython3",
   "version": "3.8.5"
  }
 },
 "nbformat": 4,
 "nbformat_minor": 4
}
