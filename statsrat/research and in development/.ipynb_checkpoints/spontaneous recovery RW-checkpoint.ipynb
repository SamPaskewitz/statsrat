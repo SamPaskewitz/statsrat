{
 "cells": [
  {
   "cell_type": "code",
   "execution_count": 1,
   "metadata": {},
   "outputs": [],
   "source": [
    "import numpy as np\n",
    "import statsrat as sr\n",
    "from statsrat import rw\n",
    "from statsrat.expr.predef.pvl_iti import spont_rec"
   ]
  },
  {
   "cell_type": "code",
   "execution_count": 2,
   "metadata": {},
   "outputs": [],
   "source": [
    "basic = rw.model(name = 'basic',\n",
    "                 fbase = rw.fbase.cfg2_intercept,\n",
    "                 fweight = rw.fweight.none,\n",
    "                 lrate = rw.lrate.cnst,\n",
    "                 drate = rw.drate.zero,\n",
    "                 aux = rw.aux.basic)\n",
    "\n",
    "decay = rw.model(name = 'decay',\n",
    "                 fbase = rw.fbase.cfg2_intercept,\n",
    "                 fweight = rw.fweight.none,\n",
    "                 lrate = rw.lrate.cnst,\n",
    "                 drate = rw.drate.hrmn,\n",
    "                 aux = rw.aux.basic)\n",
    "\n",
    "Kalman = rw.model(name = 'Kalman',\n",
    "                  fbase = rw.fbase.cfg2_intercept,\n",
    "                  fweight = rw.fweight.none,\n",
    "                  lrate = rw.lrate.from_aux_direct,\n",
    "                  drate = rw.drate.zero,\n",
    "                  aux = rw.aux.Kalman)"
   ]
  },
  {
   "cell_type": "code",
   "execution_count": 6,
   "metadata": {},
   "outputs": [
    {
     "name": "stdout",
     "output_type": "stream",
     "text": [
      "            min   max  default\n",
      "lrate       0.0   1.0      0.2\n",
      "resp_scale  0.0  10.0      1.0\n",
      "              min   max  default\n",
      "extra_counts  1.0  10.0      5.0\n",
      "lrate         0.0   1.0      0.2\n",
      "resp_scale    0.0  10.0      1.0\n",
      "            min   max  default\n",
      "drift_var   0.0   2.0     0.01\n",
      "u_var       0.0   5.0     0.10\n",
      "w_var0      0.0  10.0     1.00\n",
      "resp_scale  0.0  10.0     1.00\n"
     ]
    }
   ],
   "source": [
    "print(basic.pars)\n",
    "print(decay.pars)\n",
    "print(Kalman.pars)"
   ]
  },
  {
   "cell_type": "code",
   "execution_count": 7,
   "metadata": {},
   "outputs": [
    {
     "ename": "KeyError",
     "evalue": "<statsrat.rw.model object at 0x128351e20>",
     "output_type": "error",
     "traceback": [
      "\u001b[0;31m---------------------------------------------------------------------------\u001b[0m",
      "\u001b[0;31mKeyError\u001b[0m                                  Traceback (most recent call last)",
      "\u001b[0;32m<ipython-input-7-06d12f8b7c81>\u001b[0m in \u001b[0;36m<module>\u001b[0;34m\u001b[0m\n\u001b[1;32m      5\u001b[0m \u001b[0;34m\u001b[0m\u001b[0m\n\u001b[1;32m      6\u001b[0m \u001b[0mtrials\u001b[0m \u001b[0;34m=\u001b[0m \u001b[0mspont_rec\u001b[0m\u001b[0;34m.\u001b[0m\u001b[0mmake_trials\u001b[0m\u001b[0;34m(\u001b[0m\u001b[0mschedule\u001b[0m \u001b[0;34m=\u001b[0m \u001b[0;34m'experimental'\u001b[0m\u001b[0;34m)\u001b[0m\u001b[0;34m\u001b[0m\u001b[0;34m\u001b[0m\u001b[0m\n\u001b[0;32m----> 7\u001b[0;31m \u001b[0mds\u001b[0m \u001b[0;34m=\u001b[0m \u001b[0mmodel\u001b[0m\u001b[0;34m.\u001b[0m\u001b[0msimulate\u001b[0m\u001b[0;34m(\u001b[0m\u001b[0mtrials\u001b[0m\u001b[0;34m,\u001b[0m \u001b[0mpar_val\u001b[0m \u001b[0;34m=\u001b[0m \u001b[0mpar_val\u001b[0m\u001b[0;34m[\u001b[0m\u001b[0mmodel\u001b[0m\u001b[0;34m]\u001b[0m\u001b[0;34m)\u001b[0m\u001b[0;34m\u001b[0m\u001b[0;34m\u001b[0m\u001b[0m\n\u001b[0m\u001b[1;32m      8\u001b[0m \u001b[0;31m#sr.learn_plot(ds, var = 'u_hat')\u001b[0m\u001b[0;34m\u001b[0m\u001b[0;34m\u001b[0m\u001b[0;34m\u001b[0m\u001b[0m\n\u001b[1;32m      9\u001b[0m \u001b[0msr\u001b[0m\u001b[0;34m.\u001b[0m\u001b[0mlearn_plot\u001b[0m\u001b[0;34m(\u001b[0m\u001b[0mds\u001b[0m\u001b[0;34m,\u001b[0m \u001b[0mvar\u001b[0m \u001b[0;34m=\u001b[0m \u001b[0;34m'w'\u001b[0m\u001b[0;34m,\u001b[0m \u001b[0msel\u001b[0m \u001b[0;34m=\u001b[0m \u001b[0;34m{\u001b[0m\u001b[0;34m'f_name'\u001b[0m\u001b[0;34m:\u001b[0m \u001b[0;34m[\u001b[0m\u001b[0;34m'ctx'\u001b[0m\u001b[0;34m,\u001b[0m \u001b[0;34m'cs'\u001b[0m\u001b[0;34m,\u001b[0m \u001b[0;34m'intercept'\u001b[0m\u001b[0;34m]\u001b[0m\u001b[0;34m}\u001b[0m\u001b[0;34m)\u001b[0m\u001b[0;34m\u001b[0m\u001b[0;34m\u001b[0m\u001b[0m\n",
      "\u001b[0;31mKeyError\u001b[0m: <statsrat.rw.model object at 0x128351e20>"
     ]
    }
   ],
   "source": [
    "model_name = 'decay'\n",
    "model = {'basic': basic,\n",
    "         'decay': decay,\n",
    "         'Kalman': Kalman}\n",
    "par_val = {'basic': [0.2, 1],\n",
    "           'decay': [1, 0.2, 1],\n",
    "           'Kalman': [1, 2, 2, 1]}\n",
    "\n",
    "trials = spont_rec.make_trials(schedule = 'experimental')\n",
    "ds = model[model_name].simulate(trials, par_val = par_val[model_name])\n",
    "#sr.learn_plot(ds, var = 'u_hat')\n",
    "sr.learn_plot(ds, var = 'w', sel = {'f_name': ['ctx', 'cs', 'intercept']})"
   ]
  },
  {
   "cell_type": "code",
   "execution_count": null,
   "metadata": {},
   "outputs": [],
   "source": []
  }
 ],
 "metadata": {
  "kernelspec": {
   "display_name": "Python 3",
   "language": "python",
   "name": "python3"
  },
  "language_info": {
   "codemirror_mode": {
    "name": "ipython",
    "version": 3
   },
   "file_extension": ".py",
   "mimetype": "text/x-python",
   "name": "python",
   "nbconvert_exporter": "python",
   "pygments_lexer": "ipython3",
   "version": "3.8.5"
  }
 },
 "nbformat": 4,
 "nbformat_minor": 4
}
