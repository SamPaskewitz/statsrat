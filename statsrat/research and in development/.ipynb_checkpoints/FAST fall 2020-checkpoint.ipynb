{
 "cells": [
  {
   "cell_type": "code",
   "execution_count": 1,
   "metadata": {},
   "outputs": [],
   "source": [
    "from statsrat import expr\n",
    "from statsrat.expr.predef.cat import fast\n",
    "import pandas as pd\n",
    "import numpy as np\n",
    "from scipy import stats"
   ]
  },
  {
   "cell_type": "code",
   "execution_count": 2,
   "metadata": {},
   "outputs": [],
   "source": [
    "# import spring 2020 data from .csv files\n",
    "#ds_spring2020 = fast.read_csv(path = '/home/sam/Dropbox/Research/Experiments/Collaboration with Joel/Spring 2020 pilot/lab data spring 2020',\n",
    "#                            x_col = ['cue1', 'cue2'],\n",
    "#                            resp_col = ['trial_resp.keys', 'test_resp.keys'],\n",
    "#                            resp_map = {'h' : 'cati', 'g' : 'catii', 'c' : 'cat1', 'm' : 'cat2', 's' : 'cat3', 'r' : 'cat4'},\n",
    "#                            ident_col = 'participant')\n",
    "#print(ds_spring2020)"
   ]
  },
  {
   "cell_type": "code",
   "execution_count": 11,
   "metadata": {},
   "outputs": [
    {
     "name": "stderr",
     "output_type": "stream",
     "text": [
      "b'Skipping line 229: expected 733 fields, saw 737\\n'\n",
      "b'Skipping line 229: expected 733 fields, saw 737\\n'\n",
      "b'Skipping line 229: expected 737 fields, saw 741\\n'\n",
      "b'Skipping line 229: expected 737 fields, saw 741\\n'\n",
      "b'Skipping line 229: expected 733 fields, saw 737\\n'\n",
      "b'Skipping line 229: expected 737 fields, saw 741\\n'\n",
      "b'Skipping line 229: expected 733 fields, saw 737\\n'\n",
      "b'Skipping line 229: expected 737 fields, saw 741\\n'\n",
      "b'Skipping line 229: expected 733 fields, saw 737\\n'\n",
      "b'Skipping line 229: expected 733 fields, saw 737\\n'\n",
      "b'Skipping line 229: expected 733 fields, saw 737\\n'\n",
      "b'Skipping line 229: expected 733 fields, saw 737\\n'\n",
      "b'Skipping line 229: expected 733 fields, saw 737\\n'\n",
      "b'Skipping line 229: expected 733 fields, saw 737\\n'\n",
      "b'Skipping line 229: expected 733 fields, saw 737\\n'\n",
      "b'Skipping line 229: expected 733 fields, saw 737\\n'\n",
      "b'Skipping line 229: expected 733 fields, saw 737\\n'\n",
      "b'Skipping line 229: expected 737 fields, saw 741\\n'\n",
      "b'Skipping line 229: expected 737 fields, saw 741\\n'\n",
      "b'Skipping line 229: expected 733 fields, saw 737\\n'\n",
      "b'Skipping line 229: expected 733 fields, saw 737\\n'\n",
      "b'Skipping line 229: expected 733 fields, saw 737\\n'\n",
      "b'Skipping line 229: expected 737 fields, saw 741\\n'\n",
      "b'Skipping line 229: expected 733 fields, saw 737\\n'\n",
      "b'Skipping line 229: expected 737 fields, saw 741\\n'\n",
      "b'Skipping line 229: expected 737 fields, saw 741\\n'\n",
      "b'Skipping line 229: expected 733 fields, saw 737\\n'\n",
      "b'Skipping line 229: expected 733 fields, saw 737\\n'\n",
      "b'Skipping line 229: expected 737 fields, saw 741\\n'\n",
      "b'Skipping line 229: expected 737 fields, saw 741\\n'\n",
      "b'Skipping line 229: expected 733 fields, saw 737\\n'\n",
      "b'Skipping line 229: expected 733 fields, saw 737\\n'\n",
      "b'Skipping line 229: expected 733 fields, saw 737\\n'\n",
      "b'Skipping line 229: expected 733 fields, saw 737\\n'\n",
      "b'Skipping line 229: expected 737 fields, saw 741\\n'\n",
      "b'Skipping line 229: expected 733 fields, saw 737\\n'\n",
      "b'Skipping line 229: expected 733 fields, saw 737\\n'\n",
      "b'Skipping line 229: expected 733 fields, saw 737\\n'\n",
      "b'Skipping line 229: expected 733 fields, saw 737\\n'\n",
      "b'Skipping line 229: expected 737 fields, saw 741\\n'\n",
      "b'Skipping line 229: expected 733 fields, saw 737\\n'\n",
      "b'Skipping line 229: expected 733 fields, saw 737\\n'\n",
      "b'Skipping line 229: expected 733 fields, saw 737\\n'\n",
      "b'Skipping line 229: expected 733 fields, saw 737\\n'\n",
      "b'Skipping line 229: expected 733 fields, saw 737\\n'\n",
      "b'Skipping line 229: expected 733 fields, saw 737\\n'\n",
      "b'Skipping line 229: expected 737 fields, saw 741\\n'\n",
      "b'Skipping line 229: expected 733 fields, saw 737\\n'\n",
      "b'Skipping line 229: expected 737 fields, saw 741\\n'\n",
      "b'Skipping line 229: expected 737 fields, saw 741\\n'\n",
      "b'Skipping line 229: expected 733 fields, saw 737\\n'\n",
      "b'Skipping line 229: expected 733 fields, saw 737\\n'\n",
      "b'Skipping line 229: expected 737 fields, saw 741\\n'\n",
      "b'Skipping line 229: expected 733 fields, saw 737\\n'\n",
      "b'Skipping line 229: expected 737 fields, saw 741\\n'\n",
      "b'Skipping line 229: expected 733 fields, saw 737\\n'\n",
      "b'Skipping line 229: expected 733 fields, saw 737\\n'\n",
      "b'Skipping line 229: expected 733 fields, saw 737\\n'\n",
      "b'Skipping line 229: expected 733 fields, saw 737\\n'\n",
      "b'Skipping line 229: expected 733 fields, saw 737\\n'\n",
      "b'Skipping line 229: expected 737 fields, saw 741\\n'\n",
      "b'Skipping line 229: expected 733 fields, saw 737\\n'\n",
      "b'Skipping line 229: expected 733 fields, saw 737\\n'\n",
      "b'Skipping line 229: expected 733 fields, saw 737\\n'\n"
     ]
    },
    {
     "name": "stdout",
     "output_type": "stream",
     "text": [
      "['cue1', 'cue2']\n"
     ]
    },
    {
     "name": "stderr",
     "output_type": "stream",
     "text": [
      "b'Skipping line 229: expected 733 fields, saw 737\\n'\n",
      "b'Skipping line 229: expected 733 fields, saw 737\\n'\n",
      "b'Skipping line 229: expected 737 fields, saw 741\\n'\n",
      "b'Skipping line 229: expected 737 fields, saw 741\\n'\n",
      "b'Skipping line 229: expected 733 fields, saw 737\\n'\n"
     ]
    },
    {
     "name": "stdout",
     "output_type": "stream",
     "text": [
      "['cue1', 'cue2']\n"
     ]
    },
    {
     "name": "stderr",
     "output_type": "stream",
     "text": [
      "b'Skipping line 229: expected 733 fields, saw 737\\n'\n",
      "b'Skipping line 229: expected 733 fields, saw 737\\n'\n",
      "b'Skipping line 229: expected 733 fields, saw 737\\n'\n",
      "b'Skipping line 229: expected 733 fields, saw 737\\n'\n",
      "b'Skipping line 229: expected 733 fields, saw 737\\n'\n",
      "b'Skipping line 229: expected 733 fields, saw 737\\n'\n",
      "b'Skipping line 229: expected 737 fields, saw 741\\n'\n",
      "b'Skipping line 229: expected 737 fields, saw 741\\n'\n",
      "b'Skipping line 229: expected 737 fields, saw 741\\n'\n",
      "b'Skipping line 229: expected 733 fields, saw 737\\n'\n",
      "b'Skipping line 229: expected 733 fields, saw 737\\n'\n",
      "b'Skipping line 229: expected 733 fields, saw 737\\n'\n",
      "b'Skipping line 229: expected 737 fields, saw 741\\n'\n",
      "b'Skipping line 229: expected 733 fields, saw 737\\n'\n",
      "b'Skipping line 229: expected 733 fields, saw 737\\n'\n",
      "b'Skipping line 229: expected 733 fields, saw 737\\n'\n"
     ]
    },
    {
     "name": "stdout",
     "output_type": "stream",
     "text": [
      "['cue1', 'cue2']\n"
     ]
    },
    {
     "name": "stderr",
     "output_type": "stream",
     "text": [
      "b'Skipping line 229: expected 733 fields, saw 737\\n'\n",
      "b'Skipping line 229: expected 733 fields, saw 737\\n'\n",
      "b'Skipping line 229: expected 733 fields, saw 737\\n'\n",
      "b'Skipping line 229: expected 737 fields, saw 741\\n'\n",
      "b'Skipping line 229: expected 733 fields, saw 737\\n'\n",
      "b'Skipping line 229: expected 733 fields, saw 737\\n'\n",
      "b'Skipping line 229: expected 733 fields, saw 737\\n'\n"
     ]
    },
    {
     "name": "stdout",
     "output_type": "stream",
     "text": [
      "['cue1', 'cue2']\n"
     ]
    },
    {
     "name": "stderr",
     "output_type": "stream",
     "text": [
      "b'Skipping line 229: expected 733 fields, saw 737\\n'\n",
      "b'Skipping line 229: expected 733 fields, saw 737\\n'\n",
      "b'Skipping line 229: expected 737 fields, saw 741\\n'\n",
      "b'Skipping line 229: expected 733 fields, saw 737\\n'\n"
     ]
    },
    {
     "name": "stdout",
     "output_type": "stream",
     "text": [
      "0\n"
     ]
    },
    {
     "name": "stderr",
     "output_type": "stream",
     "text": [
      "b'Skipping line 229: expected 737 fields, saw 741\\n'\n",
      "b'Skipping line 229: expected 737 fields, saw 741\\n'\n",
      "b'Skipping line 229: expected 733 fields, saw 737\\n'\n",
      "b'Skipping line 229: expected 733 fields, saw 737\\n'\n",
      "b'Skipping line 229: expected 733 fields, saw 737\\n'\n",
      "b'Skipping line 229: expected 733 fields, saw 737\\n'\n",
      "b'Skipping line 229: expected 737 fields, saw 741\\n'\n",
      "b'Skipping line 229: expected 733 fields, saw 737\\n'\n",
      "b'Skipping line 229: expected 733 fields, saw 737\\n'\n",
      "b'Skipping line 229: expected 733 fields, saw 737\\n'\n",
      "b'Skipping line 229: expected 737 fields, saw 741\\n'\n",
      "b'Skipping line 229: expected 733 fields, saw 737\\n'\n"
     ]
    },
    {
     "name": "stdout",
     "output_type": "stream",
     "text": [
      "The following files could not be read by Pandas:\n",
      "fast_data_inlab/_fall_faces_2020_Oct_12_1324.csv\n",
      "fast_data_inlab/NDARGR305EJL_fall_faces_2020_Sep_17_1210.csv\n",
      "fast_data_inlab/_fall_faces_2020_Oct_16_1602.csv\n",
      "fast_data_inlab/_fall_faces_2020_Sep_21_1338.csv\n",
      "Participant ID (ident) could not be read from the following files:\n",
      "fast_data_inlab/_fall_faces_2020_Oct_22_1217.csv\n"
     ]
    }
   ],
   "source": [
    "# import fall 2020 data from .csv files\n",
    "#import warnings\n",
    "#warnings.filterwarnings('ignore')\n",
    "(ds_fall2020_inlab, summary_fall2020_inlab) = fast.read_csv(path = 'fast_data_inlab',\n",
    "                                                            #path = 'fast_data_debug',\n",
    "                                                            x_col = ['cue1', 'cue2'],\n",
    "                                                            resp_col = ['trial_resp.keys', 'test_resp.keys'],\n",
    "                                                            resp_map = {'h' : 'cati', 'g' : 'catii', 'c' : 'cat1', 'm' : 'cat2', 's' : 'cat3', 'r' : 'cat4'},\n",
    "                                                            ident_col = 'participant',\n",
    "                                                            other_info = {'age': ('questionText', 'What is your age?', 'slider.response'),\n",
    "                                                                          'sex': ('questionText', 'What was your biological sex assigned at birth?', 'slider.response'),\n",
    "                                                                          'latinx': ('questionText', 'Do you consider yourself to be of Hispanic, Latino, or Spanish origin?', 'slider.response'),\n",
    "                                                                          'race': ('questionText', 'With which racial group do you most closely identify?', 'slider.response'),\n",
    "                                                                          'employment': ('questionText', 'What is your current employment status?', 'slider.response')})\n"
   ]
  },
  {
   "cell_type": "code",
   "execution_count": 4,
   "metadata": {},
   "outputs": [
    {
     "name": "stdout",
     "output_type": "stream",
     "text": [
      "['abstract_stim1', 'abstract_stim2']\n",
      "['abstract_stim1', 'abstract_stim2']\n",
      "['abstract_stim1', 'abstract_stim2']\n",
      "['abstract_stim1', 'abstract_stim2']\n",
      "['abstract_stim1', 'abstract_stim2']\n",
      "['abstract_stim1', 'abstract_stim2']\n",
      "['abstract_stim1', 'abstract_stim2']\n",
      "['abstract_stim1', 'abstract_stim2']\n",
      "['abstract_stim1', 'abstract_stim2']\n",
      "The following files could not be read by Pandas:\n",
      "fast_data_online/666579_201125_124958.csv\n",
      "fast_data_online/666579_201201_013309.csv\n",
      "fast_data_online/666579_201129_225628.csv\n",
      "fast_data_online/666579_201130_001454.csv\n",
      "fast_data_online/666579_201130_021348.csv\n",
      "fast_data_online/666579_201125_211954.csv\n",
      "fast_data_online/666579_201128_204618.csv\n",
      "fast_data_online/666579_201130_005117.csv\n",
      "fast_data_online/666579_201201_214504.csv\n"
     ]
    }
   ],
   "source": [
    "# Import online data.\n",
    "\n",
    "(ds_fall2020_online, summary_fall2020_online) = fast.read_csv(path = 'fast_data_online',\n",
    "                                                              x_col = ['abstract_stim1', 'abstract_stim2'],\n",
    "                                                              resp_col = ['response'],\n",
    "                                                              resp_map = {'h' : 'cati', 'g' : 'catii', 'l' : 'cat1', 'o' : 'cat2', 's' : 'cat3', 'r' : 'cat4'},\n",
    "                                                              ident_col = None,\n",
    "                                                              other_info = {'age': ('head', 'What is your age?', 'response'),\n",
    "                                                                            'sex': ('head', 'What was your biological sex assigned at birth?', 'response'),\n",
    "                                                                            'latinx': ('head', 'Do you consider yourself to be Hispanic, Latino, or of Spanish origin?', 'response'),\n",
    "                                                                            'race': ('head', 'With which racial group do you identify (select the one with which you MOST CLOSELY identify)?', 'response'),\n",
    "                                                                            'employment': ('head', 'What is your current employment status?', 'response')},\n",
    "                                                              header = 2)\n"
   ]
  },
  {
   "cell_type": "code",
   "execution_count": 5,
   "metadata": {},
   "outputs": [
    {
     "name": "stdout",
     "output_type": "stream",
     "text": [
      "Demographic Breakdown (In Lab) \n",
      "\n",
      "Female    65\n",
      " Male     43\n",
      "Name: sex, dtype: int64\n",
      "\n",
      "\n",
      " No    87\n",
      "Yes    21\n",
      "Name: latinx, dtype: int64\n",
      "\n",
      "\n",
      " White                        85\n",
      " Asian                        10\n",
      " More than one race            9\n",
      " Black or African American     4\n",
      "Name: race, dtype: int64\n"
     ]
    }
   ],
   "source": [
    "print('Demographic Breakdown (In Lab) \\n')\n",
    "\n",
    "print(summary_fall2020_inlab['sex'].value_counts())\n",
    "print('\\n')\n",
    "print(summary_fall2020_inlab['latinx'].value_counts())\n",
    "print('\\n')\n",
    "print(summary_fall2020_inlab['race'].value_counts())"
   ]
  },
  {
   "cell_type": "code",
   "execution_count": 6,
   "metadata": {},
   "outputs": [
    {
     "name": "stdout",
     "output_type": "stream",
     "text": [
      "Demographic Breakdown (Online) \n",
      "\n",
      "Female    37\n",
      "Male      23\n",
      "Name: sex, dtype: int64\n",
      "\n",
      "\n",
      "No     51\n",
      "Yes     9\n",
      "Name: latinx, dtype: int64\n",
      "\n",
      "\n",
      "White                                        49\n",
      "More than one race                            6\n",
      "Black or African American                     3\n",
      "Native Hawaiian or other Pacific Islander     1\n",
      "Asian                                         1\n",
      "Name: race, dtype: int64\n"
     ]
    }
   ],
   "source": [
    "print('Demographic Breakdown (Online) \\n')\n",
    "\n",
    "print(summary_fall2020_online['sex'].value_counts())\n",
    "print('\\n')\n",
    "print(summary_fall2020_online['latinx'].value_counts())\n",
    "print('\\n')\n",
    "print(summary_fall2020_online['race'].value_counts())"
   ]
  },
  {
   "cell_type": "code",
   "execution_count": 13,
   "metadata": {},
   "outputs": [
    {
     "name": "stdout",
     "output_type": "stream",
     "text": [
      "Raw Behavioral Scores (In Lab) \n",
      "\n",
      "         score_name  mean   t_val   p_val\n",
      "0           rel_irl  0.41  8.2474  0.0000\n",
      "1  threat_benign_os  0.09  1.3661  0.1748\n",
      "2  threat_benign_ri  0.03  0.6755  0.5008\n"
     ]
    }
   ],
   "source": [
    "print('Raw Behavioral Scores (In Lab) \\n')\n",
    "\n",
    "score_name = ['rel_irl', 'threat_benign_os', 'threat_benign_ri']\n",
    "n_score = len(score_name)\n",
    "mean = np.zeros(n_score)\n",
    "t_val = np.zeros(n_score)\n",
    "p_val = np.zeros(n_score)\n",
    "for i in range(n_score):\n",
    "    mean[i] = np.round(summary_fall2020_inlab[score_name[i]].mean(), 2)\n",
    "    t_test = np.round(stats.ttest_1samp(summary_fall2020_inlab[score_name[i]], popmean = 0), 4)\n",
    "    t_val[i] = t_test[0]\n",
    "    p_val[i] = t_test[1]\n",
    "behav_scores_tests = pd.DataFrame({'score_name': score_name, 'mean': mean, 't_val': t_val, 'p_val': p_val})\n",
    "print(behav_scores_tests)"
   ]
  },
  {
   "cell_type": "code",
   "execution_count": 14,
   "metadata": {},
   "outputs": [
    {
     "name": "stdout",
     "output_type": "stream",
     "text": [
      "Raw Behavioral Scores (Online) \n",
      "\n",
      "         score_name  mean   t_val   p_val\n",
      "0           rel_irl  0.26  3.6138  0.0006\n",
      "1  threat_benign_os  0.09  1.0449  0.3003\n",
      "2  threat_benign_ri  0.04  0.8446  0.4017\n"
     ]
    }
   ],
   "source": [
    "print('Raw Behavioral Scores (Online) \\n')\n",
    "\n",
    "score_name = ['rel_irl', 'threat_benign_os', 'threat_benign_ri']\n",
    "n_score = len(score_name)\n",
    "mean = np.zeros(n_score)\n",
    "t_val = np.zeros(n_score)\n",
    "p_val = np.zeros(n_score)\n",
    "for i in range(n_score):\n",
    "    mean[i] = np.round(summary_fall2020_online[score_name[i]].mean(), 2)\n",
    "    t_test = np.round(stats.ttest_1samp(summary_fall2020_online[score_name[i]], popmean = 0), 4)\n",
    "    t_val[i] = t_test[0]\n",
    "    p_val[i] = t_test[1]\n",
    "behav_scores_tests = pd.DataFrame({'score_name': score_name, 'mean': mean, 't_val': t_val, 'p_val': p_val})\n",
    "print(behav_scores_tests)"
   ]
  },
  {
   "cell_type": "code",
   "execution_count": 8,
   "metadata": {},
   "outputs": [
    {
     "name": "stdout",
     "output_type": "stream",
     "text": [
      "Percent Correct per Stage \n",
      "\n",
      "    stage_name   mean    t_val  p_val\n",
      "0  tutorial_0a  89.27  43.4276    0.0\n",
      "1  tutorial_0b  97.07  76.7220    0.0\n",
      "2  tutorial_0c  96.41  94.9863    0.0\n",
      "3     training  70.50  14.1749    0.0\n",
      "4     transfer  77.60  18.8756    0.0\n"
     ]
    }
   ],
   "source": [
    "print('Percent Correct per Stage (In Lab) \\n')\n",
    "\n",
    "stage_name = ['tutorial_0a', 'tutorial_0b', 'tutorial_0c', 'training', 'transfer']\n",
    "n_stage = len(stage_name)\n",
    "mean = np.zeros(n_stage)\n",
    "t_val = np.zeros(n_stage)\n",
    "p_val = np.zeros(n_stage)\n",
    "for i in range(n_stage):\n",
    "    mean[i] = np.round(summary_fall2020_inlab[stage_name[i] + '_pct_correct'].mean(), 2)\n",
    "    t_test = np.round(stats.ttest_1samp(summary_fall2020_inlab[stage_name[i] + '_pct_correct'], popmean = 50), 4)\n",
    "    t_val[i] = t_test[0]\n",
    "    p_val[i] = t_test[1]\n",
    "pct_correct_tests = pd.DataFrame({'stage_name': stage_name, 'mean': mean, 't_val': t_val, 'p_val': p_val})\n",
    "print(pct_correct_tests)"
   ]
  },
  {
   "cell_type": "code",
   "execution_count": 15,
   "metadata": {},
   "outputs": [
    {
     "name": "stdout",
     "output_type": "stream",
     "text": [
      "Percent Correct per Stage (Online) \n",
      "\n",
      "    stage_name   mean    t_val  p_val\n",
      "0  tutorial_0a  87.36  25.7896    0.0\n",
      "1  tutorial_0b  95.83  41.8986    0.0\n",
      "2  tutorial_0c  94.58  35.0134    0.0\n",
      "3     training  64.70   7.5371    0.0\n",
      "4     transfer  71.94   9.6190    0.0\n"
     ]
    }
   ],
   "source": [
    "print('Percent Correct per Stage (Online) \\n')\n",
    "\n",
    "stage_name = ['tutorial_0a', 'tutorial_0b', 'tutorial_0c', 'training', 'transfer']\n",
    "n_stage = len(stage_name)\n",
    "mean = np.zeros(n_stage)\n",
    "t_val = np.zeros(n_stage)\n",
    "p_val = np.zeros(n_stage)\n",
    "for i in range(n_stage):\n",
    "    mean[i] = np.round(summary_fall2020_online[stage_name[i] + '_pct_correct'].mean(), 2)\n",
    "    t_test = np.round(stats.ttest_1samp(summary_fall2020_online[stage_name[i] + '_pct_correct'], popmean = 50), 4)\n",
    "    t_val[i] = t_test[0]\n",
    "    p_val[i] = t_test[1]\n",
    "pct_correct_tests = pd.DataFrame({'stage_name': stage_name, 'mean': mean, 't_val': t_val, 'p_val': p_val})\n",
    "print(pct_correct_tests)"
   ]
  },
  {
   "cell_type": "code",
   "execution_count": null,
   "metadata": {},
   "outputs": [],
   "source": []
  }
 ],
 "metadata": {
  "kernelspec": {
   "display_name": "Python 3",
   "language": "python",
   "name": "python3"
  },
  "language_info": {
   "codemirror_mode": {
    "name": "ipython",
    "version": 3
   },
   "file_extension": ".py",
   "mimetype": "text/x-python",
   "name": "python",
   "nbconvert_exporter": "python",
   "pygments_lexer": "ipython3",
   "version": "3.8.5"
  }
 },
 "nbformat": 4,
 "nbformat_minor": 4
}
