{
 "cells": [
  {
   "cell_type": "code",
   "execution_count": 1,
   "metadata": {},
   "outputs": [],
   "source": [
    "import numpy as np\n",
    "import nlopt\n",
    "from statsrat import perform_oat\n",
    "from statsrat.expr.predef import pvl_iti, pvl_no_iti\n",
    "from statsrat.rw import predef as rw_models\n",
    "from statsrat.lc import predef as lc_models\n",
    "\n",
    "n = 1 # fixed trial sequences, so only need n = 1\n",
    "#max_time = 5\n",
    "max_time = 30\n",
    "algorithm = nlopt.GN_DIRECT_L\n",
    "#algorithm = nlopt.GN_AGS\n",
    "#algorithm = nlopt.GN_ORIG_DIRECT\n",
    "#algorithm = nlopt.GD_STOGO"
   ]
  },
  {
   "cell_type": "code",
   "execution_count": 6,
   "metadata": {
    "scrolled": true
   },
   "outputs": [
    {
     "name": "stdout",
     "output_type": "stream",
     "text": [
      "\n",
      " Rescorla-Wagner (elemental context features)\n",
      "\n",
      " renewal\n",
      "     lrate   mean  lower  upper\n",
      "min  0.014 -0.034 -0.034 -0.034\n",
      "max  0.120  0.020  0.020  0.020\n",
      "\n",
      " spontaneous recovery\n"
     ]
    },
    {
     "ename": "KeyboardInterrupt",
     "evalue": "",
     "output_type": "error",
     "traceback": [
      "\u001b[0;31m---------------------------------------------------------------------------\u001b[0m",
      "\u001b[0;31mKeyboardInterrupt\u001b[0m                         Traceback (most recent call last)",
      "\u001b[0;32m<ipython-input-6-1ae089a68174>\u001b[0m in \u001b[0;36m<module>\u001b[0;34m\u001b[0m\n\u001b[1;32m      6\u001b[0m \u001b[0;34m\u001b[0m\u001b[0m\n\u001b[1;32m      7\u001b[0m \u001b[0mprint\u001b[0m\u001b[0;34m(\u001b[0m\u001b[0;34m'\\n spontaneous recovery'\u001b[0m\u001b[0;34m)\u001b[0m\u001b[0;34m\u001b[0m\u001b[0;34m\u001b[0m\u001b[0m\n\u001b[0;32m----> 8\u001b[0;31m \u001b[0moat_result\u001b[0m \u001b[0;34m=\u001b[0m \u001b[0mperform_oat\u001b[0m\u001b[0;34m(\u001b[0m\u001b[0mrw_models\u001b[0m\u001b[0;34m.\u001b[0m\u001b[0mbasic\u001b[0m\u001b[0;34m,\u001b[0m \u001b[0mpvl\u001b[0m\u001b[0;34m.\u001b[0m\u001b[0mspont_rec\u001b[0m\u001b[0;34m,\u001b[0m \u001b[0mn\u001b[0m \u001b[0;34m=\u001b[0m \u001b[0mn\u001b[0m\u001b[0;34m,\u001b[0m \u001b[0mmax_time\u001b[0m \u001b[0;34m=\u001b[0m \u001b[0mmax_time\u001b[0m\u001b[0;34m,\u001b[0m \u001b[0malgorithm\u001b[0m \u001b[0;34m=\u001b[0m \u001b[0malgorithm\u001b[0m\u001b[0;34m)\u001b[0m\u001b[0;34m\u001b[0m\u001b[0;34m\u001b[0m\u001b[0m\n\u001b[0m\u001b[1;32m      9\u001b[0m \u001b[0mprint\u001b[0m\u001b[0;34m(\u001b[0m\u001b[0moat_result\u001b[0m\u001b[0;34m.\u001b[0m\u001b[0mround\u001b[0m\u001b[0;34m(\u001b[0m\u001b[0;36m3\u001b[0m\u001b[0;34m)\u001b[0m\u001b[0;34m)\u001b[0m\u001b[0;34m\u001b[0m\u001b[0;34m\u001b[0m\u001b[0m\n\u001b[1;32m     10\u001b[0m \u001b[0;34m\u001b[0m\u001b[0m\n",
      "\u001b[0;32m~/Dropbox/Research/Modeling/PhD thesis/statsrat/statsrat/__init__.py\u001b[0m in \u001b[0;36mperform_oat\u001b[0;34m(model, experiment, oat, n, max_time, algorithm)\u001b[0m\n\u001b[1;32m    234\u001b[0m     \u001b[0mopt_min\u001b[0m\u001b[0;34m.\u001b[0m\u001b[0mset_upper_bounds\u001b[0m\u001b[0;34m(\u001b[0m\u001b[0mnp\u001b[0m\u001b[0;34m.\u001b[0m\u001b[0marray\u001b[0m\u001b[0;34m(\u001b[0m\u001b[0mfree_pars\u001b[0m\u001b[0;34m[\u001b[0m\u001b[0;34m'max'\u001b[0m\u001b[0;34m]\u001b[0m \u001b[0;34m-\u001b[0m \u001b[0;36m0.001\u001b[0m\u001b[0;34m)\u001b[0m\u001b[0;34m)\u001b[0m\u001b[0;34m\u001b[0m\u001b[0;34m\u001b[0m\u001b[0m\n\u001b[1;32m    235\u001b[0m     \u001b[0mopt_min\u001b[0m\u001b[0;34m.\u001b[0m\u001b[0mset_maxtime\u001b[0m\u001b[0;34m(\u001b[0m\u001b[0mmax_time\u001b[0m\u001b[0;34m)\u001b[0m\u001b[0;34m\u001b[0m\u001b[0;34m\u001b[0m\u001b[0m\n\u001b[0;32m--> 236\u001b[0;31m     \u001b[0mpar_min\u001b[0m \u001b[0;34m=\u001b[0m \u001b[0mopt_min\u001b[0m\u001b[0;34m.\u001b[0m\u001b[0moptimize\u001b[0m\u001b[0;34m(\u001b[0m\u001b[0mnp\u001b[0m\u001b[0;34m.\u001b[0m\u001b[0marray\u001b[0m\u001b[0;34m(\u001b[0m\u001b[0mfree_pars\u001b[0m\u001b[0;34m[\u001b[0m\u001b[0;34m'default'\u001b[0m\u001b[0;34m]\u001b[0m\u001b[0;34m)\u001b[0m\u001b[0;34m)\u001b[0m\u001b[0;34m\u001b[0m\u001b[0;34m\u001b[0m\u001b[0m\n\u001b[0m\u001b[1;32m    237\u001b[0m \u001b[0;34m\u001b[0m\u001b[0m\n\u001b[1;32m    238\u001b[0m     \u001b[0;31m# compute confidence intervals at max and min\u001b[0m\u001b[0;34m\u001b[0m\u001b[0;34m\u001b[0m\u001b[0;34m\u001b[0m\u001b[0m\n",
      "\u001b[0;32m~/miniconda3/lib/python3.7/site-packages/nlopt/__init__.py\u001b[0m in \u001b[0;36moptimize\u001b[0;34m(self, *args)\u001b[0m\n\u001b[1;32m    332\u001b[0m \u001b[0;34m\u001b[0m\u001b[0m\n\u001b[1;32m    333\u001b[0m     \u001b[0;32mdef\u001b[0m \u001b[0moptimize\u001b[0m\u001b[0;34m(\u001b[0m\u001b[0mself\u001b[0m\u001b[0;34m,\u001b[0m \u001b[0;34m*\u001b[0m\u001b[0margs\u001b[0m\u001b[0;34m)\u001b[0m\u001b[0;34m:\u001b[0m\u001b[0;34m\u001b[0m\u001b[0;34m\u001b[0m\u001b[0m\n\u001b[0;32m--> 334\u001b[0;31m         \u001b[0;32mreturn\u001b[0m \u001b[0m_nlopt\u001b[0m\u001b[0;34m.\u001b[0m\u001b[0mopt_optimize\u001b[0m\u001b[0;34m(\u001b[0m\u001b[0mself\u001b[0m\u001b[0;34m,\u001b[0m \u001b[0;34m*\u001b[0m\u001b[0margs\u001b[0m\u001b[0;34m)\u001b[0m\u001b[0;34m\u001b[0m\u001b[0;34m\u001b[0m\u001b[0m\n\u001b[0m\u001b[1;32m    335\u001b[0m \u001b[0;34m\u001b[0m\u001b[0m\n\u001b[1;32m    336\u001b[0m     \u001b[0;32mdef\u001b[0m \u001b[0mlast_optimize_result\u001b[0m\u001b[0;34m(\u001b[0m\u001b[0mself\u001b[0m\u001b[0;34m)\u001b[0m\u001b[0;34m:\u001b[0m\u001b[0;34m\u001b[0m\u001b[0;34m\u001b[0m\u001b[0m\n",
      "\u001b[0;32m~/Dropbox/Research/Modeling/PhD thesis/statsrat/statsrat/__init__.py\u001b[0m in \u001b[0;36mf\u001b[0;34m(x, grad)\u001b[0m\n\u001b[1;32m    203\u001b[0m                 \u001b[0msim_data\u001b[0m \u001b[0;34m=\u001b[0m \u001b[0;34m{\u001b[0m\u001b[0;34m}\u001b[0m\u001b[0;34m\u001b[0m\u001b[0;34m\u001b[0m\u001b[0m\n\u001b[1;32m    204\u001b[0m                 \u001b[0;32mfor\u001b[0m \u001b[0ms\u001b[0m \u001b[0;32min\u001b[0m \u001b[0ms_list\u001b[0m\u001b[0;34m:\u001b[0m\u001b[0;34m\u001b[0m\u001b[0;34m\u001b[0m\u001b[0m\n\u001b[0;32m--> 205\u001b[0;31m                     \u001b[0msim_data\u001b[0m\u001b[0;34m[\u001b[0m\u001b[0ms\u001b[0m\u001b[0;34m]\u001b[0m \u001b[0;34m=\u001b[0m \u001b[0mmulti_sim\u001b[0m\u001b[0;34m(\u001b[0m\u001b[0mmodel\u001b[0m\u001b[0;34m,\u001b[0m \u001b[0mtrials_list\u001b[0m\u001b[0;34m[\u001b[0m\u001b[0ms\u001b[0m\u001b[0;34m]\u001b[0m\u001b[0;34m,\u001b[0m \u001b[0mexperiment\u001b[0m\u001b[0;34m.\u001b[0m\u001b[0mresp_type\u001b[0m\u001b[0;34m,\u001b[0m \u001b[0mnp\u001b[0m\u001b[0;34m.\u001b[0m\u001b[0mappend\u001b[0m\u001b[0;34m(\u001b[0m\u001b[0mpar_val\u001b[0m\u001b[0;34m,\u001b[0m \u001b[0;36m5\u001b[0m\u001b[0;34m)\u001b[0m\u001b[0;34m,\u001b[0m \u001b[0mrandom_resp\u001b[0m \u001b[0;34m=\u001b[0m \u001b[0;32mFalse\u001b[0m\u001b[0;34m)\u001b[0m\u001b[0;34m\u001b[0m\u001b[0;34m\u001b[0m\u001b[0m\n\u001b[0m\u001b[1;32m    206\u001b[0m                 \u001b[0moat_total\u001b[0m \u001b[0;34m=\u001b[0m \u001b[0moat_used\u001b[0m\u001b[0;34m.\u001b[0m\u001b[0mcompute_total\u001b[0m\u001b[0;34m(\u001b[0m\u001b[0mdata\u001b[0m \u001b[0;34m=\u001b[0m \u001b[0msim_data\u001b[0m\u001b[0;34m)\u001b[0m\u001b[0;34m\u001b[0m\u001b[0;34m\u001b[0m\u001b[0m\n\u001b[1;32m    207\u001b[0m                 \u001b[0;32mreturn\u001b[0m \u001b[0moat_total\u001b[0m\u001b[0;34m\u001b[0m\u001b[0;34m\u001b[0m\u001b[0m\n",
      "\u001b[0;32m~/Dropbox/Research/Modeling/PhD thesis/statsrat/statsrat/__init__.py\u001b[0m in \u001b[0;36mmulti_sim\u001b[0;34m(model, trials_list, resp_type, par_val, random_resp)\u001b[0m\n\u001b[1;32m    102\u001b[0m                                 \u001b[0mpar_val\u001b[0m \u001b[0;34m=\u001b[0m \u001b[0mpar_val\u001b[0m\u001b[0;34m,\u001b[0m\u001b[0;34m\u001b[0m\u001b[0;34m\u001b[0m\u001b[0m\n\u001b[1;32m    103\u001b[0m                                 \u001b[0mrandom_resp\u001b[0m \u001b[0;34m=\u001b[0m \u001b[0mrandom_resp\u001b[0m\u001b[0;34m,\u001b[0m\u001b[0;34m\u001b[0m\u001b[0;34m\u001b[0m\u001b[0m\n\u001b[0;32m--> 104\u001b[0;31m                                 ident = 'sim_' + str(i))\n\u001b[0m\u001b[1;32m    105\u001b[0m         \u001b[0mds_list\u001b[0m \u001b[0;34m+=\u001b[0m \u001b[0;34m[\u001b[0m\u001b[0mds_new\u001b[0m\u001b[0;34m]\u001b[0m\u001b[0;34m\u001b[0m\u001b[0;34m\u001b[0m\u001b[0m\n\u001b[1;32m    106\u001b[0m     \u001b[0mds\u001b[0m \u001b[0;34m=\u001b[0m \u001b[0mxr\u001b[0m\u001b[0;34m.\u001b[0m\u001b[0mcombine_nested\u001b[0m\u001b[0;34m(\u001b[0m\u001b[0mds_list\u001b[0m\u001b[0;34m,\u001b[0m \u001b[0mconcat_dim\u001b[0m \u001b[0;34m=\u001b[0m \u001b[0;34m[\u001b[0m\u001b[0;34m'ident'\u001b[0m\u001b[0;34m]\u001b[0m\u001b[0;34m)\u001b[0m\u001b[0;34m\u001b[0m\u001b[0;34m\u001b[0m\u001b[0m\n",
      "\u001b[0;32m~/Dropbox/Research/Modeling/PhD thesis/statsrat/statsrat/rw/__init__.py\u001b[0m in \u001b[0;36msimulate\u001b[0;34m(self, trials, resp_type, par_val, random_resp, ident)\u001b[0m\n\u001b[1;32m    152\u001b[0m             \u001b[0mdelta\u001b[0m\u001b[0;34m[\u001b[0m\u001b[0mt\u001b[0m\u001b[0;34m,\u001b[0m \u001b[0;34m:\u001b[0m\u001b[0;34m]\u001b[0m \u001b[0;34m=\u001b[0m \u001b[0mu\u001b[0m\u001b[0;34m[\u001b[0m\u001b[0mt\u001b[0m\u001b[0;34m,\u001b[0m \u001b[0;34m:\u001b[0m\u001b[0;34m]\u001b[0m \u001b[0;34m-\u001b[0m \u001b[0mu_hat\u001b[0m\u001b[0;34m[\u001b[0m\u001b[0mt\u001b[0m\u001b[0;34m,\u001b[0m \u001b[0;34m:\u001b[0m\u001b[0;34m]\u001b[0m \u001b[0;31m# prediction error\u001b[0m\u001b[0;34m\u001b[0m\u001b[0;34m\u001b[0m\u001b[0m\n\u001b[1;32m    153\u001b[0m             \u001b[0maux\u001b[0m\u001b[0;34m.\u001b[0m\u001b[0mupdate\u001b[0m\u001b[0;34m(\u001b[0m\u001b[0msim_pars\u001b[0m\u001b[0;34m,\u001b[0m \u001b[0mn_u\u001b[0m\u001b[0;34m,\u001b[0m \u001b[0mn_f\u001b[0m\u001b[0;34m,\u001b[0m \u001b[0mt\u001b[0m\u001b[0;34m,\u001b[0m \u001b[0mfbase\u001b[0m\u001b[0;34m,\u001b[0m \u001b[0mfweight\u001b[0m\u001b[0;34m,\u001b[0m \u001b[0mu_psb\u001b[0m\u001b[0;34m,\u001b[0m \u001b[0mu_hat\u001b[0m\u001b[0;34m,\u001b[0m \u001b[0mdelta\u001b[0m\u001b[0;34m,\u001b[0m \u001b[0mw\u001b[0m\u001b[0;34m)\u001b[0m \u001b[0;31m# update auxiliary data (e.g. attention weights, or Kalman filter covariance matrix)\u001b[0m\u001b[0;34m\u001b[0m\u001b[0;34m\u001b[0m\u001b[0m\n\u001b[0;32m--> 154\u001b[0;31m             \u001b[0mlrate\u001b[0m\u001b[0;34m[\u001b[0m\u001b[0mt\u001b[0m\u001b[0;34m,\u001b[0m \u001b[0;34m:\u001b[0m\u001b[0;34m,\u001b[0m \u001b[0;34m:\u001b[0m\u001b[0;34m]\u001b[0m \u001b[0;34m=\u001b[0m \u001b[0mself\u001b[0m\u001b[0;34m.\u001b[0m\u001b[0mlrate\u001b[0m\u001b[0;34m(\u001b[0m\u001b[0maux\u001b[0m\u001b[0;34m,\u001b[0m \u001b[0mt\u001b[0m\u001b[0;34m,\u001b[0m \u001b[0mfbase\u001b[0m\u001b[0;34m,\u001b[0m \u001b[0mfweight\u001b[0m\u001b[0;34m,\u001b[0m \u001b[0mn_f\u001b[0m\u001b[0;34m,\u001b[0m \u001b[0mn_u\u001b[0m\u001b[0;34m,\u001b[0m \u001b[0msim_pars\u001b[0m\u001b[0;34m)\u001b[0m \u001b[0;31m# learning rates for this time step\u001b[0m\u001b[0;34m\u001b[0m\u001b[0;34m\u001b[0m\u001b[0m\n\u001b[0m\u001b[1;32m    155\u001b[0m             \u001b[0mw\u001b[0m\u001b[0;34m[\u001b[0m\u001b[0mt\u001b[0m\u001b[0;34m+\u001b[0m\u001b[0;36m1\u001b[0m\u001b[0;34m,\u001b[0m \u001b[0;34m:\u001b[0m\u001b[0;34m,\u001b[0m \u001b[0;34m:\u001b[0m\u001b[0;34m]\u001b[0m \u001b[0;34m=\u001b[0m \u001b[0mw\u001b[0m\u001b[0;34m[\u001b[0m\u001b[0mt\u001b[0m\u001b[0;34m,\u001b[0m \u001b[0;34m:\u001b[0m\u001b[0;34m,\u001b[0m \u001b[0;34m:\u001b[0m\u001b[0;34m]\u001b[0m \u001b[0;34m+\u001b[0m \u001b[0mu_lrn\u001b[0m\u001b[0;34m[\u001b[0m\u001b[0mt\u001b[0m\u001b[0;34m,\u001b[0m \u001b[0;34m:\u001b[0m\u001b[0;34m]\u001b[0m \u001b[0;34m*\u001b[0m \u001b[0mlrate\u001b[0m\u001b[0;34m[\u001b[0m\u001b[0mt\u001b[0m\u001b[0;34m,\u001b[0m \u001b[0;34m:\u001b[0m\u001b[0;34m,\u001b[0m \u001b[0;34m:\u001b[0m\u001b[0;34m]\u001b[0m \u001b[0;34m*\u001b[0m \u001b[0mdelta\u001b[0m\u001b[0;34m[\u001b[0m\u001b[0mt\u001b[0m\u001b[0;34m,\u001b[0m \u001b[0;34m:\u001b[0m\u001b[0;34m]\u001b[0m\u001b[0;34m.\u001b[0m\u001b[0mreshape\u001b[0m\u001b[0;34m(\u001b[0m\u001b[0;34m(\u001b[0m\u001b[0;36m1\u001b[0m\u001b[0;34m,\u001b[0m \u001b[0mn_u\u001b[0m\u001b[0;34m)\u001b[0m\u001b[0;34m)\u001b[0m \u001b[0;31m# association learning\u001b[0m\u001b[0;34m\u001b[0m\u001b[0;34m\u001b[0m\u001b[0m\n\u001b[1;32m    156\u001b[0m \u001b[0;34m\u001b[0m\u001b[0m\n",
      "\u001b[0;32m~/Dropbox/Research/Modeling/PhD thesis/statsrat/statsrat/rw/lrate.py\u001b[0m in \u001b[0;36mcnst\u001b[0;34m(aux, t, fbase, fweight, n_f, n_u, sim_pars)\u001b[0m\n\u001b[1;32m      5\u001b[0m \u001b[0;32mdef\u001b[0m \u001b[0mcnst\u001b[0m\u001b[0;34m(\u001b[0m\u001b[0maux\u001b[0m\u001b[0;34m,\u001b[0m \u001b[0mt\u001b[0m\u001b[0;34m,\u001b[0m \u001b[0mfbase\u001b[0m\u001b[0;34m,\u001b[0m \u001b[0mfweight\u001b[0m\u001b[0;34m,\u001b[0m \u001b[0mn_f\u001b[0m\u001b[0;34m,\u001b[0m \u001b[0mn_u\u001b[0m\u001b[0;34m,\u001b[0m \u001b[0msim_pars\u001b[0m\u001b[0;34m)\u001b[0m\u001b[0;34m:\u001b[0m\u001b[0;34m\u001b[0m\u001b[0;34m\u001b[0m\u001b[0m\n\u001b[1;32m      6\u001b[0m     \u001b[0;34m'''Constant learning rate for non-zero features.'''\u001b[0m\u001b[0;34m\u001b[0m\u001b[0;34m\u001b[0m\u001b[0m\n\u001b[0;32m----> 7\u001b[0;31m     \u001b[0mnew_lrate\u001b[0m \u001b[0;34m=\u001b[0m \u001b[0mnp\u001b[0m\u001b[0;34m.\u001b[0m\u001b[0marray\u001b[0m\u001b[0;34m(\u001b[0m\u001b[0mn_u\u001b[0m\u001b[0;34m*\u001b[0m\u001b[0;34m[\u001b[0m\u001b[0mfbase\u001b[0m\u001b[0;34m[\u001b[0m\u001b[0mt\u001b[0m\u001b[0;34m,\u001b[0m \u001b[0;34m:\u001b[0m\u001b[0;34m]\u001b[0m\u001b[0;34m.\u001b[0m\u001b[0mtolist\u001b[0m\u001b[0;34m(\u001b[0m\u001b[0;34m)\u001b[0m\u001b[0;34m]\u001b[0m\u001b[0;34m)\u001b[0m\u001b[0;34m.\u001b[0m\u001b[0mtranspose\u001b[0m\u001b[0;34m(\u001b[0m\u001b[0;34m)\u001b[0m\u001b[0;34m*\u001b[0m\u001b[0msim_pars\u001b[0m\u001b[0;34m[\u001b[0m\u001b[0;34m'lrate'\u001b[0m\u001b[0;34m]\u001b[0m\u001b[0;34m\u001b[0m\u001b[0;34m\u001b[0m\u001b[0m\n\u001b[0m\u001b[1;32m      8\u001b[0m     \u001b[0;32mreturn\u001b[0m \u001b[0mnew_lrate\u001b[0m\u001b[0;34m\u001b[0m\u001b[0;34m\u001b[0m\u001b[0m\n\u001b[1;32m      9\u001b[0m \u001b[0mcnst\u001b[0m\u001b[0;34m.\u001b[0m\u001b[0mpar_names\u001b[0m \u001b[0;34m=\u001b[0m \u001b[0;34m[\u001b[0m\u001b[0;34m'lrate'\u001b[0m\u001b[0;34m]\u001b[0m\u001b[0;34m\u001b[0m\u001b[0;34m\u001b[0m\u001b[0m\n",
      "\u001b[0;32m~/miniconda3/lib/python3.7/site-packages/pandas/core/series.py\u001b[0m in \u001b[0;36m__getitem__\u001b[0;34m(self, key)\u001b[0m\n\u001b[1;32m    869\u001b[0m         \u001b[0mkey\u001b[0m \u001b[0;34m=\u001b[0m \u001b[0mcom\u001b[0m\u001b[0;34m.\u001b[0m\u001b[0mapply_if_callable\u001b[0m\u001b[0;34m(\u001b[0m\u001b[0mkey\u001b[0m\u001b[0;34m,\u001b[0m \u001b[0mself\u001b[0m\u001b[0;34m)\u001b[0m\u001b[0;34m\u001b[0m\u001b[0;34m\u001b[0m\u001b[0m\n\u001b[1;32m    870\u001b[0m         \u001b[0;32mtry\u001b[0m\u001b[0;34m:\u001b[0m\u001b[0;34m\u001b[0m\u001b[0;34m\u001b[0m\u001b[0m\n\u001b[0;32m--> 871\u001b[0;31m             \u001b[0mresult\u001b[0m \u001b[0;34m=\u001b[0m \u001b[0mself\u001b[0m\u001b[0;34m.\u001b[0m\u001b[0mindex\u001b[0m\u001b[0;34m.\u001b[0m\u001b[0mget_value\u001b[0m\u001b[0;34m(\u001b[0m\u001b[0mself\u001b[0m\u001b[0;34m,\u001b[0m \u001b[0mkey\u001b[0m\u001b[0;34m)\u001b[0m\u001b[0;34m\u001b[0m\u001b[0;34m\u001b[0m\u001b[0m\n\u001b[0m\u001b[1;32m    872\u001b[0m \u001b[0;34m\u001b[0m\u001b[0m\n\u001b[1;32m    873\u001b[0m             \u001b[0;32mif\u001b[0m \u001b[0;32mnot\u001b[0m \u001b[0mis_scalar\u001b[0m\u001b[0;34m(\u001b[0m\u001b[0mresult\u001b[0m\u001b[0;34m)\u001b[0m\u001b[0;34m:\u001b[0m\u001b[0;34m\u001b[0m\u001b[0;34m\u001b[0m\u001b[0m\n",
      "\u001b[0;32m~/miniconda3/lib/python3.7/site-packages/pandas/core/indexes/base.py\u001b[0m in \u001b[0;36mget_value\u001b[0;34m(self, series, key)\u001b[0m\n\u001b[1;32m   4377\u001b[0m         \u001b[0;31m# use this, e.g. DatetimeIndex\u001b[0m\u001b[0;34m\u001b[0m\u001b[0;34m\u001b[0m\u001b[0;34m\u001b[0m\u001b[0m\n\u001b[1;32m   4378\u001b[0m         \u001b[0;31m# Things like `Series._get_value` (via .at) pass the EA directly here.\u001b[0m\u001b[0;34m\u001b[0m\u001b[0;34m\u001b[0m\u001b[0;34m\u001b[0m\u001b[0m\n\u001b[0;32m-> 4379\u001b[0;31m         \u001b[0ms\u001b[0m \u001b[0;34m=\u001b[0m \u001b[0mextract_array\u001b[0m\u001b[0;34m(\u001b[0m\u001b[0mseries\u001b[0m\u001b[0;34m,\u001b[0m \u001b[0mextract_numpy\u001b[0m\u001b[0;34m=\u001b[0m\u001b[0;32mTrue\u001b[0m\u001b[0;34m)\u001b[0m\u001b[0;34m\u001b[0m\u001b[0;34m\u001b[0m\u001b[0m\n\u001b[0m\u001b[1;32m   4380\u001b[0m         \u001b[0;32mif\u001b[0m \u001b[0misinstance\u001b[0m\u001b[0;34m(\u001b[0m\u001b[0ms\u001b[0m\u001b[0;34m,\u001b[0m \u001b[0mExtensionArray\u001b[0m\u001b[0;34m)\u001b[0m\u001b[0;34m:\u001b[0m\u001b[0;34m\u001b[0m\u001b[0;34m\u001b[0m\u001b[0m\n\u001b[1;32m   4381\u001b[0m             \u001b[0;32mif\u001b[0m \u001b[0mis_scalar\u001b[0m\u001b[0;34m(\u001b[0m\u001b[0mkey\u001b[0m\u001b[0;34m)\u001b[0m\u001b[0;34m:\u001b[0m\u001b[0;34m\u001b[0m\u001b[0;34m\u001b[0m\u001b[0m\n",
      "\u001b[0;32m~/miniconda3/lib/python3.7/site-packages/pandas/core/construction.py\u001b[0m in \u001b[0;36mextract_array\u001b[0;34m(obj, extract_numpy)\u001b[0m\n\u001b[1;32m    381\u001b[0m \u001b[0;34m\u001b[0m\u001b[0m\n\u001b[1;32m    382\u001b[0m     \u001b[0;32mif\u001b[0m \u001b[0mextract_numpy\u001b[0m \u001b[0;32mand\u001b[0m \u001b[0misinstance\u001b[0m\u001b[0;34m(\u001b[0m\u001b[0mobj\u001b[0m\u001b[0;34m,\u001b[0m \u001b[0mABCPandasArray\u001b[0m\u001b[0;34m)\u001b[0m\u001b[0;34m:\u001b[0m\u001b[0;34m\u001b[0m\u001b[0;34m\u001b[0m\u001b[0m\n\u001b[0;32m--> 383\u001b[0;31m         \u001b[0mobj\u001b[0m \u001b[0;34m=\u001b[0m \u001b[0mobj\u001b[0m\u001b[0;34m.\u001b[0m\u001b[0mto_numpy\u001b[0m\u001b[0;34m(\u001b[0m\u001b[0;34m)\u001b[0m\u001b[0;34m\u001b[0m\u001b[0;34m\u001b[0m\u001b[0m\n\u001b[0m\u001b[1;32m    384\u001b[0m \u001b[0;34m\u001b[0m\u001b[0m\n\u001b[1;32m    385\u001b[0m     \u001b[0;32mreturn\u001b[0m \u001b[0mobj\u001b[0m\u001b[0;34m\u001b[0m\u001b[0;34m\u001b[0m\u001b[0m\n",
      "\u001b[0;32m~/miniconda3/lib/python3.7/site-packages/pandas/core/arrays/numpy_.py\u001b[0m in \u001b[0;36mto_numpy\u001b[0;34m(self, dtype, copy, na_value)\u001b[0m\n\u001b[1;32m    416\u001b[0m     \u001b[0;31m# Additional Methods\u001b[0m\u001b[0;34m\u001b[0m\u001b[0;34m\u001b[0m\u001b[0;34m\u001b[0m\u001b[0m\n\u001b[1;32m    417\u001b[0m     \u001b[0;32mdef\u001b[0m \u001b[0mto_numpy\u001b[0m\u001b[0;34m(\u001b[0m\u001b[0mself\u001b[0m\u001b[0;34m,\u001b[0m \u001b[0mdtype\u001b[0m\u001b[0;34m=\u001b[0m\u001b[0;32mNone\u001b[0m\u001b[0;34m,\u001b[0m \u001b[0mcopy\u001b[0m\u001b[0;34m=\u001b[0m\u001b[0;32mFalse\u001b[0m\u001b[0;34m,\u001b[0m \u001b[0mna_value\u001b[0m\u001b[0;34m=\u001b[0m\u001b[0mlib\u001b[0m\u001b[0;34m.\u001b[0m\u001b[0mno_default\u001b[0m\u001b[0;34m)\u001b[0m\u001b[0;34m:\u001b[0m\u001b[0;34m\u001b[0m\u001b[0;34m\u001b[0m\u001b[0m\n\u001b[0;32m--> 418\u001b[0;31m         \u001b[0mresult\u001b[0m \u001b[0;34m=\u001b[0m \u001b[0mnp\u001b[0m\u001b[0;34m.\u001b[0m\u001b[0masarray\u001b[0m\u001b[0;34m(\u001b[0m\u001b[0mself\u001b[0m\u001b[0;34m.\u001b[0m\u001b[0m_ndarray\u001b[0m\u001b[0;34m,\u001b[0m \u001b[0mdtype\u001b[0m\u001b[0;34m=\u001b[0m\u001b[0mdtype\u001b[0m\u001b[0;34m)\u001b[0m\u001b[0;34m\u001b[0m\u001b[0;34m\u001b[0m\u001b[0m\n\u001b[0m\u001b[1;32m    419\u001b[0m \u001b[0;34m\u001b[0m\u001b[0m\n\u001b[1;32m    420\u001b[0m         \u001b[0;32mif\u001b[0m \u001b[0;34m(\u001b[0m\u001b[0mcopy\u001b[0m \u001b[0;32mor\u001b[0m \u001b[0mna_value\u001b[0m \u001b[0;32mis\u001b[0m \u001b[0;32mnot\u001b[0m \u001b[0mlib\u001b[0m\u001b[0;34m.\u001b[0m\u001b[0mno_default\u001b[0m\u001b[0;34m)\u001b[0m \u001b[0;32mand\u001b[0m \u001b[0mresult\u001b[0m \u001b[0;32mis\u001b[0m \u001b[0mself\u001b[0m\u001b[0;34m.\u001b[0m\u001b[0m_ndarray\u001b[0m\u001b[0;34m:\u001b[0m\u001b[0;34m\u001b[0m\u001b[0;34m\u001b[0m\u001b[0m\n",
      "\u001b[0;32m~/miniconda3/lib/python3.7/site-packages/numpy/core/_asarray.py\u001b[0m in \u001b[0;36masarray\u001b[0;34m(a, dtype, order)\u001b[0m\n\u001b[1;32m     83\u001b[0m \u001b[0;34m\u001b[0m\u001b[0m\n\u001b[1;32m     84\u001b[0m     \"\"\"\n\u001b[0;32m---> 85\u001b[0;31m     \u001b[0;32mreturn\u001b[0m \u001b[0marray\u001b[0m\u001b[0;34m(\u001b[0m\u001b[0ma\u001b[0m\u001b[0;34m,\u001b[0m \u001b[0mdtype\u001b[0m\u001b[0;34m,\u001b[0m \u001b[0mcopy\u001b[0m\u001b[0;34m=\u001b[0m\u001b[0;32mFalse\u001b[0m\u001b[0;34m,\u001b[0m \u001b[0morder\u001b[0m\u001b[0;34m=\u001b[0m\u001b[0morder\u001b[0m\u001b[0;34m)\u001b[0m\u001b[0;34m\u001b[0m\u001b[0;34m\u001b[0m\u001b[0m\n\u001b[0m\u001b[1;32m     86\u001b[0m \u001b[0;34m\u001b[0m\u001b[0m\n\u001b[1;32m     87\u001b[0m \u001b[0;34m\u001b[0m\u001b[0m\n",
      "\u001b[0;31mKeyboardInterrupt\u001b[0m: "
     ]
    }
   ],
   "source": [
    "print('\\n Rescorla-Wagner (elemental context features)')\n",
    "\n",
    "print('\\n renewal')\n",
    "oat_result = perform_oat(rw_models.basic, pvl_no_iti.renewal, n = n, max_time = max_time, algorithm = algorithm)\n",
    "print(oat_result.round(3))\n",
    "\n",
    "print('\\n spontaneous recovery')\n",
    "oat_result = perform_oat(rw_models.basic, pvl_no_iti.spont_rec, n = n, max_time = max_time, algorithm = algorithm)\n",
    "print(oat_result.round(3))\n",
    "\n",
    "print('\\n reinstatement')\n",
    "oat_result = perform_oat(rw_models.basic, pvl_no_iti.reinstatement, n = n, max_time = max_time, algorithm = algorithm)\n",
    "print(oat_result.round(3))"
   ]
  },
  {
   "cell_type": "code",
   "execution_count": 2,
   "metadata": {},
   "outputs": [
    {
     "name": "stdout",
     "output_type": "stream",
     "text": [
      "\n",
      " Rescorla-Wagner (elemental context features, plus intercept)\n",
      "\n",
      " renewal\n",
      "     lrate  mean  lower  upper\n",
      "min   0.93 -0.00  -0.00  -0.00\n",
      "max   0.98  0.03   0.03   0.03\n",
      "\n",
      " spontaneous recovery\n",
      "     lrate  mean  lower  upper\n",
      "min   0.79 -0.00  -0.00  -0.00\n",
      "max   0.98  0.02   0.02   0.02\n",
      "\n",
      " reinstatement\n",
      "     lrate  mean  lower  upper\n",
      "min   0.92 -0.00  -0.00  -0.00\n",
      "max   0.02  0.09   0.09   0.09\n"
     ]
    }
   ],
   "source": [
    "print('\\n Rescorla-Wagner (elemental context features, plus intercept)')\n",
    "\n",
    "print('\\n renewal')\n",
    "oat_result = perform_oat(rw_models.intercept, pvl_no_iti.renewal, n = n, max_time = max_time, algorithm = algorithm)\n",
    "print(oat_result.round(3))\n",
    "\n",
    "print('\\n spontaneous recovery')\n",
    "oat_result = perform_oat(rw_models.intercept, pvl_no_iti.spont_rec, n = n, max_time = max_time, algorithm = algorithm)\n",
    "print(oat_result.round(3))\n",
    "\n",
    "print('\\n reinstatement')\n",
    "oat_result = perform_oat(rw_models.intercept, pvl_no_iti.reinstatement, n = n, max_time = max_time, algorithm = algorithm)\n",
    "print(oat_result.round(3))"
   ]
  },
  {
   "cell_type": "code",
   "execution_count": 4,
   "metadata": {},
   "outputs": [
    {
     "name": "stdout",
     "output_type": "stream",
     "text": [
      "\n",
      " CompAct (elemental context features, plus intercept)\n",
      "\n",
      " renewal\n",
      "     lrate  lrate_atn  metric   mean  lower  upper\n",
      "min  0.986      0.311   9.129 -0.001 -0.001 -0.001\n",
      "max  0.114      0.997   1.995  0.019  0.019  0.019\n",
      "\n",
      " spontaneous recovery\n",
      "     lrate  lrate_atn  metric   mean  lower  upper\n",
      "min  0.944      0.722   8.833 -0.000 -0.000 -0.000\n",
      "max  0.167      0.056   8.499  0.003  0.003  0.003\n",
      "\n",
      " reinstatement\n",
      "     lrate  lrate_atn  metric   mean  lower  upper\n",
      "min  0.833      0.007   6.500  0.008  0.008  0.008\n",
      "max  0.056      0.672   1.723  0.094  0.094  0.094\n"
     ]
    }
   ],
   "source": [
    "print('\\n CompAct (elemental context features, plus intercept)')\n",
    "\n",
    "print('\\n renewal')\n",
    "oat_result = perform_oat(rw_models.CompAct_intercept, pvl_no_iti.renewal, n = n, max_time = max_time, algorithm = algorithm)\n",
    "print(oat_result.round(3))\n",
    "\n",
    "print('\\n spontaneous recovery')\n",
    "oat_result = perform_oat(rw_models.CompAct_intercept, pvl_no_iti.spont_rec, n = n, max_time = max_time, algorithm = algorithm)\n",
    "print(oat_result.round(3))\n",
    "\n",
    "print('\\n reinstatement')\n",
    "oat_result = perform_oat(rw_models.CompAct_intercept, pvl_no_iti.reinstatement, n = n, max_time = max_time, algorithm = algorithm)\n",
    "print(oat_result.round(3))"
   ]
  },
  {
   "cell_type": "code",
   "execution_count": 2,
   "metadata": {},
   "outputs": [
    {
     "name": "stdout",
     "output_type": "stream",
     "text": [
      "\n",
      " Decreasing learning rates (elemental context features, plus intercept)\n",
      "\n",
      " renewal\n",
      "     extra_counts  mean  lower  upper\n",
      "min          10.0 -0.00  -0.00  -0.00\n",
      "max           1.0  0.02   0.02   0.02\n",
      "\n",
      " spontaneous recovery\n",
      "     extra_counts  mean  lower  upper\n",
      "min         10.00  -0.0   -0.0   -0.0\n",
      "max          2.95   0.0    0.0    0.0\n",
      "\n",
      " reinstatement\n",
      "     extra_counts  mean  lower  upper\n",
      "min         10.00  0.08   0.08   0.08\n",
      "max          1.75  0.08   0.08   0.08\n"
     ]
    }
   ],
   "source": [
    "print('\\n Decreasing learning rates (elemental context features, plus intercept)')\n",
    "\n",
    "print('\\n renewal')\n",
    "oat_result = perform_oat(rw_models.hrmn_intercept, pvl_no_iti.renewal, n = n, max_time = max_time, algorithm = algorithm)\n",
    "print(oat_result.round(3))\n",
    "\n",
    "print('\\n spontaneous recovery')\n",
    "oat_result = perform_oat(rw_models.hrmn_intercept, pvl_no_iti.spont_rec, n = n, max_time = max_time, algorithm = algorithm)\n",
    "print(oat_result.round(3))\n",
    "\n",
    "print('\\n reinstatement')\n",
    "oat_result = perform_oat(rw_models.hrmn_intercept, pvl_no_iti.reinstatement, n = n, max_time = max_time, algorithm = algorithm)\n",
    "print(oat_result.round(3))"
   ]
  },
  {
   "cell_type": "code",
   "execution_count": 5,
   "metadata": {},
   "outputs": [
    {
     "name": "stdout",
     "output_type": "stream",
     "text": [
      "\n",
      " Kalman filter\n",
      "\n",
      " renewal\n",
      "     drift_var  u_var  w_var0   mean  lower  upper\n",
      "min      1.444  1.412     5.0 -0.012 -0.012 -0.012\n",
      "max      1.012  2.498     5.0  0.028  0.028  0.028\n",
      "\n",
      " spontaneous recovery\n",
      "     drift_var  u_var  w_var0   mean  lower  upper\n",
      "min      1.000  0.834   4.506 -0.028 -0.028 -0.028\n",
      "max      1.123  2.562   5.000  0.042  0.042  0.042\n",
      "\n",
      " reinstatement\n",
      "     drift_var  u_var  w_var0   mean  lower  upper\n",
      "min      1.000  3.055   7.592  0.017  0.017  0.017\n",
      "max      0.112  4.536   2.778  0.094  0.094  0.094\n"
     ]
    }
   ],
   "source": [
    "print('\\n Kalman filter')\n",
    "\n",
    "print('\\n renewal')\n",
    "oat_result = perform_oat(rw_models.Kalman, pvl_no_iti.renewal, n = n, max_time = max_time, algorithm = algorithm)\n",
    "print(oat_result.round(3))\n",
    "\n",
    "print('\\n spontaneous recovery')\n",
    "oat_result = perform_oat(rw_models.Kalman, pvl_no_iti.spont_rec, n = n, max_time = max_time, algorithm = algorithm)\n",
    "print(oat_result.round(3))\n",
    "\n",
    "print('\\n reinstatement')\n",
    "oat_result = perform_oat(rw_models.Kalman, pvl_no_iti.reinstatement, n = n, max_time = max_time, algorithm = algorithm)\n",
    "print(oat_result.round(3))"
   ]
  },
  {
   "cell_type": "code",
   "execution_count": null,
   "metadata": {},
   "outputs": [
    {
     "name": "stdout",
     "output_type": "stream",
     "text": [
      "\n",
      " Latent cause model with Chinese restaurant process prior\n",
      "\n",
      " renewal\n",
      "      alpha   beta0  value\n",
      "min   0.001   0.001 -0.304\n",
      "max  39.998  49.995 -0.000\n",
      "\n",
      " spontaneous recovery\n"
     ]
    }
   ],
   "source": [
    "print('\\n Latent cause model with Chinese restaurant process prior')\n",
    "\n",
    "print('\\n renewal')\n",
    "oat_result = perform_oat(lc_models.normal_crp, pvl_no_iti.renewal, n = n, max_time = max_time, algorithm = algorithm)\n",
    "print(oat_result.round(3))\n",
    "\n",
    "print('\\n spontaneous recovery')\n",
    "oat_result = perform_oat(lc_models.normal_crp, pvl_no_iti.spont_rec, n = n, max_time = max_time, algorithm = algorithm)\n",
    "print(oat_result.round(3))\n",
    "\n",
    "print('\\n reinstatement')\n",
    "oat_result = perform_oat(lc_models.normal_crp, pvl_no_iti.reinstatement, n = n, max_time = max_time, algorithm = algorithm)\n",
    "print(oat_result.round(3))"
   ]
  },
  {
   "cell_type": "code",
   "execution_count": 2,
   "metadata": {},
   "outputs": [
    {
     "name": "stdout",
     "output_type": "stream",
     "text": [
      "\n",
      " Latent cause model with power law kernel prior\n",
      "\n",
      " renewal\n",
      "         a0  alpha   lmb0  value\n",
      "min   0.262  4.363  0.042 -0.388\n",
      "max  19.985  0.522  8.903  0.023\n",
      "\n",
      " spontaneous recovery\n",
      "         a0   alpha    lmb0  value\n",
      "min   1.112   6.667   3.334 -0.005\n",
      "max  18.888  33.333  16.666 -0.000\n",
      "\n",
      " reinstatement\n",
      "         a0   alpha    lmb0  value\n",
      "min  19.958  39.752  19.876  0.000\n",
      "max   3.087   2.223   1.441  0.185\n"
     ]
    }
   ],
   "source": [
    "print('\\n Latent cause model with power law kernel prior')\n",
    "\n",
    "print('\\n renewal')\n",
    "oat_result = perform_oat(lc_models.normal_power, pvl_no_iti.renewal, n = n, max_time = max_time, algorithm = algorithm)\n",
    "print(oat_result.round(3))\n",
    "\n",
    "print('\\n spontaneous recovery')\n",
    "oat_result = perform_oat(lc_models.normal_power, pvl_no_iti.spont_rec, n = n, max_time = max_time, algorithm = algorithm)\n",
    "print(oat_result.round(3))\n",
    "\n",
    "print('\\n reinstatement')\n",
    "oat_result = perform_oat(lc_models.normal_power, pvl_no_iti.reinstatement, n = n, max_time = max_time, algorithm = algorithm)\n",
    "print(oat_result.round(3))"
   ]
  },
  {
   "cell_type": "code",
   "execution_count": 5,
   "metadata": {},
   "outputs": [
    {
     "name": "stdout",
     "output_type": "stream",
     "text": [
      "\n",
      " Latent cause model with Chinese restaurant process prior\n",
      "\n",
      " renewal\n",
      "\n",
      " different optimization algorithms\n",
      "\n",
      " GN_DIRECT_L\n",
      "        a0  alpha   lmb0  value\n",
      "min  8.333  6.667  0.556 -0.043\n",
      "max  5.000  2.223  8.333 -0.000\n",
      "\n",
      " GN_AGS\n",
      "        a0   alpha   lmb0  value\n",
      "min  2.502   0.006  0.002 -0.084\n",
      "max  7.506  39.994  7.510 -0.001\n",
      "\n",
      " GN_ORIG_DIRECT\n",
      "        a0  alpha   lmb0  value\n",
      "min  8.333  6.667  0.556 -0.043\n",
      "max  5.000  2.223  8.333 -0.000\n",
      "\n",
      " GD_STOGO\n",
      "      a0  alpha   lmb0  value\n",
      "min  5.0  6.847  2.001 -0.017\n",
      "max  5.0  6.847  7.999 -0.001\n"
     ]
    }
   ],
   "source": [
    "print('\\n Latent cause model with Chinese restaurant process prior')\n",
    "print('\\n renewal')\n",
    "print('\\n different optimization algorithms')\n",
    "\n",
    "print('\\n GN_DIRECT_L')\n",
    "oat_result = perform_oat(lc_models.discrete_crp, pvl_no_iti.renewal, n = n, max_time = max_time, algorithm = nlopt.GN_DIRECT_L)\n",
    "print(oat_result.round(3))\n",
    "\n",
    "print('\\n GN_AGS')\n",
    "oat_result = perform_oat(lc_models.discrete_crp, pvl_no_iti.renewal, n = n, max_time = max_time, algorithm = nlopt.GN_AGS)\n",
    "print(oat_result.round(3))\n",
    "\n",
    "print('\\n GN_ORIG_DIRECT')\n",
    "oat_result = perform_oat(lc_models.discrete_crp, pvl_no_iti.renewal, n = n, max_time = max_time, algorithm = nlopt.GN_ORIG_DIRECT)\n",
    "print(oat_result.round(3))\n",
    "\n",
    "print('\\n GD_STOGO')\n",
    "oat_result = perform_oat(lc_models.discrete_crp, pvl.renewal, n = n, max_time = max_time, algorithm = nlopt.GD_STOGO)\n",
    "print(oat_result.round(3))"
   ]
  },
  {
   "cell_type": "code",
   "execution_count": null,
   "metadata": {},
   "outputs": [],
   "source": []
  }
 ],
 "metadata": {
  "kernelspec": {
   "display_name": "Python 3",
   "language": "python",
   "name": "python3"
  },
  "language_info": {
   "codemirror_mode": {
    "name": "ipython",
    "version": 3
   },
   "file_extension": ".py",
   "mimetype": "text/x-python",
   "name": "python",
   "nbconvert_exporter": "python",
   "pygments_lexer": "ipython3",
   "version": "3.7.3"
  }
 },
 "nbformat": 4,
 "nbformat_minor": 4
}
