{
 "cells": [
  {
   "cell_type": "code",
   "execution_count": null,
   "metadata": {},
   "outputs": [],
   "source": [
    "import numpy as np\n",
    "import xarray as xr\n",
    "import pandas as pd\n",
    "import nlopt\n",
    "import seaborn as sns\n",
    "from statsrat import perform_oat, oat_grid, make_sim_data, learn_plot\n",
    "from statsrat.expr.predef.cat import ibre, lrn_pred\n",
    "from statsrat.rw.predef import Kalman\n",
    "from scipy import stats"
   ]
  },
  {
   "cell_type": "code",
   "execution_count": null,
   "metadata": {},
   "outputs": [],
   "source": [
    "# ordinal adequacy test (OAT) for the IBRE\n",
    "\n",
    "n = 20\n",
    "max_time = 300\n",
    "#algorithm = nlopt.GN_DIRECT_L\n",
    "#algorithm = nlopt.GN_AGS\n",
    "algorithm = nlopt.GN_ORIG_DIRECT\n",
    "#algorithm = nlopt.GD_STOGO\n",
    "\n",
    "# MAKE SURE THAT I HAVEN'T PREVENTED THE MODELS FROM PRODUCING THE IBRE BY CUTTING OFF THEIR PARAMETER RANGES TOO MUCH.\n",
    "m = br.model(name = 'linear', fbase = elem, link = br.link.linear, tausq_inv_dist = br.tausq_inv_dist.constant)\n",
    "#m = br.model(name = 'linear derived attention ARD', fbase = elem, link = br.link.linear, tausq_inv_dist = br.tausq_inv_dist.ard_drv_atn)\n",
    "\n",
    "oat_result = perform_oat(Kalman, ibre, minimize = False, n = n, max_time = max_time, algorithm = algorithm)\n",
    "print(oat_result[0])\n",
    "print(oat_result[1])"
   ]
  },
  {
   "cell_type": "code",
   "execution_count": null,
   "metadata": {},
   "outputs": [],
   "source": [
    "free_par = 'drift_var'\n",
    "fixed_values = {'u_var': 0.116746, 'w_var0': 5.0, 'resp_scale': 5.0}\n",
    "\n",
    "df = oat_grid(Kalman,\n",
    "              ibre,\n",
    "              free_par = free_par,\n",
    "              fixed_values = fixed_values,\n",
    "              n_points = 5)\n",
    "sns.relplot(x = free_par, y = 'oat_score', data = df)"
   ]
  }
 ],
 "metadata": {
  "kernelspec": {
   "display_name": "Python 3",
   "language": "python",
   "name": "python3"
  },
  "language_info": {
   "codemirror_mode": {
    "name": "ipython",
    "version": 3
   },
   "file_extension": ".py",
   "mimetype": "text/x-python",
   "name": "python",
   "nbconvert_exporter": "python",
   "pygments_lexer": "ipython3",
   "version": "3.8.5"
  }
 },
 "nbformat": 4,
 "nbformat_minor": 4
}
