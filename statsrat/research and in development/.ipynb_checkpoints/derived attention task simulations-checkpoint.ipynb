{
 "cells": [
  {
   "cell_type": "code",
   "execution_count": 1,
   "metadata": {},
   "outputs": [],
   "source": [
    "import numpy as np\n",
    "import xarray as xr\n",
    "import pandas as pd\n",
    "import nlopt\n",
    "import seaborn as sns\n",
    "from statsrat import perform_oat, oat_grid, make_sim_data, learn_plot\n",
    "from statsrat.expr.predef import kitten\n",
    "import statsrat.bayes_regr as br\n",
    "from statsrat.rw.fbase import elem, elem_intercept\n",
    "from scipy import stats"
   ]
  },
  {
   "cell_type": "code",
   "execution_count": 2,
   "metadata": {},
   "outputs": [
    {
     "name": "stdout",
     "output_type": "stream",
     "text": [
      "                        min   max  default\n",
      "prior_tausq_inv_hpar0 -10.0   0.0     -2.0\n",
      "prior_tausq_inv_hpar1   1.0  11.0      3.0\n",
      "u_var                   0.0  10.0      0.1\n",
      "resp_scale              0.0  10.0      1.0\n"
     ]
    }
   ],
   "source": [
    "m = br.model(name = 'linear ARD derived attention', fbase = elem, link = br.link.linear, tausq_inv_dist = br.tausq_inv_dist.ard_drv_atn)\n",
    "print(m.pars)\n",
    "par_val = [-2, 10, 1, 5]"
   ]
  },
  {
   "cell_type": "code",
   "execution_count": 3,
   "metadata": {},
   "outputs": [
    {
     "name": "stderr",
     "output_type": "stream",
     "text": [
      "/opt/anaconda3/lib/python3.8/site-packages/plotnine/ggplot.py:727: PlotnineWarning: Saving 6.4 x 4.8 in image.\n",
      "/opt/anaconda3/lib/python3.8/site-packages/plotnine/ggplot.py:730: PlotnineWarning: Filename: lrn_pred_tausq.png\n",
      "/opt/anaconda3/lib/python3.8/site-packages/plotnine/ggplot.py:727: PlotnineWarning: Saving 6.4 x 4.8 in image.\n",
      "/opt/anaconda3/lib/python3.8/site-packages/plotnine/ggplot.py:730: PlotnineWarning: Filename: lrn_pred_w.png\n"
     ]
    }
   ],
   "source": [
    "trials = kitten.lrn_pred.make_trials()\n",
    "ds = m.simulate(trials = trials, par_val = par_val)\n",
    "index = ds.stage_name == 'training'\n",
    "learn_plot(ds, 'mean_tausq', {'u_name': ['cat1'], 't': index}, stage_labels = False).save(filename = 'lrn_pred_tausq.png')\n",
    "learn_plot(ds, 'mean_w', {'t': ds.stage_name == 'training'}, stage_labels = False).save(filename = 'lrn_pred_w.png')"
   ]
  },
  {
   "cell_type": "code",
   "execution_count": 4,
   "metadata": {},
   "outputs": [
    {
     "name": "stderr",
     "output_type": "stream",
     "text": [
      "/opt/anaconda3/lib/python3.8/site-packages/plotnine/ggplot.py:727: PlotnineWarning: Saving 6.4 x 4.8 in image.\n",
      "/opt/anaconda3/lib/python3.8/site-packages/plotnine/ggplot.py:730: PlotnineWarning: Filename: blk_inatn_tausq.png\n",
      "/opt/anaconda3/lib/python3.8/site-packages/plotnine/ggplot.py:727: PlotnineWarning: Saving 6.4 x 4.8 in image.\n",
      "/opt/anaconda3/lib/python3.8/site-packages/plotnine/ggplot.py:730: PlotnineWarning: Filename: blk_inatn_w.png\n"
     ]
    }
   ],
   "source": [
    "trials = kitten.blk_inatn.make_trials()\n",
    "ds = m.simulate(trials = trials, par_val = par_val)\n",
    "index = ds.stage_name.isin(['single_cue', 'double_cue'])\n",
    "learn_plot(ds, 'mean_tausq', {'u_name': ['cat1'], 't': index}).save(filename = 'blk_inatn_tausq.png')\n",
    "learn_plot(ds, 'mean_w', {'u_name': ['cat1', 'cat2'], 't': index}).save(filename = 'blk_inatn_w.png')"
   ]
  },
  {
   "cell_type": "code",
   "execution_count": null,
   "metadata": {},
   "outputs": [],
   "source": []
  }
 ],
 "metadata": {
  "kernelspec": {
   "display_name": "Python 3",
   "language": "python",
   "name": "python3"
  },
  "language_info": {
   "codemirror_mode": {
    "name": "ipython",
    "version": 3
   },
   "file_extension": ".py",
   "mimetype": "text/x-python",
   "name": "python",
   "nbconvert_exporter": "python",
   "pygments_lexer": "ipython3",
   "version": "3.8.5"
  }
 },
 "nbformat": 4,
 "nbformat_minor": 4
}
