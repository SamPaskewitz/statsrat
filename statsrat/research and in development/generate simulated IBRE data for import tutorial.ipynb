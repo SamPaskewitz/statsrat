{
 "cells": [
  {
   "cell_type": "code",
   "execution_count": null,
   "metadata": {},
   "outputs": [],
   "source": [
    "import statsrat as sr\n",
    "from statsrat.expr.predef import cat\n",
    "from statsrat.rw import predef as rwmodels"
   ]
  },
  {
   "cell_type": "code",
   "execution_count": null,
   "metadata": {},
   "outputs": [],
   "source": [
    "ds = sr.make_sim_data(model = rwmodels.CompAct, experiment = cat.ibre, n = 10)\n",
    "\n",
    "n_t = len(ds.t)\n",
    "ident, cue1, cue2, cue3, response, test_response = [], [], [], [], [], []\n",
    "for i in range(10):\n",
    "    new_cue1, new_cue2, new_cue3 = n_t*[''], n_t*[''], n_t*['']\n",
    "    for t in range(n_t):\n",
    "        # FINISH\n",
    "        \n",
    "df = pd.DataFrame({'subject_ID': ident,\n",
    "                   'cue1': cue1,\n",
    "                   'cue2': cue2,\n",
    "                   'cue3': cue3,\n",
    "                   'response': response,\n",
    "                   'test_response': test_response})"
   ]
  }
 ],
 "metadata": {
  "kernelspec": {
   "display_name": "Python 3",
   "language": "python",
   "name": "python3"
  },
  "language_info": {
   "codemirror_mode": {
    "name": "ipython",
    "version": 3
   },
   "file_extension": ".py",
   "mimetype": "text/x-python",
   "name": "python",
   "nbconvert_exporter": "python",
   "pygments_lexer": "ipython3",
   "version": "3.7.3"
  }
 },
 "nbformat": 4,
 "nbformat_minor": 4
}
