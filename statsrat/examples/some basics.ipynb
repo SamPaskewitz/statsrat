{
 "cells": [
  {
   "cell_type": "code",
   "execution_count": 1,
   "metadata": {},
   "outputs": [],
   "source": [
    "import numpy as np\n",
    "from statsrat import log_lik, fit_indv, learn_plot\n",
    "from statsrat.expr.predef.cat import fast\n",
    "from statsrat.expr.predef.pvl import li\n",
    "from statsrat.rw.predef import smpr, CompAct"
   ]
  },
  {
   "cell_type": "code",
   "execution_count": 2,
   "metadata": {},
   "outputs": [],
   "source": [
    "# generate trials from category learning experiment\n",
    "trials = fast.make_trials()"
   ]
  },
  {
   "cell_type": "code",
   "execution_count": 3,
   "metadata": {},
   "outputs": [],
   "source": [
    "# simulate behavioral data\n",
    "sim_data = smpr.simulate(trials, par_val = [0.1, 0.8, 1], random_resp = True)"
   ]
  },
  {
   "cell_type": "code",
   "execution_count": null,
   "metadata": {},
   "outputs": [],
   "source": [
    "# plot learning rates ('lrate') for outcome 'cat1' and feature 'b1' from simulated data\n",
    "learn_plot(ds = sim_data, var = 'lrate', sel = {'u_name' : ['cat1'], 'f_name' : ['b1']}, drop_zeros = True)"
   ]
  },
  {
   "cell_type": "code",
   "execution_count": null,
   "metadata": {},
   "outputs": [],
   "source": [
    "# plot association weights ('w') from simulated data\n",
    "learn_plot(ds = sim_data, var = 'w')"
   ]
  },
  {
   "cell_type": "code",
   "execution_count": null,
   "metadata": {},
   "outputs": [],
   "source": [
    "# evaluate log-likelihood of certain parameters\n",
    "print(log_lik(model = smpr, ds = sim_data, par_val = [0.2, 0.5, 3]))"
   ]
  },
  {
   "cell_type": "code",
   "execution_count": null,
   "metadata": {},
   "outputs": [],
   "source": [
    "# fit a different model (CompAct) to the simulated data by ML\n",
    "model_fit = fit_indv(model = CompAct, ds = sim_data, a = 1, b = 1)\n",
    "print(model_fit)"
   ]
  },
  {
   "cell_type": "code",
   "execution_count": null,
   "metadata": {},
   "outputs": [],
   "source": [
    "# generate trials from a Pavlovian experiment\n",
    "ptrials = li.make_trials()"
   ]
  },
  {
   "cell_type": "code",
   "execution_count": null,
   "metadata": {},
   "outputs": [],
   "source": [
    "# simulate behavioral data\n",
    "psim_data = smpr.simulate(ptrials, par_val = [0.1, 0.8, 1], resp_type = 'exct')"
   ]
  },
  {
   "cell_type": "code",
   "execution_count": null,
   "metadata": {},
   "outputs": [],
   "source": []
  }
 ],
 "metadata": {
  "kernelspec": {
   "display_name": "Python 3",
   "language": "python",
   "name": "python3"
  },
  "language_info": {
   "codemirror_mode": {
    "name": "ipython",
    "version": 3
   },
   "file_extension": ".py",
   "mimetype": "text/x-python",
   "name": "python",
   "nbconvert_exporter": "python",
   "pygments_lexer": "ipython3",
   "version": "3.8.5"
  }
 },
 "nbformat": 4,
 "nbformat_minor": 4
}
