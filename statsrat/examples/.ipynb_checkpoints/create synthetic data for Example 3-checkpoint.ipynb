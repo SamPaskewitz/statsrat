{
 "cells": [
  {
   "cell_type": "code",
   "execution_count": 1,
   "metadata": {},
   "outputs": [],
   "source": [
    "import numpy as np\n",
    "import pandas as pd\n",
    "import statsrat as sr\n",
    "from statsrat import rw\n",
    "from statsrat import expr"
   ]
  },
  {
   "cell_type": "code",
   "execution_count": 2,
   "metadata": {},
   "outputs": [],
   "source": [
    "# CompAct (with only elemental features); Model 4 from Paskewitz and Jones (2020).\n",
    "\n",
    "CompAct = rw.model(name = 'CompAct',\n",
    "                   pred = rw.pred.identity,\n",
    "                   fbase = rw.fbase.elem,\n",
    "                   fweight = rw.fweight.from_aux_norm,\n",
    "                   lrate = rw.lrate.from_aux_norm,\n",
    "                   drate = rw.drate.zero,\n",
    "                   aux = rw.aux.gradcomp)"
   ]
  },
  {
   "cell_type": "code",
   "execution_count": 3,
   "metadata": {},
   "outputs": [],
   "source": [
    "# Le Pelley and McLaren 2003 (learned predictiveness)\n",
    "# Test responses were really rating scales for both response options instead of choices.\n",
    "\n",
    "design = expr.schedule(resp_type = 'choice',\n",
    "                      stages = {'training': expr.stage(\n",
    "                                        x_pn = [['a', 'v'], ['b', 'v'], ['a', 'w'], ['b', 'w'], ['c', 'x'], ['d', 'x'], ['c', 'y'], ['d', 'y']],\n",
    "                                        y = 4*[['cat1'], ['cat2']],\n",
    "                                        y_psb = ['cat1', 'cat2'],\n",
    "                                        n_rep = 14),\n",
    "                                  'transfer': expr.stage(\n",
    "                                        x_pn = [['a', 'x'], ['b', 'y'], ['c', 'v'], ['d', 'w'], ['e', 'f'], ['g', 'h'], ['i', 'j'], ['k', 'l']],\n",
    "                                        y = 4*[['cat3'], ['cat4']],\n",
    "                                        y_psb = ['cat3', 'cat4'],\n",
    "                                        n_rep = 4),\n",
    "                                  'test': expr.stage(\n",
    "                                        x_pn = [['a', 'c'], ['b', 'd'], ['v', 'x'], ['w', 'y'], ['e', 'h'], ['f', 'g'], ['i', 'j'], ['k', 'l']],\n",
    "                                        y_psb = ['cat3', 'cat4'],\n",
    "                                        lrn = False,\n",
    "                                        n_rep = 1)})\n",
    "\n",
    "rel_irl = expr.oat(schedule_pos = ['design'],\n",
    "                  behav_score_pos = expr.behav_score(stage = 'test',\n",
    "                                                    trial_pos = ['a.c -> nothing', 'b.d -> nothing'],\n",
    "                                                    trial_neg = ['v.x -> nothing', 'w.y -> nothing'],\n",
    "                                                    resp_pos = ['cat3', 'cat4'],\n",
    "                                                    resp_neg = ['cat3', 'cat4']))\n",
    "\n",
    "lrn_pred = expr.experiment(schedules = {'design': design},\n",
    "                           oats = {'rel_irl': rel_irl})"
   ]
  },
  {
   "cell_type": "code",
   "execution_count": 37,
   "metadata": {},
   "outputs": [
    {
     "name": "stdout",
     "output_type": "stream",
     "text": [
      "\n",
      "\n",
      "\n",
      "\n",
      "\n",
      "\n",
      "\n",
      "\n",
      "\n",
      "\n",
      "\n",
      "\n",
      "\n",
      "\n",
      "\n",
      "\n",
      "\n",
      "\n",
      "\n",
      "\n",
      "\n",
      "\n",
      "\n",
      "\n",
      "\n",
      "\n",
      "\n",
      "\n",
      "\n",
      "\n",
      "\n",
      "\n",
      "\n",
      "\n",
      "\n",
      "\n",
      "\n",
      "\n",
      "\n",
      "\n",
      "\n",
      "\n",
      "\n",
      "\n",
      "\n",
      "\n",
      "\n",
      "\n",
      "\n",
      "\n",
      "\n",
      "\n",
      "\n",
      "\n",
      "\n",
      "\n",
      "\n",
      "\n",
      "\n",
      "\n",
      "\n",
      "\n",
      "\n",
      "\n",
      "\n",
      "\n",
      "\n",
      "\n",
      "\n",
      "\n",
      "\n",
      "\n",
      "\n",
      "\n",
      "\n",
      "\n",
      "\n",
      "\n",
      "\n",
      "\n"
     ]
    }
   ],
   "source": [
    "# Create synthetic data\n",
    "\n",
    "sim_data = sr.make_sim_data(model = CompAct, experiment = lrn_pred, a_true = [2, 2, 2, 1], b_true  = 2)\n",
    "n_t = sim_data['ds']['t'].shape[0]\n",
    "resp_names = pd.Series(['a', 's', 'd', 'f'])\n",
    "cue_names = pd.Series(['A', 'B', 'C', 'D', 'E', 'F', 'G', 'H', 'I', 'J', 'K', 'L', 'V', 'W', 'X', 'Y'])\n",
    "\n",
    "for ident in sim_data['ds']['ident'].values:\n",
    "    bar = sim_data['ds'].loc[{'ident': ident}]\n",
    "    resp = np.array(n_t*[''])\n",
    "    left_stim = np.array(n_t*[''])\n",
    "    right_stim = np.array(n_t*[''])\n",
    "    confidence_rating = np.zeros(n_t, dtype = 'float')\n",
    "    for t in range(n_t):\n",
    "        resp[t] = resp_names.loc[bar['b'].loc[{'t': t}].values == 1.0].values[0]\n",
    "        cues = cue_names.loc[bar['x'].loc[{'t': t}].values == 1.0].values\n",
    "        if t%2 == 0:\n",
    "            left_stim[t] = cues[0]\n",
    "            right_stim[t] = cues[1]\n",
    "        else:\n",
    "            left_stim[t] = cues[1]\n",
    "            right_stim[t] = cues[0]\n",
    "        # Create synthetic confidence scores (this should really be based on a y_hat difference)\n",
    "        if 'nothing' in bar['trial_name'].values[t]:\n",
    "            choice_y_hat = bar['y_hat'].loc[{'t': t, 'y_name': bar['b_name'].loc[{'t': t}]}].values\n",
    "            confidence_rating[t] = np.round(10*choice_y_hat)\n",
    "    quz = pd.DataFrame({'key_press': resp,\n",
    "                        'left_stim': left_stim,\n",
    "                        'right_stim': right_stim,\n",
    "                        'confidence_rating': confidence_rating,\n",
    "                        'subject_id': ident})\n",
    "    quz.to_csv('data/' + ident + '_data.csv')"
   ]
  },
  {
   "cell_type": "code",
   "execution_count": 36,
   "metadata": {},
   "outputs": [
    {
     "data": {
      "text/plain": [
       "True"
      ]
     },
     "execution_count": 36,
     "metadata": {},
     "output_type": "execute_result"
    }
   ],
   "source": [
    "'nothing' in bar['trial_name'].values[151]"
   ]
  },
  {
   "cell_type": "code",
   "execution_count": 38,
   "metadata": {},
   "outputs": [
    {
     "name": "stdout",
     "output_type": "stream",
     "text": [
      "    key_press left_stim right_stim  confidence_rating subject_id\n",
      "0           a         A          V                0.0       sim9\n",
      "1           s         Y          C                0.0       sim9\n",
      "2           a         B          W                0.0       sim9\n",
      "3           a         Y          D                0.0       sim9\n",
      "4           a         D          X                0.0       sim9\n",
      "..        ...       ...        ...                ...        ...\n",
      "147         d         X          V                7.0       sim9\n",
      "148         f         K          L               10.0       sim9\n",
      "149         d         H          E                5.0       sim9\n",
      "150         f         W          Y                6.0       sim9\n",
      "151         d         G          F                5.0       sim9\n",
      "\n",
      "[152 rows x 5 columns]\n"
     ]
    }
   ],
   "source": [
    "print(quz)"
   ]
  },
  {
   "cell_type": "code",
   "execution_count": 23,
   "metadata": {},
   "outputs": [
    {
     "name": "stdout",
     "output_type": "stream",
     "text": [
      "0.6969287208708628\n"
     ]
    }
   ],
   "source": [
    "print(choice_y_hat)"
   ]
  },
  {
   "cell_type": "code",
   "execution_count": 16,
   "metadata": {},
   "outputs": [
    {
     "name": "stdout",
     "output_type": "stream",
     "text": [
      "0.6969287208708628\n",
      "7.0\n"
     ]
    }
   ],
   "source": [
    "# IT WOULD REALLY BE USEFUL TO HAVE THE RESPONSE INDICATED BY A SINGLE VARIABLE\n",
    "choice_y_hat = bar['y_hat'].loc[{'t': 151, 'y_name': bar['b_name'].loc[{'t': 151}]}].values\n",
    "print(choice_y_hat)\n",
    "\n",
    "print(np.round(10*choice_y_hat))"
   ]
  },
  {
   "cell_type": "code",
   "execution_count": 7,
   "metadata": {},
   "outputs": [
    {
     "name": "stdout",
     "output_type": "stream",
     "text": [
      "{'par': lvl0  true_par                               \n",
      "lvl1     lrate lrate_atn    metric resp_scale\n",
      "0     0.458319  1.256814  7.108215   2.504996\n",
      "1     0.199700  1.293302  0.231854   1.266811\n",
      "2     0.188928  0.237666  1.243692   2.839058\n",
      "3     0.292507  0.546334  7.364079   5.208751\n",
      "4     0.229615  1.788857  5.086675   1.320269\n",
      "5     0.422182  0.900157  5.308523   1.717652\n",
      "6     0.855688  0.249215  7.006906   5.834920\n",
      "7     0.212710  1.040859  3.677069   0.070071\n",
      "8     0.309581  0.540371  1.297504   1.831613\n",
      "9     0.581415  0.480328  3.286819   4.019138, 'ds': <xarray.Dataset>\n",
      "Dimensions:     (f_name: 16, ident: 10, t: 152, x_name: 16, y_name: 4)\n",
      "Coordinates:\n",
      "  * t           (t) int64 0 1 2 3 4 5 6 7 8 ... 144 145 146 147 148 149 150 151\n",
      "    t_name      (t) <U4 'main' 'main' 'main' 'main' ... 'main' 'main' 'main'\n",
      "    ex          (ident, t) <U3 'b.v' 'b.w' 'c.x' 'd.y' ... 'v.x' 'w.y' 'i.j'\n",
      "    trial       (t) int64 0 1 2 3 4 5 6 7 8 ... 144 145 146 147 148 149 150 151\n",
      "    trial_name  (ident, t) <U14 'b.v -> cat2' 'b.w -> cat2' ... 'i.j -> nothing'\n",
      "    stage       (t) int64 0 0 0 0 0 0 0 0 0 0 0 ... 8 8 16 16 16 16 16 16 16 16\n",
      "    stage_name  (t) <U8 'training' 'training' 'training' ... 'test' 'test'\n",
      "  * x_name      (x_name) <U1 'a' 'b' 'c' 'd' 'e' 'f' ... 'k' 'l' 'v' 'w' 'x' 'y'\n",
      "  * y_name      (y_name) <U4 'cat1' 'cat2' 'cat3' 'cat4'\n",
      "    time        (t) int64 0 1 2 3 4 5 6 7 8 ... 144 145 146 147 148 149 150 151\n",
      "  * f_name      (f_name) <U1 'a' 'b' 'c' 'd' 'e' 'f' ... 'k' 'l' 'v' 'w' 'x' 'y'\n",
      "  * ident       (ident) <U4 'sim0' 'sim1' 'sim2' 'sim3' ... 'sim7' 'sim8' 'sim9'\n",
      "Data variables: (12/17)\n",
      "    x           (ident, t, x_name) float64 0.0 1.0 0.0 0.0 ... 0.0 0.0 0.0 0.0\n",
      "    y           (ident, t, y_name) float64 0.0 1.0 0.0 0.0 ... 0.0 0.0 0.0 0.0\n",
      "    y_psb       (ident, t, y_name) float64 1.0 1.0 0.0 0.0 ... 0.0 0.0 1.0 1.0\n",
      "    y_lrn       (ident, t, y_name) float64 1.0 1.0 0.0 0.0 ... 0.0 0.0 0.0 0.0\n",
      "    fbase       (ident, t, f_name) float64 0.0 1.0 0.0 0.0 ... 0.0 0.0 0.0 0.0\n",
      "    fweight     (ident, t, f_name) float64 0.009071 0.9071 ... 0.008099 0.008099\n",
      "    ...          ...\n",
      "    delta       (ident, t, y_name) float64 0.0 1.0 0.0 0.0 ... 0.0 -0.9968 0.0\n",
      "    lrate       (ident, t, f_name, y_name) float64 0.0 0.0 0.0 ... 0.0 0.0 0.0\n",
      "    drate       (ident, t, f_name, y_name) float64 0.0 0.0 0.0 ... 0.0 0.0 0.0\n",
      "    atn         (ident, t, f_name) float64 1.0 1.0 1.0 ... 0.8916 0.9027 0.8777\n",
      "    b_index     (ident, t) int64 1 1 0 1 1 1 0 1 0 1 1 ... 3 2 3 3 2 3 3 2 3 3 2\n",
      "    b_name      (ident, t) <U4 'cat2' 'cat2' 'cat1' ... 'cat4' 'cat4' 'cat3'}\n"
     ]
    }
   ],
   "source": [
    "sim_data = sr.make_sim_data(model = CompAct, experiment = lrn_pred, a_true = 1, b_true = 2)\n",
    "print(sim_data)"
   ]
  },
  {
   "cell_type": "code",
   "execution_count": 20,
   "metadata": {},
   "outputs": [
    {
     "data": {
      "text/plain": [
       "False"
      ]
     },
     "execution_count": 20,
     "metadata": {},
     "output_type": "execute_result"
    }
   ],
   "source": [
    "'nothing' in 'gnothin'"
   ]
  },
  {
   "cell_type": "code",
   "execution_count": null,
   "metadata": {},
   "outputs": [],
   "source": [
    "print(bar['y_name'].values[bar['b_index'].values])"
   ]
  },
  {
   "cell_type": "code",
   "execution_count": null,
   "metadata": {},
   "outputs": [],
   "source": []
  }
 ],
 "metadata": {
  "kernelspec": {
   "display_name": "Python 3",
   "language": "python",
   "name": "python3"
  },
  "language_info": {
   "codemirror_mode": {
    "name": "ipython",
    "version": 3
   },
   "file_extension": ".py",
   "mimetype": "text/x-python",
   "name": "python",
   "nbconvert_exporter": "python",
   "pygments_lexer": "ipython3",
   "version": "3.8.5"
  }
 },
 "nbformat": 4,
 "nbformat_minor": 4
}
