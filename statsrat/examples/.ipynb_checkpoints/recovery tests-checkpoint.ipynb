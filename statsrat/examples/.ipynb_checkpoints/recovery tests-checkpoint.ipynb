{
 "cells": [
  {
   "cell_type": "code",
   "execution_count": 1,
   "metadata": {},
   "outputs": [],
   "source": [
    "import numpy as np\n",
    "from statsrat import recovery_test\n",
    "from statsrat.expr.predef.cat import fast\n",
    "from statsrat.rw.predef import CompAct"
   ]
  },
  {
   "cell_type": "code",
   "execution_count": 2,
   "metadata": {},
   "outputs": [
    {
     "name": "stdout",
     "output_type": "stream",
     "text": [
      "          par       rsq\n",
      "0       lrate  0.919179\n",
      "1   lrate_atn  0.096498\n",
      "2      metric  0.091414\n",
      "3  resp_scale  0.992985\n"
     ]
    }
   ],
   "source": [
    "# recovery test with individual ML fits\n",
    "recv_CompAct = recovery_test(model = CompAct, experiment = fast, a_true = 1, b_true = 1, n = 10, method = \"indv\")\n",
    "print(recv_CompAct['comp'])"
   ]
  },
  {
   "cell_type": "code",
   "execution_count": null,
   "metadata": {},
   "outputs": [],
   "source": []
  }
 ],
 "metadata": {
  "kernelspec": {
   "display_name": "Python 3",
   "language": "python",
   "name": "python3"
  },
  "language_info": {
   "codemirror_mode": {
    "name": "ipython",
    "version": 3
   },
   "file_extension": ".py",
   "mimetype": "text/x-python",
   "name": "python",
   "nbconvert_exporter": "python",
   "pygments_lexer": "ipython3",
   "version": "3.7.3"
  }
 },
 "nbformat": 4,
 "nbformat_minor": 4
}
