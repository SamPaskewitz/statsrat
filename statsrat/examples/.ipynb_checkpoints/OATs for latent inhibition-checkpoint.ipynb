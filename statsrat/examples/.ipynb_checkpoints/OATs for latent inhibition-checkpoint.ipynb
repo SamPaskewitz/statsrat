{
 "cells": [
  {
   "cell_type": "code",
   "execution_count": 4,
   "metadata": {},
   "outputs": [],
   "source": [
    "import numpy as np\n",
    "import nlopt\n",
    "from statsrat import perform_oat\n",
    "from statsrat.expr.predef import pvl\n",
    "from statsrat.rw.predef import basic, Kalman, hrmn\n",
    "from statsrat.lc.predef import discrete_cpl\n",
    "\n",
    "n = 2 # fixed trial sequences, so only need n = 1 FIX (don't need to average across trial sequences)\n",
    "#max_time = 5\n",
    "max_time = 30\n",
    "algorithm = nlopt.GN_DIRECT_L\n",
    "#algorithm = nlopt.GN_AGS\n",
    "#algorithm = nlopt.GN_ORIG_DIRECT\n",
    "#algorithm = nlopt.GD_STOGO"
   ]
  },
  {
   "cell_type": "code",
   "execution_count": 2,
   "metadata": {},
   "outputs": [
    {
     "name": "stdout",
     "output_type": "stream",
     "text": [
      "\n",
      " basic latent cause model\n",
      "['control', 'pre_exp']\n",
      "{}\n",
      "{'control': <xarray.Dataset>\n",
      "Dimensions:     (ident: 2, t: 60, u_name: 1, x_name: 2, z_name: 15)\n",
      "Coordinates:\n",
      "    trial_name  (t) <U13 'cs -> us' 'cs -> us' ... 'cs -> nothing'\n",
      "    stage_name  (t) <U8 'training' 'training' 'training' ... 'test' 'test'\n",
      "    stage       (t) int64 0 0 0 0 0 0 0 0 0 0 0 0 0 ... 1 1 1 1 1 1 1 1 1 1 1 1\n",
      "    t_name      (t) <U8 'bg' 'bg' 'bg' 'bg' ... 'bg' 'bg' 'pre_main' 'main'\n",
      "    trial       (t) int64 0 0 0 0 0 0 1 1 1 1 1 1 2 ... 8 8 8 8 8 8 9 9 9 9 9 9\n",
      "  * t           (t) int64 0 1 2 3 4 5 6 7 8 9 ... 50 51 52 53 54 55 56 57 58 59\n",
      "  * u_name      (u_name) <U2 'us'\n",
      "  * x_name      (x_name) <U3 'cs' 'ctx'\n",
      "  * z_name      (z_name) <U2 '0' '1' '2' '3' '4' ... '10' '11' '12' '13' '14'\n",
      "  * ident       (ident) object 'sim_0' 'sim_1'\n",
      "Data variables:\n",
      "    x           (ident, t, x_name) float64 0.0 1.0 0.0 1.0 ... 0.0 1.0 1.0 1.0\n",
      "    u           (ident, t, u_name) float64 0.0 0.0 0.0 0.0 ... 0.0 0.0 0.0 0.0\n",
      "    u_psb       (ident, t, u_name) float64 1.0 1.0 1.0 1.0 ... 1.0 1.0 1.0 1.0\n",
      "    u_lrn       (ident, t, u_name) float64 1.0 1.0 1.0 1.0 ... 1.0 1.0 1.0 1.0\n",
      "    u_hat       (ident, t, u_name) float64 0.5 0.4875 0.468 ... 0.1943 0.196\n",
      "    b_hat       (ident, t, u_name) float64 0.9241 0.9197 ... 0.7254 0.7271\n",
      "    b           (ident, t, u_name) float64 0.9241 0.9197 ... 0.7254 0.7271\n",
      "    prior       (ident, t, z_name) float64 1.0 0.0 0.0 0.0 ... 0.0 0.0 0.0 0.0\n",
      "    x_lik       (ident, t, z_name) float64 0.25 0.25 0.25 ... 0.25 0.25 0.25\n",
      "    u_lik       (ident, t, z_name) float64 0.5 0.5 0.5 0.5 ... 0.5 0.5 0.5 0.5\n",
      "    z           (ident, t, z_name) float64 1.0 0.0 0.0 0.0 ... 0.0 0.0 0.0 0.0\n",
      "    z_counts    (ident, z_name) float64 60.0 0.0 0.0 0.0 0.0 ... 0.0 0.0 0.0 0.0\n",
      "Attributes:\n",
      "    model:        discrete_cpl\n",
      "    model_class:  lc\n",
      "    schedule:     cond\n",
      "    resp_type:    exct\n",
      "    sim_pars:     beta0         10.0\\nc              0.5\\nresp_scale     5.0\\...}\n",
      "['control', 'pre_exp']\n",
      "{}\n",
      "{'control': <xarray.Dataset>\n",
      "Dimensions:     (ident: 2, t: 60, u_name: 1, x_name: 2, z_name: 15)\n",
      "Coordinates:\n",
      "    trial_name  (t) <U13 'cs -> us' 'cs -> us' ... 'cs -> nothing'\n",
      "    stage_name  (t) <U8 'training' 'training' 'training' ... 'test' 'test'\n",
      "    stage       (t) int64 0 0 0 0 0 0 0 0 0 0 0 0 0 ... 1 1 1 1 1 1 1 1 1 1 1 1\n",
      "    t_name      (t) <U8 'bg' 'bg' 'bg' 'bg' ... 'bg' 'bg' 'pre_main' 'main'\n",
      "    trial       (t) int64 0 0 0 0 0 0 1 1 1 1 1 1 2 ... 8 8 8 8 8 8 9 9 9 9 9 9\n",
      "  * t           (t) int64 0 1 2 3 4 5 6 7 8 9 ... 50 51 52 53 54 55 56 57 58 59\n",
      "  * u_name      (u_name) <U2 'us'\n",
      "  * x_name      (x_name) <U3 'cs' 'ctx'\n",
      "  * z_name      (z_name) <U2 '0' '1' '2' '3' '4' ... '10' '11' '12' '13' '14'\n",
      "  * ident       (ident) object 'sim_0' 'sim_1'\n",
      "Data variables:\n",
      "    x           (ident, t, x_name) float64 0.0 1.0 0.0 1.0 ... 0.0 1.0 1.0 1.0\n",
      "    u           (ident, t, u_name) float64 0.0 0.0 0.0 0.0 ... 0.0 0.0 0.0 0.0\n",
      "    u_psb       (ident, t, u_name) float64 1.0 1.0 1.0 1.0 ... 1.0 1.0 1.0 1.0\n",
      "    u_lrn       (ident, t, u_name) float64 1.0 1.0 1.0 1.0 ... 1.0 1.0 1.0 1.0\n",
      "    u_hat       (ident, t, u_name) float64 0.5 0.4634 0.4133 ... 0.1309 0.1356\n",
      "    b_hat       (ident, t, u_name) float64 0.9241 0.9103 ... 0.6581 0.6633\n",
      "    b           (ident, t, u_name) float64 0.9241 0.9103 ... 0.6581 0.6633\n",
      "    prior       (ident, t, z_name) float64 1.0 0.0 0.0 0.0 ... 0.0 0.0 0.0 0.0\n",
      "    x_lik       (ident, t, z_name) float64 0.25 0.25 0.25 ... 0.25 0.25 0.25\n",
      "    u_lik       (ident, t, z_name) float64 0.5 0.5 0.5 0.5 ... 0.5 0.5 0.5 0.5\n",
      "    z           (ident, t, z_name) float64 1.0 0.0 0.0 0.0 ... 0.0 0.0 0.0 0.0\n",
      "    z_counts    (ident, z_name) float64 60.0 0.0 0.0 0.0 0.0 ... 0.0 0.0 0.0 0.0\n",
      "Attributes:\n",
      "    model:        discrete_cpl\n",
      "    model_class:  lc\n",
      "    schedule:     cond\n",
      "    resp_type:    exct\n",
      "    sim_pars:     beta0         3.334\\nc             0.500\\nresp_scale    5.0...}\n"
     ]
    },
    {
     "ename": "IndexError",
     "evalue": "list index out of range",
     "output_type": "error",
     "traceback": [
      "\u001b[0;31m---------------------------------------------------------------------------\u001b[0m",
      "\u001b[0;31mIndexError\u001b[0m                                Traceback (most recent call last)",
      "\u001b[0;32m<ipython-input-2-e61ef1af4799>\u001b[0m in \u001b[0;36m<module>\u001b[0;34m\u001b[0m\n\u001b[1;32m      1\u001b[0m \u001b[0mprint\u001b[0m\u001b[0;34m(\u001b[0m\u001b[0;34m'\\n basic latent cause model'\u001b[0m\u001b[0;34m)\u001b[0m\u001b[0;34m\u001b[0m\u001b[0;34m\u001b[0m\u001b[0m\n\u001b[0;32m----> 2\u001b[0;31m \u001b[0moat_result\u001b[0m \u001b[0;34m=\u001b[0m \u001b[0mperform_oat\u001b[0m\u001b[0;34m(\u001b[0m\u001b[0mdiscrete_cpl\u001b[0m\u001b[0;34m,\u001b[0m \u001b[0mpvl\u001b[0m\u001b[0;34m.\u001b[0m\u001b[0mlatent_inhib\u001b[0m\u001b[0;34m,\u001b[0m \u001b[0mn\u001b[0m \u001b[0;34m=\u001b[0m \u001b[0mn\u001b[0m\u001b[0;34m,\u001b[0m \u001b[0mmax_time\u001b[0m \u001b[0;34m=\u001b[0m \u001b[0mmax_time\u001b[0m\u001b[0;34m,\u001b[0m \u001b[0malgorithm\u001b[0m \u001b[0;34m=\u001b[0m \u001b[0malgorithm\u001b[0m\u001b[0;34m)\u001b[0m\u001b[0;34m\u001b[0m\u001b[0;34m\u001b[0m\u001b[0m\n\u001b[0m\u001b[1;32m      3\u001b[0m \u001b[0mprint\u001b[0m\u001b[0;34m(\u001b[0m\u001b[0moat_result\u001b[0m\u001b[0;34m.\u001b[0m\u001b[0mround\u001b[0m\u001b[0;34m(\u001b[0m\u001b[0;36m2\u001b[0m\u001b[0;34m)\u001b[0m\u001b[0;34m)\u001b[0m\u001b[0;34m\u001b[0m\u001b[0;34m\u001b[0m\u001b[0m\n",
      "\u001b[0;32m~/Dropbox/Research/Modeling/PhD thesis/statsrat/statsrat/__init__.py\u001b[0m in \u001b[0;36mperform_oat\u001b[0;34m(model, experiment, oat, n, max_time, algorithm)\u001b[0m\n\u001b[1;32m    223\u001b[0m     \u001b[0mopt_max\u001b[0m\u001b[0;34m.\u001b[0m\u001b[0mset_upper_bounds\u001b[0m\u001b[0;34m(\u001b[0m\u001b[0mnp\u001b[0m\u001b[0;34m.\u001b[0m\u001b[0marray\u001b[0m\u001b[0;34m(\u001b[0m\u001b[0mfree_pars\u001b[0m\u001b[0;34m[\u001b[0m\u001b[0;34m'max'\u001b[0m\u001b[0;34m]\u001b[0m \u001b[0;34m-\u001b[0m \u001b[0;36m0.001\u001b[0m\u001b[0;34m)\u001b[0m\u001b[0;34m)\u001b[0m\u001b[0;34m\u001b[0m\u001b[0;34m\u001b[0m\u001b[0m\n\u001b[1;32m    224\u001b[0m     \u001b[0mopt_max\u001b[0m\u001b[0;34m.\u001b[0m\u001b[0mset_maxtime\u001b[0m\u001b[0;34m(\u001b[0m\u001b[0mmax_time\u001b[0m\u001b[0;34m)\u001b[0m\u001b[0;34m\u001b[0m\u001b[0;34m\u001b[0m\u001b[0m\n\u001b[0;32m--> 225\u001b[0;31m     \u001b[0mpar_max\u001b[0m \u001b[0;34m=\u001b[0m \u001b[0mopt_max\u001b[0m\u001b[0;34m.\u001b[0m\u001b[0moptimize\u001b[0m\u001b[0;34m(\u001b[0m\u001b[0mnp\u001b[0m\u001b[0;34m.\u001b[0m\u001b[0marray\u001b[0m\u001b[0;34m(\u001b[0m\u001b[0mfree_pars\u001b[0m\u001b[0;34m[\u001b[0m\u001b[0;34m'default'\u001b[0m\u001b[0;34m]\u001b[0m\u001b[0;34m)\u001b[0m\u001b[0;34m)\u001b[0m\u001b[0;34m\u001b[0m\u001b[0;34m\u001b[0m\u001b[0m\n\u001b[0m\u001b[1;32m    226\u001b[0m \u001b[0;34m\u001b[0m\u001b[0m\n\u001b[1;32m    227\u001b[0m     \u001b[0;31m# minimize the OAT score\u001b[0m\u001b[0;34m\u001b[0m\u001b[0;34m\u001b[0m\u001b[0;34m\u001b[0m\u001b[0m\n",
      "\u001b[0;32m~/miniconda3/lib/python3.7/site-packages/nlopt/__init__.py\u001b[0m in \u001b[0;36moptimize\u001b[0;34m(self, *args)\u001b[0m\n\u001b[1;32m    332\u001b[0m \u001b[0;34m\u001b[0m\u001b[0m\n\u001b[1;32m    333\u001b[0m     \u001b[0;32mdef\u001b[0m \u001b[0moptimize\u001b[0m\u001b[0;34m(\u001b[0m\u001b[0mself\u001b[0m\u001b[0;34m,\u001b[0m \u001b[0;34m*\u001b[0m\u001b[0margs\u001b[0m\u001b[0;34m)\u001b[0m\u001b[0;34m:\u001b[0m\u001b[0;34m\u001b[0m\u001b[0;34m\u001b[0m\u001b[0m\n\u001b[0;32m--> 334\u001b[0;31m         \u001b[0;32mreturn\u001b[0m \u001b[0m_nlopt\u001b[0m\u001b[0;34m.\u001b[0m\u001b[0mopt_optimize\u001b[0m\u001b[0;34m(\u001b[0m\u001b[0mself\u001b[0m\u001b[0;34m,\u001b[0m \u001b[0;34m*\u001b[0m\u001b[0margs\u001b[0m\u001b[0;34m)\u001b[0m\u001b[0;34m\u001b[0m\u001b[0;34m\u001b[0m\u001b[0m\n\u001b[0m\u001b[1;32m    335\u001b[0m \u001b[0;34m\u001b[0m\u001b[0m\n\u001b[1;32m    336\u001b[0m     \u001b[0;32mdef\u001b[0m \u001b[0mlast_optimize_result\u001b[0m\u001b[0;34m(\u001b[0m\u001b[0mself\u001b[0m\u001b[0;34m)\u001b[0m\u001b[0;34m:\u001b[0m\u001b[0;34m\u001b[0m\u001b[0;34m\u001b[0m\u001b[0m\n",
      "\u001b[0;32m~/Dropbox/Research/Modeling/PhD thesis/statsrat/statsrat/__init__.py\u001b[0m in \u001b[0;36mf\u001b[0;34m(x, grad)\u001b[0m\n\u001b[1;32m    201\u001b[0m                     \u001b[0mprint\u001b[0m\u001b[0;34m(\u001b[0m\u001b[0msim_data\u001b[0m\u001b[0;34m)\u001b[0m\u001b[0;34m\u001b[0m\u001b[0;34m\u001b[0m\u001b[0m\n\u001b[1;32m    202\u001b[0m                     \u001b[0msim_data\u001b[0m\u001b[0;34m[\u001b[0m\u001b[0ms\u001b[0m\u001b[0;34m]\u001b[0m \u001b[0;34m=\u001b[0m \u001b[0mmulti_sim\u001b[0m\u001b[0;34m(\u001b[0m\u001b[0mmodel\u001b[0m\u001b[0;34m,\u001b[0m \u001b[0mtrials_list\u001b[0m\u001b[0;34m[\u001b[0m\u001b[0ms\u001b[0m\u001b[0;34m]\u001b[0m\u001b[0;34m,\u001b[0m \u001b[0mexperiment\u001b[0m\u001b[0;34m.\u001b[0m\u001b[0mresp_type\u001b[0m\u001b[0;34m,\u001b[0m \u001b[0mnp\u001b[0m\u001b[0;34m.\u001b[0m\u001b[0mappend\u001b[0m\u001b[0;34m(\u001b[0m\u001b[0mpar_val\u001b[0m\u001b[0;34m,\u001b[0m \u001b[0;36m5\u001b[0m\u001b[0;34m)\u001b[0m\u001b[0;34m,\u001b[0m \u001b[0mrandom_resp\u001b[0m \u001b[0;34m=\u001b[0m \u001b[0;32mFalse\u001b[0m\u001b[0;34m)\u001b[0m\u001b[0;34m\u001b[0m\u001b[0;34m\u001b[0m\u001b[0m\n\u001b[0;32m--> 203\u001b[0;31m                 \u001b[0moat_total\u001b[0m \u001b[0;34m=\u001b[0m \u001b[0moat_used\u001b[0m\u001b[0;34m.\u001b[0m\u001b[0mcompute_total\u001b[0m\u001b[0;34m(\u001b[0m\u001b[0mdata\u001b[0m \u001b[0;34m=\u001b[0m \u001b[0msim_data\u001b[0m\u001b[0;34m)\u001b[0m\u001b[0;34m\u001b[0m\u001b[0;34m\u001b[0m\u001b[0m\n\u001b[0m\u001b[1;32m    204\u001b[0m                 \u001b[0;32mreturn\u001b[0m \u001b[0moat_total\u001b[0m\u001b[0;34m\u001b[0m\u001b[0;34m\u001b[0m\u001b[0m\n\u001b[1;32m    205\u001b[0m     \u001b[0;32melse\u001b[0m\u001b[0;34m:\u001b[0m\u001b[0;34m\u001b[0m\u001b[0;34m\u001b[0m\u001b[0m\n",
      "\u001b[0;32m~/Dropbox/Research/Modeling/PhD thesis/statsrat/statsrat/expr/learn.py\u001b[0m in \u001b[0;36mcompute_total\u001b[0;34m(self, data)\u001b[0m\n\u001b[1;32m    713\u001b[0m         \u001b[0mpos_scores\u001b[0m \u001b[0;34m=\u001b[0m \u001b[0mnp\u001b[0m\u001b[0;34m.\u001b[0m\u001b[0marray\u001b[0m\u001b[0;34m(\u001b[0m\u001b[0;34m[\u001b[0m\u001b[0;34m]\u001b[0m\u001b[0;34m)\u001b[0m\u001b[0;34m\u001b[0m\u001b[0;34m\u001b[0m\u001b[0m\n\u001b[1;32m    714\u001b[0m         \u001b[0;32mfor\u001b[0m \u001b[0ms\u001b[0m \u001b[0;32min\u001b[0m \u001b[0mself\u001b[0m\u001b[0;34m.\u001b[0m\u001b[0mschedule_pos\u001b[0m\u001b[0;34m:\u001b[0m\u001b[0;34m\u001b[0m\u001b[0;34m\u001b[0m\u001b[0m\n\u001b[0;32m--> 715\u001b[0;31m             \u001b[0mpos_scores\u001b[0m \u001b[0;34m=\u001b[0m \u001b[0mnp\u001b[0m\u001b[0;34m.\u001b[0m\u001b[0mappend\u001b[0m\u001b[0;34m(\u001b[0m\u001b[0mpos_scores\u001b[0m\u001b[0;34m,\u001b[0m \u001b[0mself\u001b[0m\u001b[0;34m.\u001b[0m\u001b[0mbehav_score_pos\u001b[0m\u001b[0;34m.\u001b[0m\u001b[0mcompute_scores\u001b[0m\u001b[0;34m(\u001b[0m\u001b[0mds\u001b[0m \u001b[0;34m=\u001b[0m \u001b[0mdata\u001b[0m\u001b[0;34m[\u001b[0m\u001b[0ms\u001b[0m\u001b[0;34m]\u001b[0m\u001b[0;34m)\u001b[0m\u001b[0;34m)\u001b[0m\u001b[0;34m\u001b[0m\u001b[0;34m\u001b[0m\u001b[0m\n\u001b[0m\u001b[1;32m    716\u001b[0m         \u001b[0mpos_mean\u001b[0m \u001b[0;34m=\u001b[0m \u001b[0mnp\u001b[0m\u001b[0;34m.\u001b[0m\u001b[0mmean\u001b[0m\u001b[0;34m(\u001b[0m\u001b[0mpos_scores\u001b[0m\u001b[0;34m)\u001b[0m\u001b[0;34m\u001b[0m\u001b[0;34m\u001b[0m\u001b[0m\n\u001b[1;32m    717\u001b[0m \u001b[0;34m\u001b[0m\u001b[0m\n",
      "\u001b[0;32m~/Dropbox/Research/Modeling/PhD thesis/statsrat/statsrat/expr/learn.py\u001b[0m in \u001b[0;36mcompute_scores\u001b[0;34m(self, ds)\u001b[0m\n\u001b[1;32m    867\u001b[0m             \u001b[0;32mfor\u001b[0m \u001b[0mi\u001b[0m \u001b[0;32min\u001b[0m \u001b[0mrange\u001b[0m\u001b[0;34m(\u001b[0m\u001b[0mn_ttype\u001b[0m\u001b[0;34m)\u001b[0m\u001b[0;34m:\u001b[0m\u001b[0;34m\u001b[0m\u001b[0;34m\u001b[0m\u001b[0m\n\u001b[1;32m    868\u001b[0m                 \u001b[0mpos_index\u001b[0m \u001b[0;34m=\u001b[0m \u001b[0mnp\u001b[0m\u001b[0;34m.\u001b[0m\u001b[0marray\u001b[0m\u001b[0;34m(\u001b[0m\u001b[0mds_name\u001b[0m\u001b[0;34m.\u001b[0m\u001b[0mstage_name\u001b[0m \u001b[0;34m==\u001b[0m \u001b[0mself\u001b[0m\u001b[0;34m.\u001b[0m\u001b[0mstage\u001b[0m\u001b[0;34m)\u001b[0m \u001b[0;34m&\u001b[0m \u001b[0mnp\u001b[0m\u001b[0;34m.\u001b[0m\u001b[0marray\u001b[0m\u001b[0;34m(\u001b[0m\u001b[0mds_name\u001b[0m\u001b[0;34m.\u001b[0m\u001b[0mtrial_name\u001b[0m \u001b[0;34m==\u001b[0m \u001b[0mself\u001b[0m\u001b[0;34m.\u001b[0m\u001b[0mtrial_pos\u001b[0m\u001b[0;34m[\u001b[0m\u001b[0mi\u001b[0m\u001b[0;34m]\u001b[0m\u001b[0;34m)\u001b[0m\u001b[0;34m\u001b[0m\u001b[0;34m\u001b[0m\u001b[0m\n\u001b[0;32m--> 869\u001b[0;31m                 \u001b[0mpos_sum\u001b[0m \u001b[0;34m+=\u001b[0m \u001b[0mnp\u001b[0m\u001b[0;34m.\u001b[0m\u001b[0msum\u001b[0m\u001b[0;34m(\u001b[0m\u001b[0mds_name\u001b[0m\u001b[0;34m[\u001b[0m\u001b[0;34m'b'\u001b[0m\u001b[0;34m]\u001b[0m\u001b[0;34m.\u001b[0m\u001b[0mloc\u001b[0m\u001b[0;34m[\u001b[0m\u001b[0;34m{\u001b[0m\u001b[0;34m't'\u001b[0m \u001b[0;34m:\u001b[0m \u001b[0mpos_index\u001b[0m\u001b[0;34m,\u001b[0m \u001b[0;34m'u_name'\u001b[0m \u001b[0;34m:\u001b[0m \u001b[0mself\u001b[0m\u001b[0;34m.\u001b[0m\u001b[0mresp_pos\u001b[0m\u001b[0;34m[\u001b[0m\u001b[0mi\u001b[0m\u001b[0;34m]\u001b[0m\u001b[0;34m}\u001b[0m\u001b[0;34m]\u001b[0m\u001b[0;34m)\u001b[0m\u001b[0;34m\u001b[0m\u001b[0;34m\u001b[0m\u001b[0m\n\u001b[0m\u001b[1;32m    870\u001b[0m                 \u001b[0mpos_n\u001b[0m \u001b[0;34m+=\u001b[0m \u001b[0mpos_index\u001b[0m\u001b[0;34m.\u001b[0m\u001b[0msum\u001b[0m\u001b[0;34m(\u001b[0m\u001b[0;34m)\u001b[0m\u001b[0;34m\u001b[0m\u001b[0;34m\u001b[0m\u001b[0m\n\u001b[1;32m    871\u001b[0m             \u001b[0mpos_mean\u001b[0m \u001b[0;34m=\u001b[0m \u001b[0mpos_sum\u001b[0m\u001b[0;34m/\u001b[0m\u001b[0mpos_n\u001b[0m\u001b[0;34m\u001b[0m\u001b[0;34m\u001b[0m\u001b[0m\n",
      "\u001b[0;31mIndexError\u001b[0m: list index out of range"
     ]
    }
   ],
   "source": [
    "print('\\n basic latent cause model')\n",
    "oat_result = perform_oat(discrete_cpl, pvl.latent_inhib, n = n, max_time = max_time, algorithm = algorithm)\n",
    "print(oat_result.round(2))"
   ]
  },
  {
   "cell_type": "code",
   "execution_count": 5,
   "metadata": {},
   "outputs": [
    {
     "name": "stdout",
     "output_type": "stream",
     "text": [
      "\n",
      " basic Rescorla-Wagner\n",
      "['control', 'pre_exp']\n",
      "{}\n",
      "{'control': <xarray.Dataset>\n",
      "Dimensions:     (f_name: 2, ident: 5, t: 60, u_name: 1, x_name: 2)\n",
      "Coordinates:\n",
      "    trial_name  (t) <U13 'cs -> us' 'cs -> us' ... 'cs -> nothing'\n",
      "    stage_name  (t) <U8 'training' 'training' 'training' ... 'test' 'test'\n",
      "    stage       (t) int64 0 0 0 0 0 0 0 0 0 0 0 0 0 ... 1 1 1 1 1 1 1 1 1 1 1 1\n",
      "    t_name      (t) <U8 'bg' 'bg' 'bg' 'bg' ... 'bg' 'bg' 'pre_main' 'main'\n",
      "    trial       (t) int64 0 0 0 0 0 0 1 1 1 1 1 1 2 ... 8 8 8 8 8 8 9 9 9 9 9 9\n",
      "  * t           (t) int64 0 1 2 3 4 5 6 7 8 9 ... 50 51 52 53 54 55 56 57 58 59\n",
      "  * u_name      (u_name) <U2 'us'\n",
      "  * f_name      (f_name) <U3 'cs' 'ctx'\n",
      "  * x_name      (x_name) <U3 'cs' 'ctx'\n",
      "  * ident       (ident) object 'sim_0' 'sim_1' 'sim_2' 'sim_3' 'sim_4'\n",
      "Data variables:\n",
      "    x           (ident, t, x_name) float64 0.0 1.0 0.0 1.0 ... 0.0 1.0 1.0 1.0\n",
      "    u           (ident, t, u_name) float64 0.0 0.0 0.0 0.0 ... 0.0 0.0 0.0 0.0\n",
      "    u_psb       (ident, t, u_name) float64 1.0 1.0 1.0 1.0 ... 1.0 1.0 1.0 1.0\n",
      "    u_lrn       (ident, t, u_name) float64 1.0 1.0 1.0 1.0 ... 1.0 1.0 1.0 1.0\n",
      "    fbase       (ident, t, f_name) float64 0.0 1.0 0.0 1.0 ... 0.0 1.0 1.0 1.0\n",
      "    f_x         (ident, t, f_name) float64 0.0 1.0 0.0 1.0 ... 0.0 1.0 1.0 1.0\n",
      "    u_hat       (ident, t, u_name) float64 0.0 0.0 0.0 ... -0.004128 0.06398\n",
      "    b_hat       (ident, t, u_name) float64 0.5 0.5 0.5 ... 0.4897 0.4948 0.5793\n",
      "    b           (ident, t, u_name) float64 0.5 0.5 0.5 ... 0.4897 0.4948 0.5793\n",
      "    w           (ident, t, f_name, u_name) float64 0.0 0.0 ... 0.06605 -0.002064\n",
      "    delta       (ident, t, u_name) float64 0.0 0.0 0.0 ... 0.004128 -0.06398\n",
      "    lrate       (ident, t, f_name, u_name) float64 0.0 0.5 0.0 ... 0.5 0.5 0.5\n",
      "Attributes:\n",
      "    model:        basic\n",
      "    model_class:  rw\n",
      "    schedule:     cond\n",
      "    resp_type:    exct\n",
      "    sim_pars:     lrate         0.5\\nresp_scale    5.0\\ndtype: float64}\n",
      "['control', 'pre_exp']\n",
      "{}\n",
      "{'control': <xarray.Dataset>\n",
      "Dimensions:     (f_name: 2, ident: 5, t: 60, u_name: 1, x_name: 2)\n",
      "Coordinates:\n",
      "    trial_name  (t) <U13 'cs -> us' 'cs -> us' ... 'cs -> nothing'\n",
      "    stage_name  (t) <U8 'training' 'training' 'training' ... 'test' 'test'\n",
      "    stage       (t) int64 0 0 0 0 0 0 0 0 0 0 0 0 0 ... 1 1 1 1 1 1 1 1 1 1 1 1\n",
      "    t_name      (t) <U8 'bg' 'bg' 'bg' 'bg' ... 'bg' 'bg' 'pre_main' 'main'\n",
      "    trial       (t) int64 0 0 0 0 0 0 1 1 1 1 1 1 2 ... 8 8 8 8 8 8 9 9 9 9 9 9\n",
      "  * t           (t) int64 0 1 2 3 4 5 6 7 8 9 ... 50 51 52 53 54 55 56 57 58 59\n",
      "  * u_name      (u_name) <U2 'us'\n",
      "  * f_name      (f_name) <U3 'cs' 'ctx'\n",
      "  * x_name      (x_name) <U3 'cs' 'ctx'\n",
      "  * ident       (ident) object 'sim_0' 'sim_1' 'sim_2' 'sim_3' 'sim_4'\n",
      "Data variables:\n",
      "    x           (ident, t, x_name) float64 0.0 1.0 0.0 1.0 ... 0.0 1.0 1.0 1.0\n",
      "    u           (ident, t, u_name) float64 0.0 0.0 0.0 0.0 ... 0.0 0.0 0.0 0.0\n",
      "    u_psb       (ident, t, u_name) float64 1.0 1.0 1.0 1.0 ... 1.0 1.0 1.0 1.0\n",
      "    u_lrn       (ident, t, u_name) float64 1.0 1.0 1.0 1.0 ... 1.0 1.0 1.0 1.0\n",
      "    fbase       (ident, t, f_name) float64 0.0 1.0 0.0 1.0 ... 0.0 1.0 1.0 1.0\n",
      "    f_x         (ident, t, f_name) float64 0.0 1.0 0.0 1.0 ... 0.0 1.0 1.0 1.0\n",
      "    u_hat       (ident, t, u_name) float64 0.0 0.0 0.0 ... -0.04165 0.2445\n",
      "    b_hat       (ident, t, u_name) float64 0.5 0.5 0.5 ... 0.4378 0.4481 0.7725\n",
      "    b           (ident, t, u_name) float64 0.5 0.5 0.5 ... 0.4378 0.4481 0.7725\n",
      "    w           (ident, t, f_name, u_name) float64 0.0 0.0 ... 0.2791 -0.03468\n",
      "    delta       (ident, t, u_name) float64 0.0 0.0 0.0 ... 0.04165 -0.2445\n",
      "    lrate       (ident, t, f_name, u_name) float64 0.0 0.1673 ... 0.1673 0.1673\n",
      "Attributes:\n",
      "    model:        basic\n",
      "    model_class:  rw\n",
      "    schedule:     cond\n",
      "    resp_type:    exct\n",
      "    sim_pars:     lrate         0.167333\\nresp_scale    5.000000\\ndtype: float64}\n"
     ]
    },
    {
     "ename": "IndexError",
     "evalue": "list index out of range",
     "output_type": "error",
     "traceback": [
      "\u001b[0;31m---------------------------------------------------------------------------\u001b[0m",
      "\u001b[0;31mIndexError\u001b[0m                                Traceback (most recent call last)",
      "\u001b[0;32m<ipython-input-5-061d4bdf0230>\u001b[0m in \u001b[0;36m<module>\u001b[0;34m\u001b[0m\n\u001b[1;32m      1\u001b[0m \u001b[0mprint\u001b[0m\u001b[0;34m(\u001b[0m\u001b[0;34m'\\n basic Rescorla-Wagner'\u001b[0m\u001b[0;34m)\u001b[0m\u001b[0;34m\u001b[0m\u001b[0;34m\u001b[0m\u001b[0m\n\u001b[0;32m----> 2\u001b[0;31m \u001b[0moat_result\u001b[0m \u001b[0;34m=\u001b[0m \u001b[0mperform_oat\u001b[0m\u001b[0;34m(\u001b[0m\u001b[0mbasic\u001b[0m\u001b[0;34m,\u001b[0m \u001b[0mpvl\u001b[0m\u001b[0;34m.\u001b[0m\u001b[0mlatent_inhib\u001b[0m\u001b[0;34m,\u001b[0m \u001b[0mn\u001b[0m \u001b[0;34m=\u001b[0m \u001b[0mn\u001b[0m\u001b[0;34m,\u001b[0m \u001b[0mmax_time\u001b[0m \u001b[0;34m=\u001b[0m \u001b[0mmax_time\u001b[0m\u001b[0;34m,\u001b[0m \u001b[0malgorithm\u001b[0m \u001b[0;34m=\u001b[0m \u001b[0malgorithm\u001b[0m\u001b[0;34m)\u001b[0m\u001b[0;34m\u001b[0m\u001b[0;34m\u001b[0m\u001b[0m\n\u001b[0m\u001b[1;32m      3\u001b[0m \u001b[0mprint\u001b[0m\u001b[0;34m(\u001b[0m\u001b[0moat_result\u001b[0m\u001b[0;34m.\u001b[0m\u001b[0mround\u001b[0m\u001b[0;34m(\u001b[0m\u001b[0;36m2\u001b[0m\u001b[0;34m)\u001b[0m\u001b[0;34m)\u001b[0m\u001b[0;34m\u001b[0m\u001b[0;34m\u001b[0m\u001b[0m\n",
      "\u001b[0;32m~/Dropbox/Research/Modeling/PhD thesis/statsrat/statsrat/__init__.py\u001b[0m in \u001b[0;36mperform_oat\u001b[0;34m(model, experiment, oat, n, max_time, algorithm)\u001b[0m\n\u001b[1;32m    223\u001b[0m     \u001b[0mopt_max\u001b[0m\u001b[0;34m.\u001b[0m\u001b[0mset_upper_bounds\u001b[0m\u001b[0;34m(\u001b[0m\u001b[0mnp\u001b[0m\u001b[0;34m.\u001b[0m\u001b[0marray\u001b[0m\u001b[0;34m(\u001b[0m\u001b[0mfree_pars\u001b[0m\u001b[0;34m[\u001b[0m\u001b[0;34m'max'\u001b[0m\u001b[0;34m]\u001b[0m \u001b[0;34m-\u001b[0m \u001b[0;36m0.001\u001b[0m\u001b[0;34m)\u001b[0m\u001b[0;34m)\u001b[0m\u001b[0;34m\u001b[0m\u001b[0;34m\u001b[0m\u001b[0m\n\u001b[1;32m    224\u001b[0m     \u001b[0mopt_max\u001b[0m\u001b[0;34m.\u001b[0m\u001b[0mset_maxtime\u001b[0m\u001b[0;34m(\u001b[0m\u001b[0mmax_time\u001b[0m\u001b[0;34m)\u001b[0m\u001b[0;34m\u001b[0m\u001b[0;34m\u001b[0m\u001b[0m\n\u001b[0;32m--> 225\u001b[0;31m     \u001b[0mpar_max\u001b[0m \u001b[0;34m=\u001b[0m \u001b[0mopt_max\u001b[0m\u001b[0;34m.\u001b[0m\u001b[0moptimize\u001b[0m\u001b[0;34m(\u001b[0m\u001b[0mnp\u001b[0m\u001b[0;34m.\u001b[0m\u001b[0marray\u001b[0m\u001b[0;34m(\u001b[0m\u001b[0mfree_pars\u001b[0m\u001b[0;34m[\u001b[0m\u001b[0;34m'default'\u001b[0m\u001b[0;34m]\u001b[0m\u001b[0;34m)\u001b[0m\u001b[0;34m)\u001b[0m\u001b[0;34m\u001b[0m\u001b[0;34m\u001b[0m\u001b[0m\n\u001b[0m\u001b[1;32m    226\u001b[0m \u001b[0;34m\u001b[0m\u001b[0m\n\u001b[1;32m    227\u001b[0m     \u001b[0;31m# minimize the OAT score\u001b[0m\u001b[0;34m\u001b[0m\u001b[0;34m\u001b[0m\u001b[0;34m\u001b[0m\u001b[0m\n",
      "\u001b[0;32m~/miniconda3/lib/python3.7/site-packages/nlopt/__init__.py\u001b[0m in \u001b[0;36moptimize\u001b[0;34m(self, *args)\u001b[0m\n\u001b[1;32m    332\u001b[0m \u001b[0;34m\u001b[0m\u001b[0m\n\u001b[1;32m    333\u001b[0m     \u001b[0;32mdef\u001b[0m \u001b[0moptimize\u001b[0m\u001b[0;34m(\u001b[0m\u001b[0mself\u001b[0m\u001b[0;34m,\u001b[0m \u001b[0;34m*\u001b[0m\u001b[0margs\u001b[0m\u001b[0;34m)\u001b[0m\u001b[0;34m:\u001b[0m\u001b[0;34m\u001b[0m\u001b[0;34m\u001b[0m\u001b[0m\n\u001b[0;32m--> 334\u001b[0;31m         \u001b[0;32mreturn\u001b[0m \u001b[0m_nlopt\u001b[0m\u001b[0;34m.\u001b[0m\u001b[0mopt_optimize\u001b[0m\u001b[0;34m(\u001b[0m\u001b[0mself\u001b[0m\u001b[0;34m,\u001b[0m \u001b[0;34m*\u001b[0m\u001b[0margs\u001b[0m\u001b[0;34m)\u001b[0m\u001b[0;34m\u001b[0m\u001b[0;34m\u001b[0m\u001b[0m\n\u001b[0m\u001b[1;32m    335\u001b[0m \u001b[0;34m\u001b[0m\u001b[0m\n\u001b[1;32m    336\u001b[0m     \u001b[0;32mdef\u001b[0m \u001b[0mlast_optimize_result\u001b[0m\u001b[0;34m(\u001b[0m\u001b[0mself\u001b[0m\u001b[0;34m)\u001b[0m\u001b[0;34m:\u001b[0m\u001b[0;34m\u001b[0m\u001b[0;34m\u001b[0m\u001b[0m\n",
      "\u001b[0;32m~/Dropbox/Research/Modeling/PhD thesis/statsrat/statsrat/__init__.py\u001b[0m in \u001b[0;36mf\u001b[0;34m(x, grad)\u001b[0m\n\u001b[1;32m    201\u001b[0m                     \u001b[0mprint\u001b[0m\u001b[0;34m(\u001b[0m\u001b[0msim_data\u001b[0m\u001b[0;34m)\u001b[0m\u001b[0;34m\u001b[0m\u001b[0;34m\u001b[0m\u001b[0m\n\u001b[1;32m    202\u001b[0m                     \u001b[0msim_data\u001b[0m\u001b[0;34m[\u001b[0m\u001b[0ms\u001b[0m\u001b[0;34m]\u001b[0m \u001b[0;34m=\u001b[0m \u001b[0mmulti_sim\u001b[0m\u001b[0;34m(\u001b[0m\u001b[0mmodel\u001b[0m\u001b[0;34m,\u001b[0m \u001b[0mtrials_list\u001b[0m\u001b[0;34m[\u001b[0m\u001b[0ms\u001b[0m\u001b[0;34m]\u001b[0m\u001b[0;34m,\u001b[0m \u001b[0mexperiment\u001b[0m\u001b[0;34m.\u001b[0m\u001b[0mresp_type\u001b[0m\u001b[0;34m,\u001b[0m \u001b[0mnp\u001b[0m\u001b[0;34m.\u001b[0m\u001b[0mappend\u001b[0m\u001b[0;34m(\u001b[0m\u001b[0mpar_val\u001b[0m\u001b[0;34m,\u001b[0m \u001b[0;36m5\u001b[0m\u001b[0;34m)\u001b[0m\u001b[0;34m,\u001b[0m \u001b[0mrandom_resp\u001b[0m \u001b[0;34m=\u001b[0m \u001b[0;32mFalse\u001b[0m\u001b[0;34m)\u001b[0m\u001b[0;34m\u001b[0m\u001b[0;34m\u001b[0m\u001b[0m\n\u001b[0;32m--> 203\u001b[0;31m                 \u001b[0moat_total\u001b[0m \u001b[0;34m=\u001b[0m \u001b[0moat_used\u001b[0m\u001b[0;34m.\u001b[0m\u001b[0mcompute_total\u001b[0m\u001b[0;34m(\u001b[0m\u001b[0mdata\u001b[0m \u001b[0;34m=\u001b[0m \u001b[0msim_data\u001b[0m\u001b[0;34m)\u001b[0m\u001b[0;34m\u001b[0m\u001b[0;34m\u001b[0m\u001b[0m\n\u001b[0m\u001b[1;32m    204\u001b[0m                 \u001b[0;32mreturn\u001b[0m \u001b[0moat_total\u001b[0m\u001b[0;34m\u001b[0m\u001b[0;34m\u001b[0m\u001b[0m\n\u001b[1;32m    205\u001b[0m     \u001b[0;32melse\u001b[0m\u001b[0;34m:\u001b[0m\u001b[0;34m\u001b[0m\u001b[0;34m\u001b[0m\u001b[0m\n",
      "\u001b[0;32m~/Dropbox/Research/Modeling/PhD thesis/statsrat/statsrat/expr/learn.py\u001b[0m in \u001b[0;36mcompute_total\u001b[0;34m(self, data)\u001b[0m\n\u001b[1;32m    713\u001b[0m         \u001b[0mpos_scores\u001b[0m \u001b[0;34m=\u001b[0m \u001b[0mnp\u001b[0m\u001b[0;34m.\u001b[0m\u001b[0marray\u001b[0m\u001b[0;34m(\u001b[0m\u001b[0;34m[\u001b[0m\u001b[0;34m]\u001b[0m\u001b[0;34m)\u001b[0m\u001b[0;34m\u001b[0m\u001b[0;34m\u001b[0m\u001b[0m\n\u001b[1;32m    714\u001b[0m         \u001b[0;32mfor\u001b[0m \u001b[0ms\u001b[0m \u001b[0;32min\u001b[0m \u001b[0mself\u001b[0m\u001b[0;34m.\u001b[0m\u001b[0mschedule_pos\u001b[0m\u001b[0;34m:\u001b[0m\u001b[0;34m\u001b[0m\u001b[0;34m\u001b[0m\u001b[0m\n\u001b[0;32m--> 715\u001b[0;31m             \u001b[0mpos_scores\u001b[0m \u001b[0;34m=\u001b[0m \u001b[0mnp\u001b[0m\u001b[0;34m.\u001b[0m\u001b[0mappend\u001b[0m\u001b[0;34m(\u001b[0m\u001b[0mpos_scores\u001b[0m\u001b[0;34m,\u001b[0m \u001b[0mself\u001b[0m\u001b[0;34m.\u001b[0m\u001b[0mbehav_score_pos\u001b[0m\u001b[0;34m.\u001b[0m\u001b[0mcompute_scores\u001b[0m\u001b[0;34m(\u001b[0m\u001b[0mds\u001b[0m \u001b[0;34m=\u001b[0m \u001b[0mdata\u001b[0m\u001b[0;34m[\u001b[0m\u001b[0ms\u001b[0m\u001b[0;34m]\u001b[0m\u001b[0;34m)\u001b[0m\u001b[0;34m)\u001b[0m\u001b[0;34m\u001b[0m\u001b[0;34m\u001b[0m\u001b[0m\n\u001b[0m\u001b[1;32m    716\u001b[0m         \u001b[0mpos_mean\u001b[0m \u001b[0;34m=\u001b[0m \u001b[0mnp\u001b[0m\u001b[0;34m.\u001b[0m\u001b[0mmean\u001b[0m\u001b[0;34m(\u001b[0m\u001b[0mpos_scores\u001b[0m\u001b[0;34m)\u001b[0m\u001b[0;34m\u001b[0m\u001b[0;34m\u001b[0m\u001b[0m\n\u001b[1;32m    717\u001b[0m \u001b[0;34m\u001b[0m\u001b[0m\n",
      "\u001b[0;32m~/Dropbox/Research/Modeling/PhD thesis/statsrat/statsrat/expr/learn.py\u001b[0m in \u001b[0;36mcompute_scores\u001b[0;34m(self, ds)\u001b[0m\n\u001b[1;32m    867\u001b[0m             \u001b[0;32mfor\u001b[0m \u001b[0mi\u001b[0m \u001b[0;32min\u001b[0m \u001b[0mrange\u001b[0m\u001b[0;34m(\u001b[0m\u001b[0mn_ttype\u001b[0m\u001b[0;34m)\u001b[0m\u001b[0;34m:\u001b[0m\u001b[0;34m\u001b[0m\u001b[0;34m\u001b[0m\u001b[0m\n\u001b[1;32m    868\u001b[0m                 \u001b[0mpos_index\u001b[0m \u001b[0;34m=\u001b[0m \u001b[0mnp\u001b[0m\u001b[0;34m.\u001b[0m\u001b[0marray\u001b[0m\u001b[0;34m(\u001b[0m\u001b[0mds_name\u001b[0m\u001b[0;34m.\u001b[0m\u001b[0mstage_name\u001b[0m \u001b[0;34m==\u001b[0m \u001b[0mself\u001b[0m\u001b[0;34m.\u001b[0m\u001b[0mstage\u001b[0m\u001b[0;34m)\u001b[0m \u001b[0;34m&\u001b[0m \u001b[0mnp\u001b[0m\u001b[0;34m.\u001b[0m\u001b[0marray\u001b[0m\u001b[0;34m(\u001b[0m\u001b[0mds_name\u001b[0m\u001b[0;34m.\u001b[0m\u001b[0mtrial_name\u001b[0m \u001b[0;34m==\u001b[0m \u001b[0mself\u001b[0m\u001b[0;34m.\u001b[0m\u001b[0mtrial_pos\u001b[0m\u001b[0;34m[\u001b[0m\u001b[0mi\u001b[0m\u001b[0;34m]\u001b[0m\u001b[0;34m)\u001b[0m\u001b[0;34m\u001b[0m\u001b[0;34m\u001b[0m\u001b[0m\n\u001b[0;32m--> 869\u001b[0;31m                 \u001b[0mpos_sum\u001b[0m \u001b[0;34m+=\u001b[0m \u001b[0mnp\u001b[0m\u001b[0;34m.\u001b[0m\u001b[0msum\u001b[0m\u001b[0;34m(\u001b[0m\u001b[0mds_name\u001b[0m\u001b[0;34m[\u001b[0m\u001b[0;34m'b'\u001b[0m\u001b[0;34m]\u001b[0m\u001b[0;34m.\u001b[0m\u001b[0mloc\u001b[0m\u001b[0;34m[\u001b[0m\u001b[0;34m{\u001b[0m\u001b[0;34m't'\u001b[0m \u001b[0;34m:\u001b[0m \u001b[0mpos_index\u001b[0m\u001b[0;34m,\u001b[0m \u001b[0;34m'u_name'\u001b[0m \u001b[0;34m:\u001b[0m \u001b[0mself\u001b[0m\u001b[0;34m.\u001b[0m\u001b[0mresp_pos\u001b[0m\u001b[0;34m[\u001b[0m\u001b[0mi\u001b[0m\u001b[0;34m]\u001b[0m\u001b[0;34m}\u001b[0m\u001b[0;34m]\u001b[0m\u001b[0;34m)\u001b[0m\u001b[0;34m\u001b[0m\u001b[0;34m\u001b[0m\u001b[0m\n\u001b[0m\u001b[1;32m    870\u001b[0m                 \u001b[0mpos_n\u001b[0m \u001b[0;34m+=\u001b[0m \u001b[0mpos_index\u001b[0m\u001b[0;34m.\u001b[0m\u001b[0msum\u001b[0m\u001b[0;34m(\u001b[0m\u001b[0;34m)\u001b[0m\u001b[0;34m\u001b[0m\u001b[0;34m\u001b[0m\u001b[0m\n\u001b[1;32m    871\u001b[0m             \u001b[0mpos_mean\u001b[0m \u001b[0;34m=\u001b[0m \u001b[0mpos_sum\u001b[0m\u001b[0;34m/\u001b[0m\u001b[0mpos_n\u001b[0m\u001b[0;34m\u001b[0m\u001b[0;34m\u001b[0m\u001b[0m\n",
      "\u001b[0;31mIndexError\u001b[0m: list index out of range"
     ]
    }
   ],
   "source": [
    "print('\\n basic Rescorla-Wagner')\n",
    "oat_result = perform_oat(basic, pvl.latent_inhib, n = n, max_time = max_time, algorithm = algorithm)\n",
    "print(oat_result.round(2))"
   ]
  },
  {
   "cell_type": "code",
   "execution_count": 4,
   "metadata": {},
   "outputs": [
    {
     "name": "stdout",
     "output_type": "stream",
     "text": [
      "\n",
      " Kalman filter\n",
      "<statsrat.expr.learn.schedule object at 0x2920c0eef0>\n",
      "<statsrat.expr.learn.schedule object at 0x2920c0eef0>\n",
      "<statsrat.expr.learn.schedule object at 0x2920bd3358>\n",
      "<statsrat.expr.learn.schedule object at 0x2920bd3358>\n"
     ]
    },
    {
     "ename": "SystemError",
     "evalue": "<class 'dict'> returned a result with an error set",
     "output_type": "error",
     "traceback": [
      "\u001b[0;31m---------------------------------------------------------------------------\u001b[0m",
      "\u001b[0;31mIndexError\u001b[0m                                Traceback (most recent call last)",
      "\u001b[0;32m~/Dropbox/Research/Modeling/PhD thesis/statsrat/statsrat/__init__.py\u001b[0m in \u001b[0;36mf\u001b[0;34m(x, grad)\u001b[0m\n\u001b[1;32m    200\u001b[0m                     \u001b[0msim_data\u001b[0m\u001b[0;34m[\u001b[0m\u001b[0ms\u001b[0m\u001b[0;34m]\u001b[0m \u001b[0;34m=\u001b[0m \u001b[0mmulti_sim\u001b[0m\u001b[0;34m(\u001b[0m\u001b[0mmodel\u001b[0m\u001b[0;34m,\u001b[0m \u001b[0mtrials_list\u001b[0m\u001b[0;34m[\u001b[0m\u001b[0ms\u001b[0m\u001b[0;34m]\u001b[0m\u001b[0;34m,\u001b[0m \u001b[0mexperiment\u001b[0m\u001b[0;34m.\u001b[0m\u001b[0mresp_type\u001b[0m\u001b[0;34m,\u001b[0m \u001b[0mnp\u001b[0m\u001b[0;34m.\u001b[0m\u001b[0mappend\u001b[0m\u001b[0;34m(\u001b[0m\u001b[0mpar_val\u001b[0m\u001b[0;34m,\u001b[0m \u001b[0;36m5\u001b[0m\u001b[0;34m)\u001b[0m\u001b[0;34m,\u001b[0m \u001b[0mrandom_resp\u001b[0m \u001b[0;34m=\u001b[0m \u001b[0;32mFalse\u001b[0m\u001b[0;34m)\u001b[0m\u001b[0;34m\u001b[0m\u001b[0;34m\u001b[0m\u001b[0m\n\u001b[0;32m--> 201\u001b[0;31m                 \u001b[0moat_total\u001b[0m \u001b[0;34m=\u001b[0m \u001b[0moat_used\u001b[0m\u001b[0;34m.\u001b[0m\u001b[0mcompute_total\u001b[0m\u001b[0;34m(\u001b[0m\u001b[0mdata\u001b[0m \u001b[0;34m=\u001b[0m \u001b[0msim_data\u001b[0m\u001b[0;34m)\u001b[0m\u001b[0;34m\u001b[0m\u001b[0;34m\u001b[0m\u001b[0m\n\u001b[0m\u001b[1;32m    202\u001b[0m                 \u001b[0;32mreturn\u001b[0m \u001b[0moat_total\u001b[0m\u001b[0;34m\u001b[0m\u001b[0;34m\u001b[0m\u001b[0m\n",
      "\u001b[0;32m~/Dropbox/Research/Modeling/PhD thesis/statsrat/statsrat/expr/learn.py\u001b[0m in \u001b[0;36mcompute_total\u001b[0;34m(self, data)\u001b[0m\n\u001b[1;32m    709\u001b[0m         \u001b[0;32mfor\u001b[0m \u001b[0ms\u001b[0m \u001b[0;32min\u001b[0m \u001b[0mself\u001b[0m\u001b[0;34m.\u001b[0m\u001b[0mschedule_pos\u001b[0m\u001b[0;34m:\u001b[0m\u001b[0;34m\u001b[0m\u001b[0;34m\u001b[0m\u001b[0m\n\u001b[0;32m--> 710\u001b[0;31m             \u001b[0mpos_scores\u001b[0m \u001b[0;34m=\u001b[0m \u001b[0mnp\u001b[0m\u001b[0;34m.\u001b[0m\u001b[0mappend\u001b[0m\u001b[0;34m(\u001b[0m\u001b[0mpos_scores\u001b[0m\u001b[0;34m,\u001b[0m \u001b[0mself\u001b[0m\u001b[0;34m.\u001b[0m\u001b[0mbehav_score_pos\u001b[0m\u001b[0;34m.\u001b[0m\u001b[0mcompute_scores\u001b[0m\u001b[0;34m(\u001b[0m\u001b[0mds\u001b[0m \u001b[0;34m=\u001b[0m \u001b[0mdata\u001b[0m\u001b[0;34m[\u001b[0m\u001b[0ms\u001b[0m\u001b[0;34m]\u001b[0m\u001b[0;34m)\u001b[0m\u001b[0;34m)\u001b[0m\u001b[0;34m\u001b[0m\u001b[0;34m\u001b[0m\u001b[0m\n\u001b[0m\u001b[1;32m    711\u001b[0m         \u001b[0mpos_mean\u001b[0m \u001b[0;34m=\u001b[0m \u001b[0mnp\u001b[0m\u001b[0;34m.\u001b[0m\u001b[0mmean\u001b[0m\u001b[0;34m(\u001b[0m\u001b[0mpos_scores\u001b[0m\u001b[0;34m)\u001b[0m\u001b[0;34m\u001b[0m\u001b[0;34m\u001b[0m\u001b[0m\n",
      "\u001b[0;32m~/Dropbox/Research/Modeling/PhD thesis/statsrat/statsrat/expr/learn.py\u001b[0m in \u001b[0;36mcompute_scores\u001b[0;34m(self, ds)\u001b[0m\n\u001b[1;32m    863\u001b[0m                 \u001b[0mpos_index\u001b[0m \u001b[0;34m=\u001b[0m \u001b[0mnp\u001b[0m\u001b[0;34m.\u001b[0m\u001b[0marray\u001b[0m\u001b[0;34m(\u001b[0m\u001b[0mds_name\u001b[0m\u001b[0;34m.\u001b[0m\u001b[0mstage_name\u001b[0m \u001b[0;34m==\u001b[0m \u001b[0mself\u001b[0m\u001b[0;34m.\u001b[0m\u001b[0mstage\u001b[0m\u001b[0;34m)\u001b[0m \u001b[0;34m&\u001b[0m \u001b[0mnp\u001b[0m\u001b[0;34m.\u001b[0m\u001b[0marray\u001b[0m\u001b[0;34m(\u001b[0m\u001b[0mds_name\u001b[0m\u001b[0;34m.\u001b[0m\u001b[0mtrial_name\u001b[0m \u001b[0;34m==\u001b[0m \u001b[0mself\u001b[0m\u001b[0;34m.\u001b[0m\u001b[0mtrial_pos\u001b[0m\u001b[0;34m[\u001b[0m\u001b[0mi\u001b[0m\u001b[0;34m]\u001b[0m\u001b[0;34m)\u001b[0m\u001b[0;34m\u001b[0m\u001b[0;34m\u001b[0m\u001b[0m\n\u001b[0;32m--> 864\u001b[0;31m                 \u001b[0mpos_sum\u001b[0m \u001b[0;34m+=\u001b[0m \u001b[0mnp\u001b[0m\u001b[0;34m.\u001b[0m\u001b[0msum\u001b[0m\u001b[0;34m(\u001b[0m\u001b[0mds_name\u001b[0m\u001b[0;34m[\u001b[0m\u001b[0;34m'b'\u001b[0m\u001b[0;34m]\u001b[0m\u001b[0;34m.\u001b[0m\u001b[0mloc\u001b[0m\u001b[0;34m[\u001b[0m\u001b[0;34m{\u001b[0m\u001b[0;34m't'\u001b[0m \u001b[0;34m:\u001b[0m \u001b[0mpos_index\u001b[0m\u001b[0;34m,\u001b[0m \u001b[0;34m'u_name'\u001b[0m \u001b[0;34m:\u001b[0m \u001b[0mself\u001b[0m\u001b[0;34m.\u001b[0m\u001b[0mresp_pos\u001b[0m\u001b[0;34m[\u001b[0m\u001b[0mi\u001b[0m\u001b[0;34m]\u001b[0m\u001b[0;34m}\u001b[0m\u001b[0;34m]\u001b[0m\u001b[0;34m)\u001b[0m\u001b[0;34m\u001b[0m\u001b[0;34m\u001b[0m\u001b[0m\n\u001b[0m\u001b[1;32m    865\u001b[0m                 \u001b[0mpos_n\u001b[0m \u001b[0;34m+=\u001b[0m \u001b[0mpos_index\u001b[0m\u001b[0;34m.\u001b[0m\u001b[0msum\u001b[0m\u001b[0;34m(\u001b[0m\u001b[0;34m)\u001b[0m\u001b[0;34m\u001b[0m\u001b[0;34m\u001b[0m\u001b[0m\n",
      "\u001b[0;31mIndexError\u001b[0m: list index out of range",
      "\nThe above exception was the direct cause of the following exception:\n",
      "\u001b[0;31mSystemError\u001b[0m                               Traceback (most recent call last)",
      "\u001b[0;32m<ipython-input-4-bd2c068b09fa>\u001b[0m in \u001b[0;36m<module>\u001b[0;34m\u001b[0m\n\u001b[1;32m      1\u001b[0m \u001b[0mprint\u001b[0m\u001b[0;34m(\u001b[0m\u001b[0;34m'\\n Kalman filter'\u001b[0m\u001b[0;34m)\u001b[0m\u001b[0;34m\u001b[0m\u001b[0;34m\u001b[0m\u001b[0m\n\u001b[0;32m----> 2\u001b[0;31m \u001b[0moat_result\u001b[0m \u001b[0;34m=\u001b[0m \u001b[0mperform_oat\u001b[0m\u001b[0;34m(\u001b[0m\u001b[0mKalman\u001b[0m\u001b[0;34m,\u001b[0m \u001b[0mpvl\u001b[0m\u001b[0;34m.\u001b[0m\u001b[0mlatent_inhib\u001b[0m\u001b[0;34m,\u001b[0m \u001b[0mn\u001b[0m \u001b[0;34m=\u001b[0m \u001b[0mn\u001b[0m\u001b[0;34m,\u001b[0m \u001b[0mmax_time\u001b[0m \u001b[0;34m=\u001b[0m \u001b[0mmax_time\u001b[0m\u001b[0;34m,\u001b[0m \u001b[0malgorithm\u001b[0m \u001b[0;34m=\u001b[0m \u001b[0malgorithm\u001b[0m\u001b[0;34m)\u001b[0m\u001b[0;34m\u001b[0m\u001b[0;34m\u001b[0m\u001b[0m\n\u001b[0m\u001b[1;32m      3\u001b[0m \u001b[0mprint\u001b[0m\u001b[0;34m(\u001b[0m\u001b[0moat_result\u001b[0m\u001b[0;34m.\u001b[0m\u001b[0mround\u001b[0m\u001b[0;34m(\u001b[0m\u001b[0;36m2\u001b[0m\u001b[0;34m)\u001b[0m\u001b[0;34m)\u001b[0m\u001b[0;34m\u001b[0m\u001b[0;34m\u001b[0m\u001b[0m\n",
      "\u001b[0;32m~/Dropbox/Research/Modeling/PhD thesis/statsrat/statsrat/__init__.py\u001b[0m in \u001b[0;36mperform_oat\u001b[0;34m(model, experiment, oat, n, max_time, algorithm)\u001b[0m\n\u001b[1;32m    221\u001b[0m     \u001b[0mopt_max\u001b[0m\u001b[0;34m.\u001b[0m\u001b[0mset_upper_bounds\u001b[0m\u001b[0;34m(\u001b[0m\u001b[0mnp\u001b[0m\u001b[0;34m.\u001b[0m\u001b[0marray\u001b[0m\u001b[0;34m(\u001b[0m\u001b[0mfree_pars\u001b[0m\u001b[0;34m[\u001b[0m\u001b[0;34m'max'\u001b[0m\u001b[0;34m]\u001b[0m \u001b[0;34m-\u001b[0m \u001b[0;36m0.001\u001b[0m\u001b[0;34m)\u001b[0m\u001b[0;34m)\u001b[0m\u001b[0;34m\u001b[0m\u001b[0;34m\u001b[0m\u001b[0m\n\u001b[1;32m    222\u001b[0m     \u001b[0mopt_max\u001b[0m\u001b[0;34m.\u001b[0m\u001b[0mset_maxtime\u001b[0m\u001b[0;34m(\u001b[0m\u001b[0mmax_time\u001b[0m\u001b[0;34m)\u001b[0m\u001b[0;34m\u001b[0m\u001b[0;34m\u001b[0m\u001b[0m\n\u001b[0;32m--> 223\u001b[0;31m     \u001b[0mpar_max\u001b[0m \u001b[0;34m=\u001b[0m \u001b[0mopt_max\u001b[0m\u001b[0;34m.\u001b[0m\u001b[0moptimize\u001b[0m\u001b[0;34m(\u001b[0m\u001b[0mnp\u001b[0m\u001b[0;34m.\u001b[0m\u001b[0marray\u001b[0m\u001b[0;34m(\u001b[0m\u001b[0mfree_pars\u001b[0m\u001b[0;34m[\u001b[0m\u001b[0;34m'default'\u001b[0m\u001b[0;34m]\u001b[0m\u001b[0;34m)\u001b[0m\u001b[0;34m)\u001b[0m\u001b[0;34m\u001b[0m\u001b[0;34m\u001b[0m\u001b[0m\n\u001b[0m\u001b[1;32m    224\u001b[0m \u001b[0;34m\u001b[0m\u001b[0m\n\u001b[1;32m    225\u001b[0m     \u001b[0;31m# minimize the OAT score\u001b[0m\u001b[0;34m\u001b[0m\u001b[0;34m\u001b[0m\u001b[0;34m\u001b[0m\u001b[0m\n",
      "\u001b[0;32m~/miniconda3/lib/python3.7/site-packages/nlopt/__init__.py\u001b[0m in \u001b[0;36moptimize\u001b[0;34m(self, *args)\u001b[0m\n\u001b[1;32m    332\u001b[0m \u001b[0;34m\u001b[0m\u001b[0m\n\u001b[1;32m    333\u001b[0m     \u001b[0;32mdef\u001b[0m \u001b[0moptimize\u001b[0m\u001b[0;34m(\u001b[0m\u001b[0mself\u001b[0m\u001b[0;34m,\u001b[0m \u001b[0;34m*\u001b[0m\u001b[0margs\u001b[0m\u001b[0;34m)\u001b[0m\u001b[0;34m:\u001b[0m\u001b[0;34m\u001b[0m\u001b[0;34m\u001b[0m\u001b[0m\n\u001b[0;32m--> 334\u001b[0;31m         \u001b[0;32mreturn\u001b[0m \u001b[0m_nlopt\u001b[0m\u001b[0;34m.\u001b[0m\u001b[0mopt_optimize\u001b[0m\u001b[0;34m(\u001b[0m\u001b[0mself\u001b[0m\u001b[0;34m,\u001b[0m \u001b[0;34m*\u001b[0m\u001b[0margs\u001b[0m\u001b[0;34m)\u001b[0m\u001b[0;34m\u001b[0m\u001b[0;34m\u001b[0m\u001b[0m\n\u001b[0m\u001b[1;32m    335\u001b[0m \u001b[0;34m\u001b[0m\u001b[0m\n\u001b[1;32m    336\u001b[0m     \u001b[0;32mdef\u001b[0m \u001b[0mlast_optimize_result\u001b[0m\u001b[0;34m(\u001b[0m\u001b[0mself\u001b[0m\u001b[0;34m)\u001b[0m\u001b[0;34m:\u001b[0m\u001b[0;34m\u001b[0m\u001b[0;34m\u001b[0m\u001b[0m\n",
      "\u001b[0;32m~/Dropbox/Research/Modeling/PhD thesis/statsrat/statsrat/__init__.py\u001b[0m in \u001b[0;36mf\u001b[0;34m(x, grad)\u001b[0m\n\u001b[1;32m    196\u001b[0m                     \u001b[0mgrad\u001b[0m \u001b[0;34m=\u001b[0m \u001b[0;32mNone\u001b[0m\u001b[0;34m\u001b[0m\u001b[0;34m\u001b[0m\u001b[0m\n\u001b[1;32m    197\u001b[0m                 \u001b[0mpar_val\u001b[0m \u001b[0;34m=\u001b[0m \u001b[0mx\u001b[0m\u001b[0;34m\u001b[0m\u001b[0;34m\u001b[0m\u001b[0m\n\u001b[0;32m--> 198\u001b[0;31m                 \u001b[0msim_data\u001b[0m \u001b[0;34m=\u001b[0m \u001b[0mdict\u001b[0m\u001b[0;34m(\u001b[0m\u001b[0mkeys\u001b[0m \u001b[0;34m=\u001b[0m \u001b[0ms_list\u001b[0m\u001b[0;34m)\u001b[0m\u001b[0;34m\u001b[0m\u001b[0;34m\u001b[0m\u001b[0m\n\u001b[0m\u001b[1;32m    199\u001b[0m                 \u001b[0;32mfor\u001b[0m \u001b[0ms\u001b[0m \u001b[0;32min\u001b[0m \u001b[0ms_list\u001b[0m\u001b[0;34m:\u001b[0m\u001b[0;34m\u001b[0m\u001b[0;34m\u001b[0m\u001b[0m\n\u001b[1;32m    200\u001b[0m                     \u001b[0msim_data\u001b[0m\u001b[0;34m[\u001b[0m\u001b[0ms\u001b[0m\u001b[0;34m]\u001b[0m \u001b[0;34m=\u001b[0m \u001b[0mmulti_sim\u001b[0m\u001b[0;34m(\u001b[0m\u001b[0mmodel\u001b[0m\u001b[0;34m,\u001b[0m \u001b[0mtrials_list\u001b[0m\u001b[0;34m[\u001b[0m\u001b[0ms\u001b[0m\u001b[0;34m]\u001b[0m\u001b[0;34m,\u001b[0m \u001b[0mexperiment\u001b[0m\u001b[0;34m.\u001b[0m\u001b[0mresp_type\u001b[0m\u001b[0;34m,\u001b[0m \u001b[0mnp\u001b[0m\u001b[0;34m.\u001b[0m\u001b[0mappend\u001b[0m\u001b[0;34m(\u001b[0m\u001b[0mpar_val\u001b[0m\u001b[0;34m,\u001b[0m \u001b[0;36m5\u001b[0m\u001b[0;34m)\u001b[0m\u001b[0;34m,\u001b[0m \u001b[0mrandom_resp\u001b[0m \u001b[0;34m=\u001b[0m \u001b[0;32mFalse\u001b[0m\u001b[0;34m)\u001b[0m\u001b[0;34m\u001b[0m\u001b[0;34m\u001b[0m\u001b[0m\n",
      "\u001b[0;31mSystemError\u001b[0m: <class 'dict'> returned a result with an error set"
     ]
    }
   ],
   "source": [
    "print('\\n Kalman filter')\n",
    "oat_result = perform_oat(Kalman, pvl.latent_inhib, n = n, max_time = max_time, algorithm = algorithm)\n",
    "print(oat_result.round(2))"
   ]
  },
  {
   "cell_type": "code",
   "execution_count": null,
   "metadata": {},
   "outputs": [],
   "source": [
    "print('\\n harmonically decreasing learning rate')\n",
    "oat_result = perform_oat(hrmn, pvl.latent_inhib, n = n, max_time = max_time, algorithm = algorithm)\n",
    "print(oat_result.round(2))"
   ]
  },
  {
   "cell_type": "code",
   "execution_count": null,
   "metadata": {},
   "outputs": [],
   "source": []
  }
 ],
 "metadata": {
  "kernelspec": {
   "display_name": "Python 3",
   "language": "python",
   "name": "python3"
  },
  "language_info": {
   "codemirror_mode": {
    "name": "ipython",
    "version": 3
   },
   "file_extension": ".py",
   "mimetype": "text/x-python",
   "name": "python",
   "nbconvert_exporter": "python",
   "pygments_lexer": "ipython3",
   "version": "3.7.3"
  }
 },
 "nbformat": 4,
 "nbformat_minor": 4
}
