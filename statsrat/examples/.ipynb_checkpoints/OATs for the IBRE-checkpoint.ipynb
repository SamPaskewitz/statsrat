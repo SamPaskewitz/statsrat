{
 "cells": [
  {
   "cell_type": "code",
   "execution_count": 1,
   "metadata": {},
   "outputs": [
    {
     "ename": "ImportError",
     "evalue": "cannot import name 'basic_cpl' from 'statsrat.lc.predef' (/Users/sam/Dropbox/Research/Modeling/PhD thesis/statsrat/statsrat/lc/predef.py)",
     "output_type": "error",
     "traceback": [
      "\u001b[0;31m---------------------------------------------------------------------------\u001b[0m",
      "\u001b[0;31mImportError\u001b[0m                               Traceback (most recent call last)",
      "\u001b[0;32m<ipython-input-1-2b636a6cf5c5>\u001b[0m in \u001b[0;36m<module>\u001b[0;34m\u001b[0m\n\u001b[1;32m      4\u001b[0m \u001b[0;32mfrom\u001b[0m \u001b[0mstatsrat\u001b[0m\u001b[0;34m.\u001b[0m\u001b[0mexpr\u001b[0m\u001b[0;34m.\u001b[0m\u001b[0mpredef\u001b[0m\u001b[0;34m.\u001b[0m\u001b[0mcat\u001b[0m \u001b[0;32mimport\u001b[0m \u001b[0mibre\u001b[0m\u001b[0;34m\u001b[0m\u001b[0;34m\u001b[0m\u001b[0m\n\u001b[1;32m      5\u001b[0m \u001b[0;32mfrom\u001b[0m \u001b[0mstatsrat\u001b[0m\u001b[0;34m.\u001b[0m\u001b[0mrw\u001b[0m\u001b[0;34m.\u001b[0m\u001b[0mpredef\u001b[0m \u001b[0;32mimport\u001b[0m \u001b[0mbasic\u001b[0m\u001b[0;34m,\u001b[0m \u001b[0msmpr\u001b[0m\u001b[0;34m,\u001b[0m \u001b[0mCompAct\u001b[0m\u001b[0;34m,\u001b[0m \u001b[0mKalman\u001b[0m\u001b[0;34m\u001b[0m\u001b[0;34m\u001b[0m\u001b[0m\n\u001b[0;32m----> 6\u001b[0;31m \u001b[0;32mfrom\u001b[0m \u001b[0mstatsrat\u001b[0m\u001b[0;34m.\u001b[0m\u001b[0mlc\u001b[0m\u001b[0;34m.\u001b[0m\u001b[0mpredef\u001b[0m \u001b[0;32mimport\u001b[0m \u001b[0mbasic_cpl\u001b[0m\u001b[0;34m\u001b[0m\u001b[0;34m\u001b[0m\u001b[0m\n\u001b[0m\u001b[1;32m      7\u001b[0m \u001b[0;34m\u001b[0m\u001b[0m\n\u001b[1;32m      8\u001b[0m \u001b[0mn\u001b[0m \u001b[0;34m=\u001b[0m \u001b[0;36m20\u001b[0m\u001b[0;34m\u001b[0m\u001b[0;34m\u001b[0m\u001b[0m\n",
      "\u001b[0;31mImportError\u001b[0m: cannot import name 'basic_cpl' from 'statsrat.lc.predef' (/Users/sam/Dropbox/Research/Modeling/PhD thesis/statsrat/statsrat/lc/predef.py)"
     ]
    }
   ],
   "source": [
    "import numpy as np\n",
    "import nlopt\n",
    "from statsrat import perform_oat\n",
    "from statsrat.expr.predef.cat import ibre\n",
    "from statsrat.rw.predef import basic, smpr, CompAct, Kalman\n",
    "\n",
    "n = 20\n",
    "max_time = 5\n",
    "#max_time = 30\n",
    "#algorithm = nlopt.GN_DIRECT_L\n",
    "#algorithm = nlopt.GN_AGS\n",
    "algorithm = nlopt.GN_ORIG_DIRECT\n",
    "#algorithm = nlopt.GD_STOGO"
   ]
  },
  {
   "cell_type": "code",
   "execution_count": 2,
   "metadata": {},
   "outputs": [
    {
     "name": "stdout",
     "output_type": "stream",
     "text": [
      "\n",
      " Kalman filter\n",
      "     drift_var  u_var  w_var0  mean  lower  upper\n",
      "min       0.33   2.50     5.0  0.03  -0.07   0.13\n",
      "max       1.00   0.83     5.0  0.10  -0.07   0.26\n"
     ]
    }
   ],
   "source": [
    "print('\\n Kalman filter')\n",
    "oat_result = perform_oat(Kalman, ibre, n = n, max_time = max_time, algorithm = algorithm)\n",
    "print(oat_result.round(2))"
   ]
  },
  {
   "cell_type": "code",
   "execution_count": null,
   "metadata": {},
   "outputs": [
    {
     "name": "stdout",
     "output_type": "stream",
     "text": [
      "\n",
      " basic Rescorla-Wagner\n"
     ]
    }
   ],
   "source": [
    "print('\\n basic Rescorla-Wagner')\n",
    "oat_result = perform_oat(basic, ibre, n = n, max_time = max_time, algorithm = algorithm)\n",
    "print(oat_result.round(2))"
   ]
  },
  {
   "cell_type": "code",
   "execution_count": 6,
   "metadata": {},
   "outputs": [
    {
     "name": "stdout",
     "output_type": "stream",
     "text": [
      "\n",
      " simple pred (Model 2)\n",
      "     lrate  lrate_atn  mean  lower  upper\n",
      "min    0.5       0.17 -0.04  -0.05  -0.02\n",
      "max    0.5       0.83  0.01  -0.02   0.04\n"
     ]
    }
   ],
   "source": [
    "print('\\n simple pred (Model 2)')\n",
    "oat_result = perform_oat(smpr, ibre, n = n, max_time = max_time, algorithm = algorithm)\n",
    "print(oat_result.round(2))"
   ]
  },
  {
   "cell_type": "code",
   "execution_count": 3,
   "metadata": {},
   "outputs": [
    {
     "name": "stdout",
     "output_type": "stream",
     "text": [
      "\n",
      " CompAct (Model 4)\n",
      "     lrate  lrate_atn  metric  mean  lower  upper\n",
      "min   0.83        0.5     5.5 -0.06  -0.07  -0.04\n",
      "max   0.17        0.5     5.5  0.12   0.11   0.12\n"
     ]
    }
   ],
   "source": [
    "print('\\n CompAct (Model 4)')\n",
    "oat_result = perform_oat(CompAct, ibre, n = n, max_time = max_time, algorithm = algorithm)\n",
    "print(oat_result.round(2))"
   ]
  },
  {
   "cell_type": "code",
   "execution_count": null,
   "metadata": {},
   "outputs": [],
   "source": []
  }
 ],
 "metadata": {
  "kernelspec": {
   "display_name": "Python 3",
   "language": "python",
   "name": "python3"
  },
  "language_info": {
   "codemirror_mode": {
    "name": "ipython",
    "version": 3
   },
   "file_extension": ".py",
   "mimetype": "text/x-python",
   "name": "python",
   "nbconvert_exporter": "python",
   "pygments_lexer": "ipython3",
   "version": "3.7.3"
  }
 },
 "nbformat": 4,
 "nbformat_minor": 4
}
