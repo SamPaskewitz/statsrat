{
 "cells": [
  {
   "cell_type": "code",
   "execution_count": 1,
   "metadata": {},
   "outputs": [],
   "source": [
    "from statsrat import expr\n",
    "\n",
    "# GET BETTER EXAMPLE DATA THAT USES THE FULL IBRE DESIGN.\n",
    "# THEN WE WON'T NEED TO DEFINE A NEW EXPERIMENT OBJECT."
   ]
  },
  {
   "cell_type": "code",
   "execution_count": 2,
   "metadata": {},
   "outputs": [],
   "source": [
    "# define category learning experiment with a single schedule\n",
    "# abbreviated version of Kruschke 1996, Experiment 1 (inverse base rate effect)\n",
    "design = expr.schedule('design',\n",
    "                         [{'name': 'training',\n",
    "                         'x_bg': [],\n",
    "                         'freq': [3, 1, 3, 1],\n",
    "                         'x_pn': [['i1', 'pc1'], ['i1', 'pr1'], ['i2', 'pc2'], ['i2', 'pr2']],\n",
    "                         'u': [['c1'], ['r1'], ['c2'], ['r2']],\n",
    "                         'u_psb': ['c1', 'r1', 'c2', 'r2'],\n",
    "                         'lrn': True,\n",
    "                         'order_fixed': False,\n",
    "                         'n_rep': 4,\n",
    "                         'iti': 0},\n",
    "                        {'name': 'test',\n",
    "                         'x_bg': [],\n",
    "                         'freq': 2*[1],\n",
    "                         'x_pn': [['pc1', 'pr1'], ['pc2', 'pr2']],\n",
    "                         'u': 2*[[]],\n",
    "                         'u_psb': ['c1', 'r1', 'c2', 'r2'],\n",
    "                         'lrn': False,\n",
    "                         'order_fixed': False,\n",
    "                         'n_rep': 1,\n",
    "                         'iti': 0}])\n",
    "\n",
    "pc_pr = expr.oat(stage = 'test',\n",
    "                 schedule_pos = ['design'],\n",
    "                 schedule_neg = [],\n",
    "                 trial_pos = ['pc1.pr1 -> nothing', 'pc2.pr2 -> nothing'],\n",
    "                 trial_neg = ['pc1.pr1 -> nothing', 'pc2.pr2 -> nothing'],\n",
    "                 resp_pos = ['r1', 'r2'],\n",
    "                 resp_neg = ['c1', 'c2'])\n",
    "\n",
    "short_ibre = expr.experiment(resp_type = 'choice',\n",
    "                             schedules = {'design': design},\n",
    "                             oats = {'pc_pr': pc_pr})\n",
    "\n",
    "del design; del pc_pr"
   ]
  },
  {
   "cell_type": "code",
   "execution_count": 3,
   "metadata": {},
   "outputs": [
    {
     "name": "stdout",
     "output_type": "stream",
     "text": [
      "<xarray.Dataset>\n",
      "Dimensions:     (ident: 3, schedule: 1, t: 34, trial: 34, u_name: 4, x_name: 6)\n",
      "Coordinates:\n",
      "    stage_name  (t) <U8 'training' 'training' 'training' ... 'test' 'test'\n",
      "    t_name      (t) <U4 'main' 'main' 'main' 'main' ... 'main' 'main' 'main'\n",
      "    stage       (t) int64 0 0 0 0 0 0 0 0 0 0 0 0 0 ... 0 0 0 0 0 0 0 0 0 0 1 1\n",
      "  * u_name      (u_name) <U2 'c1' 'c2' 'r1' 'r2'\n",
      "  * x_name      (x_name) <U3 'i1' 'i2' 'pc1' 'pc2' 'pr1' 'pr2'\n",
      "  * trial       (trial) int64 0 1 2 3 4 5 6 7 8 9 ... 25 26 27 28 29 30 31 32 33\n",
      "  * t           (t) int64 0 1 2 3 4 5 6 7 8 9 ... 24 25 26 27 28 29 30 31 32 33\n",
      "  * schedule    (schedule) <U6 'design'\n",
      "  * ident       (ident) object 'HY7' '111' '987'\n",
      "    trial_name  (ident, t) <U18 'i1.pc1 -> c1' ... 'pc1.pr1 -> nothing'\n",
      "Data variables:\n",
      "    x           (ident, schedule, t, x_name) float64 1.0 0.0 1.0 ... 0.0 1.0 0.0\n",
      "    u           (ident, schedule, t, u_name) float64 1.0 0.0 0.0 ... 0.0 0.0 0.0\n",
      "    u_psb       (ident, schedule, t, u_name) float64 1.0 1.0 1.0 ... 1.0 1.0 1.0\n",
      "    u_lrn       (ident, schedule, t, u_name) float64 1.0 1.0 1.0 ... 0.0 0.0 0.0\n",
      "    b           (ident, schedule, t, u_name) int64 1 0 0 0 0 0 0 ... 0 1 0 1 0 0\n"
     ]
    }
   ],
   "source": [
    "# import data from .csv files\n",
    "ds = short_ibre.read_csv(path = 'data',\n",
    "                        x_col = ['cue1', 'cue2'],\n",
    "                        resp_col = ['response', 'test_response'],\n",
    "                        resp_map = {'a' : 'c1', 's' : 'c2', 'd' : 'r1', 'f' : 'r2'},\n",
    "                        ident_col = 'sub_id')\n",
    "print(ds)"
   ]
  },
  {
   "cell_type": "code",
   "execution_count": 4,
   "metadata": {},
   "outputs": [
    {
     "name": "stdout",
     "output_type": "stream",
     "text": [
      "design\n",
      "{'design': <xarray.Dataset>\n",
      "Dimensions:     (ident: 3, schedule: 1, t: 34, trial: 34, u_name: 4, x_name: 6)\n",
      "Coordinates:\n",
      "    stage_name  (t) <U8 'training' 'training' 'training' ... 'test' 'test'\n",
      "    t_name      (t) <U4 'main' 'main' 'main' 'main' ... 'main' 'main' 'main'\n",
      "    stage       (t) int64 0 0 0 0 0 0 0 0 0 0 0 0 0 ... 0 0 0 0 0 0 0 0 0 0 1 1\n",
      "  * u_name      (u_name) <U2 'c1' 'c2' 'r1' 'r2'\n",
      "  * x_name      (x_name) <U3 'i1' 'i2' 'pc1' 'pc2' 'pr1' 'pr2'\n",
      "  * trial       (trial) int64 0 1 2 3 4 5 6 7 8 9 ... 25 26 27 28 29 30 31 32 33\n",
      "  * t           (t) int64 0 1 2 3 4 5 6 7 8 9 ... 24 25 26 27 28 29 30 31 32 33\n",
      "  * schedule    (schedule) <U6 'design'\n",
      "  * ident       (ident) object 'HY7' '111' '987'\n",
      "    trial_name  (ident, t) <U18 'i1.pc1 -> c1' ... 'pc1.pr1 -> nothing'\n",
      "Data variables:\n",
      "    x           (ident, schedule, t, x_name) float64 1.0 0.0 1.0 ... 0.0 1.0 0.0\n",
      "    u           (ident, schedule, t, u_name) float64 1.0 0.0 0.0 ... 0.0 0.0 0.0\n",
      "    u_psb       (ident, schedule, t, u_name) float64 1.0 1.0 1.0 ... 1.0 1.0 1.0\n",
      "    u_lrn       (ident, schedule, t, u_name) float64 1.0 1.0 1.0 ... 0.0 0.0 0.0\n",
      "    b           (ident, schedule, t, u_name) int64 1 0 0 0 0 0 0 ... 0 1 0 1 0 0}\n",
      "{'lower': 0.0, 'mean': 0.0, 'upper': 0.0}\n"
     ]
    }
   ],
   "source": [
    "# compute confidence interval for IBRE (inverse base rate effect)\n",
    "ibre_ci = short_ibre.oat_confidence(ds)\n",
    "print(ibre_ci)"
   ]
  },
  {
   "cell_type": "code",
   "execution_count": null,
   "metadata": {},
   "outputs": [],
   "source": []
  }
 ],
 "metadata": {
  "kernelspec": {
   "display_name": "Python 3",
   "language": "python",
   "name": "python3"
  },
  "language_info": {
   "codemirror_mode": {
    "name": "ipython",
    "version": 3
   },
   "file_extension": ".py",
   "mimetype": "text/x-python",
   "name": "python",
   "nbconvert_exporter": "python",
   "pygments_lexer": "ipython3",
   "version": "3.7.3"
  }
 },
 "nbformat": 4,
 "nbformat_minor": 4
}
