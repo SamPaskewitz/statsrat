{
 "cells": [
  {
   "cell_type": "code",
   "execution_count": 2,
   "metadata": {},
   "outputs": [
    {
     "ename": "ModuleNotFoundError",
     "evalue": "No module named 'statsrat'",
     "output_type": "error",
     "traceback": [
      "\u001b[0;31m---------------------------------------------------------------------------\u001b[0m",
      "\u001b[0;31mModuleNotFoundError\u001b[0m                       Traceback (most recent call last)",
      "\u001b[0;32m<ipython-input-2-8a94bf09e534>\u001b[0m in \u001b[0;36m<module>\u001b[0;34m\u001b[0m\n\u001b[1;32m      1\u001b[0m \u001b[0;32mimport\u001b[0m \u001b[0mnumpy\u001b[0m \u001b[0;32mas\u001b[0m \u001b[0mnp\u001b[0m\u001b[0;34m\u001b[0m\u001b[0;34m\u001b[0m\u001b[0m\n\u001b[1;32m      2\u001b[0m \u001b[0;32mimport\u001b[0m \u001b[0mnlopt\u001b[0m\u001b[0;34m\u001b[0m\u001b[0;34m\u001b[0m\u001b[0m\n\u001b[0;32m----> 3\u001b[0;31m \u001b[0;32mfrom\u001b[0m \u001b[0mstatsrat\u001b[0m \u001b[0;32mimport\u001b[0m \u001b[0mperform_oat\u001b[0m\u001b[0;34m\u001b[0m\u001b[0;34m\u001b[0m\u001b[0m\n\u001b[0m\u001b[1;32m      4\u001b[0m \u001b[0;32mfrom\u001b[0m \u001b[0mstatsrat\u001b[0m\u001b[0;34m.\u001b[0m\u001b[0mexpr\u001b[0m\u001b[0;34m.\u001b[0m\u001b[0mpredef\u001b[0m\u001b[0;34m.\u001b[0m\u001b[0mcat\u001b[0m \u001b[0;32mimport\u001b[0m \u001b[0mibre\u001b[0m\u001b[0;34m\u001b[0m\u001b[0;34m\u001b[0m\u001b[0m\n\u001b[1;32m      5\u001b[0m \u001b[0;32mfrom\u001b[0m \u001b[0mstatsrat\u001b[0m\u001b[0;34m.\u001b[0m\u001b[0mrw\u001b[0m\u001b[0;34m.\u001b[0m\u001b[0mpredef\u001b[0m \u001b[0;32mimport\u001b[0m \u001b[0mbasic\u001b[0m\u001b[0;34m,\u001b[0m \u001b[0msmpr\u001b[0m\u001b[0;34m,\u001b[0m \u001b[0mCompAct\u001b[0m\u001b[0;34m,\u001b[0m \u001b[0mKalman\u001b[0m\u001b[0;34m\u001b[0m\u001b[0;34m\u001b[0m\u001b[0m\n",
      "\u001b[0;31mModuleNotFoundError\u001b[0m: No module named 'statsrat'"
     ]
    }
   ],
   "source": [
    "import numpy as np\n",
    "import nlopt\n",
    "from statsrat import perform_oat\n",
    "from statsrat.expr.predef.cat import ibre\n",
    "from statsrat.rw.predef import basic, smpr, CompAct, Kalman\n",
    "\n",
    "n = 20\n",
    "max_time = 5\n",
    "#max_time = 30\n",
    "#algorithm = nlopt.GN_DIRECT_L\n",
    "#algorithm = nlopt.GN_AGS\n",
    "algorithm = nlopt.GN_ORIG_DIRECT\n",
    "#algorithm = nlopt.GD_STOGO"
   ]
  },
  {
   "cell_type": "code",
   "execution_count": 2,
   "metadata": {},
   "outputs": [
    {
     "name": "stdout",
     "output_type": "stream",
     "text": [
      "\n",
      " Kalman filter\n",
      "     drift_var  u_var  w_var0  mean  lower  upper\n",
      "min       0.33   2.50     5.0  0.09   0.00   0.18\n",
      "max       1.00   0.83     5.0  0.19   0.03   0.35\n"
     ]
    }
   ],
   "source": [
    "print('\\n Kalman filter')\n",
    "oat_result = perform_oat(Kalman, ibre, n = n, max_time = max_time, algorithm = algorithm)\n",
    "print(oat_result.round(2))"
   ]
  },
  {
   "cell_type": "code",
   "execution_count": 2,
   "metadata": {},
   "outputs": [
    {
     "name": "stdout",
     "output_type": "stream",
     "text": [
      "\n",
      " basic Rescorla-Wagner\n",
      "     lrate  mean  lower  upper\n",
      "min   0.06 -0.23  -0.23  -0.23\n",
      "max   0.94  0.00  -0.02   0.03\n"
     ]
    }
   ],
   "source": [
    "print('\\n basic Rescorla-Wagner')\n",
    "oat_result = perform_oat(basic, ibre, n = n, max_time = max_time, algorithm = algorithm)\n",
    "print(oat_result.round(2))"
   ]
  },
  {
   "cell_type": "code",
   "execution_count": 4,
   "metadata": {},
   "outputs": [
    {
     "name": "stdout",
     "output_type": "stream",
     "text": [
      "\n",
      " simple pred (Model 2)\n",
      "     lrate  lrate_atn  mean  lower  upper\n",
      "min    0.5       0.17 -0.09  -0.12  -0.06\n",
      "max    0.5       0.83  0.00  -0.05   0.05\n"
     ]
    }
   ],
   "source": [
    "print('\\n simple pred (Model 2)')\n",
    "oat_result = perform_oat(smpr, ibre, n = n, max_time = max_time, algorithm = algorithm)\n",
    "print(oat_result.round(2))"
   ]
  },
  {
   "cell_type": "code",
   "execution_count": 3,
   "metadata": {},
   "outputs": [
    {
     "name": "stdout",
     "output_type": "stream",
     "text": [
      "\n",
      " CompAct (Model 4)\n",
      "     lrate  lrate_atn  metric  mean  lower  upper\n",
      "min   0.83        0.5     5.5 -0.06  -0.07  -0.05\n",
      "max   0.17        0.5     5.5  0.12   0.11   0.12\n"
     ]
    }
   ],
   "source": [
    "print('\\n CompAct (Model 4)')\n",
    "oat_result = perform_oat(CompAct, ibre, n = n, max_time = max_time, algorithm = algorithm)\n",
    "print(oat_result.round(2))"
   ]
  },
  {
   "cell_type": "code",
   "execution_count": null,
   "metadata": {},
   "outputs": [],
   "source": []
  }
 ],
 "metadata": {
  "kernelspec": {
   "display_name": "Python 3",
   "language": "python",
   "name": "python3"
  }
 },
 "nbformat": 4,
 "nbformat_minor": 4
}
