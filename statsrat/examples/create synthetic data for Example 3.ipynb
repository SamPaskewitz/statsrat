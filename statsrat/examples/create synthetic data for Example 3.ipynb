{
 "cells": [
  {
   "cell_type": "code",
   "execution_count": 1,
   "metadata": {},
   "outputs": [],
   "source": [
    "import numpy as np\n",
    "import pandas as pd\n",
    "import statsrat as sr\n",
    "from statsrat import rw\n",
    "from statsrat import expr"
   ]
  },
  {
   "cell_type": "code",
   "execution_count": 2,
   "metadata": {},
   "outputs": [],
   "source": [
    "# CompAct (with only elemental features); Model 4 from Paskewitz and Jones (2020).\n",
    "\n",
    "CompAct = rw.model(name = 'CompAct',\n",
    "                   pred = rw.pred.identity,\n",
    "                   fbase = rw.fbase.elem,\n",
    "                   fweight = rw.fweight.from_aux_norm,\n",
    "                   lrate = rw.lrate.from_aux_norm,\n",
    "                   drate = rw.drate.zero,\n",
    "                   aux = rw.aux.gradcomp)"
   ]
  },
  {
   "cell_type": "code",
   "execution_count": 3,
   "metadata": {},
   "outputs": [],
   "source": [
    "# Le Pelley and McLaren 2003 (learned predictiveness)\n",
    "# Test responses were really rating scales for both response options instead of choices.\n",
    "\n",
    "design = expr.schedule(resp_type = 'choice',\n",
    "                      stages = {'training': expr.stage(\n",
    "                                        x_pn = [['a', 'v'], ['b', 'v'], ['a', 'w'], ['b', 'w'], ['c', 'x'], ['d', 'x'], ['c', 'y'], ['d', 'y']],\n",
    "                                        y = 4*[['cat1'], ['cat2']],\n",
    "                                        y_psb = ['cat1', 'cat2'],\n",
    "                                        n_rep = 14),\n",
    "                                  'transfer': expr.stage(\n",
    "                                        x_pn = [['a', 'x'], ['b', 'y'], ['c', 'v'], ['d', 'w'], ['e', 'f'], ['g', 'h'], ['i', 'j'], ['k', 'l']],\n",
    "                                        y = 4*[['cat3'], ['cat4']],\n",
    "                                        y_psb = ['cat3', 'cat4'],\n",
    "                                        n_rep = 4),\n",
    "                                  'test': expr.stage(\n",
    "                                        x_pn = [['a', 'c'], ['b', 'd'], ['v', 'x'], ['w', 'y'], ['e', 'h'], ['f', 'g'], ['i', 'j'], ['k', 'l']],\n",
    "                                        y_psb = ['cat3', 'cat4'],\n",
    "                                        lrn = False,\n",
    "                                        n_rep = 1)})\n",
    "\n",
    "rel_irl = expr.oat(schedule_pos = ['design'],\n",
    "                  behav_score_pos = expr.behav_score(stage = 'test',\n",
    "                                                    trial_pos = ['a.c -> nothing', 'b.d -> nothing'],\n",
    "                                                    trial_neg = ['v.x -> nothing', 'w.y -> nothing'],\n",
    "                                                    resp_pos = ['cat3', 'cat4'],\n",
    "                                                    resp_neg = ['cat3', 'cat4']))\n",
    "\n",
    "lrn_pred = expr.experiment(schedules = {'design': design},\n",
    "                           oats = {'rel_irl': rel_irl})"
   ]
  },
  {
   "cell_type": "code",
   "execution_count": 4,
   "metadata": {},
   "outputs": [],
   "source": [
    "# Create synthetic data\n",
    "\n",
    "sim_data = sr.make_sim_data(model = CompAct, experiment = lrn_pred)\n",
    "n_t = sim_data['ds']['t'].shape[0]\n",
    "resp_names = pd.Series(['a', 's', 'd', 'f'])\n",
    "cue_names = pd.Series(['A', 'B', 'C', 'D', 'E', 'F', 'G', 'H', 'I', 'J', 'K', 'L', 'V', 'W', 'X', 'Y'])\n",
    "\n",
    "for ident in sim_data['ds']['ident'].values:\n",
    "    bar = sim_data['ds'].loc[{'ident': ident}]\n",
    "    resp = np.array(n_t*[''])\n",
    "    left_stim = np.array(n_t*[''])\n",
    "    right_stim = np.array(n_t*[''])\n",
    "    confidence_rating = np.zeros(n_t, dtype = 'float')\n",
    "    for t in range(n_t):\n",
    "        resp[t] = resp_names.loc[bar['b'].loc[{'t': t}].values == 1.0].values[0]\n",
    "        cues = cue_names.loc[bar['x'].loc[{'t': t}].values == 1.0].values\n",
    "        if t%2 == 0:\n",
    "            left_stim[t] = cues[0]\n",
    "            right_stim[t] = cues[1]\n",
    "        else:\n",
    "            left_stim[t] = cues[1]\n",
    "            right_stim[t] = cues[0]\n",
    "        # Create synthetic confidence scores (this should really be based on a y_hat difference)\n",
    "        if 'nothing' in bar['trial_name'].values[t]:\n",
    "            choice_y_hat = bar['y_hat'].loc[{'t': t, 'y_name': bar['b_name'].loc[{'t': t}]}].values\n",
    "            confidence_rating[t] = np.round(10*choice_y_hat)\n",
    "    quz = pd.DataFrame({'key_press': resp,\n",
    "                        'left_stim': left_stim,\n",
    "                        'right_stim': right_stim,\n",
    "                        'confidence_rating': confidence_rating,\n",
    "                        'subject_id': ident})\n",
    "    quz.to_csv('data/' + ident + '_data.csv')"
   ]
  },
  {
   "cell_type": "code",
   "execution_count": 5,
   "metadata": {},
   "outputs": [
    {
     "name": "stdout",
     "output_type": "stream",
     "text": [
      "    key_press left_stim right_stim  confidence_rating subject_id\n",
      "0           a         D          Y                0.0       sim9\n",
      "1           s         V          A                0.0       sim9\n",
      "2           s         B          W                0.0       sim9\n",
      "3           s         X          C                0.0       sim9\n",
      "4           a         A          W                0.0       sim9\n",
      "..        ...       ...        ...                ...        ...\n",
      "147         f         G          F                5.0       sim9\n",
      "148         f         V          X                0.0       sim9\n",
      "149         f         L          K               10.0       sim9\n",
      "150         f         B          D               15.0       sim9\n",
      "151         d         J          I               10.0       sim9\n",
      "\n",
      "[152 rows x 5 columns]\n"
     ]
    }
   ],
   "source": [
    "print(quz)"
   ]
  },
  {
   "cell_type": "code",
   "execution_count": null,
   "metadata": {},
   "outputs": [],
   "source": []
  }
 ],
 "metadata": {
  "kernelspec": {
   "display_name": "Python 3",
   "language": "python",
   "name": "python3"
  },
  "language_info": {
   "codemirror_mode": {
    "name": "ipython",
    "version": 3
   },
   "file_extension": ".py",
   "mimetype": "text/x-python",
   "name": "python",
   "nbconvert_exporter": "python",
   "pygments_lexer": "ipython3",
   "version": "3.8.5"
  }
 },
 "nbformat": 4,
 "nbformat_minor": 4
}
