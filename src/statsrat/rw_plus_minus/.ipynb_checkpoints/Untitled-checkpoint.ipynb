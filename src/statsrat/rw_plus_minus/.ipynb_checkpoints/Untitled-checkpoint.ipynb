{
 "cells": [
  {
   "cell_type": "code",
   "execution_count": 1,
   "id": "3ed50927",
   "metadata": {},
   "outputs": [
    {
     "ename": "ModuleNotFoundError",
     "evalue": "No module named 'statsrat'",
     "output_type": "error",
     "traceback": [
      "\u001b[0;31m---------------------------------------------------------------------------\u001b[0m",
      "\u001b[0;31mModuleNotFoundError\u001b[0m                       Traceback (most recent call last)",
      "Input \u001b[0;32mIn [1]\u001b[0m, in \u001b[0;36m<cell line: 1>\u001b[0;34m()\u001b[0m\n\u001b[0;32m----> 1\u001b[0m \u001b[38;5;28;01mimport\u001b[39;00m \u001b[38;5;21;01mstatsrat\u001b[39;00m \u001b[38;5;28;01mas\u001b[39;00m \u001b[38;5;21;01msr\u001b[39;00m\n\u001b[1;32m      2\u001b[0m \u001b[38;5;28;01mfrom\u001b[39;00m \u001b[38;5;21;01mstatsrat\u001b[39;00m \u001b[38;5;28;01mimport\u001b[39;00m rw\n\u001b[1;32m      3\u001b[0m \u001b[38;5;28;01mfrom\u001b[39;00m \u001b[38;5;21;01mstatsrat\u001b[39;00m \u001b[38;5;28;01mimport\u001b[39;00m rw_plus_minus\n",
      "\u001b[0;31mModuleNotFoundError\u001b[0m: No module named 'statsrat'"
     ]
    }
   ],
   "source": [
    "import statsrat as sr\n",
    "from statsrat import rw\n",
    "from statsrat import rw_plus_minus\n",
    "from statsrat.expr.predef import pvl_iti"
   ]
  },
  {
   "cell_type": "code",
   "execution_count": null,
   "id": "c9f482a3",
   "metadata": {},
   "outputs": [],
   "source": [
    "model0 = rw.model(name = 'model0',\n",
    "                  pred = rw.pred.identity,\n",
    "                  fbase = rw.fbase.elem,\n",
    "                  fweight = rw.fweight.none, \n",
    "                  lrate = rw.lrate.cnst,\n",
    "                  drate = rw.drate.zero,\n",
    "                  aux = rw.aux.basic)\n",
    "\n",
    "model1 = rw_plus_minus.model(name = 'model1',\n",
    "                             pred = rw.pred.identity,\n",
    "                             fbase = rw.fbase.elem,\n",
    "                             fweight = rw.fweight.none, \n",
    "                             lrate = rw.lrate.cnst,\n",
    "                             drate_pos = rw.drate.zero,\n",
    "                             drate_neg = rw.drate.zero,\n",
    "                             aux = rw.aux.basic)\n",
    "\n",
    "model2 = rw_plus_minus.model(name = 'model2',\n",
    "                             pred = rw.pred.identity,\n",
    "                             fbase = rw.fbase.elem,\n",
    "                             fweight = rw.fweight.none, \n",
    "                             lrate = rw.lrate.cnst,\n",
    "                             drate_pos = rw.drate.zero,\n",
    "                             drate_neg = rw.drate.cnst,\n",
    "                             aux = rw.aux.basic)"
   ]
  }
 ],
 "metadata": {
  "kernelspec": {
   "display_name": "Python 3",
   "language": "python",
   "name": "python3"
  },
  "language_info": {
   "codemirror_mode": {
    "name": "ipython",
    "version": 3
   },
   "file_extension": ".py",
   "mimetype": "text/x-python",
   "name": "python",
   "nbconvert_exporter": "python",
   "pygments_lexer": "ipython3",
   "version": "3.8.5"
  }
 },
 "nbformat": 4,
 "nbformat_minor": 5
}
